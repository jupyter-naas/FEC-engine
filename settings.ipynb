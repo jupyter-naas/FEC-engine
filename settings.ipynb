{
 "cells": [
  {
   "cell_type": "markdown",
   "id": "injured-evolution",
   "metadata": {
    "papermill": {},
    "tags": []
   },
   "source": [
    "<img width=\"10%\" alt=\"Naas\" src=\"https://landen.imgix.net/jtci2pxwjczr/assets/5ice39g4.png?w=160\"/>"
   ]
  },
  {
   "cell_type": "markdown",
   "id": "substantial-decline",
   "metadata": {
    "papermill": {},
    "tags": []
   },
   "source": [
    "# Settings"
   ]
  },
  {
   "cell_type": "markdown",
   "id": "d288008a-adf4-47e8-acf5-55a0d2f9ae4e",
   "metadata": {},
   "source": [
    "<div class=\"alert alert-success\" role=\"info\">\n",
    "    <p><b>Note:</b> this data product framework is developed by Naas open source community. You can <a href=\"https://github.com/sponsors/jupyter-naas\" target=\"_blank\">sponsor us</a> if you find it usefull.\n",
    "</p>\n",
    "</div>"
   ]
  },
  {
   "cell_type": "markdown",
   "id": "dd3d4d6a-f15d-47f9-83ac-4208edf13bf9",
   "metadata": {
    "tags": []
   },
   "source": [
    "This notebook allows you to configure and run your data product on your Naas server. *Create an account on [Naas.ai](https://www.naas.ai/free-forever) if you don't already have one.*\n",
    "\n",
    "Please follow the step below to setup this data product."
   ]
  },
  {
   "cell_type": "markdown",
   "id": "4fcb2237-a1c5-4420-a8c2-b52f511754f5",
   "metadata": {},
   "source": [
    "## Input"
   ]
  },
  {
   "cell_type": "markdown",
   "id": "b852e575-257e-45fa-8833-14746d007df2",
   "metadata": {},
   "source": [
    "### Install requirements\n",
    "Install the packages required to run the product."
   ]
  },
  {
   "cell_type": "code",
   "execution_count": 1,
   "id": "9291f53c-ee9b-45d0-8ceb-92c4a9708646",
   "metadata": {
    "execution": {
     "iopub.execute_input": "2023-06-06T10:24:26.110292Z",
     "iopub.status.busy": "2023-06-06T10:24:26.109830Z",
     "iopub.status.idle": "2023-06-06T10:24:41.822186Z",
     "shell.execute_reply": "2023-06-06T10:24:41.821456Z",
     "shell.execute_reply.started": "2023-06-06T10:24:26.110219Z"
    },
    "tags": []
   },
   "outputs": [
    {
     "name": "stdout",
     "output_type": "stream",
     "text": [
      "Requirement already satisfied: naas_data_product in /home/ftp/.local/lib/python3.9/site-packages (from -r requirements.txt (line 1)) (0.1.8)\n",
      "Requirement already satisfied: pyvis==0.2.1 in /home/ftp/.local/lib/python3.9/site-packages (from -r requirements.txt (line 2)) (0.2.1)\n",
      "Requirement already satisfied: jinja2>=2.9.6 in /opt/conda/lib/python3.9/site-packages (from pyvis==0.2.1->-r requirements.txt (line 2)) (3.0.3)\n",
      "Requirement already satisfied: networkx>=1.11 in /opt/conda/lib/python3.9/site-packages (from pyvis==0.2.1->-r requirements.txt (line 2)) (3.0)\n",
      "Requirement already satisfied: ipython>=5.3.0 in /opt/conda/lib/python3.9/site-packages (from pyvis==0.2.1->-r requirements.txt (line 2)) (7.23.1)\n",
      "Requirement already satisfied: jsonpickle>=1.4.1 in /opt/conda/lib/python3.9/site-packages (from pyvis==0.2.1->-r requirements.txt (line 2)) (3.0.1)\n",
      "Requirement already satisfied: setuptools>=18.5 in /opt/conda/lib/python3.9/site-packages (from ipython>=5.3.0->pyvis==0.2.1->-r requirements.txt (line 2)) (49.6.0.post20210108)\n",
      "Requirement already satisfied: jedi>=0.16 in /opt/conda/lib/python3.9/site-packages (from ipython>=5.3.0->pyvis==0.2.1->-r requirements.txt (line 2)) (0.18.0)\n",
      "Requirement already satisfied: decorator in /home/ftp/.local/lib/python3.9/site-packages (from ipython>=5.3.0->pyvis==0.2.1->-r requirements.txt (line 2)) (4.4.2)\n",
      "Requirement already satisfied: pickleshare in /opt/conda/lib/python3.9/site-packages (from ipython>=5.3.0->pyvis==0.2.1->-r requirements.txt (line 2)) (0.7.5)\n",
      "Requirement already satisfied: traitlets>=4.2 in /opt/conda/lib/python3.9/site-packages (from ipython>=5.3.0->pyvis==0.2.1->-r requirements.txt (line 2)) (5.0.5)\n",
      "Requirement already satisfied: prompt-toolkit!=3.0.0,!=3.0.1,<3.1.0,>=2.0.0 in /opt/conda/lib/python3.9/site-packages (from ipython>=5.3.0->pyvis==0.2.1->-r requirements.txt (line 2)) (3.0.19)\n",
      "Requirement already satisfied: pygments in /opt/conda/lib/python3.9/site-packages (from ipython>=5.3.0->pyvis==0.2.1->-r requirements.txt (line 2)) (2.9.0)\n",
      "Requirement already satisfied: backcall in /opt/conda/lib/python3.9/site-packages (from ipython>=5.3.0->pyvis==0.2.1->-r requirements.txt (line 2)) (0.2.0)\n",
      "Requirement already satisfied: matplotlib-inline in /opt/conda/lib/python3.9/site-packages (from ipython>=5.3.0->pyvis==0.2.1->-r requirements.txt (line 2)) (0.1.2)\n",
      "Requirement already satisfied: pexpect>4.3 in /opt/conda/lib/python3.9/site-packages (from ipython>=5.3.0->pyvis==0.2.1->-r requirements.txt (line 2)) (4.8.0)\n",
      "Requirement already satisfied: MarkupSafe>=2.0 in /home/ftp/.local/lib/python3.9/site-packages (from jinja2>=2.9.6->pyvis==0.2.1->-r requirements.txt (line 2)) (2.1.2)\n",
      "Requirement already satisfied: parso<0.9.0,>=0.8.0 in /opt/conda/lib/python3.9/site-packages (from jedi>=0.16->ipython>=5.3.0->pyvis==0.2.1->-r requirements.txt (line 2)) (0.8.2)\n",
      "Requirement already satisfied: ptyprocess>=0.5 in /opt/conda/lib/python3.9/site-packages (from pexpect>4.3->ipython>=5.3.0->pyvis==0.2.1->-r requirements.txt (line 2)) (0.7.0)\n",
      "Requirement already satisfied: wcwidth in /opt/conda/lib/python3.9/site-packages (from prompt-toolkit!=3.0.0,!=3.0.1,<3.1.0,>=2.0.0->ipython>=5.3.0->pyvis==0.2.1->-r requirements.txt (line 2)) (0.2.5)\n",
      "Requirement already satisfied: ipython-genutils in /opt/conda/lib/python3.9/site-packages (from traitlets>=4.2->ipython>=5.3.0->pyvis==0.2.1->-r requirements.txt (line 2)) (0.2.0)\n"
     ]
    }
   ],
   "source": [
    "!pip install --user --upgrade -r \"requirements.txt\""
   ]
  },
  {
   "cell_type": "markdown",
   "id": "1398706a-d001-40e0-82e0-db8cfc034538",
   "metadata": {},
   "source": [
    "### Import libraries"
   ]
  },
  {
   "cell_type": "code",
   "execution_count": 2,
   "id": "ebee1d97-f8fd-469a-b62d-13aed4c53c7f",
   "metadata": {
    "execution": {
     "iopub.execute_input": "2023-06-06T10:24:41.825278Z",
     "iopub.status.busy": "2023-06-06T10:24:41.825090Z",
     "iopub.status.idle": "2023-06-06T10:24:46.774991Z",
     "shell.execute_reply": "2023-06-06T10:24:46.774287Z",
     "shell.execute_reply.started": "2023-06-06T10:24:41.825256Z"
    },
    "tags": []
   },
   "outputs": [
    {
     "name": "stdout",
     "output_type": "stream",
     "text": [
      "✅ utils file '/home/ftp/FEC-engine/utils/datalake.ipynb' successfully loaded.\n",
      "✅ utils file '/home/ftp/FEC-engine/utils/openai.ipynb' successfully loaded.\n"
     ]
    }
   ],
   "source": [
    "import naas\n",
    "from naas_data_product import *"
   ]
  },
  {
   "cell_type": "markdown",
   "id": "3657a7ee-f194-48c6-b2e3-71264e688bb8",
   "metadata": {},
   "source": [
    "### Setup Variables\n",
    "- `force_update`: Enforce update of all your secrets"
   ]
  },
  {
   "cell_type": "code",
   "execution_count": 4,
   "id": "80abe78e-25f2-4aed-a792-76aa59c2f904",
   "metadata": {
    "execution": {
     "iopub.execute_input": "2023-06-06T10:25:35.652579Z",
     "iopub.status.busy": "2023-06-06T10:25:35.652341Z",
     "iopub.status.idle": "2023-06-06T10:25:35.657089Z",
     "shell.execute_reply": "2023-06-06T10:25:35.656540Z",
     "shell.execute_reply.started": "2023-06-06T10:25:35.652554Z"
    },
    "tags": []
   },
   "outputs": [],
   "source": [
    "force_update = False"
   ]
  },
  {
   "cell_type": "markdown",
   "id": "ec0b9871-8ed2-4e96-af19-17e8ba969471",
   "metadata": {},
   "source": [
    "### Setup Naas secrets\n",
    "This cell below help you to setup naas secret used in your data product\n",
    "- `list_secrets_name`: List all secrets name used in your data product"
   ]
  },
  {
   "cell_type": "code",
   "execution_count": 5,
   "id": "3a902bba-5315-402b-b2b2-dc55ee3aad36",
   "metadata": {
    "execution": {
     "iopub.execute_input": "2023-06-06T10:25:44.156107Z",
     "iopub.status.busy": "2023-06-06T10:25:44.155872Z",
     "iopub.status.idle": "2023-06-06T10:25:44.309076Z",
     "shell.execute_reply": "2023-06-06T10:25:44.308507Z",
     "shell.execute_reply.started": "2023-06-06T10:25:44.156084Z"
    },
    "tags": []
   },
   "outputs": [],
   "source": [
    "def setup_secrets_from_list(list_secrets_name, force_update=False):\n",
    "    for secret in list_secrets_name:\n",
    "        secret_value = naas.secret.get(secret)\n",
    "        if not secret_value or force_update:\n",
    "            print(\"🔑 Setup secret:\", secret)\n",
    "            secret_value = input(\"Secret value:\")\n",
    "            if secret_value:\n",
    "                naas.secret.add(secret, secret_value)\n",
    "                \n",
    "list_secrets_name = [\n",
    "    \"OPENAI_API_KEY\",\n",
    "]\n",
    "setup_secrets_from_list(list_secrets_name, force_update)"
   ]
  },
  {
   "cell_type": "markdown",
   "id": "0cfa25ec-9d3e-4aea-bdd5-a8bb26eea5d2",
   "metadata": {},
   "source": [
    "## Model"
   ]
  },
  {
   "cell_type": "markdown",
   "id": "39df9f5f-5092-40ac-ac1e-741ac0f37809",
   "metadata": {},
   "source": [
    "### Run Dashboard"
   ]
  },
  {
   "cell_type": "code",
   "execution_count": null,
   "id": "58c19100-228c-499a-a1f3-6ed2beb66498",
   "metadata": {
    "execution": {
     "iopub.status.busy": "2023-06-06T10:24:46.949532Z",
     "iopub.status.idle": "2023-06-06T10:24:46.949950Z",
     "shell.execute_reply": "2023-06-06T10:24:46.949777Z"
    },
    "tags": []
   },
   "outputs": [],
   "source": [
    "%run FEC_Dashboard.ipynb"
   ]
  },
  {
   "cell_type": "markdown",
   "id": "661d5f40-d77b-491b-9782-3b23174973dd",
   "metadata": {},
   "source": [
    "## Output"
   ]
  },
  {
   "cell_type": "markdown",
   "id": "9018d72a-9911-4f78-bf3b-7ada2756ee05",
   "metadata": {},
   "source": [
    "### Deploy dashboard to production"
   ]
  },
  {
   "cell_type": "code",
   "execution_count": null,
   "id": "fa91de72-d861-42cc-97b0-ecddf868f93a",
   "metadata": {
    "tags": []
   },
   "outputs": [],
   "source": []
  }
 ],
 "metadata": {
  "kernelspec": {
   "display_name": "Python 3",
   "language": "python",
   "name": "python3"
  },
  "language_info": {
   "codemirror_mode": {
    "name": "ipython",
    "version": 3
   },
   "file_extension": ".py",
   "mimetype": "text/x-python",
   "name": "python",
   "nbconvert_exporter": "python",
   "pygments_lexer": "ipython3",
   "version": "3.9.6"
  },
  "naas": {
   "notebook_id": "77b7f93a-fb2a-483e-b98b-80735e426a64",
   "notebook_path": "Naas/Naas_Secret_demo.ipynb"
  },
  "papermill": {
   "default_parameters": {},
   "environment_variables": {},
   "parameters": {},
   "version": "2.3.3"
  },
  "toc-autonumbering": false,
  "widgets": {
   "application/vnd.jupyter.widget-state+json": {
    "state": {},
    "version_major": 2,
    "version_minor": 0
   }
  }
 },
 "nbformat": 4,
 "nbformat_minor": 5
}
