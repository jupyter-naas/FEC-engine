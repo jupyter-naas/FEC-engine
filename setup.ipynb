{
 "cells": [
  {
   "cell_type": "markdown",
   "id": "injured-evolution",
   "metadata": {
    "papermill": {},
    "tags": []
   },
   "source": [
    "<img width=\"10%\" alt=\"Naas\" src=\"https://landen.imgix.net/jtci2pxwjczr/assets/5ice39g4.png?w=160\"/>"
   ]
  },
  {
   "cell_type": "markdown",
   "id": "substantial-decline",
   "metadata": {
    "papermill": {},
    "tags": []
   },
   "source": [
    "# Settings"
   ]
  },
  {
   "cell_type": "markdown",
   "id": "d288008a-adf4-47e8-acf5-55a0d2f9ae4e",
   "metadata": {},
   "source": [
    "<div class=\"alert alert-success\" role=\"info\">\n",
    "    <p><b>Note:</b> this data product framework is developed by Naas open source community. You can <a href=\"https://github.com/sponsors/jupyter-naas\" target=\"_blank\">sponsor us</a> if you find it usefull.\n",
    "</p>\n",
    "</div>"
   ]
  },
  {
   "cell_type": "markdown",
   "id": "dd3d4d6a-f15d-47f9-83ac-4208edf13bf9",
   "metadata": {
    "tags": []
   },
   "source": [
    "This notebook allows you to configure and run your data product on your Naas server. *Create an account on [Naas.ai](https://www.naas.ai/free-forever) if you don't already have one.*\n",
    "\n",
    "Please follow the step below to setup this data product."
   ]
  },
  {
   "cell_type": "markdown",
   "id": "4fcb2237-a1c5-4420-a8c2-b52f511754f5",
   "metadata": {},
   "source": [
    "## Input"
   ]
  },
  {
   "cell_type": "markdown",
   "id": "b852e575-257e-45fa-8833-14746d007df2",
   "metadata": {},
   "source": [
    "### Install requirements\n",
    "Install the packages required to run the product."
   ]
  },
  {
   "cell_type": "code",
   "execution_count": null,
   "id": "9291f53c-ee9b-45d0-8ceb-92c4a9708646",
   "metadata": {
    "tags": []
   },
   "outputs": [],
   "source": [
    "!pip install --user --upgrade -r \"requirements.txt\""
   ]
  },
  {
   "cell_type": "markdown",
   "id": "1398706a-d001-40e0-82e0-db8cfc034538",
   "metadata": {},
   "source": [
    "### Import libraries"
   ]
  },
  {
   "cell_type": "code",
   "execution_count": null,
   "id": "ebee1d97-f8fd-469a-b62d-13aed4c53c7f",
   "metadata": {
    "tags": []
   },
   "outputs": [],
   "source": [
    "import naas\n",
    "from naas_data_product import *"
   ]
  },
  {
   "cell_type": "markdown",
   "id": "3657a7ee-f194-48c6-b2e3-71264e688bb8",
   "metadata": {},
   "source": [
    "### Setup Variables\n",
    "- `force_update`: Enforce update of all your secrets"
   ]
  },
  {
   "cell_type": "code",
   "execution_count": null,
   "id": "80abe78e-25f2-4aed-a792-76aa59c2f904",
   "metadata": {
    "tags": []
   },
   "outputs": [],
   "source": [
    "force_update = False"
   ]
  },
  {
   "cell_type": "markdown",
   "id": "ec0b9871-8ed2-4e96-af19-17e8ba969471",
   "metadata": {},
   "source": [
    "### Setup Naas secrets\n",
    "This cell below help you to setup naas secret used in your data product\n",
    "- `list_secrets_name`: List all secrets name used in your data product"
   ]
  },
  {
   "cell_type": "code",
   "execution_count": null,
   "id": "3a902bba-5315-402b-b2b2-dc55ee3aad36",
   "metadata": {
    "tags": []
   },
   "outputs": [],
   "source": [
    "def setup_secrets_from_list(list_secrets_name, force_update=False):\n",
    "    for secret in list_secrets_name:\n",
    "        secret_value = naas.secret.get(secret)\n",
    "        if not secret_value or force_update:\n",
    "            print(\"🔑 Setup secret:\", secret)\n",
    "            secret_value = input(\"Secret value:\")\n",
    "            if secret_value:\n",
    "                naas.secret.add(secret, secret_value)\n",
    "                \n",
    "list_secrets_name = [\n",
    "    \"OPENAI_API_KEY\",\n",
    "]\n",
    "setup_secrets_from_list(list_secrets_name, force_update)"
   ]
  },
  {
   "cell_type": "markdown",
   "id": "0cfa25ec-9d3e-4aea-bdd5-a8bb26eea5d2",
   "metadata": {},
   "source": [
    "## Model"
   ]
  },
  {
   "cell_type": "markdown",
   "id": "d130c03f-b48d-497b-aef8-f68a881f9def",
   "metadata": {},
   "source": [
    "### Run Pipeline"
   ]
  },
  {
   "cell_type": "code",
   "execution_count": null,
   "id": "dbe9bec3-4152-4f0b-b79b-5c5e09d4bd51",
   "metadata": {},
   "outputs": [],
   "source": [
    "pipeline_path = f\"{MODELS_PATH}/__pipeline__.ipynb\"\n",
    "%run $pipeline_path"
   ]
  },
  {
   "cell_type": "markdown",
   "id": "6a4f9c82-e9d4-4b43-9047-4c08b174b57e",
   "metadata": {},
   "source": [
    "### Run Dashboard"
   ]
  },
  {
   "cell_type": "code",
   "execution_count": null,
   "id": "27653aac-a8f8-4764-8f48-bc1da02df079",
   "metadata": {
    "tags": []
   },
   "outputs": [],
   "source": [
    "dashboard_path = f\"{MODELS_PATH}/FEC_Dashboard.ipynb\"\n",
    "%run $dashboard_path"
   ]
  },
  {
   "cell_type": "markdown",
   "id": "661d5f40-d77b-491b-9782-3b23174973dd",
   "metadata": {},
   "source": [
    "## Output"
   ]
  },
  {
   "cell_type": "markdown",
   "id": "9018d72a-9911-4f78-bf3b-7ada2756ee05",
   "metadata": {},
   "source": [
    "### Deploy dashboard to production"
   ]
  },
  {
   "cell_type": "code",
   "execution_count": null,
   "id": "fa91de72-d861-42cc-97b0-ecddf868f93a",
   "metadata": {
    "tags": []
   },
   "outputs": [],
   "source": []
  }
 ],
 "metadata": {
  "kernelspec": {
   "display_name": "Python 3",
   "language": "python",
   "name": "python3"
  },
  "language_info": {
   "codemirror_mode": {
    "name": "ipython",
    "version": 3
   },
   "file_extension": ".py",
   "mimetype": "text/x-python",
   "name": "python",
   "nbconvert_exporter": "python",
   "pygments_lexer": "ipython3",
   "version": "3.9.6"
  },
  "naas": {
   "notebook_id": "77b7f93a-fb2a-483e-b98b-80735e426a64",
   "notebook_path": "Naas/Naas_Secret_demo.ipynb"
  },
  "papermill": {
   "default_parameters": {},
   "environment_variables": {},
   "parameters": {},
   "version": "2.3.3"
  },
  "toc-autonumbering": false,
  "widgets": {
   "application/vnd.jupyter.widget-state+json": {
    "state": {},
    "version_major": 2,
    "version_minor": 0
   }
  }
 },
 "nbformat": 4,
 "nbformat_minor": 5
}
