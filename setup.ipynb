{
 "cells": [
  {
   "cell_type": "markdown",
   "id": "injured-evolution",
   "metadata": {
    "papermill": {},
    "tags": []
   },
   "source": [
    "<img width=\"10%\" alt=\"Naas\" src=\"https://landen.imgix.net/jtci2pxwjczr/assets/5ice39g4.png?w=160\"/>"
   ]
  },
  {
   "cell_type": "markdown",
   "id": "substantial-decline",
   "metadata": {
    "papermill": {},
    "tags": []
   },
   "source": [
    "# Settings"
   ]
  },
  {
   "cell_type": "markdown",
   "id": "d288008a-adf4-47e8-acf5-55a0d2f9ae4e",
   "metadata": {},
   "source": [
    "<div class=\"alert alert-success\" role=\"info\">\n",
    "    <p><b>Note:</b> this data product framework is developed by Naas open source community. You can <a href=\"https://github.com/sponsors/jupyter-naas\" target=\"_blank\">sponsor us</a> if you find it usefull.\n",
    "</p>\n",
    "</div>"
   ]
  },
  {
   "cell_type": "markdown",
   "id": "dd3d4d6a-f15d-47f9-83ac-4208edf13bf9",
   "metadata": {
    "tags": []
   },
   "source": [
    "This notebook allows you to configure and run your data product on your Naas server. *Create an account on [Naas.ai](https://www.naas.ai/free-forever) if you don't already have one.*\n",
    "\n",
    "Please follow the step below to setup this data product."
   ]
  },
  {
   "cell_type": "markdown",
   "id": "4fcb2237-a1c5-4420-a8c2-b52f511754f5",
   "metadata": {},
   "source": [
    "## Input"
   ]
  },
  {
   "cell_type": "markdown",
   "id": "b852e575-257e-45fa-8833-14746d007df2",
   "metadata": {},
   "source": [
    "### Install requirements\n",
    "Install the packages required to run the product."
   ]
  },
  {
   "cell_type": "code",
   "execution_count": 1,
   "id": "9291f53c-ee9b-45d0-8ceb-92c4a9708646",
   "metadata": {
    "execution": {
     "iopub.execute_input": "2023-07-04T13:19:41.283850Z",
     "iopub.status.busy": "2023-07-04T13:19:41.283402Z",
     "iopub.status.idle": "2023-07-04T13:19:51.612508Z",
     "shell.execute_reply": "2023-07-04T13:19:51.611610Z",
     "shell.execute_reply.started": "2023-07-04T13:19:41.283750Z"
    },
    "tags": []
   },
   "outputs": [
    {
     "name": "stdout",
     "output_type": "stream",
     "text": [
      "Requirement already satisfied: naas_data_product in /home/ftp/.local/lib/python3.9/site-packages (from -r requirements.txt (line 1)) (0.1.8)\n",
      "Requirement already satisfied: pyvis==0.2.1 in /home/ftp/.local/lib/python3.9/site-packages (from -r requirements.txt (line 2)) (0.2.1)\n",
      "Requirement already satisfied: jinja2>=2.9.6 in /opt/conda/lib/python3.9/site-packages (from pyvis==0.2.1->-r requirements.txt (line 2)) (3.0.3)\n",
      "Requirement already satisfied: networkx>=1.11 in /opt/conda/lib/python3.9/site-packages (from pyvis==0.2.1->-r requirements.txt (line 2)) (3.0)\n",
      "Requirement already satisfied: ipython>=5.3.0 in /opt/conda/lib/python3.9/site-packages (from pyvis==0.2.1->-r requirements.txt (line 2)) (7.23.1)\n",
      "Requirement already satisfied: jsonpickle>=1.4.1 in /opt/conda/lib/python3.9/site-packages (from pyvis==0.2.1->-r requirements.txt (line 2)) (3.0.1)\n",
      "Requirement already satisfied: setuptools>=18.5 in /opt/conda/lib/python3.9/site-packages (from ipython>=5.3.0->pyvis==0.2.1->-r requirements.txt (line 2)) (49.6.0.post20210108)\n",
      "Requirement already satisfied: jedi>=0.16 in /opt/conda/lib/python3.9/site-packages (from ipython>=5.3.0->pyvis==0.2.1->-r requirements.txt (line 2)) (0.18.0)\n",
      "Requirement already satisfied: decorator in /opt/conda/lib/python3.9/site-packages (from ipython>=5.3.0->pyvis==0.2.1->-r requirements.txt (line 2)) (4.4.2)\n",
      "Requirement already satisfied: pickleshare in /opt/conda/lib/python3.9/site-packages (from ipython>=5.3.0->pyvis==0.2.1->-r requirements.txt (line 2)) (0.7.5)\n",
      "Requirement already satisfied: traitlets>=4.2 in /opt/conda/lib/python3.9/site-packages (from ipython>=5.3.0->pyvis==0.2.1->-r requirements.txt (line 2)) (5.0.5)\n",
      "Requirement already satisfied: prompt-toolkit!=3.0.0,!=3.0.1,<3.1.0,>=2.0.0 in /opt/conda/lib/python3.9/site-packages (from ipython>=5.3.0->pyvis==0.2.1->-r requirements.txt (line 2)) (3.0.19)\n",
      "Requirement already satisfied: pygments in /opt/conda/lib/python3.9/site-packages (from ipython>=5.3.0->pyvis==0.2.1->-r requirements.txt (line 2)) (2.9.0)\n",
      "Requirement already satisfied: backcall in /opt/conda/lib/python3.9/site-packages (from ipython>=5.3.0->pyvis==0.2.1->-r requirements.txt (line 2)) (0.2.0)\n",
      "Requirement already satisfied: matplotlib-inline in /opt/conda/lib/python3.9/site-packages (from ipython>=5.3.0->pyvis==0.2.1->-r requirements.txt (line 2)) (0.1.2)\n",
      "Requirement already satisfied: pexpect>4.3 in /opt/conda/lib/python3.9/site-packages (from ipython>=5.3.0->pyvis==0.2.1->-r requirements.txt (line 2)) (4.8.0)\n",
      "Requirement already satisfied: MarkupSafe>=2.0 in /home/ftp/.local/lib/python3.9/site-packages (from jinja2>=2.9.6->pyvis==0.2.1->-r requirements.txt (line 2)) (2.1.3)\n",
      "Requirement already satisfied: parso<0.9.0,>=0.8.0 in /opt/conda/lib/python3.9/site-packages (from jedi>=0.16->ipython>=5.3.0->pyvis==0.2.1->-r requirements.txt (line 2)) (0.8.2)\n",
      "Requirement already satisfied: ptyprocess>=0.5 in /opt/conda/lib/python3.9/site-packages (from pexpect>4.3->ipython>=5.3.0->pyvis==0.2.1->-r requirements.txt (line 2)) (0.7.0)\n",
      "Requirement already satisfied: wcwidth in /opt/conda/lib/python3.9/site-packages (from prompt-toolkit!=3.0.0,!=3.0.1,<3.1.0,>=2.0.0->ipython>=5.3.0->pyvis==0.2.1->-r requirements.txt (line 2)) (0.2.5)\n",
      "Requirement already satisfied: ipython-genutils in /opt/conda/lib/python3.9/site-packages (from traitlets>=4.2->ipython>=5.3.0->pyvis==0.2.1->-r requirements.txt (line 2)) (0.2.0)\n"
     ]
    }
   ],
   "source": [
    "!pip install --user --upgrade -r \"requirements.txt\""
   ]
  },
  {
   "cell_type": "markdown",
   "id": "1398706a-d001-40e0-82e0-db8cfc034538",
   "metadata": {},
   "source": [
    "### Import libraries"
   ]
  },
  {
   "cell_type": "code",
   "execution_count": 2,
   "id": "ebee1d97-f8fd-469a-b62d-13aed4c53c7f",
   "metadata": {
    "execution": {
     "iopub.execute_input": "2023-07-04T13:19:51.614444Z",
     "iopub.status.busy": "2023-07-04T13:19:51.614186Z",
     "iopub.status.idle": "2023-07-04T13:20:08.404279Z",
     "shell.execute_reply": "2023-07-04T13:20:08.399958Z",
     "shell.execute_reply.started": "2023-07-04T13:19:51.614418Z"
    },
    "tags": []
   },
   "outputs": [
    {
     "name": "stdout",
     "output_type": "stream",
     "text": [
      "✅ utils file '/home/ftp/FEC-engine/utils/datalake.ipynb' successfully loaded.\n",
      "✅ utils file '/home/ftp/FEC-engine/utils/openai.ipynb' successfully loaded.\n"
     ]
    }
   ],
   "source": [
    "import naas\n",
    "from naas_data_product import *"
   ]
  },
  {
   "cell_type": "markdown",
   "id": "3657a7ee-f194-48c6-b2e3-71264e688bb8",
   "metadata": {},
   "source": [
    "### Setup Variables\n",
    "- `force_update`: Enforce update of all your secrets"
   ]
  },
  {
   "cell_type": "code",
   "execution_count": 3,
   "id": "80abe78e-25f2-4aed-a792-76aa59c2f904",
   "metadata": {
    "execution": {
     "iopub.execute_input": "2023-07-04T13:20:08.406261Z",
     "iopub.status.busy": "2023-07-04T13:20:08.405742Z",
     "iopub.status.idle": "2023-07-04T13:20:08.410903Z",
     "shell.execute_reply": "2023-07-04T13:20:08.409674Z",
     "shell.execute_reply.started": "2023-07-04T13:20:08.406223Z"
    },
    "tags": []
   },
   "outputs": [],
   "source": [
    "force_update = False"
   ]
  },
  {
   "cell_type": "markdown",
   "id": "ec0b9871-8ed2-4e96-af19-17e8ba969471",
   "metadata": {},
   "source": [
    "### Setup Naas secrets\n",
    "This cell below help you to setup naas secret used in your data product\n",
    "- `list_secrets_name`: List all secrets name used in your data product"
   ]
  },
  {
   "cell_type": "code",
   "execution_count": 4,
   "id": "3a902bba-5315-402b-b2b2-dc55ee3aad36",
   "metadata": {
    "execution": {
     "iopub.execute_input": "2023-07-04T13:20:08.412639Z",
     "iopub.status.busy": "2023-07-04T13:20:08.412319Z",
     "iopub.status.idle": "2023-07-04T13:20:08.731086Z",
     "shell.execute_reply": "2023-07-04T13:20:08.730181Z",
     "shell.execute_reply.started": "2023-07-04T13:20:08.412603Z"
    },
    "tags": []
   },
   "outputs": [],
   "source": [
    "def setup_secrets_from_list(list_secrets_name, force_update=False):\n",
    "    for secret in list_secrets_name:\n",
    "        secret_value = naas.secret.get(secret)\n",
    "        if not secret_value or force_update:\n",
    "            print(\"🔑 Setup secret:\", secret)\n",
    "            secret_value = input(\"Secret value:\")\n",
    "            if secret_value:\n",
    "                naas.secret.add(secret, secret_value)\n",
    "                \n",
    "list_secrets_name = [\n",
    "    \"OPENAI_API_KEY\",\n",
    "]\n",
    "setup_secrets_from_list(list_secrets_name, force_update)"
   ]
  },
  {
   "cell_type": "markdown",
   "id": "0cfa25ec-9d3e-4aea-bdd5-a8bb26eea5d2",
   "metadata": {},
   "source": [
    "## Model"
   ]
  },
  {
   "cell_type": "markdown",
   "id": "6a4f9c82-e9d4-4b43-9047-4c08b174b57e",
   "metadata": {},
   "source": [
    "### Run Dashboard"
   ]
  },
  {
   "cell_type": "code",
   "execution_count": 5,
   "id": "27653aac-a8f8-4764-8f48-bc1da02df079",
   "metadata": {
    "execution": {
     "iopub.execute_input": "2023-07-04T13:20:08.732806Z",
     "iopub.status.busy": "2023-07-04T13:20:08.732593Z",
     "iopub.status.idle": "2023-07-04T13:30:49.231108Z",
     "shell.execute_reply": "2023-07-04T13:30:49.230183Z",
     "shell.execute_reply.started": "2023-07-04T13:20:08.732783Z"
    },
    "tags": []
   },
   "outputs": [
    {
     "data": {
      "text/html": [
       "<html>\n",
       "<head>\n",
       "<link rel=\"stylesheet\" href=\"https://cdn.jsdelivr.net/npm/vis-network@latest/styles/vis-network.css\" type=\"text/css\" />\n",
       "<script type=\"text/javascript\" src=\"https://cdn.jsdelivr.net/npm/vis-network@latest/dist/vis-network.min.js\"> </script>\n",
       "<center>\n",
       "<h1></h1>\n",
       "</center>\n",
       "\n",
       "<!-- <link rel=\"stylesheet\" href=\"../node_modules/vis/dist/vis.min.css\" type=\"text/css\" />\n",
       "<script type=\"text/javascript\" src=\"../node_modules/vis/dist/vis.js\"> </script>-->\n",
       "\n",
       "<style type=\"text/css\">\n",
       "\n",
       "        #mynetwork {\n",
       "            width: 100%;\n",
       "            height: 1000px;\n",
       "            background-color: #212121;\n",
       "            border: 1px solid lightgray;\n",
       "            position: relative;\n",
       "            float: left;\n",
       "        }\n",
       "\n",
       "        \n",
       "\n",
       "        \n",
       "\n",
       "        \n",
       "</style>\n",
       "\n",
       "</head>\n",
       "\n",
       "<body>\n",
       "<div id = \"mynetwork\"></div>\n",
       "\n",
       "\n",
       "<script type=\"text/javascript\">\n",
       "\n",
       "    // initialize global variables.\n",
       "    var edges;\n",
       "    var nodes;\n",
       "    var network; \n",
       "    var container;\n",
       "    var options, data;\n",
       "\n",
       "    \n",
       "    // This method is responsible for drawing the graph, returns the drawn network\n",
       "    function drawGraph() {\n",
       "        var container = document.getElementById('mynetwork');\n",
       "        \n",
       "        \n",
       "\n",
       "        // parsing and collecting nodes and edges from the python\n",
       "        nodes = new vis.DataSet([{\"color\": \"#5DE191\", \"font\": {\"color\": \"#ffffff\"}, \"id\": \"Start\", \"image\": \"start-end.png\", \"label\": \"Start\", \"level\": 0, \"mass\": 5, \"shape\": \"circularImage\", \"x\": 0, \"y\": 0}, {\"color\": \"#5DE191\", \"font\": {\"color\": \"#ffffff\"}, \"id\": \"Extraction\", \"label\": \"Extraction\", \"level\": 1, \"mass\": 5, \"shape\": \"box\", \"x\": 1, \"y\": 0}, {\"color\": \"#5DE191\", \"font\": {\"color\": \"#ffffff\"}, \"id\": \"Modelling\", \"label\": \"Modelling\", \"level\": 2, \"mass\": 5, \"shape\": \"box\", \"x\": 2, \"y\": 0}, {\"color\": \"#5DE191\", \"font\": {\"color\": \"#ffffff\"}, \"id\": \"Enrichment\", \"label\": \"Enrichment\", \"level\": 3, \"mass\": 5, \"shape\": \"box\", \"x\": 3, \"y\": 0}, {\"color\": \"#5DE191\", \"font\": {\"color\": \"#ffffff\"}, \"id\": \"ParallelStep-914697fc-57eb-4c33-a954-3409b33fd81b\", \"image\": \"parallel.png\", \"label\": \"Parallel Step\", \"level\": 4, \"mass\": 20, \"shape\": \"circularImage\", \"x\": 4, \"y\": 0}, {\"color\": \"#5DE191\", \"font\": {\"color\": \"#ffffff\"}, \"id\": \"Ref. Entity\", \"label\": \"Ref. Entity\", \"level\": 5, \"mass\": 5, \"shape\": \"box\", \"x\": 5, \"y\": 0}, {\"color\": \"#5DE191\", \"font\": {\"color\": \"#ffffff\"}, \"id\": \"KPIs\", \"label\": \"KPIs\", \"level\": 5, \"mass\": 5, \"shape\": \"box\", \"x\": 5, \"y\": 0}, {\"color\": \"#5DE191\", \"font\": {\"color\": \"#ffffff\"}, \"id\": \"CA\", \"label\": \"CA\", \"level\": 5, \"mass\": 5, \"shape\": \"box\", \"x\": 5, \"y\": 0}, {\"color\": \"#5DE191\", \"font\": {\"color\": \"#ffffff\"}, \"id\": \"Tr\\u00e9sorerie\", \"label\": \"Tr\\u00e9sorerie\", \"level\": 5, \"mass\": 5, \"shape\": \"box\", \"x\": 5, \"y\": 0}, {\"color\": \"#5DE191\", \"font\": {\"color\": \"#ffffff\"}, \"id\": \"Charges\", \"label\": \"Charges\", \"level\": 5, \"mass\": 5, \"shape\": \"box\", \"x\": 5, \"y\": 0}, {\"color\": \"#5DE191\", \"font\": {\"color\": \"#ffffff\"}, \"id\": \"Bilan\", \"label\": \"Bilan\", \"level\": 5, \"mass\": 5, \"shape\": \"box\", \"x\": 5, \"y\": 0}, {\"color\": \"#5DE191\", \"font\": {\"color\": \"#ffffff\"}, \"id\": \"End\", \"image\": \"start-end.png\", \"label\": \"End\", \"level\": 6, \"mass\": 5, \"shape\": \"circularImage\", \"x\": 6, \"y\": 0}]);\n",
       "        edges = new vis.DataSet([{\"arrows\": \"to\", \"from\": \"ParallelStep-914697fc-57eb-4c33-a954-3409b33fd81b\", \"to\": \"Ref. Entity\"}, {\"arrows\": \"to\", \"from\": \"ParallelStep-914697fc-57eb-4c33-a954-3409b33fd81b\", \"to\": \"KPIs\"}, {\"arrows\": \"to\", \"from\": \"ParallelStep-914697fc-57eb-4c33-a954-3409b33fd81b\", \"to\": \"CA\"}, {\"arrows\": \"to\", \"from\": \"ParallelStep-914697fc-57eb-4c33-a954-3409b33fd81b\", \"to\": \"Tr\\u00e9sorerie\"}, {\"arrows\": \"to\", \"from\": \"ParallelStep-914697fc-57eb-4c33-a954-3409b33fd81b\", \"to\": \"Charges\"}, {\"arrows\": \"to\", \"from\": \"ParallelStep-914697fc-57eb-4c33-a954-3409b33fd81b\", \"to\": \"Bilan\"}, {\"arrows\": \"to\", \"from\": \"Ref. Entity\", \"to\": \"End\"}, {\"arrows\": \"to\", \"from\": \"KPIs\", \"to\": \"End\"}, {\"arrows\": \"to\", \"from\": \"CA\", \"to\": \"End\"}, {\"arrows\": \"to\", \"from\": \"Tr\\u00e9sorerie\", \"to\": \"End\"}, {\"arrows\": \"to\", \"from\": \"Charges\", \"to\": \"End\"}, {\"arrows\": \"to\", \"from\": \"Bilan\", \"to\": \"End\"}, {\"arrows\": \"to\", \"from\": \"Enrichment\", \"to\": \"ParallelStep-914697fc-57eb-4c33-a954-3409b33fd81b\"}, {\"arrows\": \"to\", \"from\": \"Modelling\", \"to\": \"Enrichment\"}, {\"arrows\": \"to\", \"from\": \"Extraction\", \"to\": \"Modelling\"}, {\"arrows\": \"to\", \"from\": \"Start\", \"to\": \"Extraction\"}]);\n",
       "\n",
       "        // adding nodes and edges to the graph\n",
       "        data = {nodes: nodes, edges: edges};\n",
       "\n",
       "        var options = {\n",
       "    \"configure\": {\n",
       "        \"enabled\": false\n",
       "    },\n",
       "    \"edges\": {\n",
       "        \"color\": {\n",
       "            \"inherit\": true\n",
       "        },\n",
       "        \"smooth\": {\n",
       "            \"enabled\": true,\n",
       "            \"type\": \"dynamic\"\n",
       "        }\n",
       "    },\n",
       "    \"interaction\": {\n",
       "        \"dragNodes\": true,\n",
       "        \"hideEdgesOnDrag\": false,\n",
       "        \"hideNodesOnDrag\": false\n",
       "    },\n",
       "    \"layout\": {\n",
       "        \"hierarchical\": {\n",
       "            \"blockShifting\": true,\n",
       "            \"edgeMinimization\": true,\n",
       "            \"enabled\": true,\n",
       "            \"levelSeparation\": 150,\n",
       "            \"parentCentralization\": true,\n",
       "            \"sortMethod\": \"hubsize\",\n",
       "            \"treeSpacing\": 200\n",
       "        },\n",
       "        \"improvedLayout\": true,\n",
       "        \"randomSeed\": 0\n",
       "    },\n",
       "    \"physics\": {\n",
       "        \"enabled\": false,\n",
       "        \"stabilization\": {\n",
       "            \"enabled\": true,\n",
       "            \"fit\": true,\n",
       "            \"iterations\": 1000,\n",
       "            \"onlyDynamicEdges\": false,\n",
       "            \"updateInterval\": 50\n",
       "        }\n",
       "    }\n",
       "};\n",
       "        \n",
       "        \n",
       "\n",
       "        \n",
       "\n",
       "        network = new vis.Network(container, data, options);\n",
       "\t \n",
       "        \n",
       "\n",
       "\n",
       "        \n",
       "\n",
       "        return network;\n",
       "\n",
       "    }\n",
       "\n",
       "    drawGraph();\n",
       "\n",
       "</script>\n",
       "</body>\n",
       "</html>"
      ],
      "text/plain": [
       "<IPython.core.display.HTML object>"
      ]
     },
     "metadata": {},
     "output_type": "display_data"
    },
    {
     "name": "stderr",
     "output_type": "stream",
     "text": [
      "127.0.0.1 - - [04/Jul/2023 15:25:56] \"POST /_dash-update-component HTTP/1.1\" 200 -\n"
     ]
    },
    {
     "name": "stdout",
     "output_type": "stream",
     "text": [
      "📁 Last file: /home/ftp/FEC-engine/outputs/FEC/referentiel_entite/20230704152522_FEC_referentiel_entite.csv\n"
     ]
    }
   ],
   "source": [
    "dashboard_path = f\"{MODELS_PATH}/FEC_Dashboard.ipynb\"\n",
    "%run $dashboard_path"
   ]
  },
  {
   "cell_type": "markdown",
   "id": "661d5f40-d77b-491b-9782-3b23174973dd",
   "metadata": {},
   "source": [
    "## Output"
   ]
  },
  {
   "cell_type": "markdown",
   "id": "9018d72a-9911-4f78-bf3b-7ada2756ee05",
   "metadata": {},
   "source": [
    "### Deploy dashboard to production"
   ]
  },
  {
   "cell_type": "code",
   "execution_count": null,
   "id": "fa91de72-d861-42cc-97b0-ecddf868f93a",
   "metadata": {
    "tags": []
   },
   "outputs": [],
   "source": []
  }
 ],
 "metadata": {
  "kernelspec": {
   "display_name": "Python 3",
   "language": "python",
   "name": "python3"
  },
  "language_info": {
   "codemirror_mode": {
    "name": "ipython",
    "version": 3
   },
   "file_extension": ".py",
   "mimetype": "text/x-python",
   "name": "python",
   "nbconvert_exporter": "python",
   "pygments_lexer": "ipython3",
   "version": "3.9.6"
  },
  "naas": {
   "notebook_id": "77b7f93a-fb2a-483e-b98b-80735e426a64",
   "notebook_path": "Naas/Naas_Secret_demo.ipynb"
  },
  "papermill": {
   "default_parameters": {},
   "environment_variables": {},
   "parameters": {},
   "version": "2.3.3"
  },
  "toc-autonumbering": false,
  "widgets": {
   "application/vnd.jupyter.widget-state+json": {
    "state": {},
    "version_major": 2,
    "version_minor": 0
   }
  }
 },
 "nbformat": 4,
 "nbformat_minor": 5
}
