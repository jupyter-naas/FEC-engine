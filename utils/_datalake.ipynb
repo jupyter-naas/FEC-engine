{
 "cells": [
  {
   "cell_type": "markdown",
   "id": "1da2bba4-1b4c-4daa-a7c8-487c3a740eba",
   "metadata": {},
   "source": [
    "# Datalake"
   ]
  },
  {
   "cell_type": "code",
   "execution_count": null,
   "id": "ee961415-6782-4a06-96e8-f6ab708631a3",
   "metadata": {
    "tags": []
   },
   "outputs": [],
   "source": [
    "import os\n",
    "import naas_python\n",
    "from datetime import datetime\n",
    "import glob\n",
    "import pandas as pd\n",
    "\n",
    "# Get dataframe\n",
    "def get_last_df(folder_path, file_type=\"csv\"):\n",
    "    # Init\n",
    "    df = pd.DataFrame()\n",
    "    \n",
    "    # List files in folder\n",
    "    if file_type == \"csv\":\n",
    "        files = sorted(glob.glob(f\"{folder_path}/*.csv\"))\n",
    "\n",
    "        # Read last csv files\n",
    "        if len(files) > 0:\n",
    "            last_file = files[-1]\n",
    "            print(\"📁 Last file:\", last_file)\n",
    "            df = pd.read_csv(last_file, sep=\";\", decimal=\",\", dtype={\"ENTITY\": str, \"SCENARIO\": str, \"PERIOD\": str})\n",
    "    return df\n",
    "\n",
    "# Save dataframe\n",
    "def save_df(df, output_folder, file_type=\"csv\", asset=False):\n",
    "    # Create file path\n",
    "    if file_type == \"csv\":\n",
    "        # Create directory\n",
    "        if not os.path.exists(output_folder):\n",
    "            os.makedirs(output_folder)\n",
    "            \n",
    "        # Create file name\n",
    "        timestamp = datetime.now().strftime(\"%Y%m%d%H%M%S\")\n",
    "        file_name = f\"{timestamp}_\" + output_folder.split(\"/outputs/\")[-1].replace(\"/\", \"_\") + \".csv\"\n",
    "\n",
    "        # Sauvegarde en csv\n",
    "        file_path = os.path.join(output_folder, file_name)\n",
    "        df.to_csv(file_path, sep=\";\", decimal=\",\", index=False)\n",
    "        print(\"✅ DataFrame saved in:\", file_path)\n",
    "\n",
    "    # Création du lien url\n",
    "    if asset:\n",
    "        naas_link = naas_python.asset.create(file_path)\n",
    "        return naas_link"
   ]
  }
 ],
 "metadata": {
  "kernelspec": {
   "display_name": "Python 3",
   "language": "python",
   "name": "python3"
  },
  "language_info": {
   "codemirror_mode": {
    "name": "ipython",
    "version": 3
   },
   "file_extension": ".py",
   "mimetype": "text/x-python",
   "name": "python",
   "nbconvert_exporter": "python",
   "pygments_lexer": "ipython3",
   "version": "3.9.6"
  },
  "widgets": {
   "application/vnd.jupyter.widget-state+json": {
    "state": {},
    "version_major": 2,
    "version_minor": 0
   }
  }
 },
 "nbformat": 4,
 "nbformat_minor": 5
}
