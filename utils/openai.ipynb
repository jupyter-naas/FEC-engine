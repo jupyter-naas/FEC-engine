{
 "cells": [
  {
   "cell_type": "markdown",
   "id": "0fe69480-22c1-4927-9217-6bdb459b5d56",
   "metadata": {},
   "source": [
    "<img width=\"10%\" alt=\"Naas\" src=\"https://landen.imgix.net/jtci2pxwjczr/assets/5ice39g4.png?w=160\"/>"
   ]
  },
  {
   "cell_type": "markdown",
   "id": "1da2bba4-1b4c-4daa-a7c8-487c3a740eba",
   "metadata": {},
   "source": [
    "# OpenAI"
   ]
  },
  {
   "cell_type": "markdown",
   "id": "a03e20c0-49a0-4204-b5f9-c1f89850dd8b",
   "metadata": {},
   "source": [
    "## Input"
   ]
  },
  {
   "cell_type": "markdown",
   "id": "dbc31862-a80f-4f73-b41c-45c616c7991b",
   "metadata": {},
   "source": [
    "### Import libraries"
   ]
  },
  {
   "cell_type": "code",
   "execution_count": null,
   "id": "ee961415-6782-4a06-96e8-f6ab708631a3",
   "metadata": {
    "tags": []
   },
   "outputs": [],
   "source": [
    "try:\n",
    "    import openai\n",
    "except:\n",
    "    !pip install openai --user\n",
    "    import openai\n",
    "import naas\n",
    "import pandas as pd"
   ]
  },
  {
   "cell_type": "markdown",
   "id": "45a916ce-cc4f-4a03-b37e-a3bf22d9cb8c",
   "metadata": {},
   "source": [
    "### Setup Variables"
   ]
  },
  {
   "cell_type": "code",
   "execution_count": null,
   "id": "9931fd1f-3a47-4073-9615-8663904a59d5",
   "metadata": {},
   "outputs": [],
   "source": [
    "openai_api_key = naas.secret.get(name=\"OPENAI_API_KEY\") or \"ENTER_YOUR_OPENAI_API_KEY\""
   ]
  },
  {
   "cell_type": "markdown",
   "id": "17772827-ea8b-4d47-be40-8be22d3a6568",
   "metadata": {},
   "source": [
    "## Model"
   ]
  },
  {
   "cell_type": "markdown",
   "id": "ae8d88a6-ef73-442f-90a6-48855cfe620c",
   "metadata": {
    "papermill": {},
    "tags": []
   },
   "source": [
    "### Send requests to OpenAI API"
   ]
  },
  {
   "cell_type": "code",
   "execution_count": null,
   "id": "31392031-4df5-4360-ab22-6e2d76c1539d",
   "metadata": {
    "tags": []
   },
   "outputs": [],
   "source": [
    "def get_ia_analysis(\n",
    "    api_key=None,\n",
    "    df=pd.DataFrame(),\n",
    "    prompt_data=\"\"\n",
    "):\n",
    "    # Init\n",
    "    result = \"\"\n",
    "    \n",
    "    # Check if dataframe empty\n",
    "    if len(df) == 0:\n",
    "        return result\n",
    "    \n",
    "    # Init api key\n",
    "    if not api_key:\n",
    "        api_key = naas.secret.get(name=\"OPENAI_API_KEY\") or \"ENTER_YOUR_OPENAI_API_KEY\"\n",
    "        \n",
    "    # Params\n",
    "    model = \"gpt-3.5-turbo\"\n",
    "    temperature = 0\n",
    "    max_tokens = 500\n",
    "    messages_role = \"system\"\n",
    "    messages_system = f\"\"\"\n",
    "    Tu es un analyste comptable et financier.\n",
    "    Tu dois réaliser une analyse en 3 phrases avec une limite de 350 caractères sur le jeu de donnée que tu vas recevoir.\n",
    "    Les chiffres doivent être écrit au format suivant: 26 052 €.\n",
    "    {prompt_data}\n",
    "    Jeu de données: {df.to_string()}\n",
    "    \"\"\"\n",
    "    messages = [\n",
    "        {\"role\": messages_role, \"content\": messages_system}\n",
    "    ]\n",
    "\n",
    "    # Connect with API key\n",
    "    openai.api_key = api_key\n",
    "\n",
    "    # Create chat completion\n",
    "    completion = openai.ChatCompletion.create(\n",
    "        model=model,\n",
    "        messages=messages,\n",
    "        temperature=temperature,\n",
    "        max_tokens=max_tokens\n",
    "    )\n",
    "\n",
    "    print(\"🤖 IA:\", completion.choices[0].message.content)\n",
    "    result = completion.choices[0].message.content\n",
    "    return result"
   ]
  },
  {
   "cell_type": "markdown",
   "id": "c56e7467-89b1-4d83-9633-96453709a143",
   "metadata": {},
   "source": [
    "## Output"
   ]
  }
 ],
 "metadata": {
  "kernelspec": {
   "display_name": "Python 3",
   "language": "python",
   "name": "python3"
  },
  "language_info": {
   "codemirror_mode": {
    "name": "ipython",
    "version": 3
   },
   "file_extension": ".py",
   "mimetype": "text/x-python",
   "name": "python",
   "nbconvert_exporter": "python",
   "pygments_lexer": "ipython3",
   "version": "3.9.6"
  },
  "widgets": {
   "application/vnd.jupyter.widget-state+json": {
    "state": {},
    "version_major": 2,
    "version_minor": 0
   }
  }
 },
 "nbformat": 4,
 "nbformat_minor": 5
}
