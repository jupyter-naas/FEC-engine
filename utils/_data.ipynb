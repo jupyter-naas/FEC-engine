{
 "cells": [
  {
   "cell_type": "markdown",
   "id": "1da2bba4-1b4c-4daa-a7c8-487c3a740eba",
   "metadata": {},
   "source": [
    "# Data"
   ]
  },
  {
   "cell_type": "markdown",
   "id": "ae8d88a6-ef73-442f-90a6-48855cfe620c",
   "metadata": {
    "papermill": {},
    "tags": []
   },
   "source": [
    "### Send requests to OpenAI API"
   ]
  },
  {
   "cell_type": "code",
   "execution_count": null,
   "id": "31392031-4df5-4360-ab22-6e2d76c1539d",
   "metadata": {
    "tags": []
   },
   "outputs": [],
   "source": [
    "import naas_python\n",
    "import pandas as pd\n",
    "import requests\n",
    "import json\n",
    "import time\n",
    "import naas_python\n",
    "\n",
    "def create_naas_chat_completion(\n",
    "    access_token=None,\n",
    "    model_id=\"63b149d9-f8fe-4b33-8132-75e7861c347d\",\n",
    "    prompt=\"\",\n",
    "    message=\"\",\n",
    "):\n",
    "    # Requests\n",
    "    url = f\"https://api.naas.ai/model/{model_id}/completion\"\n",
    "    payload = json.dumps(\n",
    "        {\n",
    "            \"id\": model_id,\n",
    "            \"payload\": json.dumps(\n",
    "                {\n",
    "                    \"messages\": \n",
    "                    [\n",
    "                        {\n",
    "                            \"role\": \"system\",\n",
    "                            \"content\": prompt\n",
    "                        },\n",
    "                        {\n",
    "                            \"role\": \"user\",\n",
    "                            \"content\": message\n",
    "                        }\n",
    "                    ]\n",
    "                }\n",
    "            )\n",
    "        }\n",
    "    )\n",
    "    headers = {\n",
    "      'Content-Type': 'application/json',\n",
    "      'Authorization': f'Bearer {access_token}'\n",
    "    }\n",
    "    result = None\n",
    "    retry = 0\n",
    "    while True:\n",
    "        try:\n",
    "            response = requests.post(url, headers=headers, data=payload)\n",
    "            result = response.json()['completion']['completions'][0]\n",
    "            break\n",
    "        except Exception as e:\n",
    "            print(e)\n",
    "        retry += 1\n",
    "        time.sleep(10)\n",
    "        if retry >= 3:\n",
    "            break\n",
    "    return result\n",
    "\n",
    "def get_ia_analysis(\n",
    "    df=pd.DataFrame(),\n",
    "    prompt_data=\"\",\n",
    "    api_key=None\n",
    "):\n",
    "    # Init\n",
    "    result = \"\"\n",
    "    \n",
    "    # Check if dataframe empty\n",
    "    if len(df) == 0:\n",
    "        return result\n",
    "        \n",
    "    # Params\n",
    "    prompt = f\"\"\"\n",
    "    Tu es un analyste comptable et financier.\n",
    "    Tu dois réaliser une analyse en 3 phrases avec une limite de 350 caractères sur le jeu de donnée que tu vas recevoir.\n",
    "    Les chiffres doivent être écrit au format suivant: 26 052 €.\n",
    "    {prompt_data}\n",
    "    \"\"\"\n",
    "    \n",
    "    # Set api key\n",
    "    if api_key is None:\n",
    "        api_key = naas_python.utils.domains_base.authorization.NaasSpaceAuthenticatorAdapter().jwt_token()\n",
    "\n",
    "    # Create chat completion\n",
    "    result = create_naas_chat_completion(\n",
    "        access_token=api_key,\n",
    "        prompt=prompt,\n",
    "        message=df.to_string(),\n",
    "    )\n",
    "\n",
    "    print(\"🤖 IA:\", result)\n",
    "    return result"
   ]
  }
 ],
 "metadata": {
  "kernelspec": {
   "display_name": "Python 3",
   "language": "python",
   "name": "python3"
  },
  "language_info": {
   "codemirror_mode": {
    "name": "ipython",
    "version": 3
   },
   "file_extension": ".py",
   "mimetype": "text/x-python",
   "name": "python",
   "nbconvert_exporter": "python",
   "pygments_lexer": "ipython3",
   "version": "3.9.6"
  },
  "widgets": {
   "application/vnd.jupyter.widget-state+json": {
    "state": {},
    "version_major": 2,
    "version_minor": 0
   }
  }
 },
 "nbformat": 4,
 "nbformat_minor": 5
}
