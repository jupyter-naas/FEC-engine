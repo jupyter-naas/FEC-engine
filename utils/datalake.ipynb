{
 "cells": [
  {
   "cell_type": "markdown",
   "id": "0fe69480-22c1-4927-9217-6bdb459b5d56",
   "metadata": {},
   "source": [
    "<img width=\"10%\" alt=\"Naas\" src=\"https://landen.imgix.net/jtci2pxwjczr/assets/5ice39g4.png?w=160\"/>"
   ]
  },
  {
   "cell_type": "markdown",
   "id": "1da2bba4-1b4c-4daa-a7c8-487c3a740eba",
   "metadata": {},
   "source": [
    "# Datalake"
   ]
  },
  {
   "cell_type": "markdown",
   "id": "a03e20c0-49a0-4204-b5f9-c1f89850dd8b",
   "metadata": {},
   "source": [
    "## Input"
   ]
  },
  {
   "cell_type": "markdown",
   "id": "dbc31862-a80f-4f73-b41c-45c616c7991b",
   "metadata": {},
   "source": [
    "### Import libraries"
   ]
  },
  {
   "cell_type": "code",
   "execution_count": 8,
   "id": "ee961415-6782-4a06-96e8-f6ab708631a3",
   "metadata": {
    "execution": {
     "iopub.execute_input": "2023-05-24T14:28:30.036995Z",
     "iopub.status.busy": "2023-05-24T14:28:30.036765Z",
     "iopub.status.idle": "2023-05-24T14:28:30.040676Z",
     "shell.execute_reply": "2023-05-24T14:28:30.039819Z",
     "shell.execute_reply.started": "2023-05-24T14:28:30.036972Z"
    },
    "tags": []
   },
   "outputs": [],
   "source": [
    "import os\n",
    "import naas\n",
    "from datetime import datetime\n",
    "import glob\n",
    "import pandas as pd"
   ]
  },
  {
   "cell_type": "markdown",
   "id": "17772827-ea8b-4d47-be40-8be22d3a6568",
   "metadata": {},
   "source": [
    "## Model"
   ]
  },
  {
   "cell_type": "markdown",
   "id": "b10fdec7-0343-4534-bab4-7d083ac324a3",
   "metadata": {},
   "source": [
    "### Get dataframe"
   ]
  },
  {
   "cell_type": "code",
   "execution_count": null,
   "id": "c80d555b-6783-42a7-9f10-1932ef96322d",
   "metadata": {},
   "outputs": [],
   "source": [
    "def get_last_df(folder_path, file_type=\"csv\"):\n",
    "    # Init\n",
    "    df = pd.DataFrame()\n",
    "    \n",
    "    # List files in folder\n",
    "    if file_type == \"csv\":\n",
    "        files = sorted(glob.glob(f\"{folder_path}/*.csv\"))\n",
    "\n",
    "        # Read last csv files\n",
    "        if len(files) > 0:\n",
    "            last_file = files[-1]\n",
    "            print(\"📁 Last file:\", last_file)\n",
    "            df = pd.read_csv(last_file, sep=\";\", decimal=\",\", dtype={\"ENTITY\": str, \"SCENARIO\": str, \"PERIOD\": str})\n",
    "    return df"
   ]
  },
  {
   "cell_type": "markdown",
   "id": "7d004a5c-6ef5-4221-a487-bb095bb3d6dd",
   "metadata": {},
   "source": [
    "### Save dataframe"
   ]
  },
  {
   "cell_type": "code",
   "execution_count": null,
   "id": "bbae52dc-1f25-462b-b348-57ba1ad7a9f0",
   "metadata": {},
   "outputs": [],
   "source": [
    "def save_df(df, output_folder, file_type=\"csv\", asset=False):\n",
    "    # Create file path\n",
    "    if file_type == \"csv\":\n",
    "        # Create directory\n",
    "        if not os.path.exists(output_folder):\n",
    "            os.makedirs(output_folder)\n",
    "            \n",
    "        # Create file name\n",
    "        timestamp = datetime.now().strftime(\"%Y%m%d%H%M%S\")\n",
    "        file_name = f\"{timestamp}_\" + output_folder.split(\"/outputs/\")[-1].replace(\"/\", \"_\") + \".csv\"\n",
    "\n",
    "        # Sauvegarde en csv\n",
    "        file_path = os.path.join(output_folder, file_name)\n",
    "        df.to_csv(file_path, sep=\";\", decimal=\",\", index=False)\n",
    "        print(\"✅ DataFrame saved in:\", file_path)\n",
    "\n",
    "    # Création du lien url\n",
    "    if asset:\n",
    "        naas_link = naas.asset.add(file_path)\n",
    "        return naas_link"
   ]
  },
  {
   "cell_type": "markdown",
   "id": "c56e7467-89b1-4d83-9633-96453709a143",
   "metadata": {},
   "source": [
    "## Output"
   ]
  }
 ],
 "metadata": {
  "kernelspec": {
   "display_name": "Python 3",
   "language": "python",
   "name": "python3"
  },
  "language_info": {
   "codemirror_mode": {
    "name": "ipython",
    "version": 3
   },
   "file_extension": ".py",
   "mimetype": "text/x-python",
   "name": "python",
   "nbconvert_exporter": "python",
   "pygments_lexer": "ipython3",
   "version": "3.9.6"
  },
  "widgets": {
   "application/vnd.jupyter.widget-state+json": {
    "state": {},
    "version_major": 2,
    "version_minor": 0
   }
  }
 },
 "nbformat": 4,
 "nbformat_minor": 5
}
