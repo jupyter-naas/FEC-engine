{
 "cells": [
  {
   "cell_type": "markdown",
   "id": "a481eba6-3b09-4b9f-8df2-509c5c25530e",
   "metadata": {
    "execution": {
     "iopub.execute_input": "2021-02-23T14:22:16.610471Z",
     "iopub.status.busy": "2021-02-23T14:22:16.610129Z",
     "iopub.status.idle": "2021-02-23T14:22:16.627784Z",
     "shell.execute_reply": "2021-02-23T14:22:16.626866Z",
     "shell.execute_reply.started": "2021-02-23T14:22:16.610384Z"
    },
    "papermill": {},
    "tags": []
   },
   "source": [
    "<img width=\"10%\" alt=\"Naas\" src=\"https://landen.imgix.net/jtci2pxwjczr/assets/5ice39g4.png?w=160\"/>"
   ]
  },
  {
   "cell_type": "markdown",
   "id": "0a8ee32d-e46f-474d-b83a-a52196d00a59",
   "metadata": {
    "papermill": {},
    "tags": []
   },
   "source": [
    "# FEC Dashboard\n",
    "<a href=\"https://app.naas.ai/user-redirect/naas/downloader?url=https://raw.githubusercontent.com/jupyter-naas/awesome-notebooks/master/Naas%20Dashboard/Naas_Dashboard_Financial_Consolidation.ipynb\" target=\"_parent\"><img src=\"https://naasai-public.s3.eu-west-3.amazonaws.com/open_in_naas.svg\"/></a><br><br><a href=\"https://github.com/jupyter-naas/awesome-notebooks/issues/new?assignees=&labels=&template=template-request.md&title=Tool+-+Action+of+the+notebook+\">Template request</a> | <a href=\"https://github.com/jupyter-naas/awesome-notebooks/issues/new?assignees=&labels=bug&template=bug_report.md&title=Naas+Dashboard+-+Financial+Consolidation:+Error+short+description\">Bug report</a> | <a href=\"https://app.naas.ai/user-redirect/naas/downloader?url=https://raw.githubusercontent.com/jupyter-naas/awesome-notebooks/master/Naas/Naas_Start_data_product.ipynb\" target=\"_parent\">Generate Data Product</a>"
   ]
  },
  {
   "cell_type": "markdown",
   "id": "cf10c740-2a3d-453c-9d34-e704ceb61eeb",
   "metadata": {
    "papermill": {},
    "tags": []
   },
   "source": [
    "**Tags:** #naasdashboard #plotly #dash #naas #asset #automation #analytics #snippet #datavizualisation"
   ]
  },
  {
   "cell_type": "markdown",
   "id": "c41b7bf9-6a2d-4b14-947f-8cc81f7220a0",
   "metadata": {
    "papermill": {},
    "tags": []
   },
   "source": [
    "**Author:** [Meriem Si](https://www.linkedin.com/in/meriem-si-104236181/)"
   ]
  },
  {
   "cell_type": "markdown",
   "id": "naas-description",
   "metadata": {
    "papermill": {},
    "tags": [
     "description"
    ]
   },
   "source": [
    "**Description:** This notebook provides a comprehensive dashboard for financial consolidation and analysis."
   ]
  },
  {
   "cell_type": "markdown",
   "id": "69743f46-0dc5-45f3-bdc6-c570819d572a",
   "metadata": {
    "papermill": {},
    "tags": []
   },
   "source": [
    "## Input"
   ]
  },
  {
   "cell_type": "markdown",
   "id": "08af25b3-ac3c-49c9-ae37-2a72481d7acf",
   "metadata": {
    "papermill": {},
    "tags": []
   },
   "source": [
    "### Import libraries"
   ]
  },
  {
   "cell_type": "code",
   "execution_count": 1,
   "id": "3c02e335-eecb-476d-8df9-0c329f14c14a",
   "metadata": {
    "execution": {
     "iopub.execute_input": "2023-05-24T08:33:17.157071Z",
     "iopub.status.busy": "2023-05-24T08:33:17.156847Z",
     "iopub.status.idle": "2023-05-24T08:33:19.687764Z",
     "shell.execute_reply": "2023-05-24T08:33:19.687004Z",
     "shell.execute_reply.started": "2023-05-24T08:33:17.157009Z"
    },
    "papermill": {},
    "tags": []
   },
   "outputs": [],
   "source": [
    "try:\n",
    "    import dash\n",
    "except:\n",
    "    !pip install dash --user\n",
    "    import dash\n",
    "from dash import html, dcc, Input, Output, State\n",
    "try:\n",
    "    import dash_bootstrap_components as dbc\n",
    "except:\n",
    "    !pip install dash_bootstrap_components --user\n",
    "    import dash_bootstrap_components as dbc\n",
    "import plotly.graph_objects as go\n",
    "import plotly.express as px\n",
    "import os\n",
    "import pandas as pd\n",
    "from naas_drivers import gsheet\n",
    "from dash_bootstrap_components._components.Container import Container\n",
    "from plotly.subplots import make_subplots"
   ]
  },
  {
   "cell_type": "markdown",
   "id": "adc77f77-a2b0-46e1-80d4-75f06999848a",
   "metadata": {
    "papermill": {},
    "tags": []
   },
   "source": [
    "### Defining the port of the dashboard"
   ]
  },
  {
   "cell_type": "code",
   "execution_count": 2,
   "id": "39611a16-215c-4190-882e-cffec8bb47ce",
   "metadata": {
    "execution": {
     "iopub.execute_input": "2023-05-24T08:33:19.689440Z",
     "iopub.status.busy": "2023-05-24T08:33:19.689243Z",
     "iopub.status.idle": "2023-05-24T08:33:19.692695Z",
     "shell.execute_reply": "2023-05-24T08:33:19.691933Z",
     "shell.execute_reply.started": "2023-05-24T08:33:19.689417Z"
    },
    "papermill": {},
    "tags": []
   },
   "outputs": [],
   "source": [
    "DASH_PORT = 8050"
   ]
  },
  {
   "cell_type": "markdown",
   "id": "40a98d82-6f97-4b91-9914-21b49c5a5baf",
   "metadata": {
    "papermill": {},
    "tags": []
   },
   "source": [
    "### Setup Google Sheets"
   ]
  },
  {
   "cell_type": "code",
   "execution_count": 3,
   "id": "133e30cc-4f50-47a1-b35a-828c70ea3ac5",
   "metadata": {
    "execution": {
     "iopub.execute_input": "2023-05-24T08:33:19.694097Z",
     "iopub.status.busy": "2023-05-24T08:33:19.693905Z",
     "iopub.status.idle": "2023-05-24T08:33:19.794461Z",
     "shell.execute_reply": "2023-05-24T08:33:19.793775Z",
     "shell.execute_reply.started": "2023-05-24T08:33:19.694075Z"
    },
    "papermill": {},
    "tags": []
   },
   "outputs": [],
   "source": [
    "SPREADSHEET_URL = \"https://docs.google.com/spreadsheets/d/127PqDiuz5CXa8tTzhhgUl_ziMYThwZhfWOi86Bo-h-g/edit?usp=sharing\"\n",
    "SHEET_NAME = \"KPIS\"\n",
    "SHEET_NAME_2 = \"REVENUE\"\n",
    "SHEET_NAME_3 = \"OPERATIONAL_EXPENSES\"\n",
    "SHEET_NAME_4 = \"EARNING_BEFORE_INTREST_AND_TAXES\"\n",
    "SHEET_NAME_5 = \"INCOME_STATEMENT\""
   ]
  },
  {
   "cell_type": "markdown",
   "id": "72b56af7-367f-4ead-bf4d-913c7c1b9dd2",
   "metadata": {
    "papermill": {},
    "tags": []
   },
   "source": [
    "### Setup Dash App"
   ]
  },
  {
   "cell_type": "code",
   "execution_count": 4,
   "id": "2de3424a-71fe-4cdb-8d46-c5e7cc0ac2e5",
   "metadata": {
    "execution": {
     "iopub.execute_input": "2023-05-24T08:33:19.795832Z",
     "iopub.status.busy": "2023-05-24T08:33:19.795543Z",
     "iopub.status.idle": "2023-05-24T08:33:19.901860Z",
     "shell.execute_reply": "2023-05-24T08:33:19.900775Z",
     "shell.execute_reply.started": "2023-05-24T08:33:19.795798Z"
    },
    "papermill": {},
    "tags": []
   },
   "outputs": [],
   "source": [
    "APP_TITLE = \"FEC Dashboard\"\n",
    "APP_LOGO = \"https://encrypted-tbn0.gstatic.com/images?q=tbn:ANd9GcRszy3bMYjE7-_YpiDDqWrLEGR-wJKEbLyff-VQMJOZoA&s\""
   ]
  },
  {
   "cell_type": "code",
   "execution_count": 5,
   "id": "adabeba3-93fb-4c2f-bfa7-f05c2f9be1ed",
   "metadata": {
    "execution": {
     "iopub.execute_input": "2023-05-24T08:33:19.903033Z",
     "iopub.status.busy": "2023-05-24T08:33:19.902836Z",
     "iopub.status.idle": "2023-05-24T08:33:20.007749Z",
     "shell.execute_reply": "2023-05-24T08:33:20.006918Z",
     "shell.execute_reply.started": "2023-05-24T08:33:19.903010Z"
    },
    "papermill": {},
    "tags": []
   },
   "outputs": [],
   "source": [
    "# Style used for card\n",
    "CARD_COL_STYLE1 = {\"className\": \"g-2\", \"xs\": 12, \"sm\": 12, \"md\": 12, \"lg\": 2, \"xl\": 2}\n",
    "\n",
    "CARD_COL_STYLE2 = {\n",
    "    #     \"className\": \"gx-5\",\n",
    "    \"xs\": 12,\n",
    "    \"sm\": 12,\n",
    "    \"md\": 12,\n",
    "    \"lg\": 12,\n",
    "    \"xl\": 12,\n",
    "}\n",
    "\n",
    "CARD_COL_STYLE3 = {\n",
    "    #     \"className\": \"gx-5\",\n",
    "    \"xs\": 12,\n",
    "    \"sm\": 12,\n",
    "    \"md\": 12,\n",
    "    \"lg\": 6,\n",
    "    \"xl\": 6,\n",
    "}"
   ]
  },
  {
   "cell_type": "code",
   "execution_count": 6,
   "id": "9f4c8932-caa7-4451-a63a-3d976d40d8b1",
   "metadata": {
    "execution": {
     "iopub.execute_input": "2023-05-24T08:33:20.008875Z",
     "iopub.status.busy": "2023-05-24T08:33:20.008687Z",
     "iopub.status.idle": "2023-05-24T08:33:20.117745Z",
     "shell.execute_reply": "2023-05-24T08:33:20.117032Z",
     "shell.execute_reply.started": "2023-05-24T08:33:20.008853Z"
    },
    "papermill": {},
    "tags": []
   },
   "outputs": [],
   "source": [
    "# Color used for card\n",
    "CARD_COLOR = [\"#163b78\", \"#4c718f\", \"#62a0a6\", \"#64abbd\", \"#45a127\", \"success\"]\n",
    "BACKGROUND_COLOR = \"#f8f9fa\""
   ]
  },
  {
   "cell_type": "markdown",
   "id": "18d44eb6-6cac-40d1-a72f-021592546ec2",
   "metadata": {
    "papermill": {},
    "tags": []
   },
   "source": [
    "## Model"
   ]
  },
  {
   "cell_type": "markdown",
   "id": "6f0989ea-ffff-47dd-bcf0-660a082d5a22",
   "metadata": {
    "papermill": {},
    "tags": []
   },
   "source": [
    "### Data"
   ]
  },
  {
   "cell_type": "markdown",
   "id": "b413bea1-1bbe-4775-bef3-9db6e26ef9ed",
   "metadata": {
    "papermill": {},
    "tags": []
   },
   "source": [
    "#### Dropdown data: Ref Entities / Ref Scenarios"
   ]
  },
  {
   "cell_type": "code",
   "execution_count": 7,
   "id": "6cfe391c-fa23-4117-afd2-70bec74fdf27",
   "metadata": {
    "execution": {
     "iopub.execute_input": "2023-05-24T08:33:20.118804Z",
     "iopub.status.busy": "2023-05-24T08:33:20.118614Z",
     "iopub.status.idle": "2023-05-24T08:33:20.225402Z",
     "shell.execute_reply": "2023-05-24T08:33:20.224235Z",
     "shell.execute_reply.started": "2023-05-24T08:33:20.118781Z"
    },
    "papermill": {},
    "tags": []
   },
   "outputs": [],
   "source": [
    "# Lists used for dropdowns intractiveness\n",
    "entities = [\"Entity1\", \"Entity2\"]\n",
    "\n",
    "scenarios = [\"2022\", \"2021\", \"2020\"]"
   ]
  },
  {
   "cell_type": "markdown",
   "id": "947bec3f-73e3-41f3-a93f-fec282fafb46",
   "metadata": {
    "execution": {
     "iopub.execute_input": "2022-08-24T11:55:28.227266Z",
     "iopub.status.busy": "2022-08-24T11:55:28.227022Z",
     "iopub.status.idle": "2022-08-24T11:55:28.231038Z",
     "shell.execute_reply": "2022-08-24T11:55:28.230422Z",
     "shell.execute_reply.started": "2022-08-24T11:55:28.227230Z"
    },
    "papermill": {},
    "tags": []
   },
   "source": [
    "#### Get Kpis data"
   ]
  },
  {
   "cell_type": "code",
   "execution_count": null,
   "id": "afad79c9-caa1-473b-9446-ac46d50dbee7",
   "metadata": {
    "execution": {
     "iopub.execute_input": "2023-05-24T08:33:20.227971Z",
     "iopub.status.busy": "2023-05-24T08:33:20.227754Z"
    },
    "papermill": {},
    "tags": []
   },
   "outputs": [],
   "source": [
    "df_hkpis = gsheet.connect(SPREADSHEET_URL).get(SHEET_NAME)\n",
    "df_hkpis[\"VALUE_D\"] = (\n",
    "    df_hkpis[\"VALUE\"].astype(str) + \" \" + df_hkpis[\"UNITS\"].astype(str)\n",
    ")\n",
    "print(\"Nb row:\", len(df_hkpis))\n",
    "df_hkpis.head(6)"
   ]
  },
  {
   "cell_type": "markdown",
   "id": "c6211f99-a60d-4398-bdfb-bab4493414e9",
   "metadata": {
    "execution": {
     "iopub.execute_input": "2022-08-25T06:39:27.318583Z",
     "iopub.status.busy": "2022-08-25T06:39:27.318176Z",
     "iopub.status.idle": "2022-08-25T06:39:27.322004Z",
     "shell.execute_reply": "2022-08-25T06:39:27.321003Z",
     "shell.execute_reply.started": "2022-08-25T06:39:27.318550Z"
    },
    "papermill": {},
    "tags": []
   },
   "source": [
    "#### Get Revenue data"
   ]
  },
  {
   "cell_type": "code",
   "execution_count": null,
   "id": "8aecb3e8-eb9e-4de7-b77e-7a74c593f1b6",
   "metadata": {
    "papermill": {},
    "tags": []
   },
   "outputs": [],
   "source": [
    "df_revenue = gsheet.connect(SPREADSHEET_URL).get(SHEET_NAME_2)\n",
    "print(\"Nb row:\", len(df_revenue))\n",
    "df_revenue.head(6)"
   ]
  },
  {
   "cell_type": "markdown",
   "id": "156892bf-1f23-457d-b04f-c33014f6e0f0",
   "metadata": {
    "papermill": {},
    "tags": []
   },
   "source": [
    "#### Get Operational expenses data"
   ]
  },
  {
   "cell_type": "code",
   "execution_count": null,
   "id": "ae601a44-b024-4c4e-806a-381c5689954d",
   "metadata": {
    "papermill": {},
    "tags": []
   },
   "outputs": [],
   "source": [
    "df_operational_expenses = gsheet.connect(SPREADSHEET_URL).get(SHEET_NAME_3)\n",
    "print(\"Nb row:\", len(df_operational_expenses))\n",
    "df_operational_expenses.head(6)"
   ]
  },
  {
   "cell_type": "markdown",
   "id": "6db1cae6-8b6d-435f-b31f-c5c42e4fe0d6",
   "metadata": {
    "papermill": {},
    "tags": []
   },
   "source": [
    "#### Get Earning before intrest and taxes data"
   ]
  },
  {
   "cell_type": "code",
   "execution_count": null,
   "id": "62c993cb-ab07-482a-a1fe-cd0a9480156a",
   "metadata": {
    "papermill": {},
    "tags": []
   },
   "outputs": [],
   "source": [
    "df_earningBIT = gsheet.connect(SPREADSHEET_URL).get(SHEET_NAME_4)\n",
    "print(\"Nb row:\", len(df_earningBIT))\n",
    "df_earningBIT.head(6)"
   ]
  },
  {
   "cell_type": "markdown",
   "id": "3dba8666-266e-4790-afae-c491bddf2917",
   "metadata": {
    "papermill": {},
    "tags": []
   },
   "source": [
    "#### Get Income Statement data"
   ]
  },
  {
   "cell_type": "code",
   "execution_count": null,
   "id": "cd56d163-e99c-4cd0-b4e4-f13093792b6f",
   "metadata": {
    "papermill": {},
    "tags": []
   },
   "outputs": [],
   "source": [
    "df_income_statement = gsheet.connect(SPREADSHEET_URL).get(SHEET_NAME_5)\n",
    "df_income_statement[\"VALUE_D\"] = (\n",
    "    df_income_statement[\"VALUE\"].astype(str)\n",
    "    + \" \"\n",
    "    + df_income_statement[\"UNITS\"].astype(str)\n",
    ")\n",
    "print(\"Nb row:\", len(df_income_statement))\n",
    "df_income_statement.head(6)"
   ]
  },
  {
   "cell_type": "markdown",
   "id": "9f7fa199-1e60-451e-ab1e-b8739eeec981",
   "metadata": {
    "papermill": {},
    "tags": []
   },
   "source": [
    "### Charts"
   ]
  },
  {
   "cell_type": "markdown",
   "id": "885bca99-383c-43ee-ad55-1edef4f4f913",
   "metadata": {
    "papermill": {},
    "tags": []
   },
   "source": [
    "#### Chart 1 : Revenue"
   ]
  },
  {
   "cell_type": "code",
   "execution_count": null,
   "id": "f7565f6e-de55-457c-8315-95fae742afcc",
   "metadata": {
    "papermill": {},
    "tags": []
   },
   "outputs": [],
   "source": [
    "def create_barlinechart(\n",
    "    df,\n",
    "    label=\"DATE\",\n",
    "    value_bar=\"VALUE_BAR\",\n",
    "    value_scatter=\"VAlUE_LINE1\",\n",
    "    value_scatter_dot=\"VAlUE_LINE2\",\n",
    "    xaxis_title=None,\n",
    "    yaxis_title_r=None,\n",
    "    yaxis_title_l=None,\n",
    "):\n",
    "    fig = go.Figure()\n",
    "    # Create figure with secondary y-axis\n",
    "    fig = make_subplots(specs=[[{\"secondary_y\": True}]])\n",
    "\n",
    "    # Add traces\n",
    "    fig.add_trace(\n",
    "        go.Bar(\n",
    "            x=df[label],\n",
    "            y=df[value_bar],\n",
    "            name=\"Growth\",\n",
    "            marker=dict(color=\"#ADD8E6\"),\n",
    "        ),\n",
    "        secondary_y=False,\n",
    "    )\n",
    "    fig.add_trace(\n",
    "        go.Scatter(\n",
    "            x=df[label],\n",
    "            y=df[value_scatter],\n",
    "            mode=\"lines\",\n",
    "            name=\"Revenue\",\n",
    "            line=dict(color=\"royalblue\", width=2.5),\n",
    "        ),\n",
    "        secondary_y=False,\n",
    "    )\n",
    "    fig.add_trace(\n",
    "        go.Scatter(\n",
    "            x=df[label],\n",
    "            y=df[value_scatter_dot],\n",
    "            name=\"Target\",\n",
    "            line=dict(color=\"green\", width=4, dash=\"dot\"),\n",
    "        ),\n",
    "        secondary_y=True,\n",
    "    )\n",
    "\n",
    "    # Add figure title\n",
    "    fig.update_layout(\n",
    "        legend=dict(orientation=\"h\"),\n",
    "        plot_bgcolor=\"white\",\n",
    "        height=300,\n",
    "        paper_bgcolor=\"white\",\n",
    "        xaxis=dict(showgrid=False),\n",
    "        yaxis=dict(showgrid=False),\n",
    "        margin=dict(l=20, r=20, t=20, b=20),\n",
    "    )\n",
    "\n",
    "    fig.update_layout(\n",
    "        legend=dict(orientation=\"h\", yanchor=\"bottom\", y=1.02, xanchor=\"right\", x=1)\n",
    "    )\n",
    "\n",
    "    fig.show()\n",
    "    return fig\n",
    "\n",
    "\n",
    "# fig = create_barlinechart(df_revenue_test,\n",
    "#                           yaxis_title_r=None,\n",
    "#                           yaxis_title_l=None)"
   ]
  },
  {
   "cell_type": "markdown",
   "id": "80fe7916-09eb-4f97-a287-07a4ccf1124e",
   "metadata": {
    "papermill": {},
    "tags": []
   },
   "source": [
    "#### Chart 2 : Operational Expenses"
   ]
  },
  {
   "cell_type": "code",
   "execution_count": null,
   "id": "e84b09e3-12d0-4905-a7cf-f5f6c96617fe",
   "metadata": {
    "papermill": {},
    "tags": []
   },
   "outputs": [],
   "source": [
    "def stacked_bar(df, labels, values):\n",
    "    fig2 = px.bar(\n",
    "        df,\n",
    "        x=\"DATE\",\n",
    "        y=\"COUNT\",\n",
    "        color=\"VALUE\",\n",
    "        #                   width=520,\n",
    "        height=300,\n",
    "        color_discrete_map={\n",
    "            \"General\": \"#5ac73c\",\n",
    "            \"Marketing\": \"#6dabc7\",\n",
    "            \"Sales\": \"#307a37\",\n",
    "            \"IT\": \"#30337a\",\n",
    "        },\n",
    "    )\n",
    "\n",
    "    fig2.update_traces(width=0.5)\n",
    "\n",
    "    fig2.update_layout(\n",
    "        yaxis_tickformat=\",\",\n",
    "        legend_title=\"\",\n",
    "        legend=dict(orientation=\"h\"),\n",
    "        plot_bgcolor=\"white\",\n",
    "        paper_bgcolor=\"white\",\n",
    "        xaxis=dict(showgrid=False),\n",
    "        yaxis=dict(showgrid=False),\n",
    "        margin=dict(l=20, r=20, t=20, b=20),\n",
    "    )\n",
    "\n",
    "    fig2.update_layout(\n",
    "        legend=dict(orientation=\"h\", yanchor=\"bottom\", y=1.02, xanchor=\"right\", x=1)\n",
    "    )\n",
    "    # Set the visibility OFF\n",
    "    fig2.update_layout(\n",
    "        uniformtext_minsize=8,\n",
    "        uniformtext_mode=\"hide\",\n",
    "        xaxis_title=None,\n",
    "        yaxis_title=None,\n",
    "    )\n",
    "\n",
    "    return fig2\n",
    "\n",
    "\n",
    "# stacked_bar = stacked_bar(df2, None, None)"
   ]
  },
  {
   "cell_type": "markdown",
   "id": "1b275736-b32f-41de-8e2a-b04323600743",
   "metadata": {
    "papermill": {},
    "tags": []
   },
   "source": [
    "#### Chart 3 : Earnings before Intrest and Taxes"
   ]
  },
  {
   "cell_type": "code",
   "execution_count": null,
   "id": "a535feee-2ff3-4d0d-a169-6cf7a9c1ce73",
   "metadata": {
    "papermill": {},
    "tags": []
   },
   "outputs": [],
   "source": [
    "def create_doublelinechart(\n",
    "    df, label=\"DATE\", value1=\"VALUE1\", value2=\"VALUE2\", xaxis_title=\"Months\"\n",
    "):\n",
    "    fig3 = go.Figure()\n",
    "    # Add traces\n",
    "\n",
    "    fig3.add_trace(\n",
    "        go.Scatter(\n",
    "            x=df[label],\n",
    "            y=df[value1],\n",
    "            mode=\"lines\",\n",
    "            name=\"EBIT Actual\",\n",
    "            line=dict(color=\"#0A66C2\", width=2.5),\n",
    "        ),\n",
    "    )\n",
    "\n",
    "    fig3.add_trace(\n",
    "        go.Scatter(\n",
    "            x=df[label],\n",
    "            y=df[value2],\n",
    "            mode=\"lines\",\n",
    "            name=\"EBIT Target\",\n",
    "            line=dict(color=\"green\", width=4, dash=\"dot\"),\n",
    "        ),\n",
    "    )\n",
    "\n",
    "    # Add figure title\n",
    "    fig3.update_layout(\n",
    "        legend=dict(orientation=\"h\"),\n",
    "        plot_bgcolor=\"white\",\n",
    "        height=300,\n",
    "        #         width=520,\n",
    "        paper_bgcolor=\"white\",\n",
    "        xaxis_title=xaxis_title,\n",
    "        xaxis_title_font=dict(family=\"Arial\", size=10, color=\"black\"),\n",
    "        xaxis=dict(showgrid=False),\n",
    "        yaxis=dict(showgrid=False),\n",
    "        margin=dict(l=20, r=20, t=20, b=40),\n",
    "    )\n",
    "\n",
    "    # Set the visibility OFF\n",
    "    fig3.update_layout(\n",
    "        uniformtext_minsize=8,\n",
    "        uniformtext_mode=\"hide\",\n",
    "        xaxis_title=None,\n",
    "        yaxis_title=None,\n",
    "    )\n",
    "\n",
    "    fig3.update_layout(\n",
    "        legend=dict(orientation=\"h\", yanchor=\"bottom\", y=1.02, xanchor=\"right\", x=1)\n",
    "    )\n",
    "\n",
    "    fig3.show()\n",
    "    return fig3\n",
    "\n",
    "\n",
    "# doubleline = create_doublelinechart(df3)"
   ]
  },
  {
   "cell_type": "markdown",
   "id": "e88267e7-d9ea-406b-a90e-05fb19bace73",
   "metadata": {
    "execution": {
     "iopub.execute_input": "2022-08-07T12:36:43.651149Z",
     "iopub.status.busy": "2022-08-07T12:36:43.650909Z",
     "iopub.status.idle": "2022-08-07T12:36:43.655756Z",
     "shell.execute_reply": "2022-08-07T12:36:43.655122Z",
     "shell.execute_reply.started": "2022-08-07T12:36:43.651126Z"
    },
    "papermill": {},
    "tags": []
   },
   "source": [
    "### Design App"
   ]
  },
  {
   "cell_type": "markdown",
   "id": "b13b85a2-f1fb-40c7-a9ed-9e906573b27c",
   "metadata": {
    "papermill": {},
    "tags": []
   },
   "source": [
    "#### Create Dropdown"
   ]
  },
  {
   "cell_type": "code",
   "execution_count": null,
   "id": "afe16f46-9f4c-4cd5-9bf0-68fe1e01a4bf",
   "metadata": {
    "papermill": {},
    "tags": []
   },
   "outputs": [],
   "source": [
    "# Entity's dropdown list\n",
    "dropdown_entity = dcc.Dropdown(\n",
    "    id=\"entity\",\n",
    "    options=[{\"label\": i, \"value\": i} for i in entities],\n",
    "    placeholder=\"Entity\",\n",
    "    value=entities[0],\n",
    ")\n",
    "\n",
    "# Scenario's dropdown list\n",
    "dropdown_scenario = dcc.Dropdown(\n",
    "    id=\"scenario\",\n",
    "    options=[{\"label\": i, \"value\": i} for i in scenarios],\n",
    "    placeholder=\"Scenario\",\n",
    "    value=scenarios[0],\n",
    ")"
   ]
  },
  {
   "cell_type": "markdown",
   "id": "0ac59088-5b71-434f-8240-759c8eff7f11",
   "metadata": {
    "papermill": {},
    "tags": []
   },
   "source": [
    "#### Create Navbar"
   ]
  },
  {
   "cell_type": "code",
   "execution_count": null,
   "id": "acd3f11b-19b6-4bdd-84fa-39f406c7234b",
   "metadata": {
    "papermill": {},
    "tags": []
   },
   "outputs": [],
   "source": [
    "navbar = dbc.Navbar(\n",
    "    dbc.Container(\n",
    "        [\n",
    "            html.A(\n",
    "                # Use row and col to control vertical alignment of logo / brand\n",
    "                dbc.Row(\n",
    "                    [\n",
    "                        dbc.Col(html.Img(src=APP_LOGO, height=\"50\")),\n",
    "                        dbc.Col(dbc.NavbarBrand(APP_TITLE, className=\"ms-2\")),\n",
    "                    ],\n",
    "                    align=\"center\",\n",
    "                    className=\"g-0\",\n",
    "                ),\n",
    "            ),\n",
    "            dbc.NavbarToggler(id=\"navbar-toggler\", n_clicks=0),\n",
    "            dbc.Collapse(\n",
    "                dbc.Nav(\n",
    "                    [\n",
    "                        html.Div(\n",
    "                            [\n",
    "                                html.Div(className=\"w-100\"),\n",
    "                                html.Div(className=\"w-100\"),\n",
    "                                html.Div(dropdown_entity, className=\"w-100\"),\n",
    "                                html.Div(dropdown_scenario, className=\"w-100\"),\n",
    "                            ],\n",
    "                            className=\"pt-1 pb-1 d-grid gap-2 d-md-flex w-100\",\n",
    "                        )\n",
    "                    ],\n",
    "                    className=\"ms-auto w-100\",\n",
    "                    navbar=True,\n",
    "                ),\n",
    "                id=\"navbar-collapse\",\n",
    "                navbar=True,\n",
    "                is_open=False,\n",
    "            ),\n",
    "        ],\n",
    "    ),\n",
    "    color=\"#181A1C\",\n",
    "    dark=True,\n",
    ")"
   ]
  },
  {
   "cell_type": "markdown",
   "id": "bd0853cd-b861-4d5a-929b-73a90bf29393",
   "metadata": {
    "papermill": {},
    "tags": []
   },
   "source": [
    "#### Create Card"
   ]
  },
  {
   "cell_type": "code",
   "execution_count": null,
   "id": "35c581bd-041a-42c2-8296-a77db58f4063",
   "metadata": {
    "papermill": {},
    "tags": []
   },
   "outputs": [],
   "source": [
    "# Function to create card\n",
    "def create_card_col(uid, card_title, card_paragraph, card_color):\n",
    "    card = dbc.Col(\n",
    "        dbc.Card(\n",
    "            dbc.CardBody(\n",
    "                [\n",
    "                    html.P(\n",
    "                        card_title,\n",
    "                        className=\"card-title\",\n",
    "                        style={\n",
    "                            \"font-size\": \"15px\",\n",
    "                            \"padding-bottom\": \"5px\",\n",
    "                            \"text-align\": \"center\",\n",
    "                            \"font-weight\": \"bold\",\n",
    "                        },\n",
    "                    ),\n",
    "                    html.P(\n",
    "                        card_paragraph,\n",
    "                        className=\"card-text\",\n",
    "                        style={\"font-size\": \"16px\", \"text-align\": \"center\"},\n",
    "                        id=uid,\n",
    "                    ),\n",
    "                    \n",
    "                ]\n",
    "            ),\n",
    "            color=card_color,\n",
    "            inverse=True,\n",
    "        ),\n",
    "        **CARD_COL_STYLE1,\n",
    "    )\n",
    "    return card"
   ]
  },
  {
   "cell_type": "markdown",
   "id": "50020956-8049-4860-9c66-bea51c8e0b90",
   "metadata": {
    "papermill": {},
    "tags": []
   },
   "source": [
    "#### Create Chart Card"
   ]
  },
  {
   "cell_type": "code",
   "execution_count": null,
   "id": "eddcb0ff-1a5c-445c-86d6-0e0eb52ce7b0",
   "metadata": {
    "papermill": {},
    "tags": []
   },
   "outputs": [],
   "source": [
    "def create_chart(title, chart_id, CARD_COL_STYLE):\n",
    "    card = dbc.Col(\n",
    "        dbc.Card(\n",
    "            dbc.CardBody(\n",
    "                [\n",
    "                    html.H5(\n",
    "                        title,\n",
    "                        style={\n",
    "                            \"padding-top\": \"20px\",\n",
    "                            \"margin-left\": \"20px\",\n",
    "                            \"font-weight\": \"bold\",\n",
    "                            \"font-size\": \"17px\",\n",
    "                        },\n",
    "                    ),\n",
    "                    dcc.Graph(\n",
    "                        id=chart_id, config={\"displayModeBar\": True, \"staticPlot\": True}\n",
    "                    ),\n",
    "                ],\n",
    "            ),\n",
    "            color=CARD_COLOR,\n",
    "            inverse=False,\n",
    "        ),\n",
    "        style={\n",
    "            \"background-color\": BACKGROUND_COLOR,\n",
    "            \"display\": \"inline\",\n",
    "            \"padding\": \"0px\",\n",
    "        },\n",
    "        **CARD_COL_STYLE\n",
    "    )\n",
    "    return card"
   ]
  },
  {
   "cell_type": "markdown",
   "id": "8d251c71-45a9-434b-a6d5-df7a5775875e",
   "metadata": {
    "papermill": {},
    "tags": []
   },
   "source": [
    "#### Create Income Statment Card"
   ]
  },
  {
   "cell_type": "code",
   "execution_count": null,
   "id": "ed522233-ad83-46a9-b12c-73a04c21d45e",
   "metadata": {
    "papermill": {},
    "tags": []
   },
   "outputs": [],
   "source": [
    "income_statement_card = dbc.Col(\n",
    "    dbc.Card(\n",
    "        dbc.CardBody(\n",
    "            [\n",
    "                html.H5(\n",
    "                    \"INCOME STATEMENT\",\n",
    "                    className=\"card-title\",\n",
    "                    style={\n",
    "                        \"font-weight\": \"bold\",\n",
    "                        \"padding-top\": \"15px\",\n",
    "                        \"font-size\": \"18px\",\n",
    "                    },\n",
    "                ),\n",
    "                dbc.Row(\n",
    "                    [\n",
    "                        dbc.Col(\n",
    "                            html.P(\n",
    "                                \"Revenue\",\n",
    "                                className=\"card-text\",\n",
    "                                style={\n",
    "                                    \"font-weight\": \"bold\",\n",
    "                                    \"padding-top\": \"20px\",\n",
    "                                    \"font-size\": \"18px\",\n",
    "                                },\n",
    "                            )\n",
    "                        ),\n",
    "                        dbc.Col(\n",
    "                            html.P(\n",
    "                                \"1,305,507 €\",\n",
    "                                style={\n",
    "                                    \"text-align\": \"right\",\n",
    "                                    \"padding-top\": \"20px\",\n",
    "                                    \"font-size\": \"18px\",\n",
    "                                },\n",
    "                                id=\"nb1\",\n",
    "                            )\n",
    "                        ),\n",
    "                    ]\n",
    "                ),\n",
    "                dbc.Row(\n",
    "                    [\n",
    "                        dbc.Col(\n",
    "                            html.P(\n",
    "                                \"COGS\",\n",
    "                                className=\"card-text\",\n",
    "                                style={\n",
    "                                    \"font-weight\": \"bold\",\n",
    "                                    \"padding-top\": \"2px\",\n",
    "                                    \"font-size\": \"18px\",\n",
    "                                },\n",
    "                            )\n",
    "                        ),\n",
    "                        dbc.Col(\n",
    "                            html.P(\n",
    "                                \"208,453 €\",\n",
    "                                style={\n",
    "                                    \"text-align\": \"right\",\n",
    "                                    \"padding-top\": \"2px\",\n",
    "                                    \"font-size\": \"18px\",\n",
    "                                },\n",
    "                                id=\"nb2\",\n",
    "                            )\n",
    "                        ),\n",
    "                    ]\n",
    "                ),\n",
    "                html.Hr(\n",
    "                    style={\"borderWidth\": \"0.5vh\", \"width\": \"100%\", \"color\": \"black\"}\n",
    "                ),\n",
    "                dbc.Row(\n",
    "                    [\n",
    "                        dbc.Col(\n",
    "                            html.P(\n",
    "                                \"GROSS PROFIT\",\n",
    "                                className=\"card-text\",\n",
    "                                style={\n",
    "                                    \"font-weight\": \"bold\",\n",
    "                                    \"padding-top\": \"2px\",\n",
    "                                    \"font-size\": \"18px\",\n",
    "                                },\n",
    "                            )\n",
    "                        ),\n",
    "                        dbc.Col(\n",
    "                            html.P(\n",
    "                                \"1,097,054 €\",\n",
    "                                style={\n",
    "                                    \"text-align\": \"right\",\n",
    "                                    \"padding-top\": \"2px\",\n",
    "                                    \"font-size\": \"18px\",\n",
    "                                },\n",
    "                                id=\"nb3\",\n",
    "                            )\n",
    "                        ),\n",
    "                    ]\n",
    "                ),\n",
    "                dbc.Row(\n",
    "                    [\n",
    "                        dbc.Col(\n",
    "                            html.P(\n",
    "                                \"OPEX\",\n",
    "                                className=\"card-text\",\n",
    "                                style={\n",
    "                                    \"font-weight\": \"bold\",\n",
    "                                    \"padding-top\": \"2px\",\n",
    "                                    \"font-size\": \"18px\",\n",
    "                                },\n",
    "                            )\n",
    "                        ),\n",
    "                        dbc.Col(\n",
    "                            html.P(\n",
    "                                \"815,306 €\",\n",
    "                                style={\n",
    "                                    \"text-align\": \"right\",\n",
    "                                    \"padding-top\": \"2px\",\n",
    "                                    \"font-size\": \"18px\",\n",
    "                                },\n",
    "                                id=\"nb4\",\n",
    "                            )\n",
    "                        ),\n",
    "                    ]\n",
    "                ),\n",
    "                dbc.Row(\n",
    "                    [\n",
    "                        dbc.Col(\n",
    "                            html.P(\n",
    "                                \"Sales\",\n",
    "                                className=\"card-text\",\n",
    "                                style={\"margin-left\": 25, \"padding-top\": \"2px\"},\n",
    "                            )\n",
    "                        ),\n",
    "                        dbc.Col(\n",
    "                            html.P(\n",
    "                                \"279,886 €\",\n",
    "                                style={\"text-align\": \"right\", \"padding-top\": \"2px\"},\n",
    "                                id=\"nb5\",\n",
    "                            )\n",
    "                        ),\n",
    "                    ]\n",
    "                ),\n",
    "                dbc.Row(\n",
    "                    [\n",
    "                        dbc.Col(\n",
    "                            html.P(\n",
    "                                \"Marketing\",\n",
    "                                className=\"card-text\",\n",
    "                                style={\"margin-left\": 25, \"padding-top\": \"2px\"},\n",
    "                            )\n",
    "                        ),\n",
    "                        dbc.Col(\n",
    "                            html.P(\n",
    "                                \"192,710 €\",\n",
    "                                style={\"text-align\": \"right\", \"padding-top\": \"2px\"},\n",
    "                                id=\"nb6\",\n",
    "                            )\n",
    "                        ),\n",
    "                    ]\n",
    "                ),\n",
    "                dbc.Row(\n",
    "                    [\n",
    "                        dbc.Col(\n",
    "                            html.P(\n",
    "                                \"IT\",\n",
    "                                className=\"card-text\",\n",
    "                                style={\"margin-left\": 25, \"padding-top\": \"2px\"},\n",
    "                            )\n",
    "                        ),\n",
    "                        dbc.Col(\n",
    "                            html.P(\n",
    "                                \"192,656 €\",\n",
    "                                style={\"text-align\": \"right\", \"padding-top\": \"2px\"},\n",
    "                                id=\"nb7\",\n",
    "                            )\n",
    "                        ),\n",
    "                    ]\n",
    "                ),\n",
    "                dbc.Row(\n",
    "                    [\n",
    "                        dbc.Col(\n",
    "                            html.P(\n",
    "                                \"General & Admin \",\n",
    "                                className=\"card-text\",\n",
    "                                style={\"margin-left\": 25, \"padding-top\": \"2px\"},\n",
    "                            )\n",
    "                        ),\n",
    "                        dbc.Col(\n",
    "                            html.P(\n",
    "                                \"150,054 €\",\n",
    "                                style={\"text-align\": \"right\", \"padding-top\": \"2px\"},\n",
    "                                id=\"nb8\",\n",
    "                            )\n",
    "                        ),\n",
    "                    ]\n",
    "                ),\n",
    "                dbc.Row(\n",
    "                    [\n",
    "                        dbc.Col(\n",
    "                            html.P(\n",
    "                                \"OTHER INCOME\",\n",
    "                                className=\"card-text\",\n",
    "                                style={\n",
    "                                    \"font-weight\": \"bold\",\n",
    "                                    \"padding-top\": \"2px\",\n",
    "                                    \"font-size\": \"18px\",\n",
    "                                },\n",
    "                            )\n",
    "                        ),\n",
    "                        dbc.Col(\n",
    "                            html.P(\n",
    "                                \"2,130 €\",\n",
    "                                style={\n",
    "                                    \"text-align\": \"right\",\n",
    "                                    \"padding-top\": \"2px\",\n",
    "                                    \"font-size\": \"18px\",\n",
    "                                },\n",
    "                                id=\"nb9\",\n",
    "                            )\n",
    "                        ),\n",
    "                    ]\n",
    "                ),\n",
    "                dbc.Row(\n",
    "                    [\n",
    "                        dbc.Col(\n",
    "                            html.P(\n",
    "                                \"OTHER EXPENSES\",\n",
    "                                className=\"card-text\",\n",
    "                                style={\n",
    "                                    \"font-weight\": \"bold\",\n",
    "                                    \"padding-top\": \"2px\",\n",
    "                                    \"font-size\": \"18px\",\n",
    "                                },\n",
    "                            )\n",
    "                        ),\n",
    "                        dbc.Col(\n",
    "                            html.P(\n",
    "                                \"51,195 €\",\n",
    "                                style={\n",
    "                                    \"text-align\": \"right\",\n",
    "                                    \"padding-top\": \"2px\",\n",
    "                                    \"font-size\": \"18px\",\n",
    "                                },\n",
    "                                id=\"nb10\",\n",
    "                            )\n",
    "                        ),\n",
    "                    ]\n",
    "                ),\n",
    "                html.Hr(\n",
    "                    style={\"borderWidth\": \"0.5vh\", \"width\": \"100%\", \"color\": \"blak\"}\n",
    "                ),\n",
    "                dbc.Row(\n",
    "                    [\n",
    "                        dbc.Col(\n",
    "                            html.P(\n",
    "                                \"EBIT\",\n",
    "                                className=\"card-text\",\n",
    "                                style={\n",
    "                                    \"font-weight\": \"bold\",\n",
    "                                    \"padding-top\": \"2px\",\n",
    "                                    \"font-size\": \"18px\",\n",
    "                                },\n",
    "                            )\n",
    "                        ),\n",
    "                        dbc.Col(\n",
    "                            html.P(\n",
    "                                \"232,684 €\",\n",
    "                                style={\n",
    "                                    \"text-align\": \"right\",\n",
    "                                    \"padding-top\": \"2px\",\n",
    "                                    \"font-size\": \"18px\",\n",
    "                                },\n",
    "                                id=\"nb11\",\n",
    "                            )\n",
    "                        ),\n",
    "                    ]\n",
    "                ),\n",
    "                dbc.Row(\n",
    "                    [\n",
    "                        dbc.Col(\n",
    "                            html.P(\n",
    "                                \"Intrest and Tax\",\n",
    "                                className=\"card-text\",\n",
    "                                style={\n",
    "                                    \"margin-left\": 25,\n",
    "                                    \"padding-top\": \"2px\",\n",
    "                                    \"font-size\": \"18px\",\n",
    "                                },\n",
    "                            )\n",
    "                        ),\n",
    "                        dbc.Col(\n",
    "                            html.P(\n",
    "                                \"1,305,507 €\",\n",
    "                                style={\n",
    "                                    \"text-align\": \"right\",\n",
    "                                    \"padding-top\": \"2px\",\n",
    "                                    \"font-size\": \"18px\",\n",
    "                                },\n",
    "                                id=\"nb12\",\n",
    "                            )\n",
    "                        ),\n",
    "                    ]\n",
    "                ),\n",
    "                html.Hr(\n",
    "                    style={\"borderWidth\": \"0.5vh\", \"width\": \"100%\", \"color\": \"blak\"}\n",
    "                ),\n",
    "                dbc.Row(\n",
    "                    [\n",
    "                        dbc.Col(\n",
    "                            html.P(\n",
    "                                \"NET PROFIT\",\n",
    "                                className=\"card-text\",\n",
    "                                style={\n",
    "                                    \"font-weight\": \"bold\",\n",
    "                                    \"padding-top\": \"2px\",\n",
    "                                    \"font-size\": \"18px\",\n",
    "                                },\n",
    "                            )\n",
    "                        ),\n",
    "                        dbc.Col(\n",
    "                            html.P(\n",
    "                                \"194,440 €\",\n",
    "                                style={\n",
    "                                    \"text-align\": \"right\",\n",
    "                                    \"padding-top\": \"2px\",\n",
    "                                    \"font-size\": \"18px\",\n",
    "                                },\n",
    "                                id=\"nb13\",\n",
    "                            )\n",
    "                        ),\n",
    "                    ]\n",
    "                ),\n",
    "            ]\n",
    "        ),\n",
    "    ),\n",
    "    #     className=\"gx-5\",\n",
    "    xs=12,\n",
    "    sm=12,\n",
    "    md=12,\n",
    "    lg=4,\n",
    "    xl=4,\n",
    ")"
   ]
  },
  {
   "cell_type": "markdown",
   "id": "a3b9b54e-50d5-43b8-9335-ead33e62fc88",
   "metadata": {
    "papermill": {},
    "tags": []
   },
   "source": [
    "#### Create app layout"
   ]
  },
  {
   "cell_type": "code",
   "execution_count": null,
   "id": "187504dc-1f7f-4cf4-9242-37d199bf9de9",
   "metadata": {
    "papermill": {},
    "tags": []
   },
   "outputs": [],
   "source": [
    "app = dash.Dash(\n",
    "    requests_pathname_prefix=f'/user/{os.environ.get(\"JUPYTERHUB_USER\")}/proxy/{DASH_PORT}/',\n",
    "    external_stylesheets=[dbc.themes.BOOTSTRAP],\n",
    "    meta_tags=[\n",
    "        {\"name\": \"viewport\", \"content\": \"width=device-width, initial-scale=1.0\"}\n",
    "    ],\n",
    ")\n",
    "\n",
    "# app = dash.Dash() if you are not in Naas\n",
    "app.title = APP_TITLE\n",
    "app.layout = html.Div(\n",
    "    [\n",
    "        # Navbar\n",
    "        navbar,\n",
    "        # HKPIS\n",
    "        dbc.Row(\n",
    "            [\n",
    "                create_card_col(\"card1\", \"CHIFFRE D'AFFAIRES\", \"85%\", CARD_COLOR[0]),\n",
    "                create_card_col(\"card2\", \"MARGE BRUTE\", \"78%\", CARD_COLOR[1]),\n",
    "                create_card_col(\"card3\", \"EBE\", \"55%\", CARD_COLOR[2]),\n",
    "                create_card_col(\"card4\", \"BFR\", \"85%\", CARD_COLOR[3]),\n",
    "                create_card_col(\"card5\", \"CREANCES CLIENTS\", \"52%\", CARD_COLOR[4]),\n",
    "                create_card_col(\"card6\", \"DETTES FOURNISSEURS\", \"95%\", CARD_COLOR[5]),\n",
    "            ],\n",
    "            className=\"g-0 d-flex align-items-center\",\n",
    "        ),\n",
    "        # SPACE\n",
    "        html.Br(),\n",
    "        # CHARTS\n",
    "        dbc.Row(\n",
    "            [\n",
    "                # Column 1: Charts\n",
    "                dbc.Col(\n",
    "                    [\n",
    "                        # Row 1: 1 Charts\n",
    "                        dbc.Row(\n",
    "                            create_chart(\"REVENUE\", \"fig1\", CARD_COL_STYLE2),\n",
    "                        ),\n",
    "                        # Row 2: 2 Charts\n",
    "                        dbc.Row(\n",
    "                            [\n",
    "                                create_chart(\n",
    "                                    \"OPERATIONAL EXPENSES\", \"fig2\", CARD_COL_STYLE3\n",
    "                                ),\n",
    "                                create_chart(\n",
    "                                    \"EARNINGS BEFORE INTREST AND TAXES\",\n",
    "                                    \"fig3\",\n",
    "                                    CARD_COL_STYLE3,\n",
    "                                ),\n",
    "                            ]\n",
    "                        ),\n",
    "                    ],\n",
    "                    xs=12,\n",
    "                    sm=12,\n",
    "                    md=12,\n",
    "                    lg=8,\n",
    "                    xl=8,\n",
    "                ),\n",
    "                # Column 2: Income Statement Card\n",
    "                income_statement_card,\n",
    "            ]\n",
    "        ),\n",
    "    ]\n",
    ")\n",
    "\n",
    "# add callback for toggling the collapse on small screens\n",
    "@app.callback(\n",
    "    Output(\"navbar-collapse\", \"is_open\"),\n",
    "    [Input(\"navbar-toggler\", \"n_clicks\")],\n",
    "    [State(\"navbar-collapse\", \"is_open\")],\n",
    ")\n",
    "def toggle_navbar_collapse(n, is_open):\n",
    "    if n:\n",
    "        return not is_open\n",
    "    return is_open\n",
    "\n",
    "\n",
    "# add callback to filter data in cards and charts\n",
    "@app.callback(\n",
    "    [\n",
    "        Output(\"card1\", \"children\"),\n",
    "        Output(\"card2\", \"children\"),\n",
    "        Output(\"card3\", \"children\"),\n",
    "        Output(\"card4\", \"children\"),\n",
    "        Output(\"card5\", \"children\"),\n",
    "        Output(\"card6\", \"children\"),\n",
    "        Output(\"fig1\", \"figure\"),\n",
    "        Output(\"fig2\", \"figure\"),\n",
    "        Output(\"fig3\", \"figure\"),\n",
    "        Output(\"nb1\", \"children\"),\n",
    "        Output(\"nb2\", \"children\"),\n",
    "        Output(\"nb3\", \"children\"),\n",
    "        Output(\"nb4\", \"children\"),\n",
    "        Output(\"nb5\", \"children\"),\n",
    "        Output(\"nb6\", \"children\"),\n",
    "        Output(\"nb7\", \"children\"),\n",
    "        Output(\"nb8\", \"children\"),\n",
    "        Output(\"nb9\", \"children\"),\n",
    "        Output(\"nb10\", \"children\"),\n",
    "        Output(\"nb11\", \"children\"),\n",
    "        Output(\"nb12\", \"children\"),\n",
    "        Output(\"nb13\", \"children\"),\n",
    "    ],\n",
    "    [Input(\"entity\", \"value\"), Input(\"scenario\", \"value\")],\n",
    ")\n",
    "def multi_outputs(entity, scenario):\n",
    "    if entity is None and scenario is None:\n",
    "        raise PreventUpdate\n",
    "\n",
    "    # Get HKPIs dataframe\n",
    "    dfhkpis = df_hkpis.copy()\n",
    "    dfhkpis = dfhkpis[\n",
    "        (dfhkpis[\"ENTITY\"] == entity) & (dfhkpis[\"SCENARIO\"].astype(str) == scenario)\n",
    "    ].reset_index(drop=True)\n",
    "\n",
    "    # Return card data\n",
    "    card1 = dfhkpis.loc[dfhkpis[\"LABEL\"] == \"Revenue Target\", \"VALUE_D\"].values[0]\n",
    "    card2 = dfhkpis.loc[dfhkpis[\"LABEL\"] == \"COGS Ratio\", \"VALUE_D\"].values[0]\n",
    "    card3 = dfhkpis.loc[dfhkpis[\"LABEL\"] == \"Gross Profit Margin\", \"VALUE_D\"].values[0]\n",
    "    card4 = dfhkpis.loc[dfhkpis[\"LABEL\"] == \"Opex Ratio\", \"VALUE_D\"].values[0]\n",
    "    card5 = dfhkpis.loc[dfhkpis[\"LABEL\"] == \"Ebit Margin\", \"VALUE_D\"].values[0]\n",
    "    card6 = dfhkpis.loc[dfhkpis[\"LABEL\"] == \"Net Profit Margin\", \"VALUE_D\"].values[0]\n",
    "\n",
    "    # Get Revenue graph dataframe\n",
    "    dfrevenue = df_revenue.copy()\n",
    "    dfrevenue = dfrevenue[\n",
    "        (dfrevenue[\"ENTITY\"] == entity)\n",
    "        & (dfrevenue[\"SCENARIO\"].astype(str) == scenario)\n",
    "    ].reset_index(drop=True)\n",
    "\n",
    "    # Get Operational expenses graph dataframe\n",
    "    dfoperationalexpenses = df_operational_expenses.copy()\n",
    "    dfoperationalexpenses = dfoperationalexpenses[\n",
    "        (dfoperationalexpenses[\"ENTITY\"] == entity)\n",
    "        & (dfoperationalexpenses[\"SCENARIO\"].astype(str) == scenario)\n",
    "    ].reset_index(drop=True)\n",
    "\n",
    "    # Get Earning before intrest and taxes graph dataframe\n",
    "    dfearningBIT = df_earningBIT.copy()\n",
    "    dfearningBIT = dfearningBIT[\n",
    "        (dfearningBIT[\"ENTITY\"] == entity)\n",
    "        & (dfearningBIT[\"SCENARIO\"].astype(str) == scenario)\n",
    "    ].reset_index(drop=True)\n",
    "\n",
    "    # Create graphs\n",
    "    fig1 = create_barlinechart(dfrevenue, yaxis_title_r=None, yaxis_title_l=None)\n",
    "    fig2 = stacked_bar(dfoperationalexpenses, None, None)\n",
    "    fig3 = create_doublelinechart(dfearningBIT)\n",
    "\n",
    "    # Get Earning before intrest and taxes graph dataframe\n",
    "    dfincome_statement = df_income_statement.copy()\n",
    "    dfincome_statement = dfincome_statement[\n",
    "        (dfincome_statement[\"ENTITY\"] == entity)\n",
    "        & (dfincome_statement[\"SCENARIO\"].astype(str) == scenario)\n",
    "    ].reset_index(drop=True)\n",
    "\n",
    "    # Return values of income statement card data\n",
    "    nb1 = dfincome_statement.loc[\n",
    "        dfincome_statement[\"LABEL\"] == \"Revenue\", \"VALUE_D\"\n",
    "    ].values[0]\n",
    "    nb2 = dfincome_statement.loc[\n",
    "        dfincome_statement[\"LABEL\"] == \"COGS\", \"VALUE_D\"\n",
    "    ].values[0]\n",
    "    nb3 = dfincome_statement.loc[\n",
    "        dfincome_statement[\"LABEL\"] == \"Gross Profit\", \"VALUE_D\"\n",
    "    ].values[0]\n",
    "    nb4 = dfincome_statement.loc[\n",
    "        dfincome_statement[\"LABEL\"] == \"Opex\", \"VALUE_D\"\n",
    "    ].values[0]\n",
    "    nb5 = dfincome_statement.loc[\n",
    "        dfincome_statement[\"LABEL\"] == \"Sales\", \"VALUE_D\"\n",
    "    ].values[0]\n",
    "    nb6 = dfincome_statement.loc[\n",
    "        dfincome_statement[\"LABEL\"] == \"Marketing\", \"VALUE_D\"\n",
    "    ].values[0]\n",
    "    nb7 = dfincome_statement.loc[dfincome_statement[\"LABEL\"] == \"IT\", \"VALUE_D\"].values[\n",
    "        0\n",
    "    ]\n",
    "    nb8 = dfincome_statement.loc[\n",
    "        dfincome_statement[\"LABEL\"] == \"General & Admin\", \"VALUE_D\"\n",
    "    ].values[0]\n",
    "    nb9 = dfincome_statement.loc[\n",
    "        dfincome_statement[\"LABEL\"] == \"OTHER INCOME\", \"VALUE_D\"\n",
    "    ].values[0]\n",
    "    nb10 = dfincome_statement.loc[\n",
    "        dfincome_statement[\"LABEL\"] == \"OTHER EXPENSES\", \"VALUE_D\"\n",
    "    ].values[0]\n",
    "    nb11 = dfincome_statement.loc[\n",
    "        dfincome_statement[\"LABEL\"] == \"EBIT\", \"VALUE_D\"\n",
    "    ].values[0]\n",
    "    nb12 = dfincome_statement.loc[\n",
    "        dfincome_statement[\"LABEL\"] == \"Intrest and Tax\", \"VALUE_D\"\n",
    "    ].values[0]\n",
    "    nb13 = dfincome_statement.loc[\n",
    "        dfincome_statement[\"LABEL\"] == \"NET PROFIT\", \"VALUE_D\"\n",
    "    ].values[0]\n",
    "    return (\n",
    "        card1,\n",
    "        card2,\n",
    "        card3,\n",
    "        card4,\n",
    "        card5,\n",
    "        card6,\n",
    "        fig1,\n",
    "        fig2,\n",
    "        fig3,\n",
    "        nb1,\n",
    "        nb2,\n",
    "        nb3,\n",
    "        nb4,\n",
    "        nb5,\n",
    "        nb6,\n",
    "        nb7,\n",
    "        nb8,\n",
    "        nb9,\n",
    "        nb10,\n",
    "        nb11,\n",
    "        nb12,\n",
    "        nb13,\n",
    "    )"
   ]
  },
  {
   "cell_type": "markdown",
   "id": "59e4f1f8-38d1-4b3b-b93c-c010ef9011b0",
   "metadata": {
    "execution": {
     "iopub.execute_input": "2021-07-02T23:32:10.789097Z",
     "iopub.status.busy": "2021-07-02T23:32:10.788829Z",
     "iopub.status.idle": "2021-07-02T23:32:10.796900Z",
     "shell.execute_reply": "2021-07-02T23:32:10.796358Z",
     "shell.execute_reply.started": "2021-07-02T23:32:10.789033Z"
    },
    "papermill": {},
    "tags": []
   },
   "source": [
    "## Output"
   ]
  },
  {
   "cell_type": "markdown",
   "id": "a828ebca-0b33-4d16-829c-e45044f9659d",
   "metadata": {
    "papermill": {},
    "tags": []
   },
   "source": [
    "### Generate URL and show logs"
   ]
  },
  {
   "cell_type": "code",
   "execution_count": null,
   "id": "f054b1db-a3eb-4a2b-9ca2-881d7f1dc242",
   "metadata": {
    "papermill": {},
    "tags": []
   },
   "outputs": [],
   "source": [
    "if __name__ == \"__main__\":\n",
    "    app.run_server(proxy=f\"http://127.0.0.1:{DASH_PORT}::https://app.naas.ai\")"
   ]
  },
  {
   "cell_type": "code",
   "execution_count": null,
   "id": "f1f9fab3-9484-4f3d-b3fe-143840a4d5b3",
   "metadata": {
    "papermill": {},
    "tags": []
   },
   "outputs": [],
   "source": []
  }
 ],
 "metadata": {
  "kernelspec": {
   "display_name": "Python 3",
   "language": "python",
   "name": "python3"
  },
  "language_info": {
   "codemirror_mode": {
    "name": "ipython",
    "version": 3
   },
   "file_extension": ".py",
   "mimetype": "text/x-python",
   "name": "python",
   "nbconvert_exporter": "python",
   "pygments_lexer": "ipython3",
   "version": "3.9.6"
  },
  "papermill": {
   "default_parameters": {},
   "environment_variables": {},
   "parameters": {},
   "version": "2.4.0"
  }
 },
 "nbformat": 4,
 "nbformat_minor": 5
}
