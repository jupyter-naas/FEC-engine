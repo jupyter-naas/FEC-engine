{
 "cells": [
  {
   "cell_type": "markdown",
   "id": "a481eba6-3b09-4b9f-8df2-509c5c25530e",
   "metadata": {
    "execution": {
     "iopub.execute_input": "2021-02-23T14:22:16.610471Z",
     "iopub.status.busy": "2021-02-23T14:22:16.610129Z",
     "iopub.status.idle": "2021-02-23T14:22:16.627784Z",
     "shell.execute_reply": "2021-02-23T14:22:16.626866Z",
     "shell.execute_reply.started": "2021-02-23T14:22:16.610384Z"
    },
    "papermill": {},
    "tags": []
   },
   "source": [
    "<img width=\"10%\" alt=\"Naas\" src=\"https://landen.imgix.net/jtci2pxwjczr/assets/5ice39g4.png?w=160\"/>"
   ]
  },
  {
   "cell_type": "markdown",
   "id": "0a8ee32d-e46f-474d-b83a-a52196d00a59",
   "metadata": {
    "papermill": {},
    "tags": []
   },
   "source": [
    "# FEC Dashboard\n",
    "<a href=\"https://app.naas.ai/user-redirect/naas/downloader?url=https://raw.githubusercontent.com/jupyter-naas/awesome-notebooks/master/Naas%20Dashboard/Naas_Dashboard_Financial_Consolidation.ipynb\" target=\"_parent\"><img src=\"https://naasai-public.s3.eu-west-3.amazonaws.com/open_in_naas.svg\"/></a><br><br><a href=\"https://github.com/jupyter-naas/awesome-notebooks/issues/new?assignees=&labels=&template=template-request.md&title=Tool+-+Action+of+the+notebook+\">Template request</a> | <a href=\"https://github.com/jupyter-naas/awesome-notebooks/issues/new?assignees=&labels=bug&template=bug_report.md&title=Naas+Dashboard+-+Financial+Consolidation:+Error+short+description\">Bug report</a> | <a href=\"https://app.naas.ai/user-redirect/naas/downloader?url=https://raw.githubusercontent.com/jupyter-naas/awesome-notebooks/master/Naas/Naas_Start_data_product.ipynb\" target=\"_parent\">Generate Data Product</a>"
   ]
  },
  {
   "cell_type": "markdown",
   "id": "cf10c740-2a3d-453c-9d34-e704ceb61eeb",
   "metadata": {
    "papermill": {},
    "tags": []
   },
   "source": [
    "**Tags:** #naasdashboard #plotly #dash #naas #asset #automation #analytics #snippet #datavizualisation"
   ]
  },
  {
   "cell_type": "markdown",
   "id": "c41b7bf9-6a2d-4b14-947f-8cc81f7220a0",
   "metadata": {
    "papermill": {},
    "tags": []
   },
   "source": [
    "**Authors:** [Alexandre STEVENS](https://www.linkedin.com/in/alexandrestevenspbix/) | [Florent Ravenel](https://www.linkedin.com/in/florent-ravenel/) | [Jeremy Ravenel](https://www.linkedin.com/in/jeremyravenel/)"
   ]
  },
  {
   "cell_type": "markdown",
   "id": "naas-description",
   "metadata": {
    "papermill": {},
    "tags": [
     "description"
    ]
   },
   "source": [
    "**Description:** This notebook provides a comprehensive dashboard for financial consolidation and analysis."
   ]
  },
  {
   "cell_type": "markdown",
   "id": "69743f46-0dc5-45f3-bdc6-c570819d572a",
   "metadata": {
    "papermill": {},
    "tags": []
   },
   "source": [
    "## Input"
   ]
  },
  {
   "cell_type": "markdown",
   "id": "08af25b3-ac3c-49c9-ae37-2a72481d7acf",
   "metadata": {
    "papermill": {},
    "tags": []
   },
   "source": [
    "### Import libraries"
   ]
  },
  {
   "cell_type": "code",
   "execution_count": null,
   "id": "3c02e335-eecb-476d-8df9-0c329f14c14a",
   "metadata": {
    "papermill": {},
    "tags": []
   },
   "outputs": [],
   "source": [
    "try:\n",
    "    import dash\n",
    "except:\n",
    "    !pip install dash --user\n",
    "    import dash\n",
    "from dash import Dash, html, dcc, Input, Output, State, dash_table\n",
    "try:\n",
    "    import dash_bootstrap_components as dbc\n",
    "except:\n",
    "    !pip install dash_bootstrap_components --user\n",
    "    import dash_bootstrap_components as dbc\n",
    "import plotly.graph_objects as go\n",
    "import plotly.express as px\n",
    "import os\n",
    "import pandas as pd\n",
    "from naas_drivers import gsheet\n",
    "from dash_bootstrap_components._components.Container import Container\n",
    "from plotly.subplots import make_subplots\n",
    "import random\n",
    "import naas_data_product\n",
    "import base64\n",
    "import datetime\n",
    "import io\n",
    "import re\n",
    "import time"
   ]
  },
  {
   "cell_type": "markdown",
   "id": "adc77f77-a2b0-46e1-80d4-75f06999848a",
   "metadata": {
    "papermill": {},
    "tags": []
   },
   "source": [
    "### Setup Variables"
   ]
  },
  {
   "cell_type": "code",
   "execution_count": null,
   "id": "39611a16-215c-4190-882e-cffec8bb47ce",
   "metadata": {
    "papermill": {},
    "tags": []
   },
   "outputs": [],
   "source": [
    "# Inputs\n",
    "APP_TITLE = \"FEC Dashboard\"\n",
    "APP_LOGO = \"https://encrypted-tbn0.gstatic.com/images?q=tbn:ANd9GcRszy3bMYjE7-_YpiDDqWrLEGR-wJKEbLyff-VQMJOZoA&s\"\n",
    "output_dir = \"/home/ftp/FEC-engine/outputs\"\n",
    "path_ref_entite =  f\"{output_dir}/FEC/referentiel_entite\"\n",
    "path_ref_periode =  f\"{output_dir}/FEC/referentiel_periode\"\n",
    "path_kpis =  f\"{output_dir}/FEC/dataset_kpis\"\n",
    "path_evolution_ca =  f\"{output_dir}/FEC/dataset_evolution_ca\"\n",
    "path_tresorerie =  f\"{output_dir}/FEC/dataset_tresorerie\"\n",
    "path_charges =  f\"{output_dir}/FEC/dataset_charges\"\n",
    "path_bilan =  f\"{output_dir}/FEC/dataset_bilan\"\n",
    "\n",
    "# Outputs\n",
    "DASH_PORT = 8050 # Defining the port of the dashboard"
   ]
  },
  {
   "cell_type": "markdown",
   "id": "18d44eb6-6cac-40d1-a72f-021592546ec2",
   "metadata": {
    "papermill": {},
    "tags": []
   },
   "source": [
    "## Model"
   ]
  },
  {
   "cell_type": "markdown",
   "id": "158fde62-bdfa-4163-8aef-6f78b8c24adb",
   "metadata": {},
   "source": [
    "### Constants"
   ]
  },
  {
   "cell_type": "code",
   "execution_count": null,
   "id": "adabeba3-93fb-4c2f-bfa7-f05c2f9be1ed",
   "metadata": {
    "papermill": {},
    "tags": []
   },
   "outputs": [],
   "source": [
    "# Style used for card\n",
    "CARD_COL_STYLE1 = {\"className\": \"g-2\", \"xs\": 12, \"sm\": 12, \"md\": 12, \"lg\": 2, \"xl\": 2}\n",
    "\n",
    "CARD_COL_STYLE2 = {\n",
    "    #     \"className\": \"gx-5\",\n",
    "    \"xs\": 12,\n",
    "    \"sm\": 12,\n",
    "    \"md\": 12,\n",
    "    \"lg\": 12,\n",
    "    \"xl\": 12,\n",
    "}\n",
    "\n",
    "CARD_COL_STYLE3 = {\n",
    "    #     \"className\": \"gx-5\",\n",
    "    \"xs\": 12,\n",
    "    \"sm\": 12,\n",
    "    \"md\": 12,\n",
    "    \"lg\": 6,\n",
    "    \"xl\": 6,\n",
    "}\n",
    "\n",
    "# Color used for card\n",
    "CARD_COLOR = [\"#fbfbfb\", \"#fbfbfb\", \"#fbfbfb\", \"#fbfbfb\", \"#fbfbfb\", \"#fbfbfb\"]\n",
    "BACKGROUND_COLOR = \"#f8f9fa\""
   ]
  },
  {
   "cell_type": "markdown",
   "id": "6f0989ea-ffff-47dd-bcf0-660a082d5a22",
   "metadata": {
    "papermill": {},
    "tags": []
   },
   "source": [
    "### Data & Charts"
   ]
  },
  {
   "cell_type": "markdown",
   "id": "947bec3f-73e3-41f3-a93f-fec282fafb46",
   "metadata": {
    "execution": {
     "iopub.execute_input": "2022-08-24T11:55:28.227266Z",
     "iopub.status.busy": "2022-08-24T11:55:28.227022Z",
     "iopub.status.idle": "2022-08-24T11:55:28.231038Z",
     "shell.execute_reply": "2022-08-24T11:55:28.230422Z",
     "shell.execute_reply.started": "2022-08-24T11:55:28.227230Z"
    },
    "papermill": {},
    "tags": []
   },
   "source": [
    "#### KPIS"
   ]
  },
  {
   "cell_type": "code",
   "execution_count": null,
   "id": "afad79c9-caa1-473b-9446-ac46d50dbee7",
   "metadata": {
    "papermill": {},
    "tags": []
   },
   "outputs": [],
   "source": [
    "df_kpis = get_last_df(path_kpis)\n",
    "print(\"Nb row:\", len(df_kpis))\n",
    "df_kpis.head(12)"
   ]
  },
  {
   "cell_type": "markdown",
   "id": "005941d1-0728-4482-8434-8fe6f0acb590",
   "metadata": {
    "execution": {
     "iopub.execute_input": "2023-05-25T12:05:31.235595Z",
     "iopub.status.busy": "2023-05-25T12:05:31.235361Z",
     "iopub.status.idle": "2023-05-25T12:05:31.238606Z",
     "shell.execute_reply": "2023-05-25T12:05:31.237908Z",
     "shell.execute_reply.started": "2023-05-25T12:05:31.235572Z"
    }
   },
   "source": [
    "#### Data: Evolution CA"
   ]
  },
  {
   "cell_type": "code",
   "execution_count": null,
   "id": "3866bfed-001a-47ea-b3f6-674cb50a4a3e",
   "metadata": {
    "papermill": {},
    "tags": []
   },
   "outputs": [],
   "source": [
    "df_evolution_ca = get_last_df(path_evolution_ca)\n",
    "print(\"Nb row:\", len(df_evolution_ca))\n",
    "df_evolution_ca.head(1)"
   ]
  },
  {
   "cell_type": "markdown",
   "id": "885bca99-383c-43ee-ad55-1edef4f4f913",
   "metadata": {
    "papermill": {},
    "tags": []
   },
   "source": [
    "#### Chart 1 : Evolution CA"
   ]
  },
  {
   "cell_type": "code",
   "execution_count": null,
   "id": "b69609db-3549-4e98-a51c-ef916a59692b",
   "metadata": {
    "tags": []
   },
   "outputs": [],
   "source": [
    "def create_linechart(\n",
    "    df_init,\n",
    "    label_col=\"LABEL\",\n",
    "    value_col=\"VALUE\",\n",
    "    value_col_d=\"VALUE_D\",\n",
    "    xaxis_title=None,\n",
    "    yaxis_title=None,\n",
    "):\n",
    "    # Init\n",
    "    fig = go.Figure()\n",
    "    df = df_init.copy()\n",
    "    max_period = df[\"PERIOD\"].max()\n",
    "    min_period = df[\"PERIOD\"].min()\n",
    "    df[value_col] = df[value_col] / 1000 #K€\n",
    "    \n",
    "    # Data\n",
    "    df_n = df[df[\"PERIOD\"] == max_period].reset_index(drop=True)\n",
    "    df_n_1 = df[df[\"PERIOD\"] == min_period].reset_index(drop=True)\n",
    "\n",
    "    # Add traces\n",
    "    fig.add_trace(\n",
    "        go.Scatter(\n",
    "            name=\"N\",\n",
    "            x=df_n[label_col],\n",
    "            y=df_n[value_col],\n",
    "            marker=dict(size=8, symbol='circle', color=\"blue\"),\n",
    "            hoverinfo=\"text\",\n",
    "            text=df_n[value_col_d],\n",
    "            line=dict(width=2.5),\n",
    "        )\n",
    "    )\n",
    "    fig.add_trace(\n",
    "        go.Scatter(\n",
    "            name=\"N-1\",\n",
    "            x=df_n_1[label_col],\n",
    "            y=df_n_1[value_col],\n",
    "            marker=dict(size=8, symbol='circle', color=\"orange\"),\n",
    "            hoverinfo=\"text\",\n",
    "            text=df_n_1[value_col_d],\n",
    "            line=dict(width=2.5),\n",
    "        )\n",
    "    )\n",
    "#     # Calc var\n",
    "#     last_n = df_n.loc[df_n.index[-1], value_col]\n",
    "#     last_n_1 = df_n_1.loc[df_n_1.index[-1], value_col]\n",
    "#     var = last_n - last_n_1\n",
    "#     if var > 0:\n",
    "#         var = f\"+{var}\"\n",
    "\n",
    "    # Add figure title\n",
    "    fig.update_layout(\n",
    "#         title=f\"Ventes : {last_n} € ({var} € vs N-1)\",\n",
    "        title_font=dict(family=\"Arial\", size=18, color=\"black\"),\n",
    "        legend=\n",
    "        dict(\n",
    "            x=0.5, #Modifier la valeur x pour ajuster l'alignement horizontal de la légende (0.0 à gauche, 1.0 à droite)\n",
    "            y=1, ## Modifier la valeur y pour ajuster l'alignement vertical de la légende (0.0 en bas, 1.0 en haut)\n",
    "            orientation=\"h\",\n",
    "            xanchor='center',  # Alignement horizontal de la légende ('left', 'center', 'right')\n",
    "            yanchor='bottom'  # Alignement vertical de la légende ('top', 'middle', 'bottom')\n",
    "        ),\n",
    "        plot_bgcolor=\"#ffffff\",\n",
    "        paper_bgcolor=\"white\",\n",
    "        xaxis_title=xaxis_title,\n",
    "        xaxis_title_font=dict(family=\"Arial\", size=12, color=\"black\"),\n",
    "        xaxis={\"type\": \"category\"},\n",
    "        margin=dict(\n",
    "            l=50,  # Marge gauche\n",
    "            r=50,  # Marge droite\n",
    "            t=50,  # Marge supérieure\n",
    "            b=50,  # Marge inférieure\n",
    "        ),\n",
    "    )\n",
    "\n",
    "    # Set y-axes titles\n",
    "    fig.update_yaxes(\n",
    "        title_text=yaxis_title,\n",
    "        title_font=dict(family=\"Arial\", size=12, color=\"black\"),\n",
    "    )\n",
    "    return fig\n",
    "\n",
    "\n",
    "fig_linechart = create_linechart(\n",
    "    df_evolution_ca,\n",
    "    label_col=\"MONTH_INDEX\",\n",
    "    value_col=\"VALUE_CUM\",\n",
    "    value_col_d=\"VALUE_CUM_D\"\n",
    ")\n",
    "fig_linechart"
   ]
  },
  {
   "cell_type": "markdown",
   "id": "32a2abc7-7642-4daa-bf67-7c762c56c5cc",
   "metadata": {
    "execution": {
     "iopub.execute_input": "2023-05-25T12:05:31.235595Z",
     "iopub.status.busy": "2023-05-25T12:05:31.235361Z",
     "iopub.status.idle": "2023-05-25T12:05:31.238606Z",
     "shell.execute_reply": "2023-05-25T12:05:31.237908Z",
     "shell.execute_reply.started": "2023-05-25T12:05:31.235572Z"
    }
   },
   "source": [
    "#### Data: Trésorerie"
   ]
  },
  {
   "cell_type": "code",
   "execution_count": null,
   "id": "bf44cd46-fa9f-41a3-98b1-06cba2b628af",
   "metadata": {
    "papermill": {},
    "tags": []
   },
   "outputs": [],
   "source": [
    "df_tresorerie = get_last_df(path_tresorerie)\n",
    "print(\"Nb row:\", len(df_tresorerie))\n",
    "df_tresorerie.head(1)"
   ]
  },
  {
   "cell_type": "markdown",
   "id": "cc2e71c7-5c40-4896-8408-548a7750a253",
   "metadata": {
    "papermill": {},
    "tags": []
   },
   "source": [
    "#### Chart 2 : Position de trésorerie"
   ]
  },
  {
   "cell_type": "code",
   "execution_count": null,
   "id": "68b70e3e-9430-44ca-8a92-38cfb2f062e1",
   "metadata": {
    "papermill": {},
    "tags": []
   },
   "outputs": [],
   "source": [
    "def create_barlinechart(\n",
    "    df,\n",
    "    label='LABEL',\n",
    "    value_line=\"VALUE_LINE\",\n",
    "    value_line_d=\"VALUE_LINE_D\",\n",
    "    value_cash_in=\"CASH_IN\",\n",
    "    value_cash_in_d=\"CASH_IN_D\",\n",
    "    value_cash_out=\"CASH_OUT\",\n",
    "    value_cash_out_d=\"CASH_OUT_D\",\n",
    "    xaxis_title=None,\n",
    "    yaxis_title_r=None,\n",
    "    yaxis_title_l=None,\n",
    "):\n",
    "    # Create figure with secondary y-axis\n",
    "#     fig = make_subplots(specs=[[{\"secondary_y\": True}]])\n",
    "    fig = go.Figure()\n",
    "\n",
    "    # Add traces\n",
    "    fig.add_trace(\n",
    "        go.Bar(\n",
    "            name=\"Encaissement\",\n",
    "            x=df[label],\n",
    "            y=df[value_cash_in],\n",
    "            hovertext=df[value_cash_in_d],\n",
    "            hoverinfo=\"text\",\n",
    "            marker=dict(color=\"#1b7656\"),\n",
    "        ),\n",
    "#         secondary_y=False,\n",
    "    )\n",
    "    fig.add_trace(\n",
    "        go.Bar(\n",
    "            name=\"Décaissement\",\n",
    "            x=df[label],\n",
    "            y=df[value_cash_out] * -1,\n",
    "            hovertext=df[value_cash_out_d],\n",
    "            hoverinfo=\"text\",\n",
    "            marker=dict(color=\"#cd3244\"),\n",
    "        ),\n",
    "#         secondary_y=False,\n",
    "    )\n",
    "    fig.add_trace(\n",
    "        go.Scatter(\n",
    "            name=\"Position\",\n",
    "            x=df[label],\n",
    "            y=df[value_line],\n",
    "            hovertext=df[value_line_d],\n",
    "            hoverinfo=\"text\",\n",
    "            mode=\"lines+markers\",\n",
    "            marker=dict(size=8, symbol='circle', color=\"#46a7f5\"),\n",
    "            line=dict(width=2.5),\n",
    "        ),\n",
    "#         secondary_y=True,\n",
    "    )\n",
    "\n",
    "    # Add figure title\n",
    "    fig.update_layout(\n",
    "#         title=f\"Trésorerie Disponible : {df_position.loc[df_position.index[-1], 'VALUE']} €\",\n",
    "        title_font=dict(family=\"Arial\", size=18, color=\"black\"),\n",
    "        legend=\n",
    "        dict(\n",
    "            x=0.5, #Modifier la valeur x pour ajuster l'alignement horizontal de la légende (0.0 à gauche, 1.0 à droite)\n",
    "            y=1, ## Modifier la valeur y pour ajuster l'alignement vertical de la légende (0.0 en bas, 1.0 en haut)\n",
    "            orientation=\"h\",\n",
    "            xanchor='center',  # Alignement horizontal de la légende ('left', 'center', 'right')\n",
    "            yanchor='bottom'  # Alignement vertical de la légende ('top', 'middle', 'bottom')\n",
    "        ),\n",
    "        plot_bgcolor=\"#ffffff\",\n",
    "#         width=1200,\n",
    "#         height=800,\n",
    "        paper_bgcolor=\"white\",\n",
    "        xaxis_title=xaxis_title,\n",
    "        xaxis_title_font=dict(family=\"Arial\", size=12, color=\"black\"),\n",
    "        xaxis={\"type\": \"category\"},\n",
    "        margin=dict(\n",
    "            l=50,  # Marge gauche\n",
    "            r=50,  # Marge droite\n",
    "            t=50,  # Marge supérieure\n",
    "            b=50,  # Marge inférieure\n",
    "    ),\n",
    "    )\n",
    "\n",
    "    # Set y-axes titles\n",
    "    fig.update_yaxes(\n",
    "        title_text=yaxis_title_r,\n",
    "        title_font=dict(family=\"Arial\", size=12, color=\"black\"),\n",
    "#         secondary_y=False,\n",
    "    )\n",
    "#     fig.update_yaxes(\n",
    "#         title_text=yaxis_title_l,\n",
    "#         title_font=dict(family=\"Arial\", size=12, color=\"black\"),\n",
    "#         secondary_y=True,\n",
    "#     )\n",
    "#     fig.update_traces(showlegend=True)\n",
    "    return fig\n",
    "\n",
    "\n",
    "fig_barline_chart = create_barlinechart(\n",
    "    df_tresorerie[df_tresorerie[\"PERIOD\"] == \"201812\"],\n",
    "    label=\"MONTH_INDEX\"\n",
    ")\n",
    "fig_barline_chart"
   ]
  },
  {
   "cell_type": "markdown",
   "id": "d639734f-8169-48ba-95c7-9d8b5e999deb",
   "metadata": {
    "execution": {
     "iopub.execute_input": "2023-05-25T12:05:31.235595Z",
     "iopub.status.busy": "2023-05-25T12:05:31.235361Z",
     "iopub.status.idle": "2023-05-25T12:05:31.238606Z",
     "shell.execute_reply": "2023-05-25T12:05:31.237908Z",
     "shell.execute_reply.started": "2023-05-25T12:05:31.235572Z"
    }
   },
   "source": [
    "#### Data: Charges"
   ]
  },
  {
   "cell_type": "code",
   "execution_count": null,
   "id": "fc091522-86d5-4e99-89be-dda8f730a7d4",
   "metadata": {
    "papermill": {},
    "tags": []
   },
   "outputs": [],
   "source": [
    "df_charges = get_last_df(path_charges)\n",
    "print(\"Nb row:\", len(df_charges))\n",
    "df_charges.head(1)"
   ]
  },
  {
   "cell_type": "markdown",
   "id": "7878a45b-e84c-4bf4-8265-2e7d3e3791f9",
   "metadata": {
    "papermill": {},
    "tags": []
   },
   "source": [
    "#### Chart 3 : Répartition des charges"
   ]
  },
  {
   "cell_type": "code",
   "execution_count": null,
   "id": "f38fe187-023f-4e76-ad17-34a2fa370436",
   "metadata": {
    "papermill": {},
    "tags": []
   },
   "outputs": [],
   "source": [
    "def create_hbarhcart(\n",
    "    df_init,\n",
    "    label=\"LABEL\",\n",
    "    value=\"VALUE\",\n",
    "    value_d=\"VALUE_D\",\n",
    "    value_comp=\"VALUE_N-1\",\n",
    "    value_comp_d=\"VALUE_N-1_D\",\n",
    "    xaxis_title=None,\n",
    "    yaxis_title_r=None,\n",
    "    yaxis_title_l=None,\n",
    "):\n",
    "    # Data\n",
    "    df = df_init.copy()\n",
    "    to_group = [\"ENTITY\", \"PERIOD\", label]\n",
    "    to_agg = {value: \"sum\", value_comp: \"sum\"}\n",
    "    df = df.groupby(to_group, as_index=False).agg(to_agg)\n",
    "    df[value] = round(df[value], 0)\n",
    "    df = df.sort_values(by=value, ascending=True)\n",
    "    df[label] = df[label].str.replace(\"_\", \" \").str.lower().str.capitalize()\n",
    "    df[value_d] = (df[value] / 1000).map(\"{:,.1f} k€\".format).str.replace(\",\", \" \")\n",
    "    df[value_comp_d] = (df[value_comp] / 1000).map(\"{:,.1f} k€\".format).str.replace(\",\", \" \")\n",
    "    \n",
    "    # Fig\n",
    "    fig = go.Figure()\n",
    "    fig.add_trace(\n",
    "        go.Bar(\n",
    "            name=\"N-1\",\n",
    "            x=df[value_comp],\n",
    "            y=df[label],\n",
    "            orientation=\"h\",\n",
    "            text=df[value_comp_d],\n",
    "            textposition=\"inside\",\n",
    "            marker=dict(color=\"orange\")\n",
    "        )\n",
    "    )\n",
    "    fig.add_trace(\n",
    "        go.Bar(\n",
    "            name=\"N\",\n",
    "            x=df[value],\n",
    "            y=df[label],\n",
    "            orientation=\"h\",\n",
    "            text=df[value_d],\n",
    "            textposition=\"inside\",\n",
    "            marker=dict(color=\"blue\")\n",
    "        )\n",
    "    )\n",
    "    \n",
    "    total = \"{:,.0f} €\".format(df[value].sum()).replace(\",\", \" \")\n",
    "    \n",
    "    fig.update_layout(\n",
    "#     title=f\"Total Charges : {total}\",\n",
    "    title_font=dict(family=\"Arial\", size=18, color=\"black\"),\n",
    "    plot_bgcolor=\"#ffffff\",\n",
    "    xaxis_title=None,\n",
    "    xaxis_showticklabels=False,\n",
    "    yaxis_title=None,\n",
    "    margin_pad=10,\n",
    "    bargap=0.1,  # gap between bars of adjacent location coordinates.\n",
    "    bargroupgap=0.2,# gap between bars of the same location coordinate.\n",
    "    margin=dict(\n",
    "        l=50,  # Marge gauche\n",
    "        r=50,  # Marge droite\n",
    "        t=50,  # Marge supérieure\n",
    "        b=50,  # Marge inférieure\n",
    "    ),\n",
    "    legend=\n",
    "        dict(\n",
    "            x=0.5, #Modifier la valeur x pour ajuster l'alignement horizontal de la légende (0.0 à gauche, 1.0 à droite)\n",
    "            y=1, ## Modifier la valeur y pour ajuster l'alignement vertical de la légende (0.0 en bas, 1.0 en haut)\n",
    "            orientation=\"h\",\n",
    "            xanchor='center',  # Alignement horizontal de la légende ('left', 'center', 'right')\n",
    "            yanchor='bottom'  # Alignement vertical de la légende ('top', 'middle', 'bottom')\n",
    "        ),\n",
    "    \n",
    "    )\n",
    "    return fig\n",
    "\n",
    "fig_hbarhcart_chart = create_hbarhcart(\n",
    "    df_charges[df_charges[\"PERIOD\"] == \"201812\"],\n",
    "    label=\"RUBRIQUE_N1\"\n",
    ")\n",
    "fig_hbarhcart_chart"
   ]
  },
  {
   "cell_type": "markdown",
   "id": "3dba8666-266e-4790-afae-c491bddf2917",
   "metadata": {
    "papermill": {},
    "tags": []
   },
   "source": [
    "#### Data: Bilan"
   ]
  },
  {
   "cell_type": "code",
   "execution_count": null,
   "id": "ecab60a3-ea73-45ec-8d9b-7eca7567bfec",
   "metadata": {
    "tags": []
   },
   "outputs": [],
   "source": [
    "df_bilan = get_last_df(path_bilan)\n",
    "print(\"Nb row:\", len(df_bilan))\n",
    "df_bilan.head(1)"
   ]
  },
  {
   "cell_type": "markdown",
   "id": "22e25fab-b9cf-48dd-866f-511209d577ba",
   "metadata": {},
   "source": [
    "#### Chart 4 : Répartition Bilan"
   ]
  },
  {
   "cell_type": "code",
   "execution_count": null,
   "id": "c747d8ad-80e7-496f-8dd1-1ad77ccb4ed6",
   "metadata": {
    "tags": []
   },
   "outputs": [],
   "source": [
    "def create_treemapchart(\n",
    "    df,\n",
    "    entity=\"ENTITY\",\n",
    "    scenario=\"PERIOD\",\n",
    "    value=\"VALUE\",\n",
    "    xaxis_title=None,\n",
    "    yaxis_title_r=None,\n",
    "    yaxis_title_l=None,\n",
    "):\n",
    "    # Data\n",
    "    def prep_data(df_init):\n",
    "        # Init\n",
    "        df = df_init.copy()\n",
    "        df_output = pd.DataFrame()\n",
    "        levels = [\"RUBRIQUE_N0\", \"RUBRIQUE_N1\", \"RUBRIQUE_N2\"]\n",
    "        to_group = [entity, scenario]\n",
    "        to_agg = {value: \"sum\"}\n",
    "        parents = []\n",
    "        \n",
    "        # Loop\n",
    "        for index, level in enumerate(levels):\n",
    "            # Create map dict\n",
    "            map_parent = {}\n",
    "            for i, row in df.iterrows():\n",
    "                if index == 0:\n",
    "                    row_parent = \"\"\n",
    "                else:\n",
    "                    row_parent = row[levels[index-1]]\n",
    "                map_parent[row[level]] = row_parent\n",
    "            # Init\n",
    "            tmp_df = df.copy()\n",
    "            group_level = to_group + [level]\n",
    "            tmp_df = tmp_df.groupby(group_level, as_index=False).agg(to_agg).rename(columns={level: \"LABEL\"})\n",
    "            tmp_df.insert(loc=3, column=\"PARENT\", value=tmp_df[\"LABEL\"].map(map_parent))\n",
    "            df_output = pd.concat([df_output, tmp_df])\n",
    "            \n",
    "        df_output[\"LABEL\"] = df_output[\"LABEL\"].astype(str).str.replace(\"_\", \" \").str.lower().str.capitalize()\n",
    "        df_output[\"PARENT\"] = df_output[\"PARENT\"].astype(str).str.replace(\"_\", \" \").str.lower().str.capitalize()\n",
    "        return df_output.reset_index(drop=True)\n",
    "    \n",
    "    # Chart\n",
    "    fig = make_subplots(\n",
    "        cols=2,\n",
    "        rows=1,\n",
    "        horizontal_spacing=0.02,\n",
    "        specs=[[{\"type\": \"treemap\", \"rowspan\": 1}, {\"type\": \"treemap\"}]],\n",
    "    )\n",
    "    \n",
    "    df_asset = prep_data(df[df[\"RUBRIQUE_N0\"] == \"ACTIF\"].reset_index(drop=True))\n",
    "    fig.add_trace(\n",
    "        go.Treemap(\n",
    "            labels=df_asset[\"LABEL\"],\n",
    "            parents=df_asset[\"PARENT\"],\n",
    "            values=df_asset[\"VALUE\"],\n",
    "            textinfo=\"label+value+percent parent\",\n",
    "            marker_colorscale=\"Blues\",\n",
    "            hoverinfo=\"label+value+percent parent\",\n",
    "            branchvalues=\"total\",\n",
    "        ),\n",
    "        row=1,\n",
    "        col=1,\n",
    "    )\n",
    "\n",
    "    df_liability = prep_data(df[df[\"RUBRIQUE_N0\"] == \"PASSIF\"].reset_index(drop=True))\n",
    "    fig.add_trace(\n",
    "        go.Treemap(\n",
    "            labels=df_liability[\"LABEL\"],\n",
    "            parents=df_liability[\"PARENT\"],\n",
    "            values=df_liability[\"VALUE\"],\n",
    "            textinfo=\"label+value+percent parent\",\n",
    "            marker_colorscale=\"oranges\",\n",
    "            hoverinfo=\"label+value+percent parent\",\n",
    "            branchvalues=\"total\",\n",
    "        ),\n",
    "        row=1,\n",
    "        col=2,\n",
    "    )\n",
    "    \n",
    "#     fig.update_layout(\n",
    "#             margin=dict(\n",
    "#             l=50,  # Marge gauche\n",
    "#             r=50,  # Marge droite\n",
    "#             t=50,  # Marge supérieure\n",
    "#             b=50,  # Marge inférieure\n",
    "#     ),\n",
    "    \n",
    "#     )\n",
    "    return fig\n",
    "\n",
    "fig_treemap_chart = create_treemapchart(\n",
    "    df_bilan[df_bilan[\"PERIOD\"] == \"201812\"],\n",
    ")\n",
    "fig_treemap_chart"
   ]
  },
  {
   "cell_type": "markdown",
   "id": "e88267e7-d9ea-406b-a90e-05fb19bace73",
   "metadata": {
    "execution": {
     "iopub.execute_input": "2022-08-07T12:36:43.651149Z",
     "iopub.status.busy": "2022-08-07T12:36:43.650909Z",
     "iopub.status.idle": "2022-08-07T12:36:43.655756Z",
     "shell.execute_reply": "2022-08-07T12:36:43.655122Z",
     "shell.execute_reply.started": "2022-08-07T12:36:43.651126Z"
    },
    "papermill": {},
    "tags": []
   },
   "source": [
    "### Design App"
   ]
  },
  {
   "cell_type": "markdown",
   "id": "b413bea1-1bbe-4775-bef3-9db6e26ef9ed",
   "metadata": {
    "papermill": {},
    "tags": []
   },
   "source": [
    "#### Dropdown data: Ref Entities"
   ]
  },
  {
   "cell_type": "code",
   "execution_count": null,
   "id": "e0ee06f9-f8e8-4b1e-b7b0-cc95677fac78",
   "metadata": {
    "tags": []
   },
   "outputs": [],
   "source": [
    "df_entities = get_last_df(path_ref_entite)\n",
    "df_entities"
   ]
  },
  {
   "cell_type": "code",
   "execution_count": null,
   "id": "6cfe391c-fa23-4117-afd2-70bec74fdf27",
   "metadata": {
    "papermill": {},
    "tags": []
   },
   "outputs": [],
   "source": [
    "entities = sorted(df_entities[\"ENTITY\"].unique().tolist())\n",
    "entities"
   ]
  },
  {
   "cell_type": "code",
   "execution_count": null,
   "id": "f96b4c09-612b-49b6-ae1f-ea35f3522d90",
   "metadata": {},
   "outputs": [],
   "source": [
    "# Entity's dropdown list\n",
    "dropdown_entity = dcc.Dropdown(\n",
    "    id=\"entity\",\n",
    "    options=[{\"label\": i, \"value\": i} for i in entities],\n",
    "    placeholder=\"Entity\",\n",
    "    value=entities[0],\n",
    ")"
   ]
  },
  {
   "cell_type": "markdown",
   "id": "af817a06-9f8e-4b4e-a896-1d79e2bfb33a",
   "metadata": {
    "papermill": {},
    "tags": []
   },
   "source": [
    "#### Dropdown data: Ref Scenarios"
   ]
  },
  {
   "cell_type": "code",
   "execution_count": null,
   "id": "99eac690-09ba-43dd-9791-14b674765203",
   "metadata": {
    "papermill": {},
    "tags": []
   },
   "outputs": [],
   "source": [
    "df_scenarios = df_entities[df_entities[\"ENTITY\"] == entities[0]]\n",
    "scenarios = [{\"label\": r[\"PERIOD_D\"], \"value\": r[\"PERIOD\"]} for i, r in df_scenarios.iterrows()]\n",
    "print(scenarios)\n",
    "scenario_init = df_scenarios.loc[0, \"PERIOD\"]\n",
    "print(scenario_init)"
   ]
  },
  {
   "cell_type": "markdown",
   "id": "b13b85a2-f1fb-40c7-a9ed-9e906573b27c",
   "metadata": {
    "papermill": {},
    "tags": []
   },
   "source": [
    "#### Create Dropdown"
   ]
  },
  {
   "cell_type": "code",
   "execution_count": null,
   "id": "afe16f46-9f4c-4cd5-9bf0-68fe1e01a4bf",
   "metadata": {
    "papermill": {},
    "tags": []
   },
   "outputs": [],
   "source": [
    "# Scenario's dropdown list\n",
    "dropdown_scenario = dcc.Dropdown(\n",
    "    id=\"scenario\",\n",
    "    options=scenarios,\n",
    "    placeholder=\"Scenario\",\n",
    "    value=scenario_init\n",
    ")"
   ]
  },
  {
   "cell_type": "markdown",
   "id": "0ac59088-5b71-434f-8240-759c8eff7f11",
   "metadata": {
    "papermill": {},
    "tags": []
   },
   "source": [
    "#### Create Navbar"
   ]
  },
  {
   "cell_type": "code",
   "execution_count": null,
   "id": "acd3f11b-19b6-4bdd-84fa-39f406c7234b",
   "metadata": {
    "papermill": {},
    "tags": []
   },
   "outputs": [],
   "source": [
    "navbar = dbc.Navbar(\n",
    "    dbc.Container(\n",
    "        [\n",
    "            html.A(\n",
    "                # Use row and col to control vertical alignment of logo / brand\n",
    "                dbc.Row(\n",
    "                    [\n",
    "                        dbc.Col(html.Img(src=APP_LOGO, height=\"50\")),\n",
    "                        dbc.Col(dbc.NavbarBrand(APP_TITLE, className=\"ms-2\")),\n",
    "                    ],\n",
    "                    align=\"center\",\n",
    "                    className=\"g-0\",\n",
    "                ),\n",
    "            ),\n",
    "            dbc.NavbarToggler(id=\"navbar-toggler\", n_clicks=0),\n",
    "            dbc.Collapse(\n",
    "                dbc.Nav(\n",
    "                    [\n",
    "                        html.Div(\n",
    "                            [\n",
    "                                html.Div(className=\"w-100\"),\n",
    "                                html.Div(className=\"w-100\"),\n",
    "                                html.Div(dropdown_entity, className=\"w-100\", id=\"dropdown_entity\"),\n",
    "                                html.Div(dropdown_scenario, className=\"w-100\", id=\"dropdown_scenario\"),\n",
    "                            ],\n",
    "                            className=\"pt-1 pb-1 d-grid gap-2 d-md-flex w-100\",\n",
    "                        )\n",
    "                    ],\n",
    "                    className=\"ms-auto w-100\",\n",
    "                    navbar=True,\n",
    "                ),\n",
    "                id=\"navbar-collapse\",\n",
    "                navbar=True,\n",
    "                is_open=False,\n",
    "            ),\n",
    "        ],\n",
    "    ),\n",
    "    color=\"#181A1C\",\n",
    "    dark=True,\n",
    ")"
   ]
  },
  {
   "cell_type": "markdown",
   "id": "bd0853cd-b861-4d5a-929b-73a90bf29393",
   "metadata": {
    "papermill": {},
    "tags": []
   },
   "source": [
    "#### Create Card"
   ]
  },
  {
   "cell_type": "code",
   "execution_count": null,
   "id": "35c581bd-041a-42c2-8296-a77db58f4063",
   "metadata": {
    "papermill": {},
    "tags": []
   },
   "outputs": [],
   "source": [
    "# Function to create card\n",
    "def create_card_col(\n",
    "    title,\n",
    "    value,\n",
    "    value_id,\n",
    "    var,\n",
    "    var_id\n",
    "):\n",
    "    card = dbc.Col(\n",
    "        dbc.Card(\n",
    "            dbc.CardBody(\n",
    "                [\n",
    "                    html.P(\n",
    "                        title,\n",
    "                        className=\"card-title\",\n",
    "                        style={\n",
    "                            \"font-size\": \"15px\",\n",
    "                            \"padding-bottom\": \"5px\",\n",
    "                            \"text-align\": \"center\",\n",
    "                            \"font-weight\": \"bold\",\n",
    "                            \"color\": \"#181A1C\",\n",
    "                        },\n",
    "                    ),\n",
    "                    html.P(\n",
    "                        children=value,\n",
    "                        className=\"card-text\",\n",
    "                        style={\n",
    "                            \"font-size\": \"35px\",\n",
    "                            \"text-align\": \"center\",\n",
    "                            \"font-weight\": \"bold\",\n",
    "                            \"color\": \"#181A1C\"\n",
    "                        },\n",
    "                        id=value_id,\n",
    "                    ),\n",
    "                    \n",
    "                    html.P(\n",
    "                        children=var,\n",
    "                        className=\"card-text\",\n",
    "                        style={\n",
    "                            \"font-size\": \"16px\",\n",
    "                            \"text-align\": \"center\",\n",
    "                            \"padding-top\": \"0px\",\n",
    "                            \"color\": \"#181A1C\",\n",
    "                        },\n",
    "                        id=var_id,\n",
    "                    ),\n",
    "                    \n",
    "                ]\n",
    "            ),\n",
    "            color=\"#fbfbfb\",\n",
    "            inverse=True,\n",
    "        ),\n",
    "            \n",
    "            style={\n",
    "                \"padding-left\": \"10px\", \n",
    "                \"padding-right\": \"10px\"\n",
    "            },\n",
    "        **CARD_COL_STYLE1,\n",
    "    )\n",
    "    return card"
   ]
  },
  {
   "cell_type": "markdown",
   "id": "50020956-8049-4860-9c66-bea51c8e0b90",
   "metadata": {
    "papermill": {},
    "tags": []
   },
   "source": [
    "#### Create Chart Card"
   ]
  },
  {
   "cell_type": "code",
   "execution_count": null,
   "id": "eddcb0ff-1a5c-445c-86d6-0e0eb52ce7b0",
   "metadata": {
    "papermill": {},
    "tags": []
   },
   "outputs": [],
   "source": [
    "def create_chart(title, subtitle, chart_id, fig, CARD_COL_STYLE):\n",
    "    card = dbc.Col(\n",
    "        dbc.Card(\n",
    "            dbc.CardBody(\n",
    "                [\n",
    "                    html.H5(\n",
    "                        title,\n",
    "                        style={\n",
    "                            \"padding-top\": \"20px\",\n",
    "                            \"margin-left\": \"20px\",\n",
    "                            \"font-weight\": \"bold\",\n",
    "                            \"font-size\": \"17px\",\n",
    "                        },\n",
    "                    ),\n",
    "                    \n",
    "                     html.H5(\n",
    "                        subtitle,\n",
    "                        style={\n",
    "                            \"padding-top\": \"4px\",\n",
    "                            \"margin-left\": \"20.5px\",\n",
    "                            \"font-size\": \"12px\",\n",
    "                        },\n",
    "                    ),\n",
    "                    dcc.Graph(\n",
    "                        id=chart_id,\n",
    "                        figure=fig,\n",
    "                        config={\n",
    "                            \"displayModeBar\": False,\n",
    "#                             \"staticPlot\": True\n",
    "                        }\n",
    "                    ),\n",
    "                ],\n",
    "            ),\n",
    "            color=CARD_COLOR,\n",
    "            inverse=False,\n",
    "        ),\n",
    "        style={\n",
    "#             \"background-color\": BACKGROUND_COLOR,\n",
    "            \"display\": \"inline\",\n",
    "            \"padding-left\": \"10px\", \n",
    "            \"padding-right\": \"10px\"\n",
    "        },\n",
    "        **CARD_COL_STYLE\n",
    "    )\n",
    "    return card"
   ]
  },
  {
   "cell_type": "markdown",
   "id": "a3b9b54e-50d5-43b8-9335-ead33e62fc88",
   "metadata": {
    "papermill": {},
    "tags": []
   },
   "source": [
    "#### Create App Layout"
   ]
  },
  {
   "cell_type": "code",
   "execution_count": null,
   "id": "187504dc-1f7f-4cf4-9242-37d199bf9de9",
   "metadata": {
    "papermill": {},
    "tags": []
   },
   "outputs": [],
   "source": [
    "app = dash.Dash(\n",
    "    requests_pathname_prefix=f'/user/{os.environ.get(\"JUPYTERHUB_USER\")}/proxy/{DASH_PORT}/',\n",
    "    external_stylesheets=[dbc.themes.BOOTSTRAP],\n",
    "    meta_tags=[\n",
    "        {\"name\": \"viewport\", \"content\": \"width=device-width, initial-scale=1.0\"}\n",
    "    ],\n",
    ")\n",
    "\n",
    "# app = dash.Dash() if you are not in Naas\n",
    "app.title = APP_TITLE\n",
    "# app._favicon = APP_LOGO\n",
    "app.layout = html.Div(\n",
    "    [\n",
    "        # Navbar\n",
    "        dbc.Navbar(\n",
    "            dbc.Container(\n",
    "                [\n",
    "                    html.A(\n",
    "                        # Use row and col to control vertical alignment of logo / brand\n",
    "                        dbc.Row(\n",
    "                            [\n",
    "                                dbc.Col(html.Img(src=APP_LOGO, height=\"50\")),\n",
    "                                dbc.Col(dbc.NavbarBrand(APP_TITLE, className=\"ms-2\")),\n",
    "                            ],\n",
    "                            align=\"center\",\n",
    "                            className=\"g-0\",\n",
    "                        ),\n",
    "                    ),\n",
    "                    dbc.NavbarToggler(id=\"navbar-toggler\", n_clicks=0),\n",
    "                    dbc.Collapse(\n",
    "                        dbc.Nav(\n",
    "                            [\n",
    "                                html.Div(\n",
    "                                    [\n",
    "                                        html.Div(className=\"w-100\"),\n",
    "                                        html.Div(className=\"w-100\"),\n",
    "                                        html.Div(dropdown_entity, className=\"w-100\", id=\"dropdown_entity\"),\n",
    "                                        html.Div(dropdown_scenario, className=\"w-100\", id=\"dropdown_scenario\"),\n",
    "                                    ],\n",
    "                                    className=\"pt-1 pb-1 d-grid gap-2 d-md-flex w-100\",\n",
    "                                )\n",
    "                            ],\n",
    "                            className=\"ms-auto w-100\",\n",
    "                            navbar=True,\n",
    "                        ),\n",
    "                        id=\"navbar-collapse\",\n",
    "                        navbar=True,\n",
    "                        is_open=False,\n",
    "                    ),\n",
    "                ],\n",
    "            ),\n",
    "            color=\"#181A1C\",\n",
    "            dark=True,\n",
    "        ),\n",
    "        \n",
    "        # SPACE\n",
    "        html.Br(),\n",
    "        \n",
    "        # Button to update pipeline\n",
    "        html.Div(\n",
    "            [\n",
    "                dbc.Button(\n",
    "                    \"Run Pipeline\",\n",
    "                    id=\"loading-button\",\n",
    "                    n_clicks=0,\n",
    "                    className=\"d-grid gap-2 col-6 mx-auto\",\n",
    "                ),\n",
    "                dbc.Spinner(html.Div(id=\"loading-output\")),\n",
    "            ]\n",
    "        ),\n",
    "        \n",
    "        # SPACE\n",
    "        html.Br(),\n",
    "        \n",
    "        # Add button to upload data\n",
    "        dcc.Upload(\n",
    "            id=\"upload-data\",\n",
    "            children=dbc.Button(\n",
    "                [\n",
    "                    \"Drag and Drop or \",\n",
    "                    html.A(\"Select Files\"),\n",
    "                ],\n",
    "                style={\"padding\": \"10px\"},\n",
    "                className=\"d-grid gap-2 col-6 mx-auto\",\n",
    "            ),\n",
    "            # Allow multiple files to be uploaded\n",
    "            multiple=True,\n",
    "        ),\n",
    "        html.Div(id=\"output-data-upload\"),\n",
    "        \n",
    "        # HKPIS\n",
    "        dbc.Row(\n",
    "            [\n",
    "                create_card_col(\"CHIFFRE D'AFFAIRES\", \"180\", \"value1\", \"15\", \"var1\"),\n",
    "                create_card_col(\"MARGE BRUTE\", \"180\", \"value2\", \"15\", \"var2\"),\n",
    "                create_card_col(\"EBE\", \"180\", \"value3\", \"15\", \"var3\"),\n",
    "                create_card_col(\"BFR\", \"180\", \"value4\", \"15\", \"var4\"),\n",
    "                create_card_col(\"CREANCES CLIENTS\", \"180\", \"value5\", \"15\", \"var5\"),\n",
    "                create_card_col(\"DETTES FOURNISSEURS\", \"180\", \"value6\", \"15\", \"var6\"),\n",
    "            ],\n",
    "            style={\n",
    "                \"padding-top\": \"20px\",\n",
    "            },\n",
    "            className=\"g-2 d-flex align-items-center\",\n",
    "        ),\n",
    "        \n",
    "        # SPACE\n",
    "        html.Br(),\n",
    "        \n",
    "        # Chart: Row1\n",
    "        dbc.Row(\n",
    "            [\n",
    "                create_chart(\n",
    "                    \"EVOLUTION DU CHIFFRE D'AFFAIRES\",\n",
    "                    \"N vs N-1, mensuel (en k€)\",\n",
    "                    \"fig_1\",\n",
    "                    fig_linechart,\n",
    "                    CARD_COL_STYLE3\n",
    "                ),\n",
    "                create_chart(\n",
    "                    \"POSITION DE TRESORERIE\",\n",
    "                    \"Cash in / Cash out, mensuel (en k€)\",\n",
    "                    \"fig_2\",\n",
    "                    fig_barline_chart,\n",
    "                    CARD_COL_STYLE3,\n",
    "                ),\n",
    "            ],\n",
    "            className=\"g-2 d-flex align-items-center\",\n",
    "        ),\n",
    "        \n",
    "        # SPACE\n",
    "        html.Br(),\n",
    "        \n",
    "        # Chart: Row2\n",
    "        dbc.Row(\n",
    "            [\n",
    "                create_chart(\n",
    "                    \"CHARGES\",\n",
    "                    \"N vs N-1 (en k€)\",\n",
    "                    \"fig_3\",\n",
    "                    fig_hbarhcart_chart,\n",
    "                    CARD_COL_STYLE3\n",
    "                ),\n",
    "                create_chart(\n",
    "                    \"BILAN\",\n",
    "                    \"Structure bilantielle (en k€)\",\n",
    "                    \"fig_4\",\n",
    "                    fig_treemap_chart,\n",
    "                    CARD_COL_STYLE3,\n",
    "                ),\n",
    "            ],\n",
    "            className=\"g-2 d-flex align-items-center\",\n",
    "        ),\n",
    "        \n",
    "        # SPACE\n",
    "        html.Br(),\n",
    "    ],\n",
    "    style={\"backgroundColor\": BACKGROUND_COLOR}\n",
    ")\n",
    "\n",
    "\n",
    "@app.callback(\n",
    "    [\n",
    "        Output(\"loading-output\", \"children\"),\n",
    "        Output(\"dropdown_entity\", \"children\"),\n",
    "    ],\n",
    "    [\n",
    "        Input(\"loading-button\", \"n_clicks\"),\n",
    "    ]\n",
    ")\n",
    "def load_output(n):\n",
    "    loading_output = \"\"\n",
    "    if n:\n",
    "        # Run pipeline\n",
    "        %run __pipeline__.ipynb\n",
    "        time.sleep(2)\n",
    "        loading_output = \"✅ Pipeline successfully updated\"\n",
    "        \n",
    "    df_entities = get_last_df(path_ref_entite)\n",
    "    entities = sorted(df_entities[\"ENTITY\"].unique().tolist())\n",
    "    \n",
    "    # Entity's dropdown list\n",
    "    dropdown_entity = dcc.Dropdown(\n",
    "        id=\"entity\",\n",
    "        options=[{\"label\": i, \"value\": i} for i in entities],\n",
    "        placeholder=\"Entity\",\n",
    "        value=entities[0],\n",
    "    )\n",
    "    return loading_output, [dropdown_entity]\n",
    "\n",
    "@app.callback(\n",
    "    [\n",
    "        Output(\"dropdown_scenario\", \"children\"),\n",
    "    ],\n",
    "    [\n",
    "        Input(\"entity\", \"value\"),\n",
    "    ]\n",
    ")\n",
    "def load_scenario(value):\n",
    "    df_entities = get_last_df(path_ref_entite)\n",
    "    df_scenarios = df_entities[df_entities[\"ENTITY\"].astype(str) == str(value)].reset_index(drop=True)\n",
    "    scenarios = [{\"label\": r[\"PERIOD_D\"], \"value\": r[\"PERIOD\"]} for i, r in df_scenarios.iterrows()]\n",
    "    scenario_init = df_scenarios.loc[0, \"PERIOD\"]\n",
    "    # Scenario's dropdown list\n",
    "    dropdown_scenario = dcc.Dropdown(\n",
    "        id=\"scenario\",\n",
    "        options=scenarios,\n",
    "        placeholder=\"Scenario\",\n",
    "        value=scenario_init\n",
    "    )\n",
    "    return [dropdown_scenario]\n",
    "\n",
    "\n",
    "# add callback for toggling the collapse on small screens\n",
    "@app.callback(\n",
    "    Output(\"navbar-collapse\", \"is_open\"),\n",
    "    [Input(\"navbar-toggler\", \"n_clicks\")],\n",
    "    [State(\"navbar-collapse\", \"is_open\")],\n",
    ")\n",
    "def toggle_navbar_collapse(n, is_open):\n",
    "    if n:\n",
    "        return not is_open\n",
    "    return is_open\n",
    "\n",
    "\n",
    "# add callback to filter data in cards and charts\n",
    "@app.callback(\n",
    "    [\n",
    "        Output(\"value1\", \"children\"),\n",
    "        Output(\"value2\", \"children\"),\n",
    "        Output(\"value3\", \"children\"),\n",
    "        Output(\"value4\", \"children\"),\n",
    "        Output(\"value5\", \"children\"),\n",
    "        Output(\"value6\", \"children\"),\n",
    "        Output(\"var1\", \"children\"),\n",
    "        Output(\"var2\", \"children\"),\n",
    "        Output(\"var3\", \"children\"),\n",
    "        Output(\"var4\", \"children\"),\n",
    "        Output(\"var5\", \"children\"),\n",
    "        Output(\"var6\", \"children\"),\n",
    "        Output(\"var1\", \"style\"),\n",
    "        Output(\"var2\", \"style\"),\n",
    "        Output(\"var3\", \"style\"),\n",
    "        Output(\"var4\", \"style\"),\n",
    "        Output(\"var5\", \"style\"),\n",
    "        Output(\"var6\", \"style\"),\n",
    "        Output(\"fig_1\", \"figure\"),\n",
    "        Output(\"fig_2\", \"figure\"),\n",
    "        Output(\"fig_3\", \"figure\"),\n",
    "        Output(\"fig_4\", \"figure\"),\n",
    "    ],\n",
    "    [\n",
    "        Input(\"entity\", \"value\"),\n",
    "        Input(\"scenario\", \"value\")\n",
    "    ],\n",
    ")\n",
    "\n",
    "def multi_outputs(entity, scenario):\n",
    "    if entity is None and scenario is None:\n",
    "        raise PreventUpdate\n",
    "        \n",
    "    # Get CA dataframe\n",
    "    dfevolutionca = df_evolution_ca.copy()\n",
    "    dfevolutionca = dfevolutionca[\n",
    "        (dfevolutionca[\"ENTITY\"].astype(str) == str(entity))\n",
    "    ].reset_index(drop=True)\n",
    "    fig1 = create_linechart(\n",
    "        dfevolutionca,\n",
    "        label_col=\"MONTH_INDEX\",\n",
    "        value_col=\"VALUE_CUM\",\n",
    "        value_col_d=\"VALUE_CUM_D\"\n",
    "    )\n",
    "    # Get Trésorerie dataframe\n",
    "    dftresorerie = df_tresorerie.copy()\n",
    "    dftresorerie = dftresorerie[\n",
    "        (dftresorerie[\"ENTITY\"].astype(str) == entity) & (dftresorerie[\"PERIOD\"].astype(str) == scenario)\n",
    "    ].reset_index(drop=True)\n",
    "    fig2 = create_barlinechart(\n",
    "        dftresorerie,\n",
    "        label=\"MONTH_INDEX\"\n",
    "    )\n",
    "\n",
    "    # Get Charges dataframe\n",
    "    dfcharges = df_charges.copy()\n",
    "    dfcharges = dfcharges[\n",
    "        (dfcharges[\"ENTITY\"].astype(str) == entity) & (dfcharges[\"PERIOD\"].astype(str) == scenario)\n",
    "    ].reset_index(drop=True)\n",
    "    fig3 = create_hbarhcart(\n",
    "        dfcharges,\n",
    "        label=\"RUBRIQUE_N1\"\n",
    "    )\n",
    "    \n",
    "    # Get Bilan dataframe\n",
    "    dfbilan = df_bilan.copy()\n",
    "    dfbilan = dfbilan[\n",
    "        (dfbilan[\"ENTITY\"].astype(str) == entity) & (dfbilan[\"PERIOD\"].astype(str) == scenario)\n",
    "    ].reset_index(drop=True)\n",
    "    fig4 = create_treemapchart(\n",
    "        dfbilan,\n",
    "    )\n",
    "\n",
    "    # Get HKPIs dataframe\n",
    "    dfhkpis = df_kpis.copy()\n",
    "    dfhkpis = dfhkpis[\n",
    "        (dfhkpis[\"ENTITY\"].astype(str) == entity) & (dfhkpis[\"PERIOD\"].astype(str) == scenario)\n",
    "    ].reset_index(drop=True)\n",
    "\n",
    "    # Return card data\n",
    "    value1 = dfhkpis.loc[dfhkpis[\"RUBRIQUE_N1\"] == \"CHIFFRE_D'AFFAIRES\", \"VALUE_D\"].values[0]\n",
    "    value2 = dfhkpis.loc[dfhkpis[\"RUBRIQUE_N1\"] == 'MARGE', \"VALUE_D\"].values[0]\n",
    "    value3 = dfhkpis.loc[dfhkpis[\"RUBRIQUE_N1\"] == 'EBE', \"VALUE_D\"].values[0]\n",
    "    value4 = dfhkpis.loc[dfhkpis[\"RUBRIQUE_N1\"] == 'BFR', \"VALUE_D\"].values[0]\n",
    "    value5 = dfhkpis.loc[dfhkpis[\"RUBRIQUE_N1\"] == 'CREANCES_CLIENTS', \"VALUE_D\"].values[0]\n",
    "    value6 = dfhkpis.loc[dfhkpis[\"RUBRIQUE_N1\"] == 'DETTES_FOURNISSEURS', \"VALUE_D\"].values[0]\n",
    "    var1 = dfhkpis.loc[dfhkpis[\"RUBRIQUE_N1\"] == \"CHIFFRE_D'AFFAIRES\", \"VARP_D\"].values[0]\n",
    "    var2 = dfhkpis.loc[dfhkpis[\"RUBRIQUE_N1\"] == 'MARGE', \"VARP_D\"].values[0]\n",
    "    var3 = dfhkpis.loc[dfhkpis[\"RUBRIQUE_N1\"] == 'EBE', \"VARP_D\"].values[0]\n",
    "    var4 = dfhkpis.loc[dfhkpis[\"RUBRIQUE_N1\"] == 'BFR', \"VARP_D\"].values[0]\n",
    "    var5 = dfhkpis.loc[dfhkpis[\"RUBRIQUE_N1\"] == 'CREANCES_CLIENTS', \"VARP_D\"].values[0]\n",
    "    var6 = dfhkpis.loc[dfhkpis[\"RUBRIQUE_N1\"] == 'DETTES_FOURNISSEURS', \"VARP_D\"].values[0]\n",
    "    style1 = dfhkpis.loc[dfhkpis[\"RUBRIQUE_N1\"] == \"CHIFFRE_D'AFFAIRES\", \"VARV\"].values[0]\n",
    "    style2 = dfhkpis.loc[dfhkpis[\"RUBRIQUE_N1\"] == 'MARGE', \"VARV\"].values[0]\n",
    "    style3 = dfhkpis.loc[dfhkpis[\"RUBRIQUE_N1\"] == 'EBE', \"VARV\"].values[0]\n",
    "    style4 = dfhkpis.loc[dfhkpis[\"RUBRIQUE_N1\"] == 'BFR', \"VARV\"].values[0]\n",
    "    style5 = dfhkpis.loc[dfhkpis[\"RUBRIQUE_N1\"] == 'CREANCES_CLIENTS', \"VARV\"].values[0]\n",
    "    style6 = dfhkpis.loc[dfhkpis[\"RUBRIQUE_N1\"] == 'DETTES_FOURNISSEURS', \"VARV\"].values[0]\n",
    "    \n",
    "    # Create style on var\n",
    "    def create_style(value):\n",
    "        if int(value) < 0:\n",
    "            color = \"#E74C3C\"\n",
    "        elif int(value) == 0:\n",
    "            color = \"#F4D03F\"\n",
    "        elif int(value) > 0:\n",
    "            color = \"#2ECC71\"\n",
    "        return {\n",
    "            \"color\": color,\n",
    "            \"font-size\": \"20px\",\n",
    "            \"font-weight\": \"700\",\n",
    "            \"text-align\": \"center\",\n",
    "            \"padding-top\": \"0px\",\n",
    "        }\n",
    "    return (\n",
    "        value1,\n",
    "        value2,\n",
    "        value3,\n",
    "        value4,\n",
    "        value5,\n",
    "        value6,\n",
    "        var1,\n",
    "        var2,\n",
    "        var3,\n",
    "        var4,\n",
    "        var5,\n",
    "        var6,\n",
    "        create_style(style1),\n",
    "        create_style(style2),\n",
    "        create_style(style3),\n",
    "        create_style(style4),\n",
    "        create_style(style5),\n",
    "        create_style(style6),\n",
    "        fig1,\n",
    "        fig2,\n",
    "        fig3,\n",
    "        fig4\n",
    "    )\n",
    "\n",
    "def parse_contents(contents, filename, date):\n",
    "    df = pd.DataFrame()\n",
    "    content_type, content_string = contents.split(\",\")\n",
    "    decoded = base64.b64decode(content_string)\n",
    "    try:\n",
    "        if re.match(\"^\\d{9}FEC\\d{8}.txt\", filename):\n",
    "            # Assume that the user uploaded a CSV file\n",
    "            df = pd.read_csv(\n",
    "                io.StringIO(decoded.decode(\"ISO-8859-1\")),\n",
    "                sep=\"\\t\",\n",
    "                decimal=\",\",\n",
    "                header=0\n",
    "            )\n",
    "    except Exception as e:\n",
    "        print(e)\n",
    "        return html.Div([f\"❌ There was an error processing this file: '{filename}'\"]), df\n",
    "    \n",
    "    # Save dataframe\n",
    "    df.to_csv(\n",
    "        f\"/home/ftp/FEC-engine/inputs/{filename}\",\n",
    "        encoding=\"ISO-8859-1\",\n",
    "        sep=\"\\t\",\n",
    "        decimal=\",\",\n",
    "        index=False\n",
    "    )\n",
    "    return html.Div(\n",
    "        [\n",
    "            f\"✅ File '{filename}' successfully uploaded ({len(df)} rows fetched). \",\n",
    "        ]\n",
    "        \n",
    "    ), df\n",
    "\n",
    "@app.callback(\n",
    "    Output(\"output-data-upload\", \"children\"),\n",
    "    Input(\"upload-data\", \"contents\"),\n",
    "    State(\"upload-data\", \"filename\"),\n",
    "    State(\"upload-data\", \"last_modified\"),\n",
    ")\n",
    "def update_output(list_of_contents, list_of_names, list_of_dates):\n",
    "    childrens = []\n",
    "    df = pd.DataFrame()\n",
    "    if list_of_contents is not None:\n",
    "        for c, n, d in zip(list_of_contents, list_of_names, list_of_dates):\n",
    "            children, tmp_df = parse_contents(c, n, d)\n",
    "            childrens.append(children)\n",
    "            df = pd.concat([df, tmp_df])\n",
    "    return childrens"
   ]
  },
  {
   "cell_type": "markdown",
   "id": "59e4f1f8-38d1-4b3b-b93c-c010ef9011b0",
   "metadata": {
    "execution": {
     "iopub.execute_input": "2021-07-02T23:32:10.789097Z",
     "iopub.status.busy": "2021-07-02T23:32:10.788829Z",
     "iopub.status.idle": "2021-07-02T23:32:10.796900Z",
     "shell.execute_reply": "2021-07-02T23:32:10.796358Z",
     "shell.execute_reply.started": "2021-07-02T23:32:10.789033Z"
    },
    "papermill": {},
    "tags": []
   },
   "source": [
    "## Output"
   ]
  },
  {
   "cell_type": "markdown",
   "id": "a828ebca-0b33-4d16-829c-e45044f9659d",
   "metadata": {
    "papermill": {},
    "tags": []
   },
   "source": [
    "### Generate URL and show logs"
   ]
  },
  {
   "cell_type": "code",
   "execution_count": null,
   "id": "f054b1db-a3eb-4a2b-9ca2-881d7f1dc242",
   "metadata": {
    "papermill": {},
    "tags": []
   },
   "outputs": [],
   "source": [
    "if __name__ == \"__main__\":\n",
    "    app.run_server(proxy=f\"http://127.0.0.1:{DASH_PORT}::https://app.naas.ai\")"
   ]
  },
  {
   "cell_type": "code",
   "execution_count": null,
   "id": "df962f15-53dd-4e7b-99b1-1fc45f24aeeb",
   "metadata": {},
   "outputs": [],
   "source": []
  },
  {
   "cell_type": "code",
   "execution_count": null,
   "id": "7ef68d19-8230-4ac4-a13f-7b56c99e56a4",
   "metadata": {},
   "outputs": [],
   "source": []
  }
 ],
 "metadata": {
  "kernelspec": {
   "display_name": "Python 3",
   "language": "python",
   "name": "python3"
  },
  "language_info": {
   "codemirror_mode": {
    "name": "ipython",
    "version": 3
   },
   "file_extension": ".py",
   "mimetype": "text/x-python",
   "name": "python",
   "nbconvert_exporter": "python",
   "pygments_lexer": "ipython3",
   "version": "3.9.6"
  },
  "papermill": {
   "default_parameters": {},
   "environment_variables": {},
   "parameters": {},
   "version": "2.4.0"
  }
 },
 "nbformat": 4,
 "nbformat_minor": 5
}
