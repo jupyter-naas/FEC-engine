{
 "cells": [
  {
   "cell_type": "markdown",
   "id": "touched-standard",
   "metadata": {
    "papermill": {},
    "tags": []
   },
   "source": [
    "<img width=\"10%\" alt=\"Naas\" src=\"https://landen.imgix.net/jtci2pxwjczr/assets/5ice39g4.png?w=160\"/>"
   ]
  },
  {
   "cell_type": "markdown",
   "id": "painted-needle",
   "metadata": {
    "papermill": {},
    "tags": []
   },
   "source": [
    "# FEC - Création de l'évolution du CA"
   ]
  },
  {
   "cell_type": "markdown",
   "id": "local-library",
   "metadata": {
    "execution": {
     "iopub.execute_input": "2021-08-17T08:30:57.908317Z",
     "iopub.status.busy": "2021-08-17T08:30:57.908010Z",
     "iopub.status.idle": "2021-08-17T08:30:57.920293Z",
     "shell.execute_reply": "2021-08-17T08:30:57.919475Z",
     "shell.execute_reply.started": "2021-08-17T08:30:57.908246Z"
    },
    "papermill": {},
    "tags": []
   },
   "source": [
    "**Tags:** #fec #datamodel #finance #snippet #operation"
   ]
  },
  {
   "cell_type": "markdown",
   "id": "latin-nightmare",
   "metadata": {
    "papermill": {},
    "tags": []
   },
   "source": [
    "**Author:** [Florent Ravenel](https://www.linkedin.com/in/florent-ravenel/)"
   ]
  },
  {
   "cell_type": "markdown",
   "id": "naas-description",
   "metadata": {
    "papermill": {},
    "tags": [
     "description"
    ]
   },
   "source": [
    "**Description:** Ce notebook permet de créer le dataframe pour visualiser l'évolution du CA."
   ]
  },
  {
   "cell_type": "markdown",
   "id": "residential-laptop",
   "metadata": {
    "papermill": {},
    "tags": []
   },
   "source": [
    "## Input"
   ]
  },
  {
   "cell_type": "markdown",
   "id": "spanish-beatles",
   "metadata": {
    "papermill": {},
    "tags": []
   },
   "source": [
    "### Import libraries"
   ]
  },
  {
   "cell_type": "code",
   "execution_count": 1,
   "id": "amazing-pollution",
   "metadata": {
    "execution": {
     "iopub.execute_input": "2023-05-24T15:02:30.054960Z",
     "iopub.status.busy": "2023-05-24T15:02:30.054516Z",
     "iopub.status.idle": "2023-05-24T15:02:33.971906Z",
     "shell.execute_reply": "2023-05-24T15:02:33.971254Z",
     "shell.execute_reply.started": "2023-05-24T15:02:30.054876Z"
    },
    "papermill": {},
    "tags": []
   },
   "outputs": [
    {
     "name": "stdout",
     "output_type": "stream",
     "text": [
      "✅ utils file '/home/ftp/FEC-engine/utils/datalake.ipynb' successfully loaded.\n"
     ]
    }
   ],
   "source": [
    "import naas_data_product"
   ]
  },
  {
   "cell_type": "markdown",
   "id": "assured-touch",
   "metadata": {
    "papermill": {},
    "tags": []
   },
   "source": [
    "### Setup Variables"
   ]
  },
  {
   "cell_type": "code",
   "execution_count": 2,
   "id": "smooth-peoples",
   "metadata": {
    "execution": {
     "iopub.execute_input": "2023-05-24T15:02:33.980256Z",
     "iopub.status.busy": "2023-05-24T15:02:33.975597Z",
     "iopub.status.idle": "2023-05-24T15:02:33.988225Z",
     "shell.execute_reply": "2023-05-24T15:02:33.987620Z",
     "shell.execute_reply.started": "2023-05-24T15:02:33.980221Z"
    },
    "papermill": {},
    "tags": [
     "parameters"
    ]
   },
   "outputs": [],
   "source": [
    "# Inputs\n",
    "input_folder_path = \"/home/ftp/FEC-engine/outputs/FEC/BDD_ENR\"\n",
    "\n",
    "# Outputs\n",
    "output_folder_path = \"/home/ftp/FEC-engine/outputs/FEC/EVOLUTION_CA\""
   ]
  },
  {
   "cell_type": "markdown",
   "id": "2994a857-1817-4fc2-92ae-1f78e0d2d668",
   "metadata": {},
   "source": [
    "## Model"
   ]
  },
  {
   "cell_type": "markdown",
   "id": "0c7ba256-c278-4e6b-93ef-7bfb3a812eb5",
   "metadata": {},
   "source": [
    "### Récupération du dernier fichier input"
   ]
  },
  {
   "cell_type": "code",
   "execution_count": 3,
   "id": "25032862-87de-46f0-9583-c1378b8d1af5",
   "metadata": {
    "execution": {
     "iopub.execute_input": "2023-05-24T15:02:33.989598Z",
     "iopub.status.busy": "2023-05-24T15:02:33.989247Z",
     "iopub.status.idle": "2023-05-24T15:02:34.121292Z",
     "shell.execute_reply": "2023-05-24T15:02:34.120711Z",
     "shell.execute_reply.started": "2023-05-24T15:02:33.989569Z"
    },
    "tags": []
   },
   "outputs": [
    {
     "name": "stdout",
     "output_type": "stream",
     "text": [
      "📁 Last file: /home/ftp/FEC-engine/outputs/FEC/BDD_ENR/20230524165444_FEC_BDD_ENR.csv\n",
      "✅ Row fetched: 296\n"
     ]
    },
    {
     "data": {
      "text/html": [
       "<div>\n",
       "<style scoped>\n",
       "    .dataframe tbody tr th:only-of-type {\n",
       "        vertical-align: middle;\n",
       "    }\n",
       "\n",
       "    .dataframe tbody tr th {\n",
       "        vertical-align: top;\n",
       "    }\n",
       "\n",
       "    .dataframe thead th {\n",
       "        text-align: right;\n",
       "    }\n",
       "</style>\n",
       "<table border=\"1\" class=\"dataframe\">\n",
       "  <thead>\n",
       "    <tr style=\"text-align: right;\">\n",
       "      <th></th>\n",
       "      <th>ENTITY</th>\n",
       "      <th>PERIOD</th>\n",
       "      <th>COMPTE_NUM</th>\n",
       "      <th>RUBRIQUE_N0</th>\n",
       "      <th>RUBRIQUE_N1</th>\n",
       "      <th>RUBRIQUE_N2</th>\n",
       "      <th>RUBRIQUE_N3</th>\n",
       "      <th>VALUE</th>\n",
       "      <th>VALUE_N-1</th>\n",
       "      <th>VARV</th>\n",
       "      <th>VARP</th>\n",
       "    </tr>\n",
       "  </thead>\n",
       "  <tbody>\n",
       "    <tr>\n",
       "      <th>0</th>\n",
       "      <td>000000000</td>\n",
       "      <td>2017-12</td>\n",
       "      <td>10130000</td>\n",
       "      <td>PASSIF</td>\n",
       "      <td>PASSIF_NON_COURANT</td>\n",
       "      <td>CAPITAUX_PROPRES</td>\n",
       "      <td>CAPITAL SOUSCRIT APPELÉ VERSÉ</td>\n",
       "      <td>-6000.0</td>\n",
       "      <td>0.0</td>\n",
       "      <td>-6000.0</td>\n",
       "      <td>-inf</td>\n",
       "    </tr>\n",
       "  </tbody>\n",
       "</table>\n",
       "</div>"
      ],
      "text/plain": [
       "      ENTITY   PERIOD COMPTE_NUM RUBRIQUE_N0         RUBRIQUE_N1  \\\n",
       "0  000000000  2017-12   10130000      PASSIF  PASSIF_NON_COURANT   \n",
       "\n",
       "        RUBRIQUE_N2                     RUBRIQUE_N3   VALUE  VALUE_N-1  \\\n",
       "0  CAPITAUX_PROPRES  CAPITAL SOUSCRIT APPELÉ VERSÉ  -6000.0        0.0   \n",
       "\n",
       "     VARV  VARP  \n",
       "0 -6000.0  -inf  "
      ]
     },
     "execution_count": 3,
     "metadata": {},
     "output_type": "execute_result"
    }
   ],
   "source": [
    "df_input = get_last_df(input_folder_path)\n",
    "print(\"✅ Row fetched:\", len(df_input))\n",
    "df_input.head(1)"
   ]
  },
  {
   "cell_type": "markdown",
   "id": "05ff7edb-4d54-4600-a585-46cee62361c8",
   "metadata": {
    "papermill": {},
    "tags": []
   },
   "source": [
    "### Création du dataset \"Evolution du CA\""
   ]
  },
  {
   "cell_type": "code",
   "execution_count": 4,
   "id": "17e8a623-7d96-488f-b8db-fcd94dc0791c",
   "metadata": {
    "execution": {
     "iopub.execute_input": "2023-05-24T15:02:34.122695Z",
     "iopub.status.busy": "2023-05-24T15:02:34.122463Z",
     "iopub.status.idle": "2023-05-24T15:02:34.323135Z",
     "shell.execute_reply": "2023-05-24T15:02:34.321615Z",
     "shell.execute_reply.started": "2023-05-24T15:02:34.122667Z"
    }
   },
   "outputs": [
    {
     "ename": "KeyError",
     "evalue": "'MONTH'",
     "output_type": "error",
     "traceback": [
      "\u001b[0;31m---------------------------------------------------------------------------\u001b[0m",
      "\u001b[0;31mKeyError\u001b[0m                                  Traceback (most recent call last)",
      "\u001b[0;32m<ipython-input-4-f560826a2753>\u001b[0m in \u001b[0;36m<module>\u001b[0;34m\u001b[0m\n\u001b[1;32m     10\u001b[0m \u001b[0mto_group\u001b[0m \u001b[0;34m=\u001b[0m \u001b[0;34m[\u001b[0m\u001b[0;34m\"ENTITY\"\u001b[0m\u001b[0;34m,\u001b[0m \u001b[0;34m\"PERIOD\"\u001b[0m\u001b[0;34m,\u001b[0m \u001b[0;34m\"MONTH\"\u001b[0m\u001b[0;34m,\u001b[0m \u001b[0;34m\"MONTH_INDEX\"\u001b[0m\u001b[0;34m,\u001b[0m \u001b[0;34m\"RUBRIQUE_N3\"\u001b[0m\u001b[0;34m]\u001b[0m\u001b[0;34m\u001b[0m\u001b[0;34m\u001b[0m\u001b[0m\n\u001b[1;32m     11\u001b[0m \u001b[0mto_agg\u001b[0m \u001b[0;34m=\u001b[0m \u001b[0;34m{\u001b[0m\u001b[0;34m\"VALUE\"\u001b[0m\u001b[0;34m:\u001b[0m \u001b[0;34m\"sum\"\u001b[0m\u001b[0;34m}\u001b[0m\u001b[0;34m\u001b[0m\u001b[0;34m\u001b[0m\u001b[0m\n\u001b[0;32m---> 12\u001b[0;31m \u001b[0mdataset_evol_ca\u001b[0m \u001b[0;34m=\u001b[0m \u001b[0mdataset_evol_ca\u001b[0m\u001b[0;34m.\u001b[0m\u001b[0mgroupby\u001b[0m\u001b[0;34m(\u001b[0m\u001b[0mto_group\u001b[0m\u001b[0;34m,\u001b[0m \u001b[0mas_index\u001b[0m\u001b[0;34m=\u001b[0m\u001b[0;32mFalse\u001b[0m\u001b[0;34m)\u001b[0m\u001b[0;34m.\u001b[0m\u001b[0magg\u001b[0m\u001b[0;34m(\u001b[0m\u001b[0mto_agg\u001b[0m\u001b[0;34m)\u001b[0m\u001b[0;34m\u001b[0m\u001b[0;34m\u001b[0m\u001b[0m\n\u001b[0m\u001b[1;32m     13\u001b[0m \u001b[0;34m\u001b[0m\u001b[0m\n\u001b[1;32m     14\u001b[0m \u001b[0mdataset_evol_ca\u001b[0m\u001b[0;34m[\u001b[0m\u001b[0;34m\"VALUE\"\u001b[0m\u001b[0;34m]\u001b[0m \u001b[0;34m=\u001b[0m \u001b[0mdataset_evol_ca\u001b[0m\u001b[0;34m[\u001b[0m\u001b[0;34m\"VALUE\"\u001b[0m\u001b[0;34m]\u001b[0m\u001b[0;34m.\u001b[0m\u001b[0mabs\u001b[0m\u001b[0;34m(\u001b[0m\u001b[0;34m)\u001b[0m\u001b[0;34m\u001b[0m\u001b[0;34m\u001b[0m\u001b[0m\n",
      "\u001b[0;32m~/.local/lib/python3.9/site-packages/pandas/core/frame.py\u001b[0m in \u001b[0;36mgroupby\u001b[0;34m(self, by, axis, level, as_index, sort, group_keys, squeeze, observed, dropna)\u001b[0m\n\u001b[1;32m   6715\u001b[0m         \u001b[0maxis\u001b[0m \u001b[0;34m=\u001b[0m \u001b[0mself\u001b[0m\u001b[0;34m.\u001b[0m\u001b[0m_get_axis_number\u001b[0m\u001b[0;34m(\u001b[0m\u001b[0maxis\u001b[0m\u001b[0;34m)\u001b[0m\u001b[0;34m\u001b[0m\u001b[0;34m\u001b[0m\u001b[0m\n\u001b[1;32m   6716\u001b[0m \u001b[0;34m\u001b[0m\u001b[0m\n\u001b[0;32m-> 6717\u001b[0;31m         return DataFrameGroupBy(\n\u001b[0m\u001b[1;32m   6718\u001b[0m             \u001b[0mobj\u001b[0m\u001b[0;34m=\u001b[0m\u001b[0mself\u001b[0m\u001b[0;34m,\u001b[0m\u001b[0;34m\u001b[0m\u001b[0;34m\u001b[0m\u001b[0m\n\u001b[1;32m   6719\u001b[0m             \u001b[0mkeys\u001b[0m\u001b[0;34m=\u001b[0m\u001b[0mby\u001b[0m\u001b[0;34m,\u001b[0m\u001b[0;34m\u001b[0m\u001b[0;34m\u001b[0m\u001b[0m\n",
      "\u001b[0;32m~/.local/lib/python3.9/site-packages/pandas/core/groupby/groupby.py\u001b[0m in \u001b[0;36m__init__\u001b[0;34m(self, obj, keys, axis, level, grouper, exclusions, selection, as_index, sort, group_keys, squeeze, observed, mutated, dropna)\u001b[0m\n\u001b[1;32m    558\u001b[0m             \u001b[0;32mfrom\u001b[0m \u001b[0mpandas\u001b[0m\u001b[0;34m.\u001b[0m\u001b[0mcore\u001b[0m\u001b[0;34m.\u001b[0m\u001b[0mgroupby\u001b[0m\u001b[0;34m.\u001b[0m\u001b[0mgrouper\u001b[0m \u001b[0;32mimport\u001b[0m \u001b[0mget_grouper\u001b[0m\u001b[0;34m\u001b[0m\u001b[0;34m\u001b[0m\u001b[0m\n\u001b[1;32m    559\u001b[0m \u001b[0;34m\u001b[0m\u001b[0m\n\u001b[0;32m--> 560\u001b[0;31m             grouper, exclusions, obj = get_grouper(\n\u001b[0m\u001b[1;32m    561\u001b[0m                 \u001b[0mobj\u001b[0m\u001b[0;34m,\u001b[0m\u001b[0;34m\u001b[0m\u001b[0;34m\u001b[0m\u001b[0m\n\u001b[1;32m    562\u001b[0m                 \u001b[0mkeys\u001b[0m\u001b[0;34m,\u001b[0m\u001b[0;34m\u001b[0m\u001b[0;34m\u001b[0m\u001b[0m\n",
      "\u001b[0;32m~/.local/lib/python3.9/site-packages/pandas/core/groupby/grouper.py\u001b[0m in \u001b[0;36mget_grouper\u001b[0;34m(obj, key, axis, level, sort, observed, mutated, validate, dropna)\u001b[0m\n\u001b[1;32m    809\u001b[0m                 \u001b[0min_axis\u001b[0m\u001b[0;34m,\u001b[0m \u001b[0mname\u001b[0m\u001b[0;34m,\u001b[0m \u001b[0mlevel\u001b[0m\u001b[0;34m,\u001b[0m \u001b[0mgpr\u001b[0m \u001b[0;34m=\u001b[0m \u001b[0;32mFalse\u001b[0m\u001b[0;34m,\u001b[0m \u001b[0;32mNone\u001b[0m\u001b[0;34m,\u001b[0m \u001b[0mgpr\u001b[0m\u001b[0;34m,\u001b[0m \u001b[0;32mNone\u001b[0m\u001b[0;34m\u001b[0m\u001b[0;34m\u001b[0m\u001b[0m\n\u001b[1;32m    810\u001b[0m             \u001b[0;32melse\u001b[0m\u001b[0;34m:\u001b[0m\u001b[0;34m\u001b[0m\u001b[0;34m\u001b[0m\u001b[0m\n\u001b[0;32m--> 811\u001b[0;31m                 \u001b[0;32mraise\u001b[0m \u001b[0mKeyError\u001b[0m\u001b[0;34m(\u001b[0m\u001b[0mgpr\u001b[0m\u001b[0;34m)\u001b[0m\u001b[0;34m\u001b[0m\u001b[0;34m\u001b[0m\u001b[0m\n\u001b[0m\u001b[1;32m    812\u001b[0m         \u001b[0;32melif\u001b[0m \u001b[0misinstance\u001b[0m\u001b[0;34m(\u001b[0m\u001b[0mgpr\u001b[0m\u001b[0;34m,\u001b[0m \u001b[0mGrouper\u001b[0m\u001b[0;34m)\u001b[0m \u001b[0;32mand\u001b[0m \u001b[0mgpr\u001b[0m\u001b[0;34m.\u001b[0m\u001b[0mkey\u001b[0m \u001b[0;32mis\u001b[0m \u001b[0;32mnot\u001b[0m \u001b[0;32mNone\u001b[0m\u001b[0;34m:\u001b[0m\u001b[0;34m\u001b[0m\u001b[0;34m\u001b[0m\u001b[0m\n\u001b[1;32m    813\u001b[0m             \u001b[0;31m# Add key to exclusions\u001b[0m\u001b[0;34m\u001b[0m\u001b[0;34m\u001b[0m\u001b[0;34m\u001b[0m\u001b[0m\n",
      "\u001b[0;31mKeyError\u001b[0m: 'MONTH'"
     ]
    }
   ],
   "source": [
    "# Creation du dataset evol_ca\n",
    "dataset_evol_ca = df_input.copy()\n",
    "\n",
    "# Filtre COMPTE_NUM = Chiffre d'Affaire (RUBRIQUE N1)\n",
    "dataset_evol_ca = dataset_evol_ca[\n",
    "    dataset_evol_ca[\"COMPTE_NUM\"].str.contains(r\"^70|^71|^72\")\n",
    "]\n",
    "\n",
    "# Regroupement\n",
    "to_group = [\"ENTITY\", \"PERIOD\", \"MONTH\", \"MONTH_INDEX\", \"RUBRIQUE_N3\"]\n",
    "to_agg = {\"VALUE\": \"sum\"}\n",
    "dataset_evol_ca = dataset_evol_ca.groupby(to_group, as_index=False).agg(to_agg)\n",
    "\n",
    "dataset_evol_ca[\"VALUE\"] = dataset_evol_ca[\"VALUE\"].abs()\n",
    "\n",
    "\n",
    "# Calcul de la somme cumulée\n",
    "dataset_evol_ca = dataset_evol_ca.sort_values(\n",
    "    by=[\"ENTITY\", \"PERIOD\", \"MONTH_INDEX\"]\n",
    ").reset_index(drop=True)\n",
    "dataset_evol_ca[\"MONTH_INDEX\"] = pd.to_datetime(\n",
    "    dataset_evol_ca[\"MONTH_INDEX\"], format=\"%m\"\n",
    ").dt.strftime(\"%m\")\n",
    "dataset_evol_ca[\"VALUE_CUM\"] = dataset_evol_ca.groupby(\n",
    "    [\"ENTITY\", \"PERIOD\"], as_index=True\n",
    ").agg({\"VALUE\": \"cumsum\"})\n",
    "\n",
    "# Affichage du modèle de donnée\n",
    "dataset_evol_ca"
   ]
  },
  {
   "cell_type": "markdown",
   "id": "6e594afb-890f-41f2-aa25-7c26420f0b7d",
   "metadata": {
    "papermill": {},
    "tags": []
   },
   "source": [
    "## Output"
   ]
  },
  {
   "cell_type": "markdown",
   "id": "compliant-clone",
   "metadata": {
    "papermill": {},
    "tags": []
   },
   "source": [
    "### Sauvegarde des fichiers en csv"
   ]
  },
  {
   "cell_type": "code",
   "execution_count": null,
   "id": "marked-story",
   "metadata": {
    "execution": {
     "iopub.status.busy": "2023-05-24T15:02:34.324021Z",
     "iopub.status.idle": "2023-05-24T15:02:34.324368Z",
     "shell.execute_reply": "2023-05-24T15:02:34.324197Z"
    },
    "papermill": {},
    "tags": []
   },
   "outputs": [],
   "source": [
    "save_df(dataset_evol_ca, output_folder_path)"
   ]
  },
  {
   "cell_type": "code",
   "execution_count": null,
   "id": "408892fe-d1ef-402d-9b7e-d62f1df313b6",
   "metadata": {},
   "outputs": [],
   "source": []
  }
 ],
 "metadata": {
  "kernelspec": {
   "display_name": "Python 3",
   "language": "python",
   "name": "python3"
  },
  "language_info": {
   "codemirror_mode": {
    "name": "ipython",
    "version": 3
   },
   "file_extension": ".py",
   "mimetype": "text/x-python",
   "name": "python",
   "nbconvert_exporter": "python",
   "pygments_lexer": "ipython3",
   "version": "3.9.6"
  },
  "naas": {
   "notebook_id": "488da1e7-5583-478f-b198-277886651611",
   "notebook_path": "FEC/FEC_Creer_un_dashboard_PowerBI.ipynb"
  },
  "papermill": {
   "default_parameters": {},
   "environment_variables": {},
   "parameters": {},
   "version": "2.3.3"
  }
 },
 "nbformat": 4,
 "nbformat_minor": 5
}
