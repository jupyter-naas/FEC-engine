{
 "cells": [
  {
   "cell_type": "markdown",
   "id": "dd66232c-09f1-44bf-8849-0cd5c52f78a6",
   "metadata": {},
   "source": [
    "<img width=\"10%\" alt=\"Naas\" src=\"https://landen.imgix.net/jtci2pxwjczr/assets/5ice39g4.png?w=160\"/>"
   ]
  },
  {
   "cell_type": "markdown",
   "id": "633951dc-ca87-4032-ad2d-b76a909861bf",
   "metadata": {},
   "source": [
    "# Pipeline"
   ]
  },
  {
   "cell_type": "markdown",
   "id": "dc8969f9-6f45-4131-9983-a9cfec61be43",
   "metadata": {},
   "source": [
    "**Tags:** #naas #pipeline #automation #snippet"
   ]
  },
  {
   "cell_type": "markdown",
   "id": "29d1ba56-7c9e-4895-836e-afcbdb1bb75c",
   "metadata": {},
   "source": [
    "**Author:** [Florent Ravenel](https://www.linkedin.com/in/florent-ravenel/)"
   ]
  },
  {
   "cell_type": "markdown",
   "id": "7ab2ef2b-2651-462b-bc17-7ec25608acf3",
   "metadata": {},
   "source": [
    "**Description:** This notebook acts as a central hub for all your scripts. It automates the execution of your scripts in a defined order, forming a pipeline. It streamlines the process by eliminating manual intervention and ensures consistency in results. The notebook also provides a visual representation of the workflow, making it easier to understand and manage. With this notebook, you can easily run all your scripts as a cohesive unit, saving time and reducing the risk of errors."
   ]
  },
  {
   "cell_type": "markdown",
   "id": "524d5465-bce2-42f3-8d18-6f821dae07a5",
   "metadata": {},
   "source": [
    "## Input"
   ]
  },
  {
   "cell_type": "markdown",
   "id": "918e5873-b444-43d4-aacd-852fffb5aceb",
   "metadata": {},
   "source": [
    "### Import libraries"
   ]
  },
  {
   "cell_type": "code",
   "execution_count": null,
   "id": "f6585d07-f50b-439a-84a9-4c0061870d29",
   "metadata": {
    "tags": []
   },
   "outputs": [],
   "source": [
    "try:\n",
    "    from naas_data_product import *\n",
    "except:\n",
    "    !pip install naas_data_product --user\n",
    "    from naas_data_product import *\n",
    "from naas.pipeline import Pipeline, NotebookStep, End, DummyStep"
   ]
  },
  {
   "cell_type": "markdown",
   "id": "879cc555-89f2-4884-ad80-d2bea449eb52",
   "metadata": {},
   "source": [
    "### Setup notebooks\n",
    "This section is made to declare all the notebooks and create unique IDs that will be used in the pipeline. "
   ]
  },
  {
   "cell_type": "code",
   "execution_count": null,
   "id": "61400f78-56e2-4818-be37-be1e2c216e12",
   "metadata": {
    "tags": []
   },
   "outputs": [],
   "source": [
    "extraction = DummyStep(\n",
    "    name='Extraction', #notebook name display in pipeline\n",
    "#     notebook_path=\"IMO_template.ipynb\", # notebook path to be run\n",
    "#     parameters={}, #inserted in your notebook after cell tagged 'parameters'\n",
    ")\n",
    "\n",
    "datamodel = DummyStep(\n",
    "    name='Modelling', #notebook name display in pipeline\n",
    "#     notebook_path=\"IMO_template.ipynb\", # notebook path to be run\n",
    "#     parameters={}, #inserted in your notebook after cell tagged 'parameters'\n",
    ")\n",
    "\n",
    "enrich = DummyStep(\n",
    "    name='Enrichment', #notebook name display in pipeline\n",
    "#     notebook_path=\"IMO_template.ipynb\", # notebook path to be run\n",
    "#     parameters={}, #inserted in your notebook after cell tagged 'parameters'\n",
    ")\n",
    "\n",
    "ref_entity = DummyStep(\n",
    "    name='Ref. Entity', #notebook name display in pipeline\n",
    "#     notebook_path=\"IMO_template.ipynb\", # notebook path to be run\n",
    "#     parameters={}, #inserted in your notebook after cell tagged 'parameters'\n",
    ")\n",
    "\n",
    "ref_scenario = DummyStep(\n",
    "    name='Ref. Scenario', #notebook name display in pipeline\n",
    "#     notebook_path=\"IMO_template.ipynb\", # notebook path to be run\n",
    "#     parameters={}, #inserted in your notebook after cell tagged 'parameters'\n",
    ")\n",
    "\n",
    "kpis = DummyStep(\n",
    "    name='KPIs', #notebook name display in pipeline\n",
    "#     notebook_path=\"IMO_template.ipynb\", # notebook path to be run\n",
    "#     parameters={}, #inserted in your notebook after cell tagged 'parameters'\n",
    ")\n",
    "\n",
    "ca = DummyStep(\n",
    "    name='CA', #notebook name display in pipeline\n",
    "#     notebook_path=\"IMO_template.ipynb\", # notebook path to be run\n",
    "#     parameters={}, #inserted in your notebook after cell tagged 'parameters'\n",
    ")\n",
    "\n",
    "treso = DummyStep(\n",
    "    name='Trésorerie', #notebook name display in pipeline\n",
    "#     notebook_path=\"IMO_template.ipynb\", # notebook path to be run\n",
    "#     parameters={}, #inserted in your notebook after cell tagged 'parameters'\n",
    ")\n",
    "\n",
    "charges = DummyStep(\n",
    "    name='Charges', #notebook name display in pipeline\n",
    "#     notebook_path=\"IMO_template.ipynb\", # notebook path to be run\n",
    "#     parameters={}, #inserted in your notebook after cell tagged 'parameters'\n",
    ")\n",
    "\n",
    "bilan = DummyStep(\n",
    "    name='Bilan', #notebook name display in pipeline\n",
    "#     notebook_path=\"IMO_template.ipynb\", # notebook path to be run\n",
    "#     parameters={}, #inserted in your notebook after cell tagged 'parameters'\n",
    ")"
   ]
  },
  {
   "cell_type": "markdown",
   "id": "ea6ff4cf-cea6-420e-b190-5979156b5fed",
   "metadata": {
    "tags": []
   },
   "source": [
    "## Model"
   ]
  },
  {
   "cell_type": "markdown",
   "id": "c605f360-3459-40d1-a68b-227f38a6684e",
   "metadata": {},
   "source": [
    "### Run pipeline"
   ]
  },
  {
   "cell_type": "code",
   "execution_count": null,
   "id": "60b8cbe6-79bc-437f-a827-58eaa065e359",
   "metadata": {
    "tags": []
   },
   "outputs": [],
   "source": [
    "pipeline = Pipeline()\n",
    "\n",
    "pipeline >> extraction >> datamodel >> enrich >> [\n",
    "    ref_entity,\n",
    "    ref_scenario,\n",
    "    kpis,\n",
    "    ca,\n",
    "    treso,\n",
    "    charges,\n",
    "    bilan\n",
    "] >> End()\n",
    "\n",
    "pipeline.run()"
   ]
  },
  {
   "cell_type": "markdown",
   "id": "d856dbf2-37a4-4e52-804a-81c3728b99a7",
   "metadata": {},
   "source": [
    "## Output"
   ]
  },
  {
   "cell_type": "markdown",
   "id": "4a4a8017-bf14-4da4-b637-243655298663",
   "metadata": {},
   "source": [
    "### Display result"
   ]
  },
  {
   "cell_type": "code",
   "execution_count": null,
   "id": "5b4d6b8f-197b-493f-8a8c-dcff21d6845f",
   "metadata": {
    "tags": []
   },
   "outputs": [],
   "source": [
    "print(\"✅ Pipeline ran successfully.\")"
   ]
  }
 ],
 "metadata": {
  "kernelspec": {
   "display_name": "Python 3",
   "language": "python",
   "name": "python3"
  },
  "language_info": {
   "codemirror_mode": {
    "name": "ipython",
    "version": 3
   },
   "file_extension": ".py",
   "mimetype": "text/x-python",
   "name": "python",
   "nbconvert_exporter": "python",
   "pygments_lexer": "ipython3",
   "version": "3.9.6"
  },
  "widgets": {
   "application/vnd.jupyter.widget-state+json": {
    "state": {},
    "version_major": 2,
    "version_minor": 0
   }
  }
 },
 "nbformat": 4,
 "nbformat_minor": 5
}
