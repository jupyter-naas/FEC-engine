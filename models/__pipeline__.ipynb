{
 "cells": [
  {
   "cell_type": "markdown",
   "id": "dd66232c-09f1-44bf-8849-0cd5c52f78a6",
   "metadata": {},
   "source": [
    "<img width=\"10%\" alt=\"Naas\" src=\"https://landen.imgix.net/jtci2pxwjczr/assets/5ice39g4.png?w=160\"/>"
   ]
  },
  {
   "cell_type": "markdown",
   "id": "633951dc-ca87-4032-ad2d-b76a909861bf",
   "metadata": {},
   "source": [
    "# Pipeline"
   ]
  },
  {
   "cell_type": "markdown",
   "id": "dc8969f9-6f45-4131-9983-a9cfec61be43",
   "metadata": {},
   "source": [
    "**Tags:** #naas #pipeline #automation #snippet"
   ]
  },
  {
   "cell_type": "markdown",
   "id": "29d1ba56-7c9e-4895-836e-afcbdb1bb75c",
   "metadata": {},
   "source": [
    "**Author:** [Florent Ravenel](https://www.linkedin.com/in/florent-ravenel/)"
   ]
  },
  {
   "cell_type": "markdown",
   "id": "7ab2ef2b-2651-462b-bc17-7ec25608acf3",
   "metadata": {},
   "source": [
    "**Description:** This notebook acts as a central hub for all your scripts. It automates the execution of your scripts in a defined order, forming a pipeline. It streamlines the process by eliminating manual intervention and ensures consistency in results. The notebook also provides a visual representation of the workflow, making it easier to understand and manage. With this notebook, you can easily run all your scripts as a cohesive unit, saving time and reducing the risk of errors."
   ]
  },
  {
   "cell_type": "markdown",
   "id": "524d5465-bce2-42f3-8d18-6f821dae07a5",
   "metadata": {},
   "source": [
    "## Input"
   ]
  },
  {
   "cell_type": "markdown",
   "id": "918e5873-b444-43d4-aacd-852fffb5aceb",
   "metadata": {},
   "source": [
    "### Import libraries"
   ]
  },
  {
   "cell_type": "code",
   "execution_count": null,
   "id": "f6585d07-f50b-439a-84a9-4c0061870d29",
   "metadata": {
    "tags": []
   },
   "outputs": [],
   "source": [
    "try:\n",
    "    from naas_data_product import *\n",
    "except:\n",
    "    !pip install naas_data_product --user\n",
    "    from naas_data_product import *\n",
    "from naas.pipeline import Pipeline, NotebookStep, End, DummyStep"
   ]
  },
  {
   "cell_type": "markdown",
   "id": "d0e65c72-6f60-414d-8f4b-60578f54ef41",
   "metadata": {},
   "source": [
    "### Setup Variables"
   ]
  },
  {
   "cell_type": "code",
   "execution_count": null,
   "id": "6e358494-91b5-4eab-8bc4-6c63866ff0e6",
   "metadata": {},
   "outputs": [],
   "source": [
    "input_dir = \"/home/ftp/FEC-engine/inputs\"\n",
    "output_dir = \"/home/ftp/FEC-engine/outputs\""
   ]
  },
  {
   "cell_type": "markdown",
   "id": "ea6ff4cf-cea6-420e-b190-5979156b5fed",
   "metadata": {
    "tags": []
   },
   "source": [
    "## Model"
   ]
  },
  {
   "cell_type": "markdown",
   "id": "879cc555-89f2-4884-ad80-d2bea449eb52",
   "metadata": {},
   "source": [
    "### Setup notebooks\n",
    "This section is made to declare all the notebooks and create unique IDs that will be used in the pipeline. "
   ]
  },
  {
   "cell_type": "code",
   "execution_count": null,
   "id": "61400f78-56e2-4818-be37-be1e2c216e12",
   "metadata": {
    "tags": [
     "parameters"
    ]
   },
   "outputs": [],
   "source": [
    "extraction = NotebookStep(\n",
    "    name='Extraction', #notebook name display in pipeline\n",
    "    notebook_path=\"FEC_Lecture_des_fichiers.ipynb\", # notebook path to be run\n",
    "    parameters={\n",
    "        \"input_folder_path\": input_dir,\n",
    "        \"output_folder_path\": f\"{output_dir}/FEC/bdd_fec\"\n",
    "    } #inserted in your notebook after cell tagged 'parameters'\n",
    ")\n",
    "\n",
    "datamodel = NotebookStep(\n",
    "    name='Modelling', #notebook name display in pipeline\n",
    "    notebook_path=\"FEC_Creation_du_modèle_de_données.ipynb\", # notebook path to be run\n",
    "    parameters={\n",
    "        \"input_folder_path\": f\"{output_dir}/FEC/bdd_fec\",\n",
    "        \"output_folder_path\": f\"{output_dir}/FEC/bdd_fin\"\n",
    "    } #inserted in your notebook after cell tagged 'parameters'\n",
    ")\n",
    "\n",
    "enrich = NotebookStep(\n",
    "    name='Enrichment', #notebook name display in pipeline\n",
    "    notebook_path=\"FEC_Enrichissement_du_modèle_de_données.ipynb\", # notebook path to be run\n",
    "    parameters={\n",
    "        \"input_folder_path\": f\"{output_dir}/FEC/bdd_fin\",\n",
    "        \"output_folder_path\": f\"{output_dir}/FEC/bdd_fin_enr\"\n",
    "    } #inserted in your notebook after cell tagged 'parameters'\n",
    ")\n",
    "    \n",
    "ref_entity = NotebookStep(\n",
    "    name='Ref. Entity', #notebook name display in pipeline\n",
    "    notebook_path=\"FEC_Création_des_référentiels.ipynb\", # notebook path to be run\n",
    "    parameters={\n",
    "        \"input_folder_path\": f\"{output_dir}/FEC/bdd_fin\",\n",
    "        \"ref_column\": \"ENTITY\",\n",
    "        \"output_folder_path\": f\"{output_dir}/FEC/referentiel_entite\",\n",
    "    } #inserted in your notebook after cell tagged 'parameters'\n",
    ")\n",
    "\n",
    "ref_scenario = NotebookStep(\n",
    "    name='Ref. Scenario', #notebook name display in pipeline\n",
    "    notebook_path=\"FEC_Création_des_référentiels.ipynb\", # notebook path to be run\n",
    "    parameters={\n",
    "        \"input_folder_path\": f\"{output_dir}/FEC/bdd_fin\",\n",
    "        \"ref_column\": \"PERIOD\",\n",
    "        \"output_folder_path\": f\"{output_dir}/FEC/referentiel_periode\",\n",
    "    }, #inserted in your notebook after cell tagged 'parameters'\n",
    ")\n",
    "\n",
    "kpis = NotebookStep(\n",
    "    name='KPIs', #notebook name display in pipeline\n",
    "    notebook_path=\"FEC_Création_dataset_KPIs.ipynb\", # notebook path to be run\n",
    "    parameters={\n",
    "        \"input_folder_path\": f\"{output_dir}/FEC/bdd_fin_enr\",\n",
    "        \"output_folder_path\": f\"{output_dir}/FEC/dataset_kpis\",\n",
    "    }, #inserted in your notebook after cell tagged 'parameters'\n",
    ")\n",
    "\n",
    "ca = NotebookStep(\n",
    "    name='CA', #notebook name display in pipeline\n",
    "    notebook_path=\"FEC_Création_dataset_Evolution_CA.ipynb\", # notebook path to be run\n",
    "    parameters={\n",
    "        \"input_folder_path\": f\"{output_dir}/FEC/bdd_fin\",\n",
    "        \"output_folder_path\": f\"{output_dir}/FEC/dataset_evolution_ca\",\n",
    "    }, #inserted in your notebook after cell tagged 'parameters'\n",
    ")\n",
    "\n",
    "treso = NotebookStep(\n",
    "    name='Trésorerie', #notebook name display in pipeline\n",
    "    notebook_path=\"FEC_Création_dataset_Trésorerie.ipynb\", # notebook path to be run\n",
    "    parameters={\n",
    "        \"input_folder_path\": f\"{output_dir}/FEC/bdd_fin\",\n",
    "        \"output_folder_path\": f\"{output_dir}/FEC/dataset_tresorerie\",\n",
    "    }, #inserted in your notebook after cell tagged 'parameters'\n",
    ")\n",
    "\n",
    "charges = NotebookStep(\n",
    "    name='Charges', #notebook name display in pipeline\n",
    "    notebook_path=\"FEC_Création_dataset_Charges.ipynb\", # notebook path to be run\n",
    "    parameters={\n",
    "        \"input_folder_path\": f\"{output_dir}/FEC/bdd_fin_enr\",\n",
    "        \"output_folder_path\": f\"{output_dir}/FEC/dataset_charges\",\n",
    "    }, #inserted in your notebook after cell tagged 'parameters'\n",
    ")\n",
    "\n",
    "bilan = NotebookStep(\n",
    "    name='Bilan', #notebook name display in pipeline\n",
    "    notebook_path=\"FEC_Création_dataset_Bilan.ipynb\", # notebook path to be run\n",
    "    parameters={\n",
    "        \"input_folder_path\": f\"{output_dir}/FEC/bdd_fin_enr\",\n",
    "        \"output_folder_path\": f\"{output_dir}/FEC/dataset_bilan\",\n",
    "    }, #inserted in your notebook after cell tagged 'parameters'\n",
    ")\n",
    "\n",
    "dashboard = NotebookStep(\n",
    "    name='Dashboard', #notebook name display in pipeline\n",
    "    notebook_path=\"FEC_Dashboard.ipynb\", # notebook path to be run\n",
    ")"
   ]
  },
  {
   "cell_type": "markdown",
   "id": "d856dbf2-37a4-4e52-804a-81c3728b99a7",
   "metadata": {},
   "source": [
    "## Output"
   ]
  },
  {
   "cell_type": "markdown",
   "id": "c605f360-3459-40d1-a68b-227f38a6684e",
   "metadata": {},
   "source": [
    "### Run pipeline"
   ]
  },
  {
   "cell_type": "code",
   "execution_count": null,
   "id": "60b8cbe6-79bc-437f-a827-58eaa065e359",
   "metadata": {
    "tags": []
   },
   "outputs": [],
   "source": [
    "pipeline = Pipeline()\n",
    "\n",
    "pipeline >> extraction >> datamodel >> enrich >> [\n",
    "    ref_entity,\n",
    "    ref_scenario,\n",
    "    kpis,\n",
    "    ca,\n",
    "    treso,\n",
    "    charges,\n",
    "    bilan\n",
    "] >> End()\n",
    "\n",
    "pipeline.run()"
   ]
  },
  {
   "cell_type": "markdown",
   "id": "a6f58c5e-a634-4729-b0bb-b75dd6a79ec1",
   "metadata": {},
   "source": [
    "### Run Dashboard"
   ]
  },
  {
   "cell_type": "code",
   "execution_count": null,
   "id": "a1e96e6a-4661-4e2e-9dcd-074fe0b51506",
   "metadata": {
    "tags": []
   },
   "outputs": [],
   "source": [
    "%run FEC_Dashboard.ipynb"
   ]
  }
 ],
 "metadata": {
  "kernelspec": {
   "display_name": "Python 3",
   "language": "python",
   "name": "python3"
  },
  "language_info": {
   "codemirror_mode": {
    "name": "ipython",
    "version": 3
   },
   "file_extension": ".py",
   "mimetype": "text/x-python",
   "name": "python",
   "nbconvert_exporter": "python",
   "pygments_lexer": "ipython3",
   "version": "3.9.6"
  },
  "widgets": {
   "application/vnd.jupyter.widget-state+json": {
    "state": {},
    "version_major": 2,
    "version_minor": 0
   }
  }
 },
 "nbformat": 4,
 "nbformat_minor": 5
}
