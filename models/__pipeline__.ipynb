{
 "cells": [
  {
   "cell_type": "code",
   "execution_count": null,
   "id": "57f01dcc-d1d6-4d2e-a3c7-0d38ceaa4da7",
   "metadata": {},
   "outputs": [],
   "source": []
  },
  {
   "cell_type": "markdown",
   "id": "dd66232c-09f1-44bf-8849-0cd5c52f78a6",
   "metadata": {},
   "source": [
    "<img width=\"10%\" alt=\"Naas\" src=\"https://landen.imgix.net/jtci2pxwjczr/assets/5ice39g4.png?w=160\"/>"
   ]
  },
  {
   "cell_type": "markdown",
   "id": "633951dc-ca87-4032-ad2d-b76a909861bf",
   "metadata": {},
   "source": [
    "# Pipeline"
   ]
  },
  {
   "cell_type": "markdown",
   "id": "dc8969f9-6f45-4131-9983-a9cfec61be43",
   "metadata": {},
   "source": [
    "**Tags:** #naas #pipeline #automation #snippet"
   ]
  },
  {
   "cell_type": "markdown",
   "id": "29d1ba56-7c9e-4895-836e-afcbdb1bb75c",
   "metadata": {},
   "source": [
    "**Author:** [Florent Ravenel](https://www.linkedin.com/in/florent-ravenel/)"
   ]
  },
  {
   "cell_type": "markdown",
   "id": "7ab2ef2b-2651-462b-bc17-7ec25608acf3",
   "metadata": {},
   "source": [
    "**Description:** This notebook acts as a central hub for all your scripts. It automates the execution of your scripts in a defined order, forming a pipeline. It streamlines the process by eliminating manual intervention and ensures consistency in results. The notebook also provides a visual representation of the workflow, making it easier to understand and manage. With this notebook, you can easily run all your scripts as a cohesive unit, saving time and reducing the risk of errors."
   ]
  },
  {
   "cell_type": "markdown",
   "id": "524d5465-bce2-42f3-8d18-6f821dae07a5",
   "metadata": {},
   "source": [
    "## Input"
   ]
  },
  {
   "cell_type": "markdown",
   "id": "918e5873-b444-43d4-aacd-852fffb5aceb",
   "metadata": {},
   "source": [
    "### Import libraries"
   ]
  },
  {
   "cell_type": "code",
   "execution_count": 1,
   "id": "f6585d07-f50b-439a-84a9-4c0061870d29",
   "metadata": {
    "execution": {
     "iopub.execute_input": "2023-05-25T09:56:42.770930Z",
     "iopub.status.busy": "2023-05-25T09:56:42.770726Z",
     "iopub.status.idle": "2023-05-25T09:56:46.410703Z",
     "shell.execute_reply": "2023-05-25T09:56:46.409638Z",
     "shell.execute_reply.started": "2023-05-25T09:56:42.770874Z"
    },
    "tags": []
   },
   "outputs": [
    {
     "name": "stdout",
     "output_type": "stream",
     "text": [
      "✅ utils file '/home/ftp/FEC-engine/utils/datalake.ipynb' successfully loaded.\n"
     ]
    }
   ],
   "source": [
    "try:\n",
    "    from naas_data_product import *\n",
    "except:\n",
    "    !pip install naas_data_product --user\n",
    "    from naas_data_product import *\n",
    "from naas.pipeline import Pipeline, NotebookStep, End, DummyStep"
   ]
  },
  {
   "cell_type": "markdown",
   "id": "d0e65c72-6f60-414d-8f4b-60578f54ef41",
   "metadata": {},
   "source": [
    "### Setup Variables"
   ]
  },
  {
   "cell_type": "code",
   "execution_count": 2,
   "id": "6e358494-91b5-4eab-8bc4-6c63866ff0e6",
   "metadata": {
    "execution": {
     "iopub.execute_input": "2023-05-25T09:56:46.412176Z",
     "iopub.status.busy": "2023-05-25T09:56:46.411941Z",
     "iopub.status.idle": "2023-05-25T09:56:46.414911Z",
     "shell.execute_reply": "2023-05-25T09:56:46.414320Z",
     "shell.execute_reply.started": "2023-05-25T09:56:46.412145Z"
    }
   },
   "outputs": [],
   "source": [
    "input_dir = \"/home/ftp/FEC-engine/inputs\"\n",
    "output_dir = \"/home/ftp/FEC-engine/outputs\""
   ]
  },
  {
   "cell_type": "markdown",
   "id": "ea6ff4cf-cea6-420e-b190-5979156b5fed",
   "metadata": {
    "tags": []
   },
   "source": [
    "## Model"
   ]
  },
  {
   "cell_type": "markdown",
   "id": "879cc555-89f2-4884-ad80-d2bea449eb52",
   "metadata": {},
   "source": [
    "### Setup notebooks\n",
    "This section is made to declare all the notebooks and create unique IDs that will be used in the pipeline. "
   ]
  },
  {
   "cell_type": "code",
   "execution_count": 3,
   "id": "61400f78-56e2-4818-be37-be1e2c216e12",
   "metadata": {
    "execution": {
     "iopub.execute_input": "2023-05-25T09:56:46.416694Z",
     "iopub.status.busy": "2023-05-25T09:56:46.416277Z",
     "iopub.status.idle": "2023-05-25T09:56:46.490849Z",
     "shell.execute_reply": "2023-05-25T09:56:46.490259Z",
     "shell.execute_reply.started": "2023-05-25T09:56:46.416663Z"
    },
    "tags": [
     "parameters"
    ]
   },
   "outputs": [],
   "source": [
    "extraction = NotebookStep(\n",
    "    name='Extraction', #notebook name display in pipeline\n",
    "    notebook_path=\"FEC_Lecture_des_fichiers.ipynb\", # notebook path to be run\n",
    "    parameters={\n",
    "        \"input_folder_path\": input_dir,\n",
    "        \"output_folder_path\": f\"{output_dir}/FEC/bdd_fec\"\n",
    "    } #inserted in your notebook after cell tagged 'parameters'\n",
    ")\n",
    "\n",
    "datamodel = NotebookStep(\n",
    "    name='Modelling', #notebook name display in pipeline\n",
    "    notebook_path=\"FEC_Creation_du_modèle_de_données.ipynb\", # notebook path to be run\n",
    "    parameters={\n",
    "        \"input_folder_path\": f\"{output_dir}/FEC/bdd_fec\",\n",
    "        \"output_folder_path\": f\"{output_dir}/FEC/bdd_fin\"\n",
    "    } #inserted in your notebook after cell tagged 'parameters'\n",
    ")\n",
    "\n",
    "enrich = NotebookStep(\n",
    "    name='Enrichment', #notebook name display in pipeline\n",
    "    notebook_path=\"FEC_Enrichissement_du_modèle_de_données.ipynb\", # notebook path to be run\n",
    "    parameters={\n",
    "        \"input_folder_path\": f\"{output_dir}/FEC/bdd_fin\",\n",
    "        \"output_folder_path\": f\"{output_dir}/FEC/bdd_fin_enr\"\n",
    "    } #inserted in your notebook after cell tagged 'parameters'\n",
    ")\n",
    "    \n",
    "ref_entity = NotebookStep(\n",
    "    name='Ref. Entity', #notebook name display in pipeline\n",
    "    notebook_path=\"FEC_Création_des_référentiels.ipynb\", # notebook path to be run\n",
    "    parameters={\n",
    "        \"input_folder_path\": f\"{output_dir}/FEC/bdd_fin\",\n",
    "        \"ref_column\": \"ENTITY\",\n",
    "        \"output_folder_path\": f\"{output_dir}/FEC/referentiel_entite\",\n",
    "    } #inserted in your notebook after cell tagged 'parameters'\n",
    ")\n",
    "\n",
    "ref_scenario = NotebookStep(\n",
    "    name='Ref. Scenario', #notebook name display in pipeline\n",
    "    notebook_path=\"FEC_Création_des_référentiels.ipynb\", # notebook path to be run\n",
    "    parameters={\n",
    "        \"input_folder_path\": f\"{output_dir}/FEC/bdd_fin\",\n",
    "        \"ref_column\": \"PERIOD\",\n",
    "        \"output_folder_path\": f\"{output_dir}/FEC/referentiel_periode\",\n",
    "    }, #inserted in your notebook after cell tagged 'parameters'\n",
    ")\n",
    "\n",
    "kpis = NotebookStep(\n",
    "    name='KPIs', #notebook name display in pipeline\n",
    "    notebook_path=\"FEC_Création_dataset_KPIs.ipynb\", # notebook path to be run\n",
    "    parameters={\n",
    "        \"input_folder_path\": f\"{output_dir}/FEC/bdd_fin_enr\",\n",
    "        \"output_folder_path\": f\"{output_dir}/FEC/dataset_kpis\",\n",
    "    }, #inserted in your notebook after cell tagged 'parameters'\n",
    ")\n",
    "\n",
    "ca = NotebookStep(\n",
    "    name='CA', #notebook name display in pipeline\n",
    "    notebook_path=\"FEC_Création_dataset_Evolution_CA.ipynb\", # notebook path to be run\n",
    "    parameters={\n",
    "        \"input_folder_path\": f\"{output_dir}/FEC/bdd_fin\",\n",
    "        \"output_folder_path\": f\"{output_dir}/FEC/dataset_evolution_ca\",\n",
    "    }, #inserted in your notebook after cell tagged 'parameters'\n",
    ")\n",
    "\n",
    "treso = NotebookStep(\n",
    "    name='Trésorerie', #notebook name display in pipeline\n",
    "    notebook_path=\"FEC_Création_dataset_Trésorerie.ipynb\", # notebook path to be run\n",
    "    parameters={\n",
    "        \"input_folder_path\": f\"{output_dir}/FEC/bdd_fin\",\n",
    "        \"output_folder_path\": f\"{output_dir}/FEC/dataset_tresorerie\",\n",
    "    }, #inserted in your notebook after cell tagged 'parameters'\n",
    ")\n",
    "\n",
    "charges = NotebookStep(\n",
    "    name='Charges', #notebook name display in pipeline\n",
    "    notebook_path=\"FEC_Création_dataset_Charges.ipynb\", # notebook path to be run\n",
    "    parameters={\n",
    "        \"input_folder_path\": f\"{output_dir}/FEC/bdd_fin_enr\",\n",
    "        \"output_folder_path\": f\"{output_dir}/FEC/dataset_charges\",\n",
    "    }, #inserted in your notebook after cell tagged 'parameters'\n",
    ")\n",
    "\n",
    "bilan = NotebookStep(\n",
    "    name='Bilan', #notebook name display in pipeline\n",
    "    notebook_path=\"FEC_Création_dataset_Bilan.ipynb\", # notebook path to be run\n",
    "    parameters={\n",
    "        \"input_folder_path\": f\"{output_dir}/FEC/bdd_fin_enr\",\n",
    "        \"output_folder_path\": f\"{output_dir}/FEC/dataset_bilan\",\n",
    "    }, #inserted in your notebook after cell tagged 'parameters'\n",
    ")"
   ]
  },
  {
   "cell_type": "markdown",
   "id": "d856dbf2-37a4-4e52-804a-81c3728b99a7",
   "metadata": {},
   "source": [
    "## Output"
   ]
  },
  {
   "cell_type": "markdown",
   "id": "c605f360-3459-40d1-a68b-227f38a6684e",
   "metadata": {},
   "source": [
    "### Run pipeline"
   ]
  },
  {
   "cell_type": "code",
   "execution_count": 4,
   "id": "60b8cbe6-79bc-437f-a827-58eaa065e359",
   "metadata": {
    "execution": {
     "iopub.execute_input": "2023-05-25T09:56:46.492152Z",
     "iopub.status.busy": "2023-05-25T09:56:46.491915Z",
     "iopub.status.idle": "2023-05-25T09:57:53.724521Z",
     "shell.execute_reply": "2023-05-25T09:57:53.723827Z",
     "shell.execute_reply.started": "2023-05-25T09:56:46.492122Z"
    },
    "tags": []
   },
   "outputs": [
    {
     "data": {
      "text/html": [
       "<html>\n",
       "<head>\n",
       "<link rel=\"stylesheet\" href=\"https://cdn.jsdelivr.net/npm/vis-network@latest/styles/vis-network.css\" type=\"text/css\" />\n",
       "<script type=\"text/javascript\" src=\"https://cdn.jsdelivr.net/npm/vis-network@latest/dist/vis-network.min.js\"> </script>\n",
       "<center>\n",
       "<h1></h1>\n",
       "</center>\n",
       "\n",
       "<!-- <link rel=\"stylesheet\" href=\"../node_modules/vis/dist/vis.min.css\" type=\"text/css\" />\n",
       "<script type=\"text/javascript\" src=\"../node_modules/vis/dist/vis.js\"> </script>-->\n",
       "\n",
       "<style type=\"text/css\">\n",
       "\n",
       "        #mynetwork {\n",
       "            width: 100%;\n",
       "            height: 1000px;\n",
       "            background-color: #212121;\n",
       "            border: 1px solid lightgray;\n",
       "            position: relative;\n",
       "            float: left;\n",
       "        }\n",
       "\n",
       "        \n",
       "\n",
       "        \n",
       "\n",
       "        \n",
       "</style>\n",
       "\n",
       "</head>\n",
       "\n",
       "<body>\n",
       "<div id = \"mynetwork\"></div>\n",
       "\n",
       "\n",
       "<script type=\"text/javascript\">\n",
       "\n",
       "    // initialize global variables.\n",
       "    var edges;\n",
       "    var nodes;\n",
       "    var network; \n",
       "    var container;\n",
       "    var options, data;\n",
       "\n",
       "    \n",
       "    // This method is responsible for drawing the graph, returns the drawn network\n",
       "    function drawGraph() {\n",
       "        var container = document.getElementById('mynetwork');\n",
       "        \n",
       "        \n",
       "\n",
       "        // parsing and collecting nodes and edges from the python\n",
       "        nodes = new vis.DataSet([{\"color\": \"#5DE191\", \"font\": {\"color\": \"#ffffff\"}, \"id\": \"Start\", \"image\": \"start-end.png\", \"label\": \"Start\", \"level\": 0, \"mass\": 5, \"shape\": \"circularImage\", \"x\": 0, \"y\": 0}, {\"color\": \"#5DE191\", \"font\": {\"color\": \"#ffffff\"}, \"id\": \"Extraction\", \"label\": \"Extraction\", \"level\": 1, \"mass\": 5, \"shape\": \"box\", \"x\": 1, \"y\": 0}, {\"color\": \"#5DE191\", \"font\": {\"color\": \"#ffffff\"}, \"id\": \"Modelling\", \"label\": \"Modelling\", \"level\": 2, \"mass\": 5, \"shape\": \"box\", \"x\": 2, \"y\": 0}, {\"color\": \"#5DE191\", \"font\": {\"color\": \"#ffffff\"}, \"id\": \"Enrichment\", \"label\": \"Enrichment\", \"level\": 3, \"mass\": 5, \"shape\": \"box\", \"x\": 3, \"y\": 0}, {\"color\": \"#5DE191\", \"font\": {\"color\": \"#ffffff\"}, \"id\": \"ParallelStep-bc26248c-f51c-40c7-be3e-11c5c1c4052a\", \"image\": \"parallel.png\", \"label\": \"Parallel Step\", \"level\": 4, \"mass\": 20, \"shape\": \"circularImage\", \"x\": 4, \"y\": 0}, {\"color\": \"#5DE191\", \"font\": {\"color\": \"#ffffff\"}, \"id\": \"Ref. Entity\", \"label\": \"Ref. Entity\", \"level\": 5, \"mass\": 5, \"shape\": \"box\", \"x\": 5, \"y\": 0}, {\"color\": \"#5DE191\", \"font\": {\"color\": \"#ffffff\"}, \"id\": \"Ref. Scenario\", \"label\": \"Ref. Scenario\", \"level\": 5, \"mass\": 5, \"shape\": \"box\", \"x\": 5, \"y\": 0}, {\"color\": \"#5DE191\", \"font\": {\"color\": \"#ffffff\"}, \"id\": \"KPIs\", \"label\": \"KPIs\", \"level\": 5, \"mass\": 5, \"shape\": \"box\", \"x\": 5, \"y\": 0}, {\"color\": \"#5DE191\", \"font\": {\"color\": \"#ffffff\"}, \"id\": \"CA\", \"label\": \"CA\", \"level\": 5, \"mass\": 5, \"shape\": \"box\", \"x\": 5, \"y\": 0}, {\"color\": \"#5DE191\", \"font\": {\"color\": \"#ffffff\"}, \"id\": \"Tr\\u00e9sorerie\", \"label\": \"Tr\\u00e9sorerie\", \"level\": 5, \"mass\": 5, \"shape\": \"box\", \"x\": 5, \"y\": 0}, {\"color\": \"#5DE191\", \"font\": {\"color\": \"#ffffff\"}, \"id\": \"Charges\", \"label\": \"Charges\", \"level\": 5, \"mass\": 5, \"shape\": \"box\", \"x\": 5, \"y\": 0}, {\"color\": \"#5DE191\", \"font\": {\"color\": \"#ffffff\"}, \"id\": \"Bilan\", \"label\": \"Bilan\", \"level\": 5, \"mass\": 5, \"shape\": \"box\", \"x\": 5, \"y\": 0}, {\"color\": \"#5DE191\", \"font\": {\"color\": \"#ffffff\"}, \"id\": \"End\", \"image\": \"start-end.png\", \"label\": \"End\", \"level\": 6, \"mass\": 5, \"shape\": \"circularImage\", \"x\": 6, \"y\": 0}]);\n",
       "        edges = new vis.DataSet([{\"arrows\": \"to\", \"from\": \"ParallelStep-bc26248c-f51c-40c7-be3e-11c5c1c4052a\", \"to\": \"Ref. Entity\"}, {\"arrows\": \"to\", \"from\": \"ParallelStep-bc26248c-f51c-40c7-be3e-11c5c1c4052a\", \"to\": \"Ref. Scenario\"}, {\"arrows\": \"to\", \"from\": \"ParallelStep-bc26248c-f51c-40c7-be3e-11c5c1c4052a\", \"to\": \"KPIs\"}, {\"arrows\": \"to\", \"from\": \"ParallelStep-bc26248c-f51c-40c7-be3e-11c5c1c4052a\", \"to\": \"CA\"}, {\"arrows\": \"to\", \"from\": \"ParallelStep-bc26248c-f51c-40c7-be3e-11c5c1c4052a\", \"to\": \"Tr\\u00e9sorerie\"}, {\"arrows\": \"to\", \"from\": \"ParallelStep-bc26248c-f51c-40c7-be3e-11c5c1c4052a\", \"to\": \"Charges\"}, {\"arrows\": \"to\", \"from\": \"ParallelStep-bc26248c-f51c-40c7-be3e-11c5c1c4052a\", \"to\": \"Bilan\"}, {\"arrows\": \"to\", \"from\": \"Ref. Entity\", \"to\": \"End\"}, {\"arrows\": \"to\", \"from\": \"Ref. Scenario\", \"to\": \"End\"}, {\"arrows\": \"to\", \"from\": \"KPIs\", \"to\": \"End\"}, {\"arrows\": \"to\", \"from\": \"CA\", \"to\": \"End\"}, {\"arrows\": \"to\", \"from\": \"Tr\\u00e9sorerie\", \"to\": \"End\"}, {\"arrows\": \"to\", \"from\": \"Charges\", \"to\": \"End\"}, {\"arrows\": \"to\", \"from\": \"Bilan\", \"to\": \"End\"}, {\"arrows\": \"to\", \"from\": \"Enrichment\", \"to\": \"ParallelStep-bc26248c-f51c-40c7-be3e-11c5c1c4052a\"}, {\"arrows\": \"to\", \"from\": \"Modelling\", \"to\": \"Enrichment\"}, {\"arrows\": \"to\", \"from\": \"Extraction\", \"to\": \"Modelling\"}, {\"arrows\": \"to\", \"from\": \"Start\", \"to\": \"Extraction\"}]);\n",
       "\n",
       "        // adding nodes and edges to the graph\n",
       "        data = {nodes: nodes, edges: edges};\n",
       "\n",
       "        var options = {\n",
       "    \"configure\": {\n",
       "        \"enabled\": false\n",
       "    },\n",
       "    \"edges\": {\n",
       "        \"color\": {\n",
       "            \"inherit\": true\n",
       "        },\n",
       "        \"smooth\": {\n",
       "            \"enabled\": true,\n",
       "            \"type\": \"dynamic\"\n",
       "        }\n",
       "    },\n",
       "    \"interaction\": {\n",
       "        \"dragNodes\": true,\n",
       "        \"hideEdgesOnDrag\": false,\n",
       "        \"hideNodesOnDrag\": false\n",
       "    },\n",
       "    \"layout\": {\n",
       "        \"hierarchical\": {\n",
       "            \"blockShifting\": true,\n",
       "            \"edgeMinimization\": true,\n",
       "            \"enabled\": true,\n",
       "            \"levelSeparation\": 150,\n",
       "            \"parentCentralization\": true,\n",
       "            \"sortMethod\": \"hubsize\",\n",
       "            \"treeSpacing\": 200\n",
       "        },\n",
       "        \"improvedLayout\": true,\n",
       "        \"randomSeed\": 0\n",
       "    },\n",
       "    \"physics\": {\n",
       "        \"enabled\": false,\n",
       "        \"stabilization\": {\n",
       "            \"enabled\": true,\n",
       "            \"fit\": true,\n",
       "            \"iterations\": 1000,\n",
       "            \"onlyDynamicEdges\": false,\n",
       "            \"updateInterval\": 50\n",
       "        }\n",
       "    }\n",
       "};\n",
       "        \n",
       "        \n",
       "\n",
       "        \n",
       "\n",
       "        network = new vis.Network(container, data, options);\n",
       "\t \n",
       "        \n",
       "\n",
       "\n",
       "        \n",
       "\n",
       "        return network;\n",
       "\n",
       "    }\n",
       "\n",
       "    drawGraph();\n",
       "\n",
       "</script>\n",
       "</body>\n",
       "</html>"
      ],
      "text/plain": [
       "<IPython.core.display.HTML object>"
      ]
     },
     "metadata": {},
     "output_type": "display_data"
    }
   ],
   "source": [
    "pipeline = Pipeline()\n",
    "\n",
    "pipeline >> extraction >> datamodel >> enrich >> [\n",
    "    ref_entity,\n",
    "    ref_scenario,\n",
    "    kpis,\n",
    "    ca,\n",
    "    treso,\n",
    "    charges,\n",
    "    bilan\n",
    "] >> End()\n",
    "\n",
    "pipeline.run()"
   ]
  }
 ],
 "metadata": {
  "kernelspec": {
   "display_name": "Python 3",
   "language": "python",
   "name": "python3"
  },
  "language_info": {
   "codemirror_mode": {
    "name": "ipython",
    "version": 3
   },
   "file_extension": ".py",
   "mimetype": "text/x-python",
   "name": "python",
   "nbconvert_exporter": "python",
   "pygments_lexer": "ipython3",
   "version": "3.9.6"
  },
  "widgets": {
   "application/vnd.jupyter.widget-state+json": {
    "state": {},
    "version_major": 2,
    "version_minor": 0
   }
  }
 },
 "nbformat": 4,
 "nbformat_minor": 5
}
