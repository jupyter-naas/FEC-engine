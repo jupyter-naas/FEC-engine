{
 "cells": [
  {
   "cell_type": "markdown",
   "id": "latin-packing",
   "metadata": {
    "execution": {
     "iopub.execute_input": "2021-02-23T14:22:16.610471Z",
     "iopub.status.busy": "2021-02-23T14:22:16.610129Z",
     "iopub.status.idle": "2021-02-23T14:22:16.627784Z",
     "shell.execute_reply": "2021-02-23T14:22:16.626866Z",
     "shell.execute_reply.started": "2021-02-23T14:22:16.610384Z"
    },
    "papermill": {},
    "tags": []
   },
   "source": [
    "<img width=\"10%\" alt=\"Naas\" src=\"https://landen.imgix.net/jtci2pxwjczr/assets/5ice39g4.png?w=160\"/>"
   ]
  },
  {
   "cell_type": "markdown",
   "id": "compressed-wilson",
   "metadata": {
    "papermill": {},
    "tags": []
   },
   "source": [
    "# FEC - Visualiser Comparer Ventes Line Chart\n",
    "<a href=\"https://app.naas.ai/user-redirect/naas/downloader?url=https://raw.githubusercontent.com/jupyter-naas/awesome-notebooks/master/FEC/FEC_Visualiser_Comparer_Ventes_Line_Chart.ipynb\" target=\"_parent\"><img src=\"https://naasai-public.s3.eu-west-3.amazonaws.com/open_in_naas.svg\"/></a><br><br><a href=\"https://github.com/jupyter-naas/awesome-notebooks/issues/new?assignees=&labels=&template=template-request.md&title=Tool+-+Action+of+the+notebook+\">Template request</a> | <a href=\"https://github.com/jupyter-naas/awesome-notebooks/issues/new?assignees=&labels=bug&template=bug_report.md&title=FEC+-+Visualiser+Comparer+Ventes+Line+Chart:+Error+short+description\">Bug report</a> | <a href=\"https://app.naas.ai/user-redirect/naas/downloader?url=https://raw.githubusercontent.com/jupyter-naas/awesome-notebooks/master/Naas/Naas_Start_data_product.ipynb\" target=\"_parent\">Generate Data Product</a>"
   ]
  },
  {
   "cell_type": "markdown",
   "id": "religious-programmer",
   "metadata": {
    "papermill": {},
    "tags": []
   },
   "source": [
    "**Tags:** #fec #plotly #naas #snippet #operations #linechart"
   ]
  },
  {
   "cell_type": "markdown",
   "id": "1fe9f56e-561c-4f52-aef8-b861c9462107",
   "metadata": {
    "papermill": {},
    "tags": []
   },
   "source": [
    "**Author:** [Florent Ravenel](https://www.linkedin.com/in/florent-ravenel)"
   ]
  },
  {
   "cell_type": "markdown",
   "id": "naas-description",
   "metadata": {
    "papermill": {},
    "tags": [
     "description"
    ]
   },
   "source": [
    "**Description:** Ce notebook vous permettra de visualiser et comparer les ventes de votre entreprise pour les périodes N et N-1 à l'aide de deux courbes de tendance. Vous pourrez facilement voir les tendances et les différences entre les deux périodes pour prendre des décisions éclairées pour améliorer vos ventes."
   ]
  },
  {
   "cell_type": "markdown",
   "id": "distinguished-truth",
   "metadata": {
    "papermill": {},
    "tags": []
   },
   "source": [
    "## Input"
   ]
  },
  {
   "cell_type": "markdown",
   "id": "numeric-mediterranean",
   "metadata": {
    "papermill": {},
    "tags": []
   },
   "source": [
    "### Import libraries"
   ]
  },
  {
   "cell_type": "code",
   "execution_count": 1,
   "id": "potential-surfing",
   "metadata": {
    "execution": {
     "iopub.execute_input": "2023-02-08T16:44:38.651113Z",
     "iopub.status.busy": "2023-02-08T16:44:38.650875Z",
     "iopub.status.idle": "2023-02-08T16:44:40.942119Z",
     "shell.execute_reply": "2023-02-08T16:44:40.941497Z",
     "shell.execute_reply.started": "2023-02-08T16:44:38.651010Z"
    },
    "papermill": {},
    "tags": []
   },
   "outputs": [],
   "source": [
    "import plotly.graph_objects as go\n",
    "from plotly.subplots import make_subplots\n",
    "import pandas as pd\n",
    "import naas\n",
    "import random"
   ]
  },
  {
   "cell_type": "markdown",
   "id": "9b63f92e-b1e0-43cc-86d8-db12ae89558e",
   "metadata": {
    "papermill": {},
    "tags": []
   },
   "source": [
    "### Setup Variables"
   ]
  },
  {
   "cell_type": "code",
   "execution_count": 2,
   "id": "47b21878-f530-436b-95f8-4ed65b42da19",
   "metadata": {
    "execution": {
     "iopub.execute_input": "2023-02-08T16:44:40.943403Z",
     "iopub.status.busy": "2023-02-08T16:44:40.943181Z",
     "iopub.status.idle": "2023-02-08T16:44:40.948917Z",
     "shell.execute_reply": "2023-02-08T16:44:40.948348Z",
     "shell.execute_reply.started": "2023-02-08T16:44:40.943380Z"
    },
    "papermill": {},
    "tags": []
   },
   "outputs": [],
   "source": [
    "# Inputs\n",
    "# Create sample financial data\n",
    "data_n = {\n",
    "    \"ENTITY\": [\"Société X\"] * 12,\n",
    "    \"SCENARIO\": [\"2022-12\"] * 12,\n",
    "    \"LABEL\": [\n",
    "        \"Janvier\",\n",
    "        \"Février\",\n",
    "        \"Mars\",\n",
    "        \"Avril\",\n",
    "        \"Mai\",\n",
    "        \"Juin\",\n",
    "        \"Juillet\",\n",
    "        \"Aout\",\n",
    "        \"Septembre\",\n",
    "        \"Octobre\",\n",
    "        \"Novembre\",\n",
    "        \"Décembre\",\n",
    "    ],\n",
    "    \"GROUP\": [\"N\"] * 12,\n",
    "    \"VAR\": [random.randint(5000, 12000) for i in range(0, 12)],\n",
    "}\n",
    "data_n_1 = {\n",
    "    \"ENTITY\": [\"Société X\"] * 12,\n",
    "    \"SCENARIO\": [\"2022-12\"] * 12,\n",
    "    \"LABEL\": [\n",
    "        \"Janvier\",\n",
    "        \"Février\",\n",
    "        \"Mars\",\n",
    "        \"Avril\",\n",
    "        \"Mai\",\n",
    "        \"Juin\",\n",
    "        \"Juillet\",\n",
    "        \"Aout\",\n",
    "        \"Septembre\",\n",
    "        \"Octobre\",\n",
    "        \"Novembre\",\n",
    "        \"Décembre\",\n",
    "    ],\n",
    "    \"GROUP\": [\"N-1\"] * 12,\n",
    "    \"VAR\": [random.randint(5000, 10000) for i in range(0, 12)],\n",
    "}\n",
    "\n",
    "# Outputs\n",
    "html_output = \"Ventes_Linechart.html\"\n",
    "png_output = \"Ventes_Linechart.png\""
   ]
  },
  {
   "cell_type": "markdown",
   "id": "registered-showcase",
   "metadata": {
    "papermill": {},
    "tags": []
   },
   "source": [
    "## Model"
   ]
  },
  {
   "cell_type": "markdown",
   "id": "0df10ed5-44fe-4abd-a3c1-61154c819e8c",
   "metadata": {
    "papermill": {},
    "tags": []
   },
   "source": [
    "### Get data 'année N'"
   ]
  },
  {
   "cell_type": "code",
   "execution_count": 3,
   "id": "82cb0b6e-1a32-46fb-96b2-a1fba5ff515e",
   "metadata": {
    "execution": {
     "iopub.execute_input": "2023-02-08T16:44:40.950549Z",
     "iopub.status.busy": "2023-02-08T16:44:40.950195Z",
     "iopub.status.idle": "2023-02-08T16:44:41.077642Z",
     "shell.execute_reply": "2023-02-08T16:44:41.077085Z",
     "shell.execute_reply.started": "2023-02-08T16:44:40.950520Z"
    },
    "papermill": {},
    "tags": []
   },
   "outputs": [],
   "source": [
    "df_n = pd.DataFrame(data_n)\n",
    "df_n.insert(loc=4, column=\"VALUE\", value=df_n[\"VAR\"].cumsum())\n",
    "df_n"
   ]
  },
  {
   "cell_type": "markdown",
   "id": "706da888-645f-4d24-a2df-08570dcf10e3",
   "metadata": {
    "papermill": {},
    "tags": []
   },
   "source": [
    "### Get \"Cashout\" data"
   ]
  },
  {
   "cell_type": "code",
   "execution_count": 4,
   "id": "df314ec4-6836-4cb8-a488-59ebd71937e9",
   "metadata": {
    "execution": {
     "iopub.execute_input": "2023-02-08T16:44:41.080071Z",
     "iopub.status.busy": "2023-02-08T16:44:41.079906Z",
     "iopub.status.idle": "2023-02-08T16:44:41.179432Z",
     "shell.execute_reply": "2023-02-08T16:44:41.178875Z",
     "shell.execute_reply.started": "2023-02-08T16:44:41.080052Z"
    },
    "papermill": {},
    "tags": []
   },
   "outputs": [],
   "source": [
    "df_n_1 = pd.DataFrame(data_n_1)\n",
    "df_n_1.insert(loc=4, column=\"VALUE\", value=df_n_1[\"VAR\"].cumsum())\n",
    "df_n_1"
   ]
  },
  {
   "cell_type": "markdown",
   "id": "tested-astrology",
   "metadata": {
    "papermill": {},
    "tags": []
   },
   "source": [
    "### Create barlinechart using Plotly"
   ]
  },
  {
   "cell_type": "code",
   "execution_count": 5,
   "id": "crude-louisville",
   "metadata": {
    "execution": {
     "iopub.execute_input": "2023-02-08T16:44:41.181865Z",
     "iopub.status.busy": "2023-02-08T16:44:41.181642Z",
     "iopub.status.idle": "2023-02-08T16:44:41.472918Z",
     "shell.execute_reply": "2023-02-08T16:44:41.472344Z",
     "shell.execute_reply.started": "2023-02-08T16:44:41.181844Z"
    },
    "papermill": {},
    "tags": []
   },
   "outputs": [],
   "source": [
    "def create_linechart(\n",
    "    df_n,\n",
    "    df_n_1,\n",
    "    xaxis_title=None,\n",
    "    yaxis_title=None,\n",
    "):\n",
    "    # Create figure\n",
    "    fig = go.Figure()\n",
    "\n",
    "    # Add traces\n",
    "    fig.add_trace(\n",
    "        go.Scatter(\n",
    "            name=\"N\",\n",
    "            x=df_n[\"LABEL\"],\n",
    "            y=df_n[\"VALUE\"],\n",
    "            marker=dict(color=\"blue\"),\n",
    "        )\n",
    "    )\n",
    "    fig.add_trace(\n",
    "        go.Scatter(\n",
    "            name=\"N-1\",\n",
    "            x=df_n_1[\"LABEL\"],\n",
    "            y=df_n_1[\"VALUE\"],\n",
    "            marker=dict(color=\"orange\"),\n",
    "        )\n",
    "    )\n",
    "    # Calc var\n",
    "    last_n = df_n.loc[df_n.index[-1], \"VALUE\"]\n",
    "    last_n_1 = df_n_1.loc[df_n_1.index[-1], \"VALUE\"]\n",
    "    var = last_n - last_n_1\n",
    "    if var > 0:\n",
    "        var = f\"+{var}\"\n",
    "\n",
    "    # Add figure title\n",
    "    fig.update_layout(\n",
    "        title=f\"Ventes : {last_n} € ({var} € vs N-1)\",\n",
    "        title_font=dict(family=\"Arial\", size=18, color=\"black\"),\n",
    "        legend=None,\n",
    "        plot_bgcolor=\"#ffffff\",\n",
    "        width=1200,\n",
    "        height=800,\n",
    "        paper_bgcolor=\"white\",\n",
    "        xaxis_title=xaxis_title,\n",
    "        xaxis_title_font=dict(family=\"Arial\", size=12, color=\"black\"),\n",
    "        xaxis={\"type\": \"category\"},\n",
    "    )\n",
    "\n",
    "    # Set y-axes titles\n",
    "    fig.update_yaxes(\n",
    "        title_text=yaxis_title,\n",
    "        title_font=dict(family=\"Arial\", size=12, color=\"black\"),\n",
    "    )\n",
    "    fig.show()\n",
    "    return fig\n",
    "\n",
    "\n",
    "fig = create_linechart(\n",
    "    df_n,\n",
    "    df_n_1,\n",
    "    xaxis_title=\"Mois\",\n",
    "    yaxis_title=\"Valeur en €\",\n",
    ")"
   ]
  },
  {
   "cell_type": "markdown",
   "id": "lonely-pacific",
   "metadata": {
    "execution": {
     "iopub.execute_input": "2021-07-02T23:32:10.789097Z",
     "iopub.status.busy": "2021-07-02T23:32:10.788829Z",
     "iopub.status.idle": "2021-07-02T23:32:10.796900Z",
     "shell.execute_reply": "2021-07-02T23:32:10.796358Z",
     "shell.execute_reply.started": "2021-07-02T23:32:10.789033Z"
    },
    "papermill": {},
    "tags": []
   },
   "source": [
    "## Output"
   ]
  },
  {
   "cell_type": "markdown",
   "id": "adf4d9d7-0968-4aa5-8757-a23f61f4ba16",
   "metadata": {
    "papermill": {},
    "tags": []
   },
   "source": [
    "### Save and share your graph as PNG"
   ]
  },
  {
   "cell_type": "code",
   "execution_count": 6,
   "id": "35c99e3e-ea50-43ad-83cf-7f95f0a558b3",
   "metadata": {
    "execution": {
     "iopub.execute_input": "2023-02-08T16:44:41.474289Z",
     "iopub.status.busy": "2023-02-08T16:44:41.473914Z",
     "iopub.status.idle": "2023-02-08T16:44:43.018076Z",
     "shell.execute_reply": "2023-02-08T16:44:43.017377Z",
     "shell.execute_reply.started": "2023-02-08T16:44:41.474260Z"
    },
    "papermill": {},
    "tags": []
   },
   "outputs": [],
   "source": [
    "fig.write_image(png_output)\n",
    "\n",
    "# Share output with naas\n",
    "naas.asset.add(png_output)\n",
    "\n",
    "# -> Uncomment the line below to remove your asset\n",
    "# naas.asset.delete(html_output)"
   ]
  },
  {
   "cell_type": "markdown",
   "id": "69352def-9f1d-4f56-9e3b-ab06fc128c7a",
   "metadata": {
    "papermill": {},
    "tags": []
   },
   "source": [
    "### Save and share your graph as HTML"
   ]
  },
  {
   "cell_type": "code",
   "execution_count": 7,
   "id": "741a63a1-3b7d-43b7-a7d4-995c6827c6d6",
   "metadata": {
    "execution": {
     "iopub.execute_input": "2023-02-08T16:44:43.019587Z",
     "iopub.status.busy": "2023-02-08T16:44:43.019326Z",
     "iopub.status.idle": "2023-02-08T16:44:43.649740Z",
     "shell.execute_reply": "2023-02-08T16:44:43.649097Z",
     "shell.execute_reply.started": "2023-02-08T16:44:43.019530Z"
    },
    "papermill": {},
    "tags": []
   },
   "outputs": [],
   "source": [
    "fig.write_html(html_output)\n",
    "\n",
    "# Share output with naas\n",
    "naas.asset.add(html_output, params={\"inline\": True})\n",
    "\n",
    "# -> Uncomment the line below to remove your asset\n",
    "# naas.asset.delete(html_output)"
   ]
  }
 ],
 "metadata": {
  "kernelspec": {
   "display_name": "Python 3",
   "language": "python",
   "name": "python3"
  },
  "language_info": {
   "codemirror_mode": {
    "name": "ipython",
    "version": 3
   },
   "file_extension": ".py",
   "mimetype": "text/x-python",
   "name": "python",
   "nbconvert_exporter": "python",
   "pygments_lexer": "ipython3",
   "version": "3.9.6"
  },
  "papermill": {
   "default_parameters": {},
   "environment_variables": {},
   "parameters": {},
   "version": "2.3.3"
  },
  "widgets": {
   "application/vnd.jupyter.widget-state+json": {
    "state": {},
    "version_major": 2,
    "version_minor": 0
   }
  }
 },
 "nbformat": 4,
 "nbformat_minor": 5
}
