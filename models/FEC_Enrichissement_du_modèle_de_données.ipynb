{
 "cells": [
  {
   "cell_type": "markdown",
   "id": "touched-standard",
   "metadata": {
    "papermill": {},
    "tags": []
   },
   "source": [
    "<img width=\"10%\" alt=\"Naas\" src=\"https://landen.imgix.net/jtci2pxwjczr/assets/5ice39g4.png?w=160\"/>"
   ]
  },
  {
   "cell_type": "markdown",
   "id": "painted-needle",
   "metadata": {
    "papermill": {},
    "tags": []
   },
   "source": [
    "# FEC - Enrichissement du modèle de données"
   ]
  },
  {
   "cell_type": "markdown",
   "id": "local-library",
   "metadata": {
    "execution": {
     "iopub.execute_input": "2021-08-17T08:30:57.908317Z",
     "iopub.status.busy": "2021-08-17T08:30:57.908010Z",
     "iopub.status.idle": "2021-08-17T08:30:57.920293Z",
     "shell.execute_reply": "2021-08-17T08:30:57.919475Z",
     "shell.execute_reply.started": "2021-08-17T08:30:57.908246Z"
    },
    "papermill": {},
    "tags": []
   },
   "source": [
    "**Tags:** #fec #finance #snippet #operation #enrichiseement"
   ]
  },
  {
   "cell_type": "markdown",
   "id": "latin-nightmare",
   "metadata": {
    "papermill": {},
    "tags": []
   },
   "source": [
    "**Author:** [Florent Ravenel](https://www.linkedin.com/in/florent-ravenel/)"
   ]
  },
  {
   "cell_type": "markdown",
   "id": "naas-description",
   "metadata": {
    "papermill": {},
    "tags": [
     "description"
    ]
   },
   "source": [
    "**Description:** Ce notebook permet d'enrichir le modèle de donnée FEC."
   ]
  },
  {
   "cell_type": "markdown",
   "id": "residential-laptop",
   "metadata": {
    "papermill": {},
    "tags": []
   },
   "source": [
    "## Input"
   ]
  },
  {
   "cell_type": "markdown",
   "id": "spanish-beatles",
   "metadata": {
    "papermill": {},
    "tags": []
   },
   "source": [
    "### Import libraries"
   ]
  },
  {
   "cell_type": "code",
   "execution_count": null,
   "id": "amazing-pollution",
   "metadata": {
    "papermill": {},
    "tags": []
   },
   "outputs": [],
   "source": [
    "import re\n",
    "import naas_data_product"
   ]
  },
  {
   "cell_type": "markdown",
   "id": "assured-touch",
   "metadata": {
    "papermill": {},
    "tags": []
   },
   "source": [
    "### Setup Variables"
   ]
  },
  {
   "cell_type": "code",
   "execution_count": null,
   "id": "smooth-peoples",
   "metadata": {
    "papermill": {},
    "tags": [
     "parameters"
    ]
   },
   "outputs": [],
   "source": [
    "# Inputs\n",
    "input_folder_path = \"/home/ftp/FEC-engine/outputs/FEC/bdd_fin\"\n",
    "\n",
    "# Outputs\n",
    "output_folder_path = \"/home/ftp/FEC-engine/outputs/FEC/bdd_fin_enr\""
   ]
  },
  {
   "cell_type": "markdown",
   "id": "2994a857-1817-4fc2-92ae-1f78e0d2d668",
   "metadata": {},
   "source": [
    "## Model"
   ]
  },
  {
   "cell_type": "markdown",
   "id": "0c7ba256-c278-4e6b-93ef-7bfb3a812eb5",
   "metadata": {},
   "source": [
    "### Récupération du dernier fichier input"
   ]
  },
  {
   "cell_type": "code",
   "execution_count": null,
   "id": "25032862-87de-46f0-9583-c1378b8d1af5",
   "metadata": {
    "tags": []
   },
   "outputs": [],
   "source": [
    "df_input = get_last_df(input_folder_path)\n",
    "print(\"✅ Row fetched:\", len(df_input))\n",
    "df_input.head(1)"
   ]
  },
  {
   "cell_type": "markdown",
   "id": "05ff7edb-4d54-4600-a585-46cee62361c8",
   "metadata": {
    "papermill": {},
    "tags": []
   },
   "source": [
    "### Enrichissement de la base"
   ]
  },
  {
   "cell_type": "code",
   "execution_count": null,
   "id": "5cf73645-3d1b-49d0-a0bd-72884ec4a7c5",
   "metadata": {
    "papermill": {},
    "tags": []
   },
   "outputs": [],
   "source": [
    "# Calcul résultat pour équilibrage bilan dans capitaux propre\n",
    "db_rn = df_input.copy()\n",
    "\n",
    "db_rn = db_rn[db_rn[\"COMPTE_NUM\"].str.contains(r\"^6|^7\")]\n",
    "\n",
    "to_group = [\"ENTITY\", \"PERIOD\"]\n",
    "to_agg = {\"VALUE\": \"sum\"}\n",
    "db_rn = db_rn.groupby(to_group, as_index=False).agg(to_agg)\n",
    "\n",
    "db_rn[\"COMPTE_NUM\"] = \"10999999\"\n",
    "db_rn[\"RUBRIQUE_N3\"] = \"RESULTAT\"\n",
    "\n",
    "# Reorganisation colonne\n",
    "to_select = [\"ENTITY\", \"PERIOD\", \"COMPTE_NUM\", \"RUBRIQUE_N3\", \"VALUE\"]\n",
    "db_rn = db_rn[to_select]\n",
    "db_rn"
   ]
  },
  {
   "cell_type": "markdown",
   "id": "f754cd47-2b58-4307-a8c7-bc7d193a26ed",
   "metadata": {
    "papermill": {},
    "tags": []
   },
   "source": [
    "### Base de données FEC aggrégée avec variation"
   ]
  },
  {
   "cell_type": "markdown",
   "id": "d488040c-d06b-4ae1-80a0-37311d37ccd1",
   "metadata": {
    "papermill": {},
    "tags": []
   },
   "source": [
    "#### Aggrégation RUBRIQUE N3"
   ]
  },
  {
   "cell_type": "code",
   "execution_count": null,
   "id": "8f627810-36ec-42cc-a092-154769fe42de",
   "metadata": {
    "papermill": {},
    "tags": []
   },
   "outputs": [],
   "source": [
    "# Calcul var v = création de dataset avec Period_comp pour merge\n",
    "db_var = df_input.copy()\n",
    "\n",
    "# Regroupement\n",
    "to_group = [\"ENTITY\", \"PERIOD\", \"COMPTE_NUM\", \"RUBRIQUE_N3\"]\n",
    "to_agg = {\"VALUE\": \"sum\"}\n",
    "db_var = db_var.groupby(to_group, as_index=False).agg(to_agg)\n",
    "\n",
    "# Ajout des résultats au dataframe\n",
    "db_var = pd.concat([db_var, db_rn], axis=0, sort=False)\n",
    "\n",
    "# Creation colonne COMP\n",
    "db_var[\"PERIOD_COMP\"] = (db_var[\"PERIOD\"].str[:4].astype(int) - 1).astype(str) + db_var[\n",
    "    \"PERIOD\"\n",
    "].str[-3:]\n",
    "\n",
    "db_var"
   ]
  },
  {
   "cell_type": "markdown",
   "id": "08a02b2f-8dee-4eb9-9371-76cfe63e7fa2",
   "metadata": {
    "papermill": {},
    "tags": []
   },
   "source": [
    "#### Création de la base comparable"
   ]
  },
  {
   "cell_type": "code",
   "execution_count": null,
   "id": "14378935-4344-43d8-be2e-db952ba6b224",
   "metadata": {
    "papermill": {},
    "tags": []
   },
   "outputs": [],
   "source": [
    "db_comp = db_var.copy()\n",
    "\n",
    "# Suppression de la colonne période\n",
    "db_comp = db_comp.drop(\"PERIOD_COMP\", axis=1)\n",
    "\n",
    "# Renommage des colonnes\n",
    "to_rename = {\"VALUE\": \"VALUE_N-1\", \"PERIOD\": \"PERIOD_COMP\"}\n",
    "db_comp = db_comp.rename(columns=to_rename)\n",
    "\n",
    "db_comp.head(5)"
   ]
  },
  {
   "cell_type": "markdown",
   "id": "70f47bae-03ff-465f-aae3-e560f7bd45a0",
   "metadata": {
    "papermill": {},
    "tags": []
   },
   "source": [
    "#### Jointure des 2 tables et calcul des variations"
   ]
  },
  {
   "cell_type": "code",
   "execution_count": null,
   "id": "5c2d517c-11a5-47ff-b5e4-b6102a7ed8ab",
   "metadata": {
    "papermill": {},
    "tags": []
   },
   "outputs": [],
   "source": [
    "# Jointure entre les 2 tables\n",
    "join_on = [\"ENTITY\", \"PERIOD_COMP\", \"COMPTE_NUM\", \"RUBRIQUE_N3\"]\n",
    "db_var = (\n",
    "    pd.merge(db_var, db_comp, how=\"left\", on=join_on)\n",
    "    .drop(\"PERIOD_COMP\", axis=1)\n",
    "    .fillna(0)\n",
    ")\n",
    "\n",
    "# Création colonne Var V\n",
    "db_var[\"VARV\"] = db_var[\"VALUE\"] - db_var[\"VALUE_N-1\"]\n",
    "\n",
    "# Création colonne Var P (%)\n",
    "db_var[\"VARP\"] = db_var[\"VARV\"] / db_var[\"VALUE_N-1\"]\n",
    "\n",
    "db_var"
   ]
  },
  {
   "cell_type": "code",
   "execution_count": null,
   "id": "9e766ec3-d588-4c84-a5de-f88283b63391",
   "metadata": {
    "papermill": {},
    "tags": []
   },
   "outputs": [],
   "source": [
    "db_cat = db_var.copy()\n",
    "\n",
    "# Calcul des rubriques niveau 2\n",
    "def rubrique_N2(row):\n",
    "    numero_compte = str(row[\"COMPTE_NUM\"])\n",
    "    value = float(row[\"VALUE\"])\n",
    "\n",
    "    # BILAN SIMPLIFIE type IFRS NIV2\n",
    "\n",
    "    to_check = [\"^10\", \"^11\", \"^12\", \"^13\", \"^14\"]\n",
    "    if any(re.search(x, numero_compte) for x in to_check):\n",
    "        return \"CAPITAUX_PROPRES\"\n",
    "\n",
    "    to_check = [\"^15\", \"^16\", \"^17\", \"^18\", \"^19\"]\n",
    "    if any(re.search(x, numero_compte) for x in to_check):\n",
    "        return \"DETTES_FINANCIERES\"\n",
    "\n",
    "    to_check = [\"^20\", \"^21\", \"^22\", \"^23\", \"^25\", \"^26\", \"^27\", \"^28\", \"^29\"]\n",
    "    if any(re.search(x, numero_compte) for x in to_check):\n",
    "        return \"IMMOBILISATIONS\"\n",
    "\n",
    "    to_check = [\"^31\", \"^32\", \"^33\", \"^34\", \"^35\", \"^36\", \"^37\", \"^38\", \"^39\"]\n",
    "    if any(re.search(x, numero_compte) for x in to_check):\n",
    "        return \"STOCKS\"\n",
    "\n",
    "    to_check = [\"^40\"]\n",
    "    if any(re.search(x, numero_compte) for x in to_check):\n",
    "        return \"DETTES_FOURNISSEURS\"\n",
    "\n",
    "    to_check = [\"^41\"]\n",
    "    if any(re.search(x, numero_compte) for x in to_check):\n",
    "        return \"CREANCES_CLIENTS\"\n",
    "\n",
    "    to_check = [\"^42\", \"^43\", \"^44\", \"^45\", \"^46\", \"^47\", \"^48\", \"^49\"]\n",
    "    if any(re.search(x, numero_compte) for x in to_check):\n",
    "        if value > 0:\n",
    "            return \"AUTRES_CREANCES\"\n",
    "        else:\n",
    "            return \"AUTRES_DETTES\"\n",
    "\n",
    "    to_check = [\"^50\", \"^51\", \"^52\", \"^53\", \"^54\", \"^58\", \"^59\"]\n",
    "    if any(re.search(x, numero_compte) for x in to_check):\n",
    "        return \"DISPONIBILITES\"\n",
    "\n",
    "    # COMPTE DE RESULTAT DETAILLE NIV2\n",
    "\n",
    "    to_check = [\"^60\"]\n",
    "    if any(re.search(x, numero_compte) for x in to_check):\n",
    "        return \"ACHATS\"\n",
    "\n",
    "    to_check = [\"^61\", \"^62\"]\n",
    "    if any(re.search(x, numero_compte) for x in to_check):\n",
    "        return \"SERVICES_EXTERIEURS\"\n",
    "\n",
    "    to_check = [\"^63\"]\n",
    "    if any(re.search(x, numero_compte) for x in to_check):\n",
    "        return \"TAXES\"\n",
    "\n",
    "    to_check = [\"^64\"]\n",
    "    if any(re.search(x, numero_compte) for x in to_check):\n",
    "        return \"CHARGES_PERSONNEL\"\n",
    "\n",
    "    to_check = [\"^65\"]\n",
    "    if any(re.search(x, numero_compte) for x in to_check):\n",
    "        return \"AUTRES_CHARGES\"\n",
    "\n",
    "    to_check = [\"^66\"]\n",
    "    if any(re.search(x, numero_compte) for x in to_check):\n",
    "        return \"CHARGES_FINANCIERES\"\n",
    "\n",
    "    to_check = [\"^67\"]\n",
    "    if any(re.search(x, numero_compte) for x in to_check):\n",
    "        return \"CHARGES_EXCEPTIONNELLES\"\n",
    "\n",
    "    to_check = [\"^68\", \"^78\"]\n",
    "    if any(re.search(x, numero_compte) for x in to_check):\n",
    "        return \"AMORTISSEMENTS\"\n",
    "\n",
    "    to_check = [\"^69\"]\n",
    "    if any(re.search(x, numero_compte) for x in to_check):\n",
    "        return \"IMPOT\"\n",
    "\n",
    "    to_check = [\"^70\"]\n",
    "    if any(re.search(x, numero_compte) for x in to_check):\n",
    "        return \"VENTES\"\n",
    "\n",
    "    to_check = [\"^71\", \"^72\"]\n",
    "    if any(re.search(x, numero_compte) for x in to_check):\n",
    "        return \"PRODUCTION_STOCKEE_IMMOBILISEE\"\n",
    "\n",
    "    to_check = [\"^74\"]\n",
    "    if any(re.search(x, numero_compte) for x in to_check):\n",
    "        return \"SUBVENTIONS_D'EXPL.\"\n",
    "\n",
    "    to_check = [\"^75\", \"^791\"]\n",
    "    if any(re.search(x, numero_compte) for x in to_check):\n",
    "        return \"AUTRES_PRODUITS_GESTION_COURANTE\"\n",
    "\n",
    "    to_check = [\"^76\", \"^796\"]\n",
    "    if any(re.search(x, numero_compte) for x in to_check):\n",
    "        return \"PRODUITS_FINANCIERS\"\n",
    "\n",
    "    to_check = [\"^77\", \"^797\"]\n",
    "    if any(re.search(x, numero_compte) for x in to_check):\n",
    "        return \"PRODUITS_EXCEPTIONNELS\"\n",
    "\n",
    "    to_check = [\"^78\"]\n",
    "    if any(re.search(x, numero_compte) for x in to_check):\n",
    "        return \"REPRISES_AMORT._DEP.\"\n",
    "\n",
    "    to_check = [\"^8\"]\n",
    "    if any(re.search(x, numero_compte) for x in to_check):\n",
    "        return \"COMPTES_SPECIAUX\"\n",
    "\n",
    "\n",
    "# Calcul des rubriques niveau 1\n",
    "def rubrique_N1(row):\n",
    "    categorisation = row.RUBRIQUE_N2\n",
    "\n",
    "    # BILAN SIMPLIFIE type IFRS N1\n",
    "\n",
    "    to_check = [\"CAPITAUX_PROPRES\", \"DETTES_FINANCIERES\"]\n",
    "    if any(re.search(x, categorisation) for x in to_check):\n",
    "        return \"PASSIF_NON_COURANT\"\n",
    "\n",
    "    to_check = [\"IMMOBILISATIONS\"]\n",
    "    if any(re.search(x, categorisation) for x in to_check):\n",
    "        return \"ACTIF_NON_COURANT\"\n",
    "\n",
    "    to_check = [\"STOCKS\", \"CREANCES_CLIENTS\", \"AUTRES_CREANCES\"]\n",
    "    if any(re.search(x, categorisation) for x in to_check):\n",
    "        return \"ACTIF_COURANT\"\n",
    "\n",
    "    to_check = [\"DETTES_FOURNISSEURS\", \"AUTRES_DETTES\"]\n",
    "    if any(re.search(x, categorisation) for x in to_check):\n",
    "        return \"PASSIF_COURANT\"\n",
    "\n",
    "    to_check = [\"DISPONIBILITES\"]\n",
    "    if any(re.search(x, categorisation) for x in to_check):\n",
    "        return \"DISPONIBILITES\"\n",
    "\n",
    "    # COMPTE DE RESULTAT SIMPLIFIE N1\n",
    "\n",
    "    to_check = [\"ACHATS\"]\n",
    "    if any(re.search(x, categorisation) for x in to_check):\n",
    "        return \"COUTS_DIRECTS\"\n",
    "\n",
    "    to_check = [\n",
    "        \"SERVICES_EXTERIEURS\",\n",
    "        \"TAXES\",\n",
    "        \"CHARGES_PERSONNEL\",\n",
    "        \"AUTRES_CHARGES\",\n",
    "        \"AMORTISSEMENTS\",\n",
    "    ]\n",
    "    if any(re.search(x, categorisation) for x in to_check):\n",
    "        return \"CHARGES_EXPLOITATION\"\n",
    "\n",
    "    to_check = [\"CHARGES_FINANCIERES\"]\n",
    "    if any(re.search(x, categorisation) for x in to_check):\n",
    "        return \"CHARGES_FINANCIERES\"\n",
    "\n",
    "    to_check = [\"CHARGES_EXCEPTIONNELLES\", \"IMPOT\"]\n",
    "    if any(re.search(x, categorisation) for x in to_check):\n",
    "        return \"CHARGES_EXCEPTIONNELLES\"\n",
    "\n",
    "    to_check = [\"VENTES\", \"PRODUCTION_STOCKEE_IMMOBILISEE\"]\n",
    "    if any(re.search(x, categorisation) for x in to_check):\n",
    "        return \"CHIFFRE_D'AFFAIRES\"\n",
    "\n",
    "    to_check = [\n",
    "        \"SUBVENTIONS_D'EXPL.\",\n",
    "        \"AUTRES_PRODUITS_GESTION_COURANTE\",\n",
    "        \"REPRISES_AMORT._DEP.\",\n",
    "    ]\n",
    "    if any(re.search(x, categorisation) for x in to_check):\n",
    "        return \"PRODUITS_EXPLOITATION\"\n",
    "\n",
    "    to_check = [\"PRODUITS_FINANCIERS\"]\n",
    "    if any(re.search(x, categorisation) for x in to_check):\n",
    "        return \"PRODUITS_FINANCIERS\"\n",
    "\n",
    "    to_check = [\"PRODUITS_EXCEPTIONNELS\"]\n",
    "    if any(re.search(x, categorisation) for x in to_check):\n",
    "        return \"PRODUITS_EXCEPTIONNELS\"\n",
    "\n",
    "\n",
    "# Calcul des rubriques niveau 0\n",
    "def rubrique_N0(row):\n",
    "    masse = row.RUBRIQUE_N1\n",
    "\n",
    "    to_check = [\"ACTIF_NON_COURANT\", \"ACTIF_COURANT\", \"DISPONIBILITES\"]\n",
    "    if any(re.search(x, masse) for x in to_check):\n",
    "        return \"ACTIF\"\n",
    "\n",
    "    to_check = [\"PASSIF_NON_COURANT\", \"PASSIF_COURANT\"]\n",
    "    if any(re.search(x, masse) for x in to_check):\n",
    "        return \"PASSIF\"\n",
    "\n",
    "    to_check = [\n",
    "        \"COUTS_DIRECTS\",\n",
    "        \"CHARGES_EXPLOITATION\",\n",
    "        \"CHARGES_FINANCIERES\",\n",
    "        \"CHARGES_EXCEPTIONNELLES\",\n",
    "    ]\n",
    "    if any(re.search(x, masse) for x in to_check):\n",
    "        return \"CHARGES\"\n",
    "\n",
    "    to_check = [\n",
    "        \"CHIFFRE_D'AFFAIRES\",\n",
    "        \"PRODUITS_EXPLOITATION\",\n",
    "        \"PRODUITS_FINANCIERS\",\n",
    "        \"PRODUITS_EXCEPTIONNELS\",\n",
    "    ]\n",
    "    if any(re.search(x, masse) for x in to_check):\n",
    "        return \"PRODUITS\"\n",
    "\n",
    "\n",
    "# Mapping des rubriques\n",
    "db_cat[\"RUBRIQUE_N2\"] = db_cat.apply(lambda row: rubrique_N2(row), axis=1)\n",
    "db_cat[\"RUBRIQUE_N1\"] = db_cat.apply(lambda row: rubrique_N1(row), axis=1)\n",
    "db_cat[\"RUBRIQUE_N0\"] = db_cat.apply(lambda row: rubrique_N0(row), axis=1)\n",
    "\n",
    "\n",
    "# Reorganisation colonne\n",
    "to_select = [\n",
    "    \"ENTITY\",\n",
    "    \"PERIOD\",\n",
    "    \"COMPTE_NUM\",\n",
    "    \"RUBRIQUE_N0\",\n",
    "    \"RUBRIQUE_N1\",\n",
    "    \"RUBRIQUE_N2\",\n",
    "    \"RUBRIQUE_N3\",\n",
    "    \"VALUE\",\n",
    "    \"VALUE_N-1\",\n",
    "    \"VARV\",\n",
    "    \"VARP\",\n",
    "]\n",
    "db_cat = db_cat[to_select]\n",
    "db_cat"
   ]
  },
  {
   "cell_type": "markdown",
   "id": "0ce8f20f-2a3d-430c-aa23-a12405376531",
   "metadata": {
    "papermill": {},
    "tags": []
   },
   "source": [
    "## Output"
   ]
  },
  {
   "cell_type": "markdown",
   "id": "compliant-clone",
   "metadata": {
    "papermill": {},
    "tags": []
   },
   "source": [
    "### Sauvegarde des fichiers en csv"
   ]
  },
  {
   "cell_type": "code",
   "execution_count": null,
   "id": "marked-story",
   "metadata": {
    "papermill": {},
    "tags": []
   },
   "outputs": [],
   "source": [
    "save_df(db_cat, output_folder_path)"
   ]
  },
  {
   "cell_type": "code",
   "execution_count": null,
   "id": "4c04f5af-d3bc-4297-8333-20788f2f6015",
   "metadata": {},
   "outputs": [],
   "source": []
  }
 ],
 "metadata": {
  "kernelspec": {
   "display_name": "Python 3",
   "language": "python",
   "name": "python3"
  },
  "language_info": {
   "codemirror_mode": {
    "name": "ipython",
    "version": 3
   },
   "file_extension": ".py",
   "mimetype": "text/x-python",
   "name": "python",
   "nbconvert_exporter": "python",
   "pygments_lexer": "ipython3",
   "version": "3.9.6"
  },
  "naas": {
   "notebook_id": "488da1e7-5583-478f-b198-277886651611",
   "notebook_path": "FEC/FEC_Creer_un_dashboard_PowerBI.ipynb"
  },
  "papermill": {
   "default_parameters": {},
   "environment_variables": {},
   "parameters": {},
   "version": "2.3.3"
  }
 },
 "nbformat": 4,
 "nbformat_minor": 5
}
