{
 "cells": [
  {
   "cell_type": "markdown",
   "id": "touched-standard",
   "metadata": {
    "papermill": {},
    "tags": []
   },
   "source": [
    "<img width=\"10%\" alt=\"Naas\" src=\"https://landen.imgix.net/jtci2pxwjczr/assets/5ice39g4.png?w=160\"/>"
   ]
  },
  {
   "cell_type": "markdown",
   "id": "painted-needle",
   "metadata": {
    "papermill": {},
    "tags": []
   },
   "source": [
    "# FEC - Création des KPIs"
   ]
  },
  {
   "cell_type": "markdown",
   "id": "local-library",
   "metadata": {
    "execution": {
     "iopub.execute_input": "2021-08-17T08:30:57.908317Z",
     "iopub.status.busy": "2021-08-17T08:30:57.908010Z",
     "iopub.status.idle": "2021-08-17T08:30:57.920293Z",
     "shell.execute_reply": "2021-08-17T08:30:57.919475Z",
     "shell.execute_reply.started": "2021-08-17T08:30:57.908246Z"
    },
    "papermill": {},
    "tags": []
   },
   "source": [
    "**Tags:** #fec #datamodel #finance #snippet #operation"
   ]
  },
  {
   "cell_type": "markdown",
   "id": "latin-nightmare",
   "metadata": {
    "papermill": {},
    "tags": []
   },
   "source": [
    "**Author:** [Florent Ravenel](https://www.linkedin.com/in/florent-ravenel/)"
   ]
  },
  {
   "cell_type": "markdown",
   "id": "naas-description",
   "metadata": {
    "papermill": {},
    "tags": [
     "description"
    ]
   },
   "source": [
    "**Description:** Ce notebook permet de créer les KPIs du tableau de bord."
   ]
  },
  {
   "cell_type": "markdown",
   "id": "residential-laptop",
   "metadata": {
    "papermill": {},
    "tags": []
   },
   "source": [
    "## Input"
   ]
  },
  {
   "cell_type": "markdown",
   "id": "spanish-beatles",
   "metadata": {
    "papermill": {},
    "tags": []
   },
   "source": [
    "### Import libraries"
   ]
  },
  {
   "cell_type": "code",
   "execution_count": null,
   "id": "amazing-pollution",
   "metadata": {
    "papermill": {},
    "tags": []
   },
   "outputs": [],
   "source": [
    "import naas_data_product"
   ]
  },
  {
   "cell_type": "markdown",
   "id": "assured-touch",
   "metadata": {
    "papermill": {},
    "tags": []
   },
   "source": [
    "### Setup Variables"
   ]
  },
  {
   "cell_type": "code",
   "execution_count": null,
   "id": "smooth-peoples",
   "metadata": {
    "papermill": {},
    "tags": [
     "parameters"
    ]
   },
   "outputs": [],
   "source": [
    "# Inputs\n",
    "input_folder_path = \"/home/ftp/FEC-engine/outputs/FEC/bdd_fin_enr\"\n",
    "\n",
    "# Outputs\n",
    "output_folder_path = \"/home/ftp/FEC-engine/outputs/FEC/dataset_kpis\""
   ]
  },
  {
   "cell_type": "markdown",
   "id": "2994a857-1817-4fc2-92ae-1f78e0d2d668",
   "metadata": {},
   "source": [
    "## Model"
   ]
  },
  {
   "cell_type": "markdown",
   "id": "0c7ba256-c278-4e6b-93ef-7bfb3a812eb5",
   "metadata": {},
   "source": [
    "### Récupération du dernier fichier input"
   ]
  },
  {
   "cell_type": "code",
   "execution_count": null,
   "id": "25032862-87de-46f0-9583-c1378b8d1af5",
   "metadata": {
    "tags": []
   },
   "outputs": [],
   "source": [
    "df_input = get_last_df(input_folder_path)\n",
    "print(\"✅ Row fetched:\", len(df_input))\n",
    "df_input.head(1)"
   ]
  },
  {
   "cell_type": "markdown",
   "id": "05ff7edb-4d54-4600-a585-46cee62361c8",
   "metadata": {
    "papermill": {},
    "tags": []
   },
   "source": [
    "### Création des KPIs"
   ]
  },
  {
   "cell_type": "code",
   "execution_count": null,
   "id": "0b8a004e-4766-4b20-8b57-1a355d080408",
   "metadata": {
    "papermill": {},
    "tags": []
   },
   "outputs": [],
   "source": [
    "# Creation du dataset KPIS (CA, MARGE, EBE, BFR, CC, DF)\n",
    "dataset_kpis = df_input.copy()\n",
    "\n",
    "# KPIs CA\n",
    "dataset_kpis_ca = dataset_kpis[dataset_kpis.RUBRIQUE_N1.isin([\"CHIFFRE_D'AFFAIRES\"])]\n",
    "\n",
    "to_group = [\"ENTITY\", \"PERIOD\", \"RUBRIQUE_N1\"]\n",
    "to_agg = {\"VALUE\": \"sum\"}\n",
    "dataset_kpis_ca = dataset_kpis_ca.groupby(to_group, as_index=False).agg(to_agg)\n",
    "\n",
    "# Passage value postif\n",
    "dataset_kpis_ca[\"VALUE\"] = dataset_kpis_ca[\"VALUE\"] * -1\n",
    "\n",
    "\n",
    "# COUTS_DIRECTS\n",
    "dataset_kpis_ha = dataset_kpis[dataset_kpis.RUBRIQUE_N1.isin([\"COUTS_DIRECTS\"])]\n",
    "\n",
    "to_group = [\"ENTITY\", \"PERIOD\", \"RUBRIQUE_N1\"]\n",
    "to_agg = {\"VALUE\": \"sum\"}\n",
    "dataset_kpis_ha = dataset_kpis_ha.groupby(to_group, as_index=False).agg(to_agg)\n",
    "\n",
    "# Passage value négatif\n",
    "dataset_kpis_ha[\"VALUE\"] = dataset_kpis_ha[\"VALUE\"] * -1\n",
    "\n",
    "\n",
    "# KPIs MARGE BRUTE (CA - COUTS DIRECTS)\n",
    "dataset_kpis_mb = dataset_kpis_ca.copy()\n",
    "dataset_kpis_mb = pd.concat([dataset_kpis_mb, dataset_kpis_ha], axis=0, sort=False)\n",
    "\n",
    "to_group = [\"ENTITY\", \"PERIOD\"]\n",
    "to_agg = {\"VALUE\": \"sum\"}\n",
    "\n",
    "dataset_kpis_mb = dataset_kpis_mb.groupby(to_group, as_index=False).agg(to_agg)\n",
    "dataset_kpis_mb[\"RUBRIQUE_N1\"] = \"MARGE\"\n",
    "dataset_kpis_mb = dataset_kpis_mb[[\"ENTITY\", \"PERIOD\", \"RUBRIQUE_N1\", \"VALUE\"]]\n",
    "\n",
    "\n",
    "# CHARGES EXTERNES\n",
    "dataset_kpis_ce = dataset_kpis[dataset_kpis.RUBRIQUE_N2.isin([\"SERVICES_EXTERIEURS\"])]\n",
    "to_group = [\"ENTITY\", \"PERIOD\", \"RUBRIQUE_N2\"]\n",
    "to_agg = {\"VALUE\": \"sum\"}\n",
    "dataset_kpis_ce = dataset_kpis_ce.groupby(to_group, as_index=False).agg(to_agg)\n",
    "\n",
    "# Passage value negatif\n",
    "dataset_kpis_ce[\"VALUE\"] = dataset_kpis_ce[\"VALUE\"] * -1\n",
    "\n",
    "\n",
    "# IMPOTS\n",
    "dataset_kpis_ip = dataset_kpis[dataset_kpis.RUBRIQUE_N2.isin([\"TAXES\"])]\n",
    "to_group = [\"ENTITY\", \"PERIOD\", \"RUBRIQUE_N2\"]\n",
    "to_agg = {\"VALUE\": \"sum\"}\n",
    "dataset_kpis_ip = dataset_kpis_ip.groupby(to_group, as_index=False).agg(to_agg)\n",
    "\n",
    "# Passage value negatif\n",
    "dataset_kpis_ip[\"VALUE\"] = dataset_kpis_ip[\"VALUE\"] * -1\n",
    "\n",
    "\n",
    "# CHARGES DE PERSONNEL\n",
    "dataset_kpis_cp = dataset_kpis[dataset_kpis.RUBRIQUE_N2.isin([\"CHARGES_PERSONNEL\"])]\n",
    "to_group = [\"ENTITY\", \"PERIOD\", \"RUBRIQUE_N2\"]\n",
    "to_agg = {\"VALUE\": \"sum\"}\n",
    "dataset_kpis_cp = dataset_kpis_cp.groupby(to_group, as_index=False).agg(to_agg)\n",
    "\n",
    "# Passage value negatif\n",
    "dataset_kpis_cp[\"VALUE\"] = dataset_kpis_cp[\"VALUE\"] * -1\n",
    "\n",
    "\n",
    "# AUTRES_CHARGES\n",
    "dataset_kpis_ac = dataset_kpis[dataset_kpis.RUBRIQUE_N2.isin([\"AUTRES_CHARGES\"])]\n",
    "to_group = [\"ENTITY\", \"PERIOD\", \"RUBRIQUE_N2\"]\n",
    "to_agg = {\"VALUE\": \"sum\"}\n",
    "dataset_kpis_ac = dataset_kpis_ac.groupby(to_group, as_index=False).agg(to_agg)\n",
    "\n",
    "# Passage value negatif\n",
    "dataset_kpis_ac[\"VALUE\"] = dataset_kpis_ac[\"VALUE\"] * -1\n",
    "\n",
    "\n",
    "# SUBVENTIONS D'EXPLOITATION\n",
    "dataset_kpis_ac = dataset_kpis[dataset_kpis.RUBRIQUE_N2.isin([\"SUBVENTIONS_D'EXPL.\"])]\n",
    "to_group = [\"ENTITY\", \"PERIOD\", \"RUBRIQUE_N2\"]\n",
    "to_agg = {\"VALUE\": \"sum\"}\n",
    "dataset_kpis_ac = dataset_kpis_ac.groupby(to_group, as_index=False).agg(to_agg)\n",
    "\n",
    "\n",
    "# KPIs EBE = MARGE - CHARGES EXTERNES - TAXES - CHARGES PERSONNEL - AUTRES CHARGES + SUBVENTION D'EXPLOITATION\n",
    "dataset_kpis_ebe = dataset_kpis_mb.copy()\n",
    "dataset_kpis_ebe = pd.concat(\n",
    "    [\n",
    "        dataset_kpis_ebe,\n",
    "        dataset_kpis_ce,\n",
    "        dataset_kpis_ip,\n",
    "        dataset_kpis_cp,\n",
    "        dataset_kpis_ac,\n",
    "    ],\n",
    "    axis=0,\n",
    "    sort=False,\n",
    ")\n",
    "\n",
    "to_group = [\"ENTITY\", \"PERIOD\"]\n",
    "to_agg = {\"VALUE\": \"sum\"}\n",
    "\n",
    "dataset_kpis_ebe = dataset_kpis_ebe.groupby(to_group, as_index=False).agg(to_agg)\n",
    "dataset_kpis_ebe[\"RUBRIQUE_N1\"] = \"EBE\"\n",
    "dataset_kpis_ebe = dataset_kpis_ebe[[\"ENTITY\", \"PERIOD\", \"RUBRIQUE_N1\", \"VALUE\"]]\n",
    "\n",
    "\n",
    "# KPIs CREANCES CLIENTS\n",
    "dataset_kpis_cc = dataset_kpis[dataset_kpis.RUBRIQUE_N2.isin([\"CREANCES_CLIENTS\"])]\n",
    "to_group = [\"ENTITY\", \"PERIOD\", \"RUBRIQUE_N2\"]\n",
    "to_agg = {\"VALUE\": \"sum\"}\n",
    "dataset_kpis_cc = dataset_kpis_cc.groupby(to_group, as_index=False).agg(to_agg)\n",
    "\n",
    "# Renommage colonne\n",
    "to_rename = {\"RUBRIQUE_N2\": \"RUBRIQUE_N1\"}\n",
    "dataset_kpis_cc = dataset_kpis_cc.rename(columns=to_rename)\n",
    "\n",
    "\n",
    "# KPIs STOCKS\n",
    "dataset_kpis_st = dataset_kpis[dataset_kpis.RUBRIQUE_N2.isin([\"STOCKS\"])]\n",
    "to_group = [\"ENTITY\", \"PERIOD\", \"RUBRIQUE_N2\"]\n",
    "to_agg = {\"VALUE\": \"sum\"}\n",
    "dataset_kpis_st = dataset_kpis_st.groupby(to_group, as_index=False).agg(to_agg)\n",
    "\n",
    "# Renommage colonne\n",
    "to_rename = {\"RUBRIQUE_N2\": \"RUBRIQUE_N1\"}\n",
    "dataset_kpis_st = dataset_kpis_st.rename(columns=to_rename)\n",
    "\n",
    "\n",
    "# KPIs DETTES FOURNISSEURS\n",
    "dataset_kpis_df = dataset_kpis[dataset_kpis.RUBRIQUE_N2.isin([\"DETTES_FOURNISSEURS\"])]\n",
    "to_group = [\"ENTITY\", \"PERIOD\", \"RUBRIQUE_N2\"]\n",
    "to_agg = {\"VALUE\": \"sum\"}\n",
    "dataset_kpis_df = dataset_kpis_df.groupby(to_group, as_index=False).agg(to_agg)\n",
    "\n",
    "# Renommage colonne\n",
    "to_rename = {\"RUBRIQUE_N2\": \"RUBRIQUE_N1\"}\n",
    "dataset_kpis_df = dataset_kpis_df.rename(columns=to_rename)\n",
    "\n",
    "# Passage value positif\n",
    "dataset_kpis_df[\"VALUE\"] = dataset_kpis_df[\"VALUE\"].abs()\n",
    "\n",
    "\n",
    "# KPIs BFR = CREANCES + STOCKS - DETTES FOURNISSEURS\n",
    "dataset_kpis_bfr_df = dataset_kpis_df.copy()\n",
    "\n",
    "# Passage dette fournisseur value négatif\n",
    "dataset_kpis_bfr_df[\"VALUE\"] = dataset_kpis_bfr_df[\"VALUE\"] * -1\n",
    "\n",
    "dataset_kpis_bfr_df = pd.concat(\n",
    "    [dataset_kpis_cc, dataset_kpis_st, dataset_kpis_bfr_df], axis=0, sort=False\n",
    ")\n",
    "\n",
    "to_group = [\"ENTITY\", \"PERIOD\"]\n",
    "to_agg = {\"VALUE\": \"sum\"}\n",
    "dataset_kpis_bfr_df = dataset_kpis_bfr_df.groupby(to_group, as_index=False).agg(to_agg)\n",
    "\n",
    "# Creation colonne Rubrique_N1 = BFR\n",
    "dataset_kpis_bfr_df[\"RUBRIQUE_N1\"] = \"BFR\"\n",
    "\n",
    "# Reorganisation colonne\n",
    "dataset_kpis_bfr_df = dataset_kpis_bfr_df[[\"ENTITY\", \"PERIOD\", \"RUBRIQUE_N1\", \"VALUE\"]]\n",
    "\n",
    "\n",
    "# Creation du dataset final\n",
    "dataset_kpis_final = pd.concat(\n",
    "    [\n",
    "        dataset_kpis_ca,\n",
    "        dataset_kpis_mb,\n",
    "        dataset_kpis_ebe,\n",
    "        dataset_kpis_cc,\n",
    "        dataset_kpis_st,\n",
    "        dataset_kpis_df,\n",
    "        dataset_kpis_bfr_df,\n",
    "    ],\n",
    "    axis=0,\n",
    "    sort=False,\n",
    ")\n",
    "\n",
    "\n",
    "# Creation colonne COMP\n",
    "dataset_kpis_final[\"PERIOD_COMP\"] = (\n",
    "    dataset_kpis_final[\"PERIOD\"].str[:4].astype(int) - 1\n",
    ").astype(str) + dataset_kpis_final[\"PERIOD\"].str[-2:]\n",
    "dataset_kpis_final"
   ]
  },
  {
   "cell_type": "code",
   "execution_count": null,
   "id": "de2fcb94-ba8c-45fb-b6fe-17239bbd4787",
   "metadata": {
    "papermill": {},
    "tags": []
   },
   "outputs": [],
   "source": [
    "# creation base comparable pour dataset_kpis\n",
    "dataset_kpis_final_comp = dataset_kpis_final.copy()\n",
    "\n",
    "# Suppression de la colonne période\n",
    "dataset_kpis_final_comp = dataset_kpis_final_comp.drop(\"PERIOD_COMP\", axis=1)\n",
    "\n",
    "# Renommage des colonnes\n",
    "to_rename = {\"VALUE\": \"VALUE_N-1\", \"PERIOD\": \"PERIOD_COMP\"}\n",
    "dataset_kpis_final_comp = dataset_kpis_final_comp.rename(columns=to_rename)\n",
    "dataset_kpis_final_comp"
   ]
  },
  {
   "cell_type": "code",
   "execution_count": null,
   "id": "49f6fb30-3fba-4f95-a972-81b68f6db3b1",
   "metadata": {
    "papermill": {},
    "tags": []
   },
   "outputs": [],
   "source": [
    "# Jointure entre les 2 tables dataset_kpis_final et dataset_kpis_vf\n",
    "join_on = [\"ENTITY\", \"PERIOD_COMP\", \"RUBRIQUE_N1\"]\n",
    "dataset_kpis_final = (\n",
    "    pd.merge(dataset_kpis_final, dataset_kpis_final_comp, how=\"left\", on=join_on)\n",
    "    .drop(\"PERIOD_COMP\", axis=1)\n",
    "    .fillna(0)\n",
    ")\n",
    "\n",
    "# Création colonne Var V\n",
    "dataset_kpis_final[\"VARV\"] = (\n",
    "    dataset_kpis_final[\"VALUE\"] - dataset_kpis_final[\"VALUE_N-1\"]\n",
    ")\n",
    "\n",
    "# Création colonne Var P (%)\n",
    "dataset_kpis_final[\"VARP\"] = (\n",
    "    dataset_kpis_final[\"VARV\"] / dataset_kpis_final[\"VALUE_N-1\"]\n",
    ")\n",
    "\n",
    "dataset_kpis_final[\"VALUE_D\"] = (dataset_kpis_final[\"VALUE\"] / 1000).map(\"{:,.1f} k€\".format).str.replace(\",\", \" \")\n",
    "dataset_kpis_final[\"VARV_D\"] = (dataset_kpis_final[\"VARV\"] / 1000).map(\"{:,.1f} k€\".format).str.replace(\",\", \" \")\n",
    "dataset_kpis_final.loc[dataset_kpis_final[\"VARV\"] > 0, \"VARV_D\"] = \"+\" + dataset_kpis_final[\"VARV_D\"]\n",
    "dataset_kpis_final[\"VARP_D\"] = (dataset_kpis_final[\"VARP\"]).map(\"{:,.1%}\".format)\n",
    "dataset_kpis_final.loc[dataset_kpis_final[\"VARP\"] > 0, \"VARP_D\"] = \"+\" + dataset_kpis_final[\"VARP_D\"]\n",
    "\n",
    "dataset_kpis_final"
   ]
  },
  {
   "cell_type": "markdown",
   "id": "6e594afb-890f-41f2-aa25-7c26420f0b7d",
   "metadata": {
    "papermill": {},
    "tags": []
   },
   "source": [
    "## Output"
   ]
  },
  {
   "cell_type": "markdown",
   "id": "compliant-clone",
   "metadata": {
    "papermill": {},
    "tags": []
   },
   "source": [
    "### Sauvegarde des fichiers en csv"
   ]
  },
  {
   "cell_type": "code",
   "execution_count": null,
   "id": "marked-story",
   "metadata": {
    "papermill": {},
    "tags": []
   },
   "outputs": [],
   "source": [
    "save_df(dataset_kpis_final, output_folder_path)"
   ]
  },
  {
   "cell_type": "code",
   "execution_count": null,
   "id": "408892fe-d1ef-402d-9b7e-d62f1df313b6",
   "metadata": {},
   "outputs": [],
   "source": []
  }
 ],
 "metadata": {
  "kernelspec": {
   "display_name": "Python 3",
   "language": "python",
   "name": "python3"
  },
  "language_info": {
   "codemirror_mode": {
    "name": "ipython",
    "version": 3
   },
   "file_extension": ".py",
   "mimetype": "text/x-python",
   "name": "python",
   "nbconvert_exporter": "python",
   "pygments_lexer": "ipython3",
   "version": "3.9.6"
  },
  "naas": {
   "notebook_id": "488da1e7-5583-478f-b198-277886651611",
   "notebook_path": "FEC/FEC_Creer_un_dashboard_PowerBI.ipynb"
  },
  "papermill": {
   "default_parameters": {},
   "environment_variables": {},
   "parameters": {},
   "version": "2.3.3"
  }
 },
 "nbformat": 4,
 "nbformat_minor": 5
}
