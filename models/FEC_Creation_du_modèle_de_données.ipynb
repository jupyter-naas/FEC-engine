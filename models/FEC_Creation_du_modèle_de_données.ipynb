{
 "cells": [
  {
   "cell_type": "markdown",
   "id": "touched-standard",
   "metadata": {
    "papermill": {},
    "tags": []
   },
   "source": [
    "<img width=\"10%\" alt=\"Naas\" src=\"https://landen.imgix.net/jtci2pxwjczr/assets/5ice39g4.png?w=160\"/>"
   ]
  },
  {
   "cell_type": "markdown",
   "id": "painted-needle",
   "metadata": {
    "papermill": {},
    "tags": []
   },
   "source": [
    "# FEC - Création du modèle de données"
   ]
  },
  {
   "cell_type": "markdown",
   "id": "local-library",
   "metadata": {
    "execution": {
     "iopub.execute_input": "2021-08-17T08:30:57.908317Z",
     "iopub.status.busy": "2021-08-17T08:30:57.908010Z",
     "iopub.status.idle": "2021-08-17T08:30:57.920293Z",
     "shell.execute_reply": "2021-08-17T08:30:57.919475Z",
     "shell.execute_reply.started": "2021-08-17T08:30:57.908246Z"
    },
    "papermill": {},
    "tags": []
   },
   "source": [
    "**Tags:** #fec #datamodel #finance #snippet #operation"
   ]
  },
  {
   "cell_type": "markdown",
   "id": "latin-nightmare",
   "metadata": {
    "papermill": {},
    "tags": []
   },
   "source": [
    "**Author:** [Florent Ravenel](https://www.linkedin.com/in/florent-ravenel/)"
   ]
  },
  {
   "cell_type": "markdown",
   "id": "naas-description",
   "metadata": {
    "papermill": {},
    "tags": [
     "description"
    ]
   },
   "source": [
    "**Description:** Ce notebook permet de lire la base de données FEC et de le transformer dans le format du modèle de données attendu pour générer des états financiers."
   ]
  },
  {
   "cell_type": "markdown",
   "id": "residential-laptop",
   "metadata": {
    "papermill": {},
    "tags": []
   },
   "source": [
    "## Input"
   ]
  },
  {
   "cell_type": "markdown",
   "id": "spanish-beatles",
   "metadata": {
    "papermill": {},
    "tags": []
   },
   "source": [
    "### Import libraries"
   ]
  },
  {
   "cell_type": "code",
   "execution_count": 1,
   "id": "amazing-pollution",
   "metadata": {
    "execution": {
     "iopub.execute_input": "2023-05-24T13:01:20.398903Z",
     "iopub.status.busy": "2023-05-24T13:01:20.398471Z",
     "iopub.status.idle": "2023-05-24T13:01:23.864467Z",
     "shell.execute_reply": "2023-05-24T13:01:23.863801Z",
     "shell.execute_reply.started": "2023-05-24T13:01:20.398832Z"
    },
    "papermill": {},
    "tags": []
   },
   "outputs": [],
   "source": [
    "import pandas as pd\n",
    "import glob\n",
    "import re\n",
    "import os\n",
    "import naas\n",
    "from datetime import datetime"
   ]
  },
  {
   "cell_type": "markdown",
   "id": "assured-touch",
   "metadata": {
    "papermill": {},
    "tags": []
   },
   "source": [
    "### Setup Variables"
   ]
  },
  {
   "cell_type": "code",
   "execution_count": 2,
   "id": "smooth-peoples",
   "metadata": {
    "execution": {
     "iopub.execute_input": "2023-05-24T13:01:23.869052Z",
     "iopub.status.busy": "2023-05-24T13:01:23.868739Z",
     "iopub.status.idle": "2023-05-24T13:01:23.879823Z",
     "shell.execute_reply": "2023-05-24T13:01:23.879235Z",
     "shell.execute_reply.started": "2023-05-24T13:01:23.869001Z"
    },
    "papermill": {},
    "tags": []
   },
   "outputs": [],
   "source": [
    "# Inputs\n",
    "input_folder_path = \"/home/ftp/FEC-engine/outputs/FEC/BDD_INIT\"\n",
    "to_map = {\n",
    "    \"EcritureDate\": \"DATE\",\n",
    "    \"CompteNum\": \"COMPTE_NUM\",\n",
    "    \"CompteLib\": \"COMPTE_LIB\",\n",
    "    \"EcritureLib\": \"ECRITURE_LIB\",\n",
    "    \"Debit\": \"DEBIT\",\n",
    "    \"Credit\": \"CREDIT\",\n",
    "}\n",
    "\n",
    "# Outputs\n",
    "output_folder_path = \"/home/ftp/FEC-engine/outputs/FEC/BDD_FEC\""
   ]
  },
  {
   "cell_type": "markdown",
   "id": "2994a857-1817-4fc2-92ae-1f78e0d2d668",
   "metadata": {},
   "source": [
    "## Model"
   ]
  },
  {
   "cell_type": "markdown",
   "id": "ec3ae032-21f8-4899-88d4-df97d18a50cd",
   "metadata": {},
   "source": [
    "### Récupération du dernier fichier input"
   ]
  },
  {
   "cell_type": "code",
   "execution_count": 3,
   "id": "eb215873-dd08-48aa-a763-3aaa834440e4",
   "metadata": {
    "execution": {
     "iopub.execute_input": "2023-05-24T13:01:23.883015Z",
     "iopub.status.busy": "2023-05-24T13:01:23.882690Z",
     "iopub.status.idle": "2023-05-24T13:01:24.046658Z",
     "shell.execute_reply": "2023-05-24T13:01:24.046116Z",
     "shell.execute_reply.started": "2023-05-24T13:01:23.882985Z"
    },
    "tags": []
   },
   "outputs": [
    {
     "name": "stdout",
     "output_type": "stream",
     "text": [
      "📁 Last file: /home/ftp/FEC-engine/outputs/FEC/BDD_INIT/20230524122731_FEC_BDD_INIT.csv\n",
      "✅ Row fetched: 4532\n"
     ]
    },
    {
     "data": {
      "text/html": [
       "<div>\n",
       "<style scoped>\n",
       "    .dataframe tbody tr th:only-of-type {\n",
       "        vertical-align: middle;\n",
       "    }\n",
       "\n",
       "    .dataframe tbody tr th {\n",
       "        vertical-align: top;\n",
       "    }\n",
       "\n",
       "    .dataframe thead th {\n",
       "        text-align: right;\n",
       "    }\n",
       "</style>\n",
       "<table border=\"1\" class=\"dataframe\">\n",
       "  <thead>\n",
       "    <tr style=\"text-align: right;\">\n",
       "      <th></th>\n",
       "      <th>JournalCode</th>\n",
       "      <th>JournalLib</th>\n",
       "      <th>EcritureNum</th>\n",
       "      <th>EcritureDate</th>\n",
       "      <th>CompteNum</th>\n",
       "      <th>CompteLib</th>\n",
       "      <th>CompAuxNum</th>\n",
       "      <th>CompAuxLib</th>\n",
       "      <th>PieceRef</th>\n",
       "      <th>PieceDate</th>\n",
       "      <th>...</th>\n",
       "      <th>ValidDate</th>\n",
       "      <th>Montantdevise</th>\n",
       "      <th>Idevise</th>\n",
       "      <th>DateRglt</th>\n",
       "      <th>ModeRglt</th>\n",
       "      <th>NatOp</th>\n",
       "      <th>IdClient</th>\n",
       "      <th>Unnamed: 22</th>\n",
       "      <th>FILE_PATH</th>\n",
       "      <th>FILE_NAME</th>\n",
       "    </tr>\n",
       "  </thead>\n",
       "  <tbody>\n",
       "    <tr>\n",
       "      <th>0</th>\n",
       "      <td>AN</td>\n",
       "      <td>A nouveaux</td>\n",
       "      <td>AN0000001</td>\n",
       "      <td>20180101</td>\n",
       "      <td>20500000</td>\n",
       "      <td>BREVETS, LICENCES, LOGICIELS..</td>\n",
       "      <td></td>\n",
       "      <td></td>\n",
       "      <td>1</td>\n",
       "      <td>20180101</td>\n",
       "      <td>...</td>\n",
       "      <td>20190326</td>\n",
       "      <td></td>\n",
       "      <td>EUR</td>\n",
       "      <td></td>\n",
       "      <td></td>\n",
       "      <td></td>\n",
       "      <td></td>\n",
       "      <td>NaN</td>\n",
       "      <td>/home/ftp/FEC-engine/inputs/000000000FEC201812...</td>\n",
       "      <td>000000000FEC20181231.txt</td>\n",
       "    </tr>\n",
       "  </tbody>\n",
       "</table>\n",
       "<p>1 rows × 25 columns</p>\n",
       "</div>"
      ],
      "text/plain": [
       "  JournalCode   JournalLib                               EcritureNum  \\\n",
       "0          AN  A nouveaux                                  AN0000001   \n",
       "\n",
       "   EcritureDate   CompteNum                        CompteLib CompAuxNum  \\\n",
       "0      20180101    20500000  BREVETS, LICENCES, LOGICIELS..               \n",
       "\n",
       "  CompAuxLib PieceRef  PieceDate  ... ValidDate   Montantdevise  Idevise  \\\n",
       "0                   1   20180101  ...  20190326                      EUR   \n",
       "\n",
       "  DateRglt  ModeRglt    NatOp IdClient Unnamed: 22  \\\n",
       "0                                              NaN   \n",
       "\n",
       "                                           FILE_PATH                 FILE_NAME  \n",
       "0  /home/ftp/FEC-engine/inputs/000000000FEC201812...  000000000FEC20181231.txt  \n",
       "\n",
       "[1 rows x 25 columns]"
      ]
     },
     "execution_count": 3,
     "metadata": {},
     "output_type": "execute_result"
    }
   ],
   "source": [
    "def read_last_csv(folder_path):\n",
    "    # Init\n",
    "    df = pd.DataFrame()\n",
    "    \n",
    "    # List files in folder\n",
    "    files = sorted(glob.glob(f\"{folder_path}/*.csv\"), reverse=True)\n",
    "    \n",
    "    # Read last csv files\n",
    "    if len(files) > 0:\n",
    "        last_file = files[-1]\n",
    "        print(\"📁 Last file:\", last_file)\n",
    "        df = pd.read_csv(last_file, sep=\";\", decimal=\",\")\n",
    "    return df\n",
    "\n",
    "df_input = read_last_csv(input_folder_path)\n",
    "print(\"✅ Row fetched:\", len(df_input))\n",
    "df_input.head(1)"
   ]
  },
  {
   "cell_type": "markdown",
   "id": "bb0b853e-bc98-48ee-9b3b-a54f8cb2a4cd",
   "metadata": {
    "papermill": {},
    "tags": []
   },
   "source": [
    "### Création de la base de donnée FEC"
   ]
  },
  {
   "cell_type": "code",
   "execution_count": 5,
   "id": "5ac86bde-8f8d-47c1-9635-00f1b9e826e2",
   "metadata": {
    "execution": {
     "iopub.execute_input": "2023-05-24T13:01:29.249708Z",
     "iopub.status.busy": "2023-05-24T13:01:29.249456Z",
     "iopub.status.idle": "2023-05-24T13:01:29.279960Z",
     "shell.execute_reply": "2023-05-24T13:01:29.279322Z",
     "shell.execute_reply.started": "2023-05-24T13:01:29.249672Z"
    },
    "papermill": {},
    "tags": []
   },
   "outputs": [
    {
     "name": "stdout",
     "output_type": "stream",
     "text": [
      "✅ Row fetched: 4532\n"
     ]
    },
    {
     "data": {
      "text/html": [
       "<div>\n",
       "<style scoped>\n",
       "    .dataframe tbody tr th:only-of-type {\n",
       "        vertical-align: middle;\n",
       "    }\n",
       "\n",
       "    .dataframe tbody tr th {\n",
       "        vertical-align: top;\n",
       "    }\n",
       "\n",
       "    .dataframe thead th {\n",
       "        text-align: right;\n",
       "    }\n",
       "</style>\n",
       "<table border=\"1\" class=\"dataframe\">\n",
       "  <thead>\n",
       "    <tr style=\"text-align: right;\">\n",
       "      <th></th>\n",
       "      <th>FILE_NAME</th>\n",
       "      <th>DATE</th>\n",
       "      <th>COMPTE_NUM</th>\n",
       "      <th>COMPTE_LIB</th>\n",
       "      <th>ECRITURE_LIB</th>\n",
       "      <th>DEBIT</th>\n",
       "      <th>CREDIT</th>\n",
       "    </tr>\n",
       "  </thead>\n",
       "  <tbody>\n",
       "    <tr>\n",
       "      <th>0</th>\n",
       "      <td>000000000FEC20181231.txt</td>\n",
       "      <td>2018-01-01</td>\n",
       "      <td>20500000</td>\n",
       "      <td>BREVETS, LICENCES, LOGICIELS..</td>\n",
       "      <td>A Nouveau</td>\n",
       "      <td>4006.6</td>\n",
       "      <td>0.0</td>\n",
       "    </tr>\n",
       "  </tbody>\n",
       "</table>\n",
       "</div>"
      ],
      "text/plain": [
       "                  FILE_NAME       DATE COMPTE_NUM  \\\n",
       "0  000000000FEC20181231.txt 2018-01-01   20500000   \n",
       "\n",
       "                        COMPTE_LIB ECRITURE_LIB   DEBIT  CREDIT  \n",
       "0  BREVETS, LICENCES, LOGICIELS..    A Nouveau   4006.6     0.0  "
      ]
     },
     "execution_count": 5,
     "metadata": {},
     "output_type": "execute_result"
    }
   ],
   "source": [
    "def create_datamodel(df_init, to_rename):\n",
    "    # Init\n",
    "    df = df_init.copy()\n",
    "    \n",
    "    # Map columns\n",
    "    df = df.rename(columns=to_rename)\n",
    "    \n",
    "    # suppression des espaces colonne \"COMPTE_NUM\"\n",
    "    df[\"COMPTE_NUM\"] = df[\"COMPTE_NUM\"].astype(str).str.strip()\n",
    "\n",
    "    # Format des colonnes\n",
    "    df = df.astype(\n",
    "        {\n",
    "            \"FILE_NAME\": str,\n",
    "            \"DATE\": str,\n",
    "            \"COMPTE_NUM\": str,\n",
    "            \"COMPTE_LIB\": str,\n",
    "            \"ECRITURE_LIB\": str,\n",
    "            \"DEBIT\": float,\n",
    "            \"CREDIT\": float,\n",
    "        }\n",
    "    )\n",
    "\n",
    "    # Mise au format colonne date\n",
    "    df[\"DATE\"] = pd.to_datetime(df[\"DATE\"])\n",
    "    \n",
    "    # Select col to keep\n",
    "    to_select = [\n",
    "        \"FILE_NAME\",\n",
    "        \"DATE\",\n",
    "        \"COMPTE_NUM\",\n",
    "        \"COMPTE_LIB\",\n",
    "        \"ECRITURE_LIB\",\n",
    "        \"DEBIT\",\n",
    "        \"CREDIT\",\n",
    "    ]\n",
    "    df = df[to_select]\n",
    "    return df\n",
    "\n",
    "df_output = create_datamodel(df_input, to_map)\n",
    "print(\"✅ Row fetched:\", len(df_output))\n",
    "df_output.head(1)"
   ]
  },
  {
   "cell_type": "markdown",
   "id": "0ce8f20f-2a3d-430c-aa23-a12405376531",
   "metadata": {
    "papermill": {},
    "tags": []
   },
   "source": [
    "## Output"
   ]
  },
  {
   "cell_type": "markdown",
   "id": "compliant-clone",
   "metadata": {
    "papermill": {},
    "tags": []
   },
   "source": [
    "### Sauvegarde des fichiers en csv"
   ]
  },
  {
   "cell_type": "code",
   "execution_count": 6,
   "id": "marked-story",
   "metadata": {
    "execution": {
     "iopub.execute_input": "2023-05-24T13:01:31.405942Z",
     "iopub.status.busy": "2023-05-24T13:01:31.405704Z",
     "iopub.status.idle": "2023-05-24T13:01:31.572835Z",
     "shell.execute_reply": "2023-05-24T13:01:31.572148Z",
     "shell.execute_reply.started": "2023-05-24T13:01:31.405916Z"
    },
    "papermill": {},
    "tags": []
   },
   "outputs": [
    {
     "name": "stdout",
     "output_type": "stream",
     "text": [
      "✅ DataFrame saved in: /home/ftp/FEC-engine/outputs/FEC/BDD_FEC/20230524150131_FEC_BDD_FEC.csv\n"
     ]
    }
   ],
   "source": [
    "def df_to_csv(df, output_folder, asset=False):\n",
    "    # Create directory\n",
    "    if not os.path.exists(output_folder):\n",
    "        os.makedirs(output_folder)\n",
    "        \n",
    "    # Create file path\n",
    "    timestamp = datetime.now().strftime(\"%Y%m%d%H%M%S\")\n",
    "    file_name = f\"{timestamp}_\" + output_folder.split(\"/outputs/\")[-1].replace(\"/\", \"_\") + \".csv\"\n",
    "    \n",
    "    # Sauvegarde en csv\n",
    "    file_path = os.path.join(output_folder, file_name)\n",
    "    df.to_csv(file_path, sep=\";\", decimal=\",\", index=False)\n",
    "    print(\"✅ DataFrame saved in:\", file_path)\n",
    "\n",
    "    # Création du lien url\n",
    "    if asset:\n",
    "        naas_link = naas.asset.add(file_path)\n",
    "        return naas_link\n",
    "\n",
    "df_to_csv(df_output, output_folder_path)"
   ]
  }
 ],
 "metadata": {
  "kernelspec": {
   "display_name": "Python 3",
   "language": "python",
   "name": "python3"
  },
  "language_info": {
   "codemirror_mode": {
    "name": "ipython",
    "version": 3
   },
   "file_extension": ".py",
   "mimetype": "text/x-python",
   "name": "python",
   "nbconvert_exporter": "python",
   "pygments_lexer": "ipython3",
   "version": "3.9.6"
  },
  "naas": {
   "notebook_id": "488da1e7-5583-478f-b198-277886651611",
   "notebook_path": "FEC/FEC_Creer_un_dashboard_PowerBI.ipynb"
  },
  "papermill": {
   "default_parameters": {},
   "environment_variables": {},
   "parameters": {},
   "version": "2.3.3"
  }
 },
 "nbformat": 4,
 "nbformat_minor": 5
}
