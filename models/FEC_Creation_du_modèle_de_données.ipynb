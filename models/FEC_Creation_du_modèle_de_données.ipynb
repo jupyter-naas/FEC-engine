{
 "cells": [
  {
   "cell_type": "markdown",
   "id": "touched-standard",
   "metadata": {
    "papermill": {},
    "tags": []
   },
   "source": [
    "<img width=\"10%\" alt=\"Naas\" src=\"https://landen.imgix.net/jtci2pxwjczr/assets/5ice39g4.png?w=160\"/>"
   ]
  },
  {
   "cell_type": "markdown",
   "id": "painted-needle",
   "metadata": {
    "papermill": {},
    "tags": []
   },
   "source": [
    "# FEC - Création du modèle de données"
   ]
  },
  {
   "cell_type": "markdown",
   "id": "local-library",
   "metadata": {
    "execution": {
     "iopub.execute_input": "2021-08-17T08:30:57.908317Z",
     "iopub.status.busy": "2021-08-17T08:30:57.908010Z",
     "iopub.status.idle": "2021-08-17T08:30:57.920293Z",
     "shell.execute_reply": "2021-08-17T08:30:57.919475Z",
     "shell.execute_reply.started": "2021-08-17T08:30:57.908246Z"
    },
    "papermill": {},
    "tags": []
   },
   "source": [
    "**Tags:** #fec #datamodel #finance #snippet #operation"
   ]
  },
  {
   "cell_type": "markdown",
   "id": "latin-nightmare",
   "metadata": {
    "papermill": {},
    "tags": []
   },
   "source": [
    "**Author:** [Florent Ravenel](https://www.linkedin.com/in/florent-ravenel/)"
   ]
  },
  {
   "cell_type": "markdown",
   "id": "naas-description",
   "metadata": {
    "papermill": {},
    "tags": [
     "description"
    ]
   },
   "source": [
    "**Description:** Ce notebook permet de lire la base de données FEC et de le transformer dans le format du modèle de données attendu pour générer des états financiers."
   ]
  },
  {
   "cell_type": "markdown",
   "id": "residential-laptop",
   "metadata": {
    "papermill": {},
    "tags": []
   },
   "source": [
    "## Input"
   ]
  },
  {
   "cell_type": "markdown",
   "id": "spanish-beatles",
   "metadata": {
    "papermill": {},
    "tags": []
   },
   "source": [
    "### Import libraries"
   ]
  },
  {
   "cell_type": "code",
   "execution_count": null,
   "id": "amazing-pollution",
   "metadata": {
    "papermill": {},
    "tags": []
   },
   "outputs": [],
   "source": [
    "import naas_data_product"
   ]
  },
  {
   "cell_type": "markdown",
   "id": "assured-touch",
   "metadata": {
    "papermill": {},
    "tags": []
   },
   "source": [
    "### Setup Variables"
   ]
  },
  {
   "cell_type": "code",
   "execution_count": null,
   "id": "smooth-peoples",
   "metadata": {
    "papermill": {},
    "tags": []
   },
   "outputs": [],
   "source": [
    "# Inputs\n",
    "input_folder_path = \"/home/ftp/FEC-engine/outputs/FEC/BDD_INIT\"\n",
    "to_map = {\n",
    "    \"EcritureDate\": \"DATE\",\n",
    "    \"CompteNum\": \"COMPTE_NUM\",\n",
    "    \"CompteLib\": \"RUBRIQUE_N3\",\n",
    "    \"EcritureLib\": \"RUBRIQUE_N4\",\n",
    "    \"Debit\": \"DEBIT\",\n",
    "    \"Credit\": \"CREDIT\",\n",
    "}\n",
    "\n",
    "# Outputs\n",
    "output_folder_path = \"/home/ftp/FEC-engine/outputs/FEC/BDD_FEC\""
   ]
  },
  {
   "cell_type": "markdown",
   "id": "2994a857-1817-4fc2-92ae-1f78e0d2d668",
   "metadata": {},
   "source": [
    "## Model"
   ]
  },
  {
   "cell_type": "markdown",
   "id": "ec3ae032-21f8-4899-88d4-df97d18a50cd",
   "metadata": {},
   "source": [
    "### Récupération du dernier fichier input"
   ]
  },
  {
   "cell_type": "code",
   "execution_count": null,
   "id": "eb215873-dd08-48aa-a763-3aaa834440e4",
   "metadata": {
    "tags": []
   },
   "outputs": [],
   "source": [
    "df_input = get_last_df(input_folder_path)\n",
    "print(\"✅ Row fetched:\", len(df_input))\n",
    "df_input.head(1)"
   ]
  },
  {
   "cell_type": "markdown",
   "id": "bb0b853e-bc98-48ee-9b3b-a54f8cb2a4cd",
   "metadata": {
    "papermill": {},
    "tags": []
   },
   "source": [
    "### Création de la base de donnée FEC"
   ]
  },
  {
   "cell_type": "code",
   "execution_count": null,
   "id": "5ac86bde-8f8d-47c1-9635-00f1b9e826e2",
   "metadata": {
    "papermill": {},
    "tags": []
   },
   "outputs": [],
   "source": [
    "def create_datamodel(df_init, to_rename):\n",
    "    # Init\n",
    "    df = df_init.copy()\n",
    "    \n",
    "    # Map columns\n",
    "    df = df.rename(columns=to_rename)\n",
    "    \n",
    "    # suppression des espaces colonne \"COMPTE_NUM\"\n",
    "    df[\"COMPTE_NUM\"] = df[\"COMPTE_NUM\"].astype(str).str.strip()\n",
    "\n",
    "    # Format des colonnes\n",
    "    df = df.astype(\n",
    "        {\n",
    "            \"NOM_FICHIER\": str,\n",
    "            \"DATE\": str,\n",
    "            \"COMPTE_NUM\": str,\n",
    "            \"RUBRIQUE_N3\": str,\n",
    "            \"RUBRIQUE_N4\": str,\n",
    "            \"DEBIT\": float,\n",
    "            \"CREDIT\": float,\n",
    "        }\n",
    "    )\n",
    "\n",
    "    # Mise au format colonne date\n",
    "    df[\"DATE\"] = pd.to_datetime(df[\"DATE\"])\n",
    "    \n",
    "    # Select col to keep\n",
    "    to_select = [\n",
    "        \"NOM_FICHIER\",\n",
    "        \"DATE\",\n",
    "        \"COMPTE_NUM\",\n",
    "        \"RUBRIQUE_N3\",\n",
    "        \"RUBRIQUE_N4\",\n",
    "        \"DEBIT\",\n",
    "        \"CREDIT\",\n",
    "    ]\n",
    "    df = df[to_select]\n",
    "    return df\n",
    "\n",
    "df_output = create_datamodel(df_input, to_map)\n",
    "print(\"✅ Row fetched:\", len(df_output))\n",
    "df_output.head(1)"
   ]
  },
  {
   "cell_type": "markdown",
   "id": "0ce8f20f-2a3d-430c-aa23-a12405376531",
   "metadata": {
    "papermill": {},
    "tags": []
   },
   "source": [
    "## Output"
   ]
  },
  {
   "cell_type": "markdown",
   "id": "compliant-clone",
   "metadata": {
    "papermill": {},
    "tags": []
   },
   "source": [
    "### Sauvegarde des fichiers en csv"
   ]
  },
  {
   "cell_type": "code",
   "execution_count": null,
   "id": "marked-story",
   "metadata": {
    "papermill": {},
    "tags": []
   },
   "outputs": [],
   "source": [
    "save_df(df_output, output_folder_path)"
   ]
  }
 ],
 "metadata": {
  "kernelspec": {
   "display_name": "Python 3",
   "language": "python",
   "name": "python3"
  },
  "language_info": {
   "codemirror_mode": {
    "name": "ipython",
    "version": 3
   },
   "file_extension": ".py",
   "mimetype": "text/x-python",
   "name": "python",
   "nbconvert_exporter": "python",
   "pygments_lexer": "ipython3",
   "version": "3.9.6"
  },
  "naas": {
   "notebook_id": "488da1e7-5583-478f-b198-277886651611",
   "notebook_path": "FEC/FEC_Creer_un_dashboard_PowerBI.ipynb"
  },
  "papermill": {
   "default_parameters": {},
   "environment_variables": {},
   "parameters": {},
   "version": "2.3.3"
  }
 },
 "nbformat": 4,
 "nbformat_minor": 5
}
