{
 "cells": [
  {
   "cell_type": "markdown",
   "id": "touched-standard",
   "metadata": {
    "papermill": {},
    "tags": []
   },
   "source": [
    "<img width=\"10%\" alt=\"Naas\" src=\"https://landen.imgix.net/jtci2pxwjczr/assets/5ice39g4.png?w=160\"/>"
   ]
  },
  {
   "cell_type": "markdown",
   "id": "painted-needle",
   "metadata": {
    "papermill": {},
    "tags": []
   },
   "source": [
    "# FEC - Création des référentiels"
   ]
  },
  {
   "cell_type": "markdown",
   "id": "local-library",
   "metadata": {
    "execution": {
     "iopub.execute_input": "2021-08-17T08:30:57.908317Z",
     "iopub.status.busy": "2021-08-17T08:30:57.908010Z",
     "iopub.status.idle": "2021-08-17T08:30:57.920293Z",
     "shell.execute_reply": "2021-08-17T08:30:57.919475Z",
     "shell.execute_reply.started": "2021-08-17T08:30:57.908246Z"
    },
    "papermill": {},
    "tags": []
   },
   "source": [
    "**Tags:** #fec #datamodel #finance #snippet #operation"
   ]
  },
  {
   "cell_type": "markdown",
   "id": "latin-nightmare",
   "metadata": {
    "papermill": {},
    "tags": []
   },
   "source": [
    "**Author:** [Florent Ravenel](https://www.linkedin.com/in/florent-ravenel/)"
   ]
  },
  {
   "cell_type": "markdown",
   "id": "naas-description",
   "metadata": {
    "papermill": {},
    "tags": [
     "description"
    ]
   },
   "source": [
    "**Description:** Ce notebook permet de créer les référentiels utilisés dans le tableau de bord."
   ]
  },
  {
   "cell_type": "markdown",
   "id": "residential-laptop",
   "metadata": {
    "papermill": {},
    "tags": []
   },
   "source": [
    "## Input"
   ]
  },
  {
   "cell_type": "markdown",
   "id": "spanish-beatles",
   "metadata": {
    "papermill": {},
    "tags": []
   },
   "source": [
    "### Import libraries"
   ]
  },
  {
   "cell_type": "code",
   "execution_count": 1,
   "id": "amazing-pollution",
   "metadata": {
    "execution": {
     "iopub.execute_input": "2023-06-02T10:47:10.455913Z",
     "iopub.status.busy": "2023-06-02T10:47:10.455312Z",
     "iopub.status.idle": "2023-06-02T10:47:19.147857Z",
     "shell.execute_reply": "2023-06-02T10:47:19.146960Z",
     "shell.execute_reply.started": "2023-06-02T10:47:10.455847Z"
    },
    "papermill": {},
    "tags": []
   },
   "outputs": [
    {
     "name": "stdout",
     "output_type": "stream",
     "text": [
      "✅ utils file '/home/ftp/FEC-engine/utils/datalake.ipynb' successfully loaded.\n"
     ]
    }
   ],
   "source": [
    "import naas_data_product"
   ]
  },
  {
   "cell_type": "markdown",
   "id": "assured-touch",
   "metadata": {
    "papermill": {},
    "tags": []
   },
   "source": [
    "### Setup Variables"
   ]
  },
  {
   "cell_type": "code",
   "execution_count": 2,
   "id": "smooth-peoples",
   "metadata": {
    "execution": {
     "iopub.execute_input": "2023-06-02T10:47:19.149611Z",
     "iopub.status.busy": "2023-06-02T10:47:19.149368Z",
     "iopub.status.idle": "2023-06-02T10:47:19.152471Z",
     "shell.execute_reply": "2023-06-02T10:47:19.151848Z",
     "shell.execute_reply.started": "2023-06-02T10:47:19.149578Z"
    },
    "papermill": {},
    "tags": [
     "parameters"
    ]
   },
   "outputs": [],
   "source": [
    "# Inputs\n",
    "input_folder_path = \"/home/ftp/FEC-engine/outputs/FEC/bdd_fin\"\n",
    "\n",
    "# Outputs\n",
    "output_folder_path = \"/home/ftp/FEC-engine/outputs/FEC/referentiel_entite\""
   ]
  },
  {
   "cell_type": "markdown",
   "id": "2994a857-1817-4fc2-92ae-1f78e0d2d668",
   "metadata": {},
   "source": [
    "## Model"
   ]
  },
  {
   "cell_type": "markdown",
   "id": "0c7ba256-c278-4e6b-93ef-7bfb3a812eb5",
   "metadata": {},
   "source": [
    "### Récupération du dernier fichier input"
   ]
  },
  {
   "cell_type": "code",
   "execution_count": 3,
   "id": "25032862-87de-46f0-9583-c1378b8d1af5",
   "metadata": {
    "execution": {
     "iopub.execute_input": "2023-06-02T10:47:19.153928Z",
     "iopub.status.busy": "2023-06-02T10:47:19.153694Z",
     "iopub.status.idle": "2023-06-02T10:47:19.305741Z",
     "shell.execute_reply": "2023-06-02T10:47:19.305175Z",
     "shell.execute_reply.started": "2023-06-02T10:47:19.153899Z"
    },
    "tags": []
   },
   "outputs": [
    {
     "name": "stdout",
     "output_type": "stream",
     "text": [
      "📁 Last file: /home/ftp/FEC-engine/outputs/FEC/bdd_fin/20230602114004_FEC_bdd_fin.csv\n",
      "✅ Row fetched: 13596\n"
     ]
    },
    {
     "data": {
      "text/html": [
       "<div>\n",
       "<style scoped>\n",
       "    .dataframe tbody tr th:only-of-type {\n",
       "        vertical-align: middle;\n",
       "    }\n",
       "\n",
       "    .dataframe tbody tr th {\n",
       "        vertical-align: top;\n",
       "    }\n",
       "\n",
       "    .dataframe thead th {\n",
       "        text-align: right;\n",
       "    }\n",
       "</style>\n",
       "<table border=\"1\" class=\"dataframe\">\n",
       "  <thead>\n",
       "    <tr style=\"text-align: right;\">\n",
       "      <th></th>\n",
       "      <th>NOM_FICHIER</th>\n",
       "      <th>ENTITY</th>\n",
       "      <th>PERIOD</th>\n",
       "      <th>DATE</th>\n",
       "      <th>MONTH</th>\n",
       "      <th>MONTH_INDEX</th>\n",
       "      <th>COMPTE_NUM</th>\n",
       "      <th>RUBRIQUE_N3</th>\n",
       "      <th>RUBRIQUE_N4</th>\n",
       "      <th>DEBIT</th>\n",
       "      <th>CREDIT</th>\n",
       "      <th>VALUE</th>\n",
       "    </tr>\n",
       "  </thead>\n",
       "  <tbody>\n",
       "    <tr>\n",
       "      <th>0</th>\n",
       "      <td>000000002FEC20181231.txt</td>\n",
       "      <td>000000002</td>\n",
       "      <td>201812</td>\n",
       "      <td>2018-01-01</td>\n",
       "      <td>Jan</td>\n",
       "      <td>1</td>\n",
       "      <td>20500000</td>\n",
       "      <td>BREVETS, LICENCES, LOGICIELS..</td>\n",
       "      <td>A Nouveau</td>\n",
       "      <td>4006.6</td>\n",
       "      <td>0.0</td>\n",
       "      <td>4006.6</td>\n",
       "    </tr>\n",
       "  </tbody>\n",
       "</table>\n",
       "</div>"
      ],
      "text/plain": [
       "                NOM_FICHIER     ENTITY  PERIOD        DATE MONTH  MONTH_INDEX  \\\n",
       "0  000000002FEC20181231.txt  000000002  201812  2018-01-01   Jan            1   \n",
       "\n",
       "  COMPTE_NUM                      RUBRIQUE_N3 RUBRIQUE_N4   DEBIT  CREDIT  \\\n",
       "0   20500000  BREVETS, LICENCES, LOGICIELS..   A Nouveau   4006.6     0.0   \n",
       "\n",
       "    VALUE  \n",
       "0  4006.6  "
      ]
     },
     "execution_count": 3,
     "metadata": {},
     "output_type": "execute_result"
    }
   ],
   "source": [
    "df_input = get_last_df(input_folder_path)\n",
    "print(\"✅ Row fetched:\", len(df_input))\n",
    "df_input.head(1)"
   ]
  },
  {
   "cell_type": "markdown",
   "id": "05ff7edb-4d54-4600-a585-46cee62361c8",
   "metadata": {
    "papermill": {},
    "tags": []
   },
   "source": [
    "### Création du référentiel"
   ]
  },
  {
   "cell_type": "code",
   "execution_count": 4,
   "id": "17e8a623-7d96-488f-b8db-fcd94dc0791c",
   "metadata": {
    "execution": {
     "iopub.execute_input": "2023-06-02T10:47:19.306935Z",
     "iopub.status.busy": "2023-06-02T10:47:19.306710Z",
     "iopub.status.idle": "2023-06-02T10:47:19.325999Z",
     "shell.execute_reply": "2023-06-02T10:47:19.325433Z",
     "shell.execute_reply.started": "2023-06-02T10:47:19.306906Z"
    },
    "tags": []
   },
   "outputs": [
    {
     "data": {
      "text/html": [
       "<div>\n",
       "<style scoped>\n",
       "    .dataframe tbody tr th:only-of-type {\n",
       "        vertical-align: middle;\n",
       "    }\n",
       "\n",
       "    .dataframe tbody tr th {\n",
       "        vertical-align: top;\n",
       "    }\n",
       "\n",
       "    .dataframe thead th {\n",
       "        text-align: right;\n",
       "    }\n",
       "</style>\n",
       "<table border=\"1\" class=\"dataframe\">\n",
       "  <thead>\n",
       "    <tr style=\"text-align: right;\">\n",
       "      <th></th>\n",
       "      <th>ENTITY</th>\n",
       "      <th>PERIOD</th>\n",
       "      <th>PERIOD_D</th>\n",
       "    </tr>\n",
       "  </thead>\n",
       "  <tbody>\n",
       "    <tr>\n",
       "      <th>0</th>\n",
       "      <td>000000000</td>\n",
       "      <td>201812</td>\n",
       "      <td>Dec 2018</td>\n",
       "    </tr>\n",
       "    <tr>\n",
       "      <th>1</th>\n",
       "      <td>000000000</td>\n",
       "      <td>201712</td>\n",
       "      <td>Dec 2017</td>\n",
       "    </tr>\n",
       "    <tr>\n",
       "      <th>2</th>\n",
       "      <td>000000001</td>\n",
       "      <td>201812</td>\n",
       "      <td>Dec 2018</td>\n",
       "    </tr>\n",
       "    <tr>\n",
       "      <th>3</th>\n",
       "      <td>000000001</td>\n",
       "      <td>201712</td>\n",
       "      <td>Dec 2017</td>\n",
       "    </tr>\n",
       "    <tr>\n",
       "      <th>4</th>\n",
       "      <td>000000002</td>\n",
       "      <td>201812</td>\n",
       "      <td>Dec 2018</td>\n",
       "    </tr>\n",
       "    <tr>\n",
       "      <th>5</th>\n",
       "      <td>000000002</td>\n",
       "      <td>201712</td>\n",
       "      <td>Dec 2017</td>\n",
       "    </tr>\n",
       "  </tbody>\n",
       "</table>\n",
       "</div>"
      ],
      "text/plain": [
       "      ENTITY  PERIOD  PERIOD_D\n",
       "0  000000000  201812  Dec 2018\n",
       "1  000000000  201712  Dec 2017\n",
       "2  000000001  201812  Dec 2018\n",
       "3  000000001  201712  Dec 2017\n",
       "4  000000002  201812  Dec 2018\n",
       "5  000000002  201712  Dec 2017"
      ]
     },
     "execution_count": 4,
     "metadata": {},
     "output_type": "execute_result"
    }
   ],
   "source": [
    "# Creation du dataset ref_entite\n",
    "df_output = df_input.copy()\n",
    "\n",
    "# Regrouper par entite\n",
    "to_group = [\"ENTITY\", \"PERIOD\"]\n",
    "df_output = df_output[to_group].drop_duplicates().sort_values(by=[\"ENTITY\", \"PERIOD\"], ascending=[True, False]).reset_index(drop=True)\n",
    "df_output[\"PERIOD_D\"] = pd.to_datetime(df_output[\"PERIOD\"], format=\"%Y%m\").dt.strftime(\"%b %Y\")\n",
    "\n",
    "# Affichage du modèle de donnée\n",
    "df_output"
   ]
  },
  {
   "cell_type": "markdown",
   "id": "6e594afb-890f-41f2-aa25-7c26420f0b7d",
   "metadata": {
    "papermill": {},
    "tags": []
   },
   "source": [
    "## Output"
   ]
  },
  {
   "cell_type": "markdown",
   "id": "compliant-clone",
   "metadata": {
    "papermill": {},
    "tags": []
   },
   "source": [
    "### Sauvegarde des fichiers en csv"
   ]
  },
  {
   "cell_type": "code",
   "execution_count": 5,
   "id": "marked-story",
   "metadata": {
    "execution": {
     "iopub.execute_input": "2023-06-02T10:47:19.327150Z",
     "iopub.status.busy": "2023-06-02T10:47:19.326931Z",
     "iopub.status.idle": "2023-06-02T10:47:19.404326Z",
     "shell.execute_reply": "2023-06-02T10:47:19.403711Z",
     "shell.execute_reply.started": "2023-06-02T10:47:19.327122Z"
    },
    "papermill": {},
    "tags": []
   },
   "outputs": [
    {
     "name": "stdout",
     "output_type": "stream",
     "text": [
      "✅ DataFrame saved in: /home/ftp/FEC-engine/outputs/FEC/referentiel_entite/20230602124719_FEC_referentiel_entite.csv\n"
     ]
    }
   ],
   "source": [
    "save_df(df_output, output_folder_path)"
   ]
  },
  {
   "cell_type": "code",
   "execution_count": null,
   "id": "408892fe-d1ef-402d-9b7e-d62f1df313b6",
   "metadata": {},
   "outputs": [],
   "source": []
  },
  {
   "cell_type": "code",
   "execution_count": null,
   "id": "709dc71d-d43a-4e2c-af7d-6ecba1199475",
   "metadata": {},
   "outputs": [],
   "source": []
  }
 ],
 "metadata": {
  "kernelspec": {
   "display_name": "Python 3",
   "language": "python",
   "name": "python3"
  },
  "language_info": {
   "codemirror_mode": {
    "name": "ipython",
    "version": 3
   },
   "file_extension": ".py",
   "mimetype": "text/x-python",
   "name": "python",
   "nbconvert_exporter": "python",
   "pygments_lexer": "ipython3",
   "version": "3.9.6"
  },
  "naas": {
   "notebook_id": "488da1e7-5583-478f-b198-277886651611",
   "notebook_path": "FEC/FEC_Creer_un_dashboard_PowerBI.ipynb"
  },
  "papermill": {
   "default_parameters": {},
   "environment_variables": {},
   "parameters": {},
   "version": "2.3.3"
  }
 },
 "nbformat": 4,
 "nbformat_minor": 5
}
