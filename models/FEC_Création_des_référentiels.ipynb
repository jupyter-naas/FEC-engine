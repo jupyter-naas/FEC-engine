{
 "cells": [
  {
   "cell_type": "markdown",
   "id": "touched-standard",
   "metadata": {
    "papermill": {},
    "tags": []
   },
   "source": [
    "<img width=\"10%\" alt=\"Naas\" src=\"https://landen.imgix.net/jtci2pxwjczr/assets/5ice39g4.png?w=160\"/>"
   ]
  },
  {
   "cell_type": "markdown",
   "id": "painted-needle",
   "metadata": {
    "papermill": {},
    "tags": []
   },
   "source": [
    "# FEC - Création des référentiels"
   ]
  },
  {
   "cell_type": "markdown",
   "id": "local-library",
   "metadata": {
    "execution": {
     "iopub.execute_input": "2021-08-17T08:30:57.908317Z",
     "iopub.status.busy": "2021-08-17T08:30:57.908010Z",
     "iopub.status.idle": "2021-08-17T08:30:57.920293Z",
     "shell.execute_reply": "2021-08-17T08:30:57.919475Z",
     "shell.execute_reply.started": "2021-08-17T08:30:57.908246Z"
    },
    "papermill": {},
    "tags": []
   },
   "source": [
    "**Tags:** #fec #datamodel #finance #snippet #operation"
   ]
  },
  {
   "cell_type": "markdown",
   "id": "latin-nightmare",
   "metadata": {
    "papermill": {},
    "tags": []
   },
   "source": [
    "**Author:** [Florent Ravenel](https://www.linkedin.com/in/florent-ravenel/)"
   ]
  },
  {
   "cell_type": "markdown",
   "id": "naas-description",
   "metadata": {
    "papermill": {},
    "tags": [
     "description"
    ]
   },
   "source": [
    "**Description:** Ce notebook permet de créer les référentiels utilisés dans le tableau de bord."
   ]
  },
  {
   "cell_type": "markdown",
   "id": "residential-laptop",
   "metadata": {
    "papermill": {},
    "tags": []
   },
   "source": [
    "## Input"
   ]
  },
  {
   "cell_type": "markdown",
   "id": "spanish-beatles",
   "metadata": {
    "papermill": {},
    "tags": []
   },
   "source": [
    "### Import libraries"
   ]
  },
  {
   "cell_type": "code",
   "execution_count": 1,
   "id": "amazing-pollution",
   "metadata": {
    "execution": {
     "iopub.execute_input": "2023-05-24T14:49:40.957270Z",
     "iopub.status.busy": "2023-05-24T14:49:40.956829Z",
     "iopub.status.idle": "2023-05-24T14:49:44.517167Z",
     "shell.execute_reply": "2023-05-24T14:49:44.516510Z",
     "shell.execute_reply.started": "2023-05-24T14:49:40.957199Z"
    },
    "papermill": {},
    "tags": []
   },
   "outputs": [
    {
     "name": "stdout",
     "output_type": "stream",
     "text": [
      "✅ utils file '/home/ftp/FEC-engine/utils/datalake.ipynb' successfully loaded.\n"
     ]
    }
   ],
   "source": [
    "import naas_data_product"
   ]
  },
  {
   "cell_type": "markdown",
   "id": "assured-touch",
   "metadata": {
    "papermill": {},
    "tags": []
   },
   "source": [
    "### Setup Variables"
   ]
  },
  {
   "cell_type": "code",
   "execution_count": 2,
   "id": "smooth-peoples",
   "metadata": {
    "execution": {
     "iopub.execute_input": "2023-05-24T14:49:44.518743Z",
     "iopub.status.busy": "2023-05-24T14:49:44.518328Z",
     "iopub.status.idle": "2023-05-24T14:49:44.521725Z",
     "shell.execute_reply": "2023-05-24T14:49:44.521127Z",
     "shell.execute_reply.started": "2023-05-24T14:49:44.518712Z"
    },
    "papermill": {},
    "tags": [
     "parameters"
    ]
   },
   "outputs": [],
   "source": [
    "# Inputs\n",
    "input_folder_path = \"/home/ftp/FEC-engine/outputs/FEC/BDD_ENR\"\n",
    "ref_column = \"ENTITY\"\n",
    "\n",
    "# Outputs\n",
    "output_folder_path = \"/home/ftp/FEC-engine/outputs/FEC/REF_ENTITE\""
   ]
  },
  {
   "cell_type": "markdown",
   "id": "2994a857-1817-4fc2-92ae-1f78e0d2d668",
   "metadata": {},
   "source": [
    "## Model"
   ]
  },
  {
   "cell_type": "markdown",
   "id": "0c7ba256-c278-4e6b-93ef-7bfb3a812eb5",
   "metadata": {},
   "source": [
    "### Récupération du dernier fichier input"
   ]
  },
  {
   "cell_type": "code",
   "execution_count": 3,
   "id": "25032862-87de-46f0-9583-c1378b8d1af5",
   "metadata": {
    "execution": {
     "iopub.execute_input": "2023-05-24T14:49:44.523178Z",
     "iopub.status.busy": "2023-05-24T14:49:44.522772Z",
     "iopub.status.idle": "2023-05-24T14:49:44.642796Z",
     "shell.execute_reply": "2023-05-24T14:49:44.642260Z",
     "shell.execute_reply.started": "2023-05-24T14:49:44.523149Z"
    },
    "tags": []
   },
   "outputs": [
    {
     "name": "stdout",
     "output_type": "stream",
     "text": [
      "📁 Last file: /home/ftp/FEC-engine/outputs/FEC/BDD_ENR/20230524164843_FEC_BDD_ENR.csv\n",
      "✅ Row fetched: 296\n"
     ]
    },
    {
     "data": {
      "text/html": [
       "<div>\n",
       "<style scoped>\n",
       "    .dataframe tbody tr th:only-of-type {\n",
       "        vertical-align: middle;\n",
       "    }\n",
       "\n",
       "    .dataframe tbody tr th {\n",
       "        vertical-align: top;\n",
       "    }\n",
       "\n",
       "    .dataframe thead th {\n",
       "        text-align: right;\n",
       "    }\n",
       "</style>\n",
       "<table border=\"1\" class=\"dataframe\">\n",
       "  <thead>\n",
       "    <tr style=\"text-align: right;\">\n",
       "      <th></th>\n",
       "      <th>ENTITY</th>\n",
       "      <th>PERIOD</th>\n",
       "      <th>COMPTE_NUM</th>\n",
       "      <th>RUBRIQUE_N0</th>\n",
       "      <th>RUBRIQUE_N1</th>\n",
       "      <th>RUBRIQUE_N2</th>\n",
       "      <th>RUBRIQUE_N3</th>\n",
       "      <th>VALUE</th>\n",
       "      <th>VALUE_N-1</th>\n",
       "      <th>VARV</th>\n",
       "      <th>VARP</th>\n",
       "    </tr>\n",
       "  </thead>\n",
       "  <tbody>\n",
       "    <tr>\n",
       "      <th>0</th>\n",
       "      <td>000000000</td>\n",
       "      <td>2017-12</td>\n",
       "      <td>10130000</td>\n",
       "      <td>PASSIF</td>\n",
       "      <td>PASSIF_NON_COURANT</td>\n",
       "      <td>CAPITAUX_PROPRES</td>\n",
       "      <td>CAPITAL SOUSCRIT APPELÉ VERSÉ</td>\n",
       "      <td>-6000.0</td>\n",
       "      <td>0.0</td>\n",
       "      <td>-6000.0</td>\n",
       "      <td>-inf</td>\n",
       "    </tr>\n",
       "  </tbody>\n",
       "</table>\n",
       "</div>"
      ],
      "text/plain": [
       "      ENTITY   PERIOD COMPTE_NUM RUBRIQUE_N0         RUBRIQUE_N1  \\\n",
       "0  000000000  2017-12   10130000      PASSIF  PASSIF_NON_COURANT   \n",
       "\n",
       "        RUBRIQUE_N2                     RUBRIQUE_N3   VALUE  VALUE_N-1  \\\n",
       "0  CAPITAUX_PROPRES  CAPITAL SOUSCRIT APPELÉ VERSÉ  -6000.0        0.0   \n",
       "\n",
       "     VARV  VARP  \n",
       "0 -6000.0  -inf  "
      ]
     },
     "execution_count": 3,
     "metadata": {},
     "output_type": "execute_result"
    }
   ],
   "source": [
    "df_input = get_last_df(input_folder_path)\n",
    "print(\"✅ Row fetched:\", len(df_input))\n",
    "df_input.head(1)"
   ]
  },
  {
   "cell_type": "markdown",
   "id": "05ff7edb-4d54-4600-a585-46cee62361c8",
   "metadata": {
    "papermill": {},
    "tags": []
   },
   "source": [
    "### Création du référentiel"
   ]
  },
  {
   "cell_type": "code",
   "execution_count": 4,
   "id": "17e8a623-7d96-488f-b8db-fcd94dc0791c",
   "metadata": {
    "execution": {
     "iopub.execute_input": "2023-05-24T14:49:44.644874Z",
     "iopub.status.busy": "2023-05-24T14:49:44.644641Z",
     "iopub.status.idle": "2023-05-24T14:49:44.687556Z",
     "shell.execute_reply": "2023-05-24T14:49:44.686897Z",
     "shell.execute_reply.started": "2023-05-24T14:49:44.644844Z"
    }
   },
   "outputs": [
    {
     "data": {
      "text/html": [
       "<div>\n",
       "<style scoped>\n",
       "    .dataframe tbody tr th:only-of-type {\n",
       "        vertical-align: middle;\n",
       "    }\n",
       "\n",
       "    .dataframe tbody tr th {\n",
       "        vertical-align: top;\n",
       "    }\n",
       "\n",
       "    .dataframe thead th {\n",
       "        text-align: right;\n",
       "    }\n",
       "</style>\n",
       "<table border=\"1\" class=\"dataframe\">\n",
       "  <thead>\n",
       "    <tr style=\"text-align: right;\">\n",
       "      <th></th>\n",
       "      <th>ENTITY</th>\n",
       "    </tr>\n",
       "  </thead>\n",
       "  <tbody>\n",
       "    <tr>\n",
       "      <th>0</th>\n",
       "      <td>000000000</td>\n",
       "    </tr>\n",
       "  </tbody>\n",
       "</table>\n",
       "</div>"
      ],
      "text/plain": [
       "      ENTITY\n",
       "0  000000000"
      ]
     },
     "execution_count": 4,
     "metadata": {},
     "output_type": "execute_result"
    }
   ],
   "source": [
    "# Creation du dataset ref_entite\n",
    "df_output = df_input.copy()\n",
    "\n",
    "# Regrouper par entite\n",
    "to_group = [ref_column]\n",
    "to_agg = {ref_column: \"max\"}\n",
    "df_output = df_output.groupby(to_group, as_index=False).agg(to_agg)\n",
    "\n",
    "# Affichage du modèle de donnée\n",
    "df_output"
   ]
  },
  {
   "cell_type": "markdown",
   "id": "6e594afb-890f-41f2-aa25-7c26420f0b7d",
   "metadata": {
    "papermill": {},
    "tags": []
   },
   "source": [
    "## Output"
   ]
  },
  {
   "cell_type": "markdown",
   "id": "compliant-clone",
   "metadata": {
    "papermill": {},
    "tags": []
   },
   "source": [
    "### Sauvegarde des fichiers en csv"
   ]
  },
  {
   "cell_type": "code",
   "execution_count": 5,
   "id": "marked-story",
   "metadata": {
    "execution": {
     "iopub.execute_input": "2023-05-24T14:49:44.688937Z",
     "iopub.status.busy": "2023-05-24T14:49:44.688702Z",
     "iopub.status.idle": "2023-05-24T14:49:44.794698Z",
     "shell.execute_reply": "2023-05-24T14:49:44.794090Z",
     "shell.execute_reply.started": "2023-05-24T14:49:44.688907Z"
    },
    "papermill": {},
    "tags": []
   },
   "outputs": [
    {
     "name": "stdout",
     "output_type": "stream",
     "text": [
      "✅ DataFrame saved in: /home/ftp/FEC-engine/outputs/FEC/REF_ENTITE/20230524164944_FEC_REF_ENTITE.csv\n"
     ]
    }
   ],
   "source": [
    "save_df(df_output, output_folder_path)"
   ]
  },
  {
   "cell_type": "code",
   "execution_count": null,
   "id": "408892fe-d1ef-402d-9b7e-d62f1df313b6",
   "metadata": {},
   "outputs": [],
   "source": []
  }
 ],
 "metadata": {
  "kernelspec": {
   "display_name": "Python 3",
   "language": "python",
   "name": "python3"
  },
  "language_info": {
   "codemirror_mode": {
    "name": "ipython",
    "version": 3
   },
   "file_extension": ".py",
   "mimetype": "text/x-python",
   "name": "python",
   "nbconvert_exporter": "python",
   "pygments_lexer": "ipython3",
   "version": "3.9.6"
  },
  "naas": {
   "notebook_id": "488da1e7-5583-478f-b198-277886651611",
   "notebook_path": "FEC/FEC_Creer_un_dashboard_PowerBI.ipynb"
  },
  "papermill": {
   "default_parameters": {},
   "environment_variables": {},
   "parameters": {},
   "version": "2.3.3"
  }
 },
 "nbformat": 4,
 "nbformat_minor": 5
}
