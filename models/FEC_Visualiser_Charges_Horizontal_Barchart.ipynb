{
 "cells": [
  {
   "cell_type": "markdown",
   "id": "1272bbbb-089b-446f-8542-7c19dce1fefa",
   "metadata": {
    "papermill": {},
    "tags": []
   },
   "source": [
    "<img width=\"10%\" alt=\"Naas\" src=\"https://landen.imgix.net/jtci2pxwjczr/assets/5ice39g4.png?w=160\"/>"
   ]
  },
  {
   "cell_type": "markdown",
   "id": "de0e5019-bc4c-422b-a53b-a0545fe4b011",
   "metadata": {
    "papermill": {},
    "tags": []
   },
   "source": [
    "# FEC - Visualiser Charges Horizontal Barchart\n",
    "<a href=\"https://app.naas.ai/user-redirect/naas/downloader?url=https://raw.githubusercontent.com/jupyter-naas/awesome-notebooks/master/FEC/FEC_Visualiser_Charges_Horizontal_Barchart.ipynb\" target=\"_parent\"><img src=\"https://naasai-public.s3.eu-west-3.amazonaws.com/open_in_naas.svg\"/></a><br><br><a href=\"https://github.com/jupyter-naas/awesome-notebooks/issues/new?assignees=&labels=&template=template-request.md&title=Tool+-+Action+of+the+notebook+\">Template request</a> | <a href=\"https://github.com/jupyter-naas/awesome-notebooks/issues/new?assignees=&labels=bug&template=bug_report.md&title=FEC+-+Visualiser+Charges+Horizontal+Barchart:+Error+short+description\">Bug report</a> | <a href=\"https://app.naas.ai/user-redirect/naas/downloader?url=https://raw.githubusercontent.com/jupyter-naas/awesome-notebooks/master/Naas/Naas_Start_data_product.ipynb\" target=\"_parent\">Generate Data Product</a>"
   ]
  },
  {
   "cell_type": "markdown",
   "id": "6b7ef910-d032-49db-a721-c7b14420d6bd",
   "metadata": {
    "papermill": {},
    "tags": []
   },
   "source": [
    "**Tags:** #fec #plotly #horizontalbarchart #visualisation #charges #python"
   ]
  },
  {
   "cell_type": "markdown",
   "id": "8344a80f-ce3a-4bd2-a5d6-1df3985b8a43",
   "metadata": {
    "papermill": {},
    "tags": []
   },
   "source": [
    "**Author:** [Florent Ravenel](https://www.linkedin.com/in/florent-ravenel/)"
   ]
  },
  {
   "cell_type": "markdown",
   "id": "716a26f4-3720-4447-bbc6-0efd0ce1d514",
   "metadata": {
    "papermill": {},
    "tags": []
   },
   "source": [
    "**Description:** Ce notebook vous permettra de visualiser les charges de votre entreprise à l'aide d'un barchart horizontal."
   ]
  },
  {
   "cell_type": "markdown",
   "id": "ddff3a4f-f282-4ea2-bbff-67cc155ec5f4",
   "metadata": {
    "papermill": {},
    "tags": []
   },
   "source": [
    "**References:**\n",
    "- [Plotly Documentation](https://plotly.com/python/reference/)\n",
    "- [Plotly Horizontal Barchart](https://plotly.com/python/horizontal-bar-charts/)"
   ]
  },
  {
   "cell_type": "markdown",
   "id": "0347c324-b597-46d5-93d0-e5f699cb7ad9",
   "metadata": {
    "papermill": {},
    "tags": []
   },
   "source": [
    "## Input"
   ]
  },
  {
   "cell_type": "markdown",
   "id": "51c8d78a-6cd5-49cb-b8be-0a38b283caac",
   "metadata": {
    "papermill": {},
    "tags": []
   },
   "source": [
    "### Import libraries"
   ]
  },
  {
   "cell_type": "code",
   "execution_count": null,
   "id": "a9701050-530a-4941-bf89-e60ccd4a03c2",
   "metadata": {
    "papermill": {},
    "tags": []
   },
   "outputs": [],
   "source": [
    "import plotly.graph_objects as go\n",
    "import pandas as pd\n",
    "import naas"
   ]
  },
  {
   "cell_type": "markdown",
   "id": "7ef43e81-ecc6-4d55-a25f-efdec2ff9aa3",
   "metadata": {
    "papermill": {},
    "tags": []
   },
   "source": [
    "### Setup Variables\n",
    "- `data_charges`: This variable is a dictionary that contains input data related to charges. It has four keys: \"ENTITY\", \"SCENARIO\", \"LABEL\", and \"VALUE\". The values associated with each key are lists that provide information about the entities, scenarios, labels, and values of the charges respectively. In this example, all the keys have fixed values repeated for each item in the list.\n",
    "- `html_output`: This variable stores the file name or path for the HTML output.\n",
    "- `png_output`: This variable stores the file name or path for the PNG output."
   ]
  },
  {
   "cell_type": "code",
   "execution_count": null,
   "id": "f7408a1f-d455-4d5b-ae1f-aee84b388a66",
   "metadata": {
    "papermill": {},
    "tags": []
   },
   "outputs": [],
   "source": [
    "# Inputs\n",
    "data_charges = {\n",
    "    \"ENTITY\": [\"Société X\"] * 5,\n",
    "    \"SCENARIO\": [\"2022-12\"] * 5,\n",
    "    \"LABEL\": [\"Charges 1\", \"Charges 2\", \"Charges 3\", \"Charges 4\", \"Charges 5\"],\n",
    "    \"VALUE\": [100, 200, 300, 400, 500],\n",
    "}\n",
    "\n",
    "# Outputs\n",
    "html_output = \"Charges_HorizontalBarchart.html\"\n",
    "png_output = \"Charges_HorizontalBarchart.png\""
   ]
  },
  {
   "cell_type": "markdown",
   "id": "36019e44-b572-4995-8b29-e77814f6526a",
   "metadata": {
    "papermill": {},
    "tags": []
   },
   "source": [
    "## Model"
   ]
  },
  {
   "cell_type": "markdown",
   "id": "fcaad4f7-0e0d-48b4-8b35-2da5738bfa99",
   "metadata": {
    "papermill": {},
    "tags": []
   },
   "source": [
    "### Récupération de la données \"Charges\""
   ]
  },
  {
   "cell_type": "code",
   "execution_count": null,
   "id": "03493b3b-8af8-4c83-9d2f-9ccd18655654",
   "metadata": {
    "papermill": {},
    "tags": []
   },
   "outputs": [],
   "source": [
    "df_charges = pd.DataFrame(data_charges)\n",
    "df_charges"
   ]
  },
  {
   "cell_type": "markdown",
   "id": "2ede36d7-2435-43f0-b0e1-2549cadc3fd4",
   "metadata": {
    "papermill": {},
    "tags": []
   },
   "source": [
    "### Visualise Charges"
   ]
  },
  {
   "cell_type": "markdown",
   "id": "0b720439-9888-4845-bb1e-f205d84d4f80",
   "metadata": {
    "papermill": {},
    "tags": []
   },
   "source": [
    "Long description of the function to visualise charges using a horizontal barchart from plotly."
   ]
  },
  {
   "cell_type": "code",
   "execution_count": null,
   "id": "4965bd5d-2d62-497c-8d02-5e1a8f2c271b",
   "metadata": {
    "papermill": {},
    "tags": []
   },
   "outputs": [],
   "source": [
    "fig = go.Figure(\n",
    "    go.Bar(\n",
    "        x=df_charges[\"VALUE\"],\n",
    "        y=df_charges[\"LABEL\"],\n",
    "        orientation=\"h\",\n",
    "        text=df_charges[\"VALUE\"],\n",
    "        textposition=\"auto\",\n",
    "        marker=dict(color=\"#cd3244\")\n",
    "    )\n",
    ")\n",
    "total = \"{:,.0f} €\".format(df_charges['VALUE'].sum()).replace(\",\", \" \")\n",
    "fig.update_layout(\n",
    "    title=f\"Toal Charges : {total}\",\n",
    "    title_font=dict(family=\"Arial\", size=18, color=\"black\"),\n",
    "    plot_bgcolor=\"#ffffff\",\n",
    "    xaxis_title=None,\n",
    "    xaxis_showticklabels=False,\n",
    "    yaxis_title=None,\n",
    "    margin_pad=10,\n",
    "    margin_l=150,\n",
    "    bargap=0.1,  # gap between bars of adjacent location coordinates.\n",
    "    bargroupgap=0.2,  # gap between bars of the same location coordinate.\n",
    ")"
   ]
  },
  {
   "cell_type": "markdown",
   "id": "5056b4f4-6650-405c-a0e4-cac2b0a54cf1",
   "metadata": {
    "execution": {
     "iopub.execute_input": "2021-07-02T23:32:10.789097Z",
     "iopub.status.busy": "2021-07-02T23:32:10.788829Z",
     "iopub.status.idle": "2021-07-02T23:32:10.796900Z",
     "shell.execute_reply": "2021-07-02T23:32:10.796358Z",
     "shell.execute_reply.started": "2021-07-02T23:32:10.789033Z"
    },
    "papermill": {},
    "tags": []
   },
   "source": [
    "## Output"
   ]
  },
  {
   "cell_type": "markdown",
   "id": "c804a132-0043-4bb6-a7ab-7415adee955a",
   "metadata": {
    "papermill": {},
    "tags": []
   },
   "source": [
    "### Save and share your graph as PNG"
   ]
  },
  {
   "cell_type": "code",
   "execution_count": null,
   "id": "9958fb3c-9dba-44f0-ae93-9c26c7a4bc4f",
   "metadata": {
    "papermill": {},
    "tags": []
   },
   "outputs": [],
   "source": [
    "fig.write_image(png_output)\n",
    "\n",
    "# Share output with naas\n",
    "naas.asset.add(png_output)\n",
    "\n",
    "# -> Uncomment the line below to remove your asset\n",
    "# naas.asset.delete(html_output)"
   ]
  },
  {
   "cell_type": "markdown",
   "id": "05b3714b-6248-4e18-8257-f60de648f29d",
   "metadata": {
    "papermill": {},
    "tags": []
   },
   "source": [
    "### Save and share your graph as HTML"
   ]
  },
  {
   "cell_type": "code",
   "execution_count": null,
   "id": "d1d01b5f-3091-4580-bdb0-150511cf2b2e",
   "metadata": {
    "papermill": {},
    "tags": []
   },
   "outputs": [],
   "source": [
    "fig.write_html(html_output)\n",
    "\n",
    "# Share output with naas\n",
    "naas.asset.add(html_output, params={\"inline\": True})\n",
    "\n",
    "# -> Uncomment the line below to remove your asset\n",
    "# naas.asset.delete(html_output)"
   ]
  },
  {
   "cell_type": "markdown",
   "id": "d917149f-76d3-4eb3-9951-dc57db442bf3",
   "metadata": {
    "papermill": {},
    "tags": []
   },
   "source": [
    " "
   ]
  }
 ],
 "metadata": {
  "kernelspec": {
   "display_name": "Python 3",
   "language": "python",
   "name": "python3"
  },
  "language_info": {
   "codemirror_mode": {
    "name": "ipython",
    "version": 3
   },
   "file_extension": ".py",
   "mimetype": "text/x-python",
   "name": "python",
   "nbconvert_exporter": "python",
   "pygments_lexer": "ipython3",
   "version": "3.9.6"
  },
  "papermill": {
   "default_parameters": {},
   "environment_variables": {},
   "parameters": {},
   "version": "2.4.0"
  },
  "widgets": {
   "application/vnd.jupyter.widget-state+json": {
    "state": {},
    "version_major": 2,
    "version_minor": 0
   }
  }
 },
 "nbformat": 4,
 "nbformat_minor": 5
}
