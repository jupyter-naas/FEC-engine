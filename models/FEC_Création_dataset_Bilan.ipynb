{
 "cells": [
  {
   "cell_type": "markdown",
   "id": "touched-standard",
   "metadata": {
    "papermill": {},
    "tags": []
   },
   "source": [
    "<img width=\"10%\" alt=\"Naas\" src=\"https://landen.imgix.net/jtci2pxwjczr/assets/5ice39g4.png?w=160\"/>"
   ]
  },
  {
   "cell_type": "markdown",
   "id": "painted-needle",
   "metadata": {
    "papermill": {},
    "tags": []
   },
   "source": [
    "# FEC - Création du dataset \"Bilan\""
   ]
  },
  {
   "cell_type": "markdown",
   "id": "local-library",
   "metadata": {
    "execution": {
     "iopub.execute_input": "2021-08-17T08:30:57.908317Z",
     "iopub.status.busy": "2021-08-17T08:30:57.908010Z",
     "iopub.status.idle": "2021-08-17T08:30:57.920293Z",
     "shell.execute_reply": "2021-08-17T08:30:57.919475Z",
     "shell.execute_reply.started": "2021-08-17T08:30:57.908246Z"
    },
    "papermill": {},
    "tags": []
   },
   "source": [
    "**Tags:** #fec #finance #snippet #operation #bilan"
   ]
  },
  {
   "cell_type": "markdown",
   "id": "latin-nightmare",
   "metadata": {
    "papermill": {},
    "tags": []
   },
   "source": [
    "**Author:** [Florent Ravenel](https://www.linkedin.com/in/florent-ravenel/)"
   ]
  },
  {
   "cell_type": "markdown",
   "id": "naas-description",
   "metadata": {
    "papermill": {},
    "tags": [
     "description"
    ]
   },
   "source": [
    "**Description:** Ce notebook permet de créer le dataset pour visualiser la décomposition du bilan."
   ]
  },
  {
   "cell_type": "markdown",
   "id": "residential-laptop",
   "metadata": {
    "papermill": {},
    "tags": []
   },
   "source": [
    "## Input"
   ]
  },
  {
   "cell_type": "markdown",
   "id": "spanish-beatles",
   "metadata": {
    "papermill": {},
    "tags": []
   },
   "source": [
    "### Import libraries"
   ]
  },
  {
   "cell_type": "code",
   "execution_count": 1,
   "id": "amazing-pollution",
   "metadata": {
    "execution": {
     "iopub.execute_input": "2023-06-01T13:52:23.766277Z",
     "iopub.status.busy": "2023-06-01T13:52:23.765842Z",
     "iopub.status.idle": "2023-06-01T13:52:27.381234Z",
     "shell.execute_reply": "2023-06-01T13:52:27.380647Z",
     "shell.execute_reply.started": "2023-06-01T13:52:23.766207Z"
    },
    "papermill": {},
    "tags": []
   },
   "outputs": [
    {
     "name": "stdout",
     "output_type": "stream",
     "text": [
      "✅ utils file '/home/ftp/FEC-engine/utils/datalake.ipynb' successfully loaded.\n"
     ]
    }
   ],
   "source": [
    "import naas_data_product"
   ]
  },
  {
   "cell_type": "markdown",
   "id": "assured-touch",
   "metadata": {
    "papermill": {},
    "tags": []
   },
   "source": [
    "### Setup Variables"
   ]
  },
  {
   "cell_type": "code",
   "execution_count": 2,
   "id": "smooth-peoples",
   "metadata": {
    "execution": {
     "iopub.execute_input": "2023-06-01T13:52:27.383877Z",
     "iopub.status.busy": "2023-06-01T13:52:27.383707Z",
     "iopub.status.idle": "2023-06-01T13:52:27.387923Z",
     "shell.execute_reply": "2023-06-01T13:52:27.387395Z",
     "shell.execute_reply.started": "2023-06-01T13:52:27.383858Z"
    },
    "papermill": {},
    "tags": [
     "parameters"
    ]
   },
   "outputs": [],
   "source": [
    "# Inputs\n",
    "input_folder_path = \"/home/ftp/FEC-engine/outputs/FEC/bdd_fin_enr\"\n",
    "\n",
    "# Outputs\n",
    "output_folder_path = \"/home/ftp/FEC-engine/outputs/FEC/dataset_bilan\""
   ]
  },
  {
   "cell_type": "markdown",
   "id": "2994a857-1817-4fc2-92ae-1f78e0d2d668",
   "metadata": {},
   "source": [
    "## Model"
   ]
  },
  {
   "cell_type": "markdown",
   "id": "0c7ba256-c278-4e6b-93ef-7bfb3a812eb5",
   "metadata": {},
   "source": [
    "### Récupération du dernier fichier input"
   ]
  },
  {
   "cell_type": "code",
   "execution_count": 3,
   "id": "25032862-87de-46f0-9583-c1378b8d1af5",
   "metadata": {
    "execution": {
     "iopub.execute_input": "2023-06-01T13:52:27.390214Z",
     "iopub.status.busy": "2023-06-01T13:52:27.390055Z",
     "iopub.status.idle": "2023-06-01T13:52:27.511371Z",
     "shell.execute_reply": "2023-06-01T13:52:27.510853Z",
     "shell.execute_reply.started": "2023-06-01T13:52:27.390196Z"
    },
    "tags": []
   },
   "outputs": [
    {
     "name": "stdout",
     "output_type": "stream",
     "text": [
      "📁 Last file: /home/ftp/FEC-engine/outputs/FEC/bdd_fin_enr/20230601154313_FEC_bdd_fin_enr.csv\n",
      "✅ Row fetched: 296\n"
     ]
    },
    {
     "data": {
      "text/html": [
       "<div>\n",
       "<style scoped>\n",
       "    .dataframe tbody tr th:only-of-type {\n",
       "        vertical-align: middle;\n",
       "    }\n",
       "\n",
       "    .dataframe tbody tr th {\n",
       "        vertical-align: top;\n",
       "    }\n",
       "\n",
       "    .dataframe thead th {\n",
       "        text-align: right;\n",
       "    }\n",
       "</style>\n",
       "<table border=\"1\" class=\"dataframe\">\n",
       "  <thead>\n",
       "    <tr style=\"text-align: right;\">\n",
       "      <th></th>\n",
       "      <th>ENTITY</th>\n",
       "      <th>PERIOD</th>\n",
       "      <th>COMPTE_NUM</th>\n",
       "      <th>RUBRIQUE_N0</th>\n",
       "      <th>RUBRIQUE_N1</th>\n",
       "      <th>RUBRIQUE_N2</th>\n",
       "      <th>RUBRIQUE_N3</th>\n",
       "      <th>VALUE</th>\n",
       "      <th>VALUE_N-1</th>\n",
       "      <th>VARV</th>\n",
       "      <th>VARP</th>\n",
       "    </tr>\n",
       "  </thead>\n",
       "  <tbody>\n",
       "    <tr>\n",
       "      <th>0</th>\n",
       "      <td>000000000</td>\n",
       "      <td>201712</td>\n",
       "      <td>10130000</td>\n",
       "      <td>PASSIF</td>\n",
       "      <td>PASSIF_NON_COURANT</td>\n",
       "      <td>CAPITAUX_PROPRES</td>\n",
       "      <td>CAPITAL SOUSCRIT APPELÉ VERSÉ</td>\n",
       "      <td>-6000.0</td>\n",
       "      <td>0.0</td>\n",
       "      <td>-6000.0</td>\n",
       "      <td>-inf</td>\n",
       "    </tr>\n",
       "  </tbody>\n",
       "</table>\n",
       "</div>"
      ],
      "text/plain": [
       "      ENTITY  PERIOD COMPTE_NUM RUBRIQUE_N0         RUBRIQUE_N1  \\\n",
       "0  000000000  201712   10130000      PASSIF  PASSIF_NON_COURANT   \n",
       "\n",
       "        RUBRIQUE_N2                     RUBRIQUE_N3   VALUE  VALUE_N-1  \\\n",
       "0  CAPITAUX_PROPRES  CAPITAL SOUSCRIT APPELÉ VERSÉ  -6000.0        0.0   \n",
       "\n",
       "     VARV  VARP  \n",
       "0 -6000.0  -inf  "
      ]
     },
     "execution_count": 3,
     "metadata": {},
     "output_type": "execute_result"
    }
   ],
   "source": [
    "df_input = get_last_df(input_folder_path)\n",
    "print(\"✅ Row fetched:\", len(df_input))\n",
    "df_input.head(1)"
   ]
  },
  {
   "cell_type": "markdown",
   "id": "05ff7edb-4d54-4600-a585-46cee62361c8",
   "metadata": {
    "papermill": {},
    "tags": []
   },
   "source": [
    "### Création du dataset \"CHARGES\""
   ]
  },
  {
   "cell_type": "code",
   "execution_count": 4,
   "id": "17e8a623-7d96-488f-b8db-fcd94dc0791c",
   "metadata": {
    "execution": {
     "iopub.execute_input": "2023-06-01T13:52:27.513615Z",
     "iopub.status.busy": "2023-06-01T13:52:27.513349Z",
     "iopub.status.idle": "2023-06-01T13:52:27.570151Z",
     "shell.execute_reply": "2023-06-01T13:52:27.569594Z",
     "shell.execute_reply.started": "2023-06-01T13:52:27.513594Z"
    },
    "tags": []
   },
   "outputs": [
    {
     "data": {
      "text/html": [
       "<div>\n",
       "<style scoped>\n",
       "    .dataframe tbody tr th:only-of-type {\n",
       "        vertical-align: middle;\n",
       "    }\n",
       "\n",
       "    .dataframe tbody tr th {\n",
       "        vertical-align: top;\n",
       "    }\n",
       "\n",
       "    .dataframe thead th {\n",
       "        text-align: right;\n",
       "    }\n",
       "</style>\n",
       "<table border=\"1\" class=\"dataframe\">\n",
       "  <thead>\n",
       "    <tr style=\"text-align: right;\">\n",
       "      <th></th>\n",
       "      <th>ENTITY</th>\n",
       "      <th>PERIOD</th>\n",
       "      <th>RUBRIQUE_N0</th>\n",
       "      <th>RUBRIQUE_N1</th>\n",
       "      <th>RUBRIQUE_N2</th>\n",
       "      <th>VALUE</th>\n",
       "      <th>VALUE_D</th>\n",
       "    </tr>\n",
       "  </thead>\n",
       "  <tbody>\n",
       "    <tr>\n",
       "      <th>0</th>\n",
       "      <td>000000000</td>\n",
       "      <td>201712</td>\n",
       "      <td>ACTIF</td>\n",
       "      <td>ACTIF_COURANT</td>\n",
       "      <td>AUTRES_CREANCES</td>\n",
       "      <td>25148.74</td>\n",
       "      <td>25.1 k€</td>\n",
       "    </tr>\n",
       "    <tr>\n",
       "      <th>1</th>\n",
       "      <td>000000000</td>\n",
       "      <td>201712</td>\n",
       "      <td>ACTIF</td>\n",
       "      <td>ACTIF_COURANT</td>\n",
       "      <td>CREANCES_CLIENTS</td>\n",
       "      <td>38959.55</td>\n",
       "      <td>39.0 k€</td>\n",
       "    </tr>\n",
       "    <tr>\n",
       "      <th>2</th>\n",
       "      <td>000000000</td>\n",
       "      <td>201712</td>\n",
       "      <td>ACTIF</td>\n",
       "      <td>ACTIF_COURANT</td>\n",
       "      <td>STOCKS</td>\n",
       "      <td>4030.77</td>\n",
       "      <td>4.0 k€</td>\n",
       "    </tr>\n",
       "    <tr>\n",
       "      <th>3</th>\n",
       "      <td>000000000</td>\n",
       "      <td>201712</td>\n",
       "      <td>ACTIF</td>\n",
       "      <td>ACTIF_NON_COURANT</td>\n",
       "      <td>IMMOBILISATIONS</td>\n",
       "      <td>79527.73</td>\n",
       "      <td>79.5 k€</td>\n",
       "    </tr>\n",
       "    <tr>\n",
       "      <th>4</th>\n",
       "      <td>000000000</td>\n",
       "      <td>201712</td>\n",
       "      <td>ACTIF</td>\n",
       "      <td>DISPONIBILITES</td>\n",
       "      <td>AUTRES DISPONIBILITES</td>\n",
       "      <td>0.00</td>\n",
       "      <td>0.0 k€</td>\n",
       "    </tr>\n",
       "    <tr>\n",
       "      <th>5</th>\n",
       "      <td>000000000</td>\n",
       "      <td>201712</td>\n",
       "      <td>ACTIF</td>\n",
       "      <td>DISPONIBILITES</td>\n",
       "      <td>BANQUES &amp; CAISSE</td>\n",
       "      <td>129172.30</td>\n",
       "      <td>129.2 k€</td>\n",
       "    </tr>\n",
       "    <tr>\n",
       "      <th>6</th>\n",
       "      <td>000000000</td>\n",
       "      <td>201712</td>\n",
       "      <td>PASSIF</td>\n",
       "      <td>PASSIF_COURANT</td>\n",
       "      <td>AUTRES_DETTES</td>\n",
       "      <td>56471.60</td>\n",
       "      <td>56.5 k€</td>\n",
       "    </tr>\n",
       "    <tr>\n",
       "      <th>7</th>\n",
       "      <td>000000000</td>\n",
       "      <td>201712</td>\n",
       "      <td>PASSIF</td>\n",
       "      <td>PASSIF_COURANT</td>\n",
       "      <td>DETTES_FOURNISSEURS</td>\n",
       "      <td>1596.78</td>\n",
       "      <td>1.6 k€</td>\n",
       "    </tr>\n",
       "    <tr>\n",
       "      <th>8</th>\n",
       "      <td>000000000</td>\n",
       "      <td>201712</td>\n",
       "      <td>PASSIF</td>\n",
       "      <td>PASSIF_NON_COURANT</td>\n",
       "      <td>CAPITAUX_PROPRES</td>\n",
       "      <td>218770.71</td>\n",
       "      <td>218.8 k€</td>\n",
       "    </tr>\n",
       "    <tr>\n",
       "      <th>9</th>\n",
       "      <td>000000000</td>\n",
       "      <td>201812</td>\n",
       "      <td>ACTIF</td>\n",
       "      <td>ACTIF_COURANT</td>\n",
       "      <td>AUTRES_CREANCES</td>\n",
       "      <td>26039.50</td>\n",
       "      <td>26.0 k€</td>\n",
       "    </tr>\n",
       "    <tr>\n",
       "      <th>10</th>\n",
       "      <td>000000000</td>\n",
       "      <td>201812</td>\n",
       "      <td>ACTIF</td>\n",
       "      <td>ACTIF_COURANT</td>\n",
       "      <td>CREANCES_CLIENTS</td>\n",
       "      <td>42575.63</td>\n",
       "      <td>42.6 k€</td>\n",
       "    </tr>\n",
       "    <tr>\n",
       "      <th>11</th>\n",
       "      <td>000000000</td>\n",
       "      <td>201812</td>\n",
       "      <td>ACTIF</td>\n",
       "      <td>ACTIF_COURANT</td>\n",
       "      <td>STOCKS</td>\n",
       "      <td>4134.75</td>\n",
       "      <td>4.1 k€</td>\n",
       "    </tr>\n",
       "    <tr>\n",
       "      <th>12</th>\n",
       "      <td>000000000</td>\n",
       "      <td>201812</td>\n",
       "      <td>ACTIF</td>\n",
       "      <td>ACTIF_NON_COURANT</td>\n",
       "      <td>IMMOBILISATIONS</td>\n",
       "      <td>75986.36</td>\n",
       "      <td>76.0 k€</td>\n",
       "    </tr>\n",
       "    <tr>\n",
       "      <th>13</th>\n",
       "      <td>000000000</td>\n",
       "      <td>201812</td>\n",
       "      <td>ACTIF</td>\n",
       "      <td>DISPONIBILITES</td>\n",
       "      <td>AUTRES DISPONIBILITES</td>\n",
       "      <td>0.00</td>\n",
       "      <td>0.0 k€</td>\n",
       "    </tr>\n",
       "    <tr>\n",
       "      <th>14</th>\n",
       "      <td>000000000</td>\n",
       "      <td>201812</td>\n",
       "      <td>ACTIF</td>\n",
       "      <td>DISPONIBILITES</td>\n",
       "      <td>BANQUES &amp; CAISSE</td>\n",
       "      <td>203987.52</td>\n",
       "      <td>204.0 k€</td>\n",
       "    </tr>\n",
       "    <tr>\n",
       "      <th>15</th>\n",
       "      <td>000000000</td>\n",
       "      <td>201812</td>\n",
       "      <td>PASSIF</td>\n",
       "      <td>PASSIF_COURANT</td>\n",
       "      <td>AUTRES_DETTES</td>\n",
       "      <td>99111.63</td>\n",
       "      <td>99.1 k€</td>\n",
       "    </tr>\n",
       "    <tr>\n",
       "      <th>16</th>\n",
       "      <td>000000000</td>\n",
       "      <td>201812</td>\n",
       "      <td>PASSIF</td>\n",
       "      <td>PASSIF_COURANT</td>\n",
       "      <td>DETTES_FOURNISSEURS</td>\n",
       "      <td>2033.57</td>\n",
       "      <td>2.0 k€</td>\n",
       "    </tr>\n",
       "    <tr>\n",
       "      <th>17</th>\n",
       "      <td>000000000</td>\n",
       "      <td>201812</td>\n",
       "      <td>PASSIF</td>\n",
       "      <td>PASSIF_NON_COURANT</td>\n",
       "      <td>CAPITAUX_PROPRES</td>\n",
       "      <td>251578.56</td>\n",
       "      <td>251.6 k€</td>\n",
       "    </tr>\n",
       "  </tbody>\n",
       "</table>\n",
       "</div>"
      ],
      "text/plain": [
       "       ENTITY  PERIOD RUBRIQUE_N0         RUBRIQUE_N1            RUBRIQUE_N2  \\\n",
       "0   000000000  201712       ACTIF       ACTIF_COURANT        AUTRES_CREANCES   \n",
       "1   000000000  201712       ACTIF       ACTIF_COURANT       CREANCES_CLIENTS   \n",
       "2   000000000  201712       ACTIF       ACTIF_COURANT                 STOCKS   \n",
       "3   000000000  201712       ACTIF   ACTIF_NON_COURANT        IMMOBILISATIONS   \n",
       "4   000000000  201712       ACTIF      DISPONIBILITES  AUTRES DISPONIBILITES   \n",
       "5   000000000  201712       ACTIF      DISPONIBILITES       BANQUES & CAISSE   \n",
       "6   000000000  201712      PASSIF      PASSIF_COURANT          AUTRES_DETTES   \n",
       "7   000000000  201712      PASSIF      PASSIF_COURANT    DETTES_FOURNISSEURS   \n",
       "8   000000000  201712      PASSIF  PASSIF_NON_COURANT       CAPITAUX_PROPRES   \n",
       "9   000000000  201812       ACTIF       ACTIF_COURANT        AUTRES_CREANCES   \n",
       "10  000000000  201812       ACTIF       ACTIF_COURANT       CREANCES_CLIENTS   \n",
       "11  000000000  201812       ACTIF       ACTIF_COURANT                 STOCKS   \n",
       "12  000000000  201812       ACTIF   ACTIF_NON_COURANT        IMMOBILISATIONS   \n",
       "13  000000000  201812       ACTIF      DISPONIBILITES  AUTRES DISPONIBILITES   \n",
       "14  000000000  201812       ACTIF      DISPONIBILITES       BANQUES & CAISSE   \n",
       "15  000000000  201812      PASSIF      PASSIF_COURANT          AUTRES_DETTES   \n",
       "16  000000000  201812      PASSIF      PASSIF_COURANT    DETTES_FOURNISSEURS   \n",
       "17  000000000  201812      PASSIF  PASSIF_NON_COURANT       CAPITAUX_PROPRES   \n",
       "\n",
       "        VALUE   VALUE_D  \n",
       "0    25148.74   25.1 k€  \n",
       "1    38959.55   39.0 k€  \n",
       "2     4030.77    4.0 k€  \n",
       "3    79527.73   79.5 k€  \n",
       "4        0.00    0.0 k€  \n",
       "5   129172.30  129.2 k€  \n",
       "6    56471.60   56.5 k€  \n",
       "7     1596.78    1.6 k€  \n",
       "8   218770.71  218.8 k€  \n",
       "9    26039.50   26.0 k€  \n",
       "10   42575.63   42.6 k€  \n",
       "11    4134.75    4.1 k€  \n",
       "12   75986.36   76.0 k€  \n",
       "13       0.00    0.0 k€  \n",
       "14  203987.52  204.0 k€  \n",
       "15   99111.63   99.1 k€  \n",
       "16    2033.57    2.0 k€  \n",
       "17  251578.56  251.6 k€  "
      ]
     },
     "execution_count": 4,
     "metadata": {},
     "output_type": "execute_result"
    }
   ],
   "source": [
    "# Creation du dataset Bilan\n",
    "dataset_bilan = df_input.copy()\n",
    "\n",
    "# Filtre RUBRIQUE_N0 = ACTIF & PASSIF\n",
    "dataset_bilan = dataset_bilan[(dataset_bilan[\"RUBRIQUE_N0\"].isin([\"ACTIF\", \"PASSIF\"]))]\n",
    "\n",
    "# Regroupement R0/R1/R2\n",
    "to_group = [\"ENTITY\", \"PERIOD\", \"RUBRIQUE_N0\", \"RUBRIQUE_N1\", \"RUBRIQUE_N2\"]\n",
    "to_agg = {\"VALUE\": \"sum\"}\n",
    "dataset_bilan = dataset_bilan.groupby(to_group, as_index=False).agg(to_agg).fillna(0)\n",
    "\n",
    "\n",
    "# Mettre en valeur positive VALUE\n",
    "dataset_bilan[\"VALUE\"] = dataset_bilan[\"VALUE\"].abs()\n",
    "\n",
    "# Selectionner les colonnes\n",
    "to_select = [\"ENTITY\", \"PERIOD\", \"RUBRIQUE_N0\", \"RUBRIQUE_N1\", \"RUBRIQUE_N2\", \"VALUE\"]\n",
    "dataset_bilan = dataset_bilan[to_select]\n",
    "dataset_bilan[\"VALUE_D\"] = (dataset_bilan[\"VALUE\"] / 1000).map(\"{:,.1f} k€\".format).str.replace(\",\", \" \")\n",
    "\n",
    "# Affichage du modèle de donnée\n",
    "dataset_bilan"
   ]
  },
  {
   "cell_type": "markdown",
   "id": "6e594afb-890f-41f2-aa25-7c26420f0b7d",
   "metadata": {
    "papermill": {},
    "tags": []
   },
   "source": [
    "## Output"
   ]
  },
  {
   "cell_type": "markdown",
   "id": "compliant-clone",
   "metadata": {
    "papermill": {},
    "tags": []
   },
   "source": [
    "### Sauvegarde des fichiers en csv"
   ]
  },
  {
   "cell_type": "code",
   "execution_count": 5,
   "id": "marked-story",
   "metadata": {
    "execution": {
     "iopub.execute_input": "2023-06-01T13:52:27.571339Z",
     "iopub.status.busy": "2023-06-01T13:52:27.571089Z",
     "iopub.status.idle": "2023-06-01T13:52:27.647204Z",
     "shell.execute_reply": "2023-06-01T13:52:27.646529Z",
     "shell.execute_reply.started": "2023-06-01T13:52:27.571309Z"
    },
    "papermill": {},
    "tags": []
   },
   "outputs": [
    {
     "name": "stdout",
     "output_type": "stream",
     "text": [
      "✅ DataFrame saved in: /home/ftp/FEC-engine/outputs/FEC/dataset_bilan/20230601155227_FEC_dataset_bilan.csv\n"
     ]
    }
   ],
   "source": [
    "save_df(dataset_bilan, output_folder_path)"
   ]
  },
  {
   "cell_type": "code",
   "execution_count": null,
   "id": "408892fe-d1ef-402d-9b7e-d62f1df313b6",
   "metadata": {},
   "outputs": [],
   "source": []
  }
 ],
 "metadata": {
  "kernelspec": {
   "display_name": "Python 3",
   "language": "python",
   "name": "python3"
  },
  "language_info": {
   "codemirror_mode": {
    "name": "ipython",
    "version": 3
   },
   "file_extension": ".py",
   "mimetype": "text/x-python",
   "name": "python",
   "nbconvert_exporter": "python",
   "pygments_lexer": "ipython3",
   "version": "3.9.6"
  },
  "naas": {
   "notebook_id": "488da1e7-5583-478f-b198-277886651611",
   "notebook_path": "FEC/FEC_Creer_un_dashboard_PowerBI.ipynb"
  },
  "papermill": {
   "default_parameters": {},
   "environment_variables": {},
   "parameters": {},
   "version": "2.3.3"
  }
 },
 "nbformat": 4,
 "nbformat_minor": 5
}
