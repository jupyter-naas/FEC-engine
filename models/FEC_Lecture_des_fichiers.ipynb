{
 "cells": [
  {
   "cell_type": "markdown",
   "id": "touched-standard",
   "metadata": {
    "papermill": {},
    "tags": []
   },
   "source": [
    "<img width=\"10%\" alt=\"Naas\" src=\"https://landen.imgix.net/jtci2pxwjczr/assets/5ice39g4.png?w=160\"/>"
   ]
  },
  {
   "cell_type": "markdown",
   "id": "painted-needle",
   "metadata": {
    "papermill": {},
    "tags": []
   },
   "source": [
    "# FEC - Lecture des fichiers"
   ]
  },
  {
   "cell_type": "markdown",
   "id": "local-library",
   "metadata": {
    "execution": {
     "iopub.execute_input": "2021-08-17T08:30:57.908317Z",
     "iopub.status.busy": "2021-08-17T08:30:57.908010Z",
     "iopub.status.idle": "2021-08-17T08:30:57.920293Z",
     "shell.execute_reply": "2021-08-17T08:30:57.919475Z",
     "shell.execute_reply.started": "2021-08-17T08:30:57.908246Z"
    },
    "papermill": {},
    "tags": []
   },
   "source": [
    "**Tags:** #fec #txt #finance #snippet #operation"
   ]
  },
  {
   "cell_type": "markdown",
   "id": "latin-nightmare",
   "metadata": {
    "papermill": {},
    "tags": []
   },
   "source": [
    "**Author:** [Florent Ravenel](https://www.linkedin.com/in/florent-ravenel/)"
   ]
  },
  {
   "cell_type": "markdown",
   "id": "naas-description",
   "metadata": {
    "papermill": {},
    "tags": [
     "description"
    ]
   },
   "source": [
    "**Description:** Ce notebook permet de lire les FECs dans un répertoire en entrée et les stocker en sortie dans des dossiers dédiés."
   ]
  },
  {
   "cell_type": "markdown",
   "id": "residential-laptop",
   "metadata": {
    "papermill": {},
    "tags": []
   },
   "source": [
    "## Input"
   ]
  },
  {
   "cell_type": "markdown",
   "id": "spanish-beatles",
   "metadata": {
    "papermill": {},
    "tags": []
   },
   "source": [
    "### Import libraries"
   ]
  },
  {
   "cell_type": "code",
   "execution_count": 1,
   "id": "amazing-pollution",
   "metadata": {
    "execution": {
     "iopub.execute_input": "2023-05-24T13:01:01.489893Z",
     "iopub.status.busy": "2023-05-24T13:01:01.489682Z",
     "iopub.status.idle": "2023-05-24T13:01:05.102468Z",
     "shell.execute_reply": "2023-05-24T13:01:05.101793Z",
     "shell.execute_reply.started": "2023-05-24T13:01:01.489834Z"
    },
    "papermill": {},
    "tags": []
   },
   "outputs": [],
   "source": [
    "import pandas as pd\n",
    "import glob\n",
    "import re\n",
    "import os\n",
    "import naas\n",
    "from datetime import datetime"
   ]
  },
  {
   "cell_type": "markdown",
   "id": "assured-touch",
   "metadata": {
    "papermill": {},
    "tags": []
   },
   "source": [
    "### Setup Variables"
   ]
  },
  {
   "cell_type": "code",
   "execution_count": 2,
   "id": "smooth-peoples",
   "metadata": {
    "execution": {
     "iopub.execute_input": "2023-05-24T13:01:05.103833Z",
     "iopub.status.busy": "2023-05-24T13:01:05.103607Z",
     "iopub.status.idle": "2023-05-24T13:01:05.111393Z",
     "shell.execute_reply": "2023-05-24T13:01:05.110880Z",
     "shell.execute_reply.started": "2023-05-24T13:01:05.103802Z"
    },
    "papermill": {},
    "tags": []
   },
   "outputs": [],
   "source": [
    "# Inputs\n",
    "input_folder_path = \"/home/ftp/FEC-engine/inputs/\"\n",
    "file_regex = \"^\\d{9}FEC\\d{8}.txt\"\n",
    "\n",
    "# Outputs\n",
    "output_folder_path = \"/home/ftp/FEC-engine/outputs/FEC/BDD_INIT\""
   ]
  },
  {
   "cell_type": "markdown",
   "id": "2994a857-1817-4fc2-92ae-1f78e0d2d668",
   "metadata": {},
   "source": [
    "## Model"
   ]
  },
  {
   "cell_type": "markdown",
   "id": "ccc98d83-71d2-4ec5-8313-2e2bd6e4873a",
   "metadata": {},
   "source": [
    "### Récupération des fichiers FECs présents dans le répertoire en entrée"
   ]
  },
  {
   "cell_type": "code",
   "execution_count": 3,
   "id": "e24771a9-a76d-4dbb-b9d9-b50d5205fcb7",
   "metadata": {
    "execution": {
     "iopub.execute_input": "2023-05-24T13:01:05.113003Z",
     "iopub.status.busy": "2023-05-24T13:01:05.112775Z",
     "iopub.status.idle": "2023-05-24T13:01:05.274210Z",
     "shell.execute_reply": "2023-05-24T13:01:05.266842Z",
     "shell.execute_reply.started": "2023-05-24T13:01:05.112975Z"
    },
    "tags": []
   },
   "outputs": [
    {
     "name": "stdout",
     "output_type": "stream",
     "text": [
      "✅ Files found: 2\n"
     ]
    },
    {
     "data": {
      "text/plain": [
       "['/home/ftp/FEC-engine/inputs/000000000FEC20181231.txt',\n",
       " '/home/ftp/FEC-engine/inputs/000000000FEC20171231.txt']"
      ]
     },
     "execution_count": 3,
     "metadata": {},
     "output_type": "execute_result"
    }
   ],
   "source": [
    "def list_fec(input_folder, file_regex):\n",
    "    # List files in folder\n",
    "    files = glob.glob(f\"{input_folder}/*\", recursive=True)\n",
    "    \n",
    "    # Get FEC\n",
    "    fecs = []\n",
    "    for f in files:\n",
    "        if re.search(file_regex, f.split(\"/\")[-1]):\n",
    "            fecs.append(f)\n",
    "    return fecs\n",
    "\n",
    "files = list_fec(input_folder_path, file_regex)\n",
    "print(\"✅ Files found:\", len(files))\n",
    "files"
   ]
  },
  {
   "cell_type": "markdown",
   "id": "early-driver",
   "metadata": {
    "papermill": {},
    "tags": []
   },
   "source": [
    "### Concaténation des fichiers"
   ]
  },
  {
   "cell_type": "code",
   "execution_count": 4,
   "id": "statistical-karaoke",
   "metadata": {
    "execution": {
     "iopub.execute_input": "2023-05-24T13:01:05.275419Z",
     "iopub.status.busy": "2023-05-24T13:01:05.275201Z",
     "iopub.status.idle": "2023-05-24T13:01:05.441107Z",
     "shell.execute_reply": "2023-05-24T13:01:05.440442Z",
     "shell.execute_reply.started": "2023-05-24T13:01:05.275391Z"
    },
    "papermill": {},
    "tags": []
   },
   "outputs": [
    {
     "name": "stdout",
     "output_type": "stream",
     "text": [
      "➡️ Started with: /home/ftp/FEC-engine/inputs/000000000FEC20181231.txt\n",
      "✅ File concat in dataframe: + 2570 rows\n",
      "➡️ Started with: /home/ftp/FEC-engine/inputs/000000000FEC20171231.txt\n",
      "✅ File concat in dataframe: + 1962 rows\n",
      "✅ Row fetched: 4532\n"
     ]
    },
    {
     "data": {
      "text/html": [
       "<div>\n",
       "<style scoped>\n",
       "    .dataframe tbody tr th:only-of-type {\n",
       "        vertical-align: middle;\n",
       "    }\n",
       "\n",
       "    .dataframe tbody tr th {\n",
       "        vertical-align: top;\n",
       "    }\n",
       "\n",
       "    .dataframe thead th {\n",
       "        text-align: right;\n",
       "    }\n",
       "</style>\n",
       "<table border=\"1\" class=\"dataframe\">\n",
       "  <thead>\n",
       "    <tr style=\"text-align: right;\">\n",
       "      <th></th>\n",
       "      <th>JournalCode</th>\n",
       "      <th>JournalLib</th>\n",
       "      <th>EcritureNum</th>\n",
       "      <th>EcritureDate</th>\n",
       "      <th>CompteNum</th>\n",
       "      <th>CompteLib</th>\n",
       "      <th>CompAuxNum</th>\n",
       "      <th>CompAuxLib</th>\n",
       "      <th>PieceRef</th>\n",
       "      <th>PieceDate</th>\n",
       "      <th>...</th>\n",
       "      <th>ValidDate</th>\n",
       "      <th>Montantdevise</th>\n",
       "      <th>Idevise</th>\n",
       "      <th>DateRglt</th>\n",
       "      <th>ModeRglt</th>\n",
       "      <th>NatOp</th>\n",
       "      <th>IdClient</th>\n",
       "      <th>Unnamed: 22</th>\n",
       "      <th>FILE_PATH</th>\n",
       "      <th>FILE_NAME</th>\n",
       "    </tr>\n",
       "  </thead>\n",
       "  <tbody>\n",
       "    <tr>\n",
       "      <th>0</th>\n",
       "      <td>AN</td>\n",
       "      <td>A nouveaux</td>\n",
       "      <td>AN0000001</td>\n",
       "      <td>20180101</td>\n",
       "      <td>20500000</td>\n",
       "      <td>BREVETS, LICENCES, LOGICIELS..</td>\n",
       "      <td></td>\n",
       "      <td></td>\n",
       "      <td>1</td>\n",
       "      <td>20180101</td>\n",
       "      <td>...</td>\n",
       "      <td>20190326</td>\n",
       "      <td></td>\n",
       "      <td>EUR</td>\n",
       "      <td></td>\n",
       "      <td></td>\n",
       "      <td></td>\n",
       "      <td></td>\n",
       "      <td>NaN</td>\n",
       "      <td>/home/ftp/FEC-engine/inputs/000000000FEC201812...</td>\n",
       "      <td>000000000FEC20181231.txt</td>\n",
       "    </tr>\n",
       "  </tbody>\n",
       "</table>\n",
       "<p>1 rows × 25 columns</p>\n",
       "</div>"
      ],
      "text/plain": [
       "  JournalCode   JournalLib                               EcritureNum  \\\n",
       "0          AN  A nouveaux                                  AN0000001   \n",
       "\n",
       "   EcritureDate   CompteNum                        CompteLib CompAuxNum  \\\n",
       "0      20180101    20500000  BREVETS, LICENCES, LOGICIELS..               \n",
       "\n",
       "  CompAuxLib PieceRef  PieceDate  ... ValidDate   Montantdevise  Idevise  \\\n",
       "0                   1   20180101  ...  20190326                      EUR   \n",
       "\n",
       "  DateRglt  ModeRglt    NatOp IdClient Unnamed: 22  \\\n",
       "0                                              NaN   \n",
       "\n",
       "                                           FILE_PATH                 FILE_NAME  \n",
       "0  /home/ftp/FEC-engine/inputs/000000000FEC201812...  000000000FEC20181231.txt  \n",
       "\n",
       "[1 rows x 25 columns]"
      ]
     },
     "execution_count": 4,
     "metadata": {},
     "output_type": "execute_result"
    }
   ],
   "source": [
    "def concat_files(\n",
    "    files,\n",
    "    sep=\",\",\n",
    "    decimal=\".\",\n",
    "    encoding=None,\n",
    "    header=None,\n",
    "    usecols=None,\n",
    "    names=None,\n",
    "    dtype=None,\n",
    "):\n",
    "    # Init\n",
    "    df = pd.DataFrame()\n",
    "\n",
    "    # Loop on files\n",
    "    for file in files:\n",
    "        print(\"➡️ Started with:\", file)\n",
    "        \n",
    "        # Read csv\n",
    "        tmp_df = pd.read_csv(\n",
    "            file,\n",
    "            sep=sep,\n",
    "            decimal=decimal,\n",
    "            encoding=encoding,\n",
    "            header=header,\n",
    "            usecols=usecols,\n",
    "            names=names,\n",
    "            dtype=dtype,\n",
    "        )\n",
    "        # Add filename to df\n",
    "        tmp_df[\"FILE_PATH\"] = file\n",
    "        tmp_df[\"FILE_NAME\"] = file.split(\"/\")[-1]\n",
    "        print(f\"✅ File concat in dataframe: + {len(tmp_df)} rows\")\n",
    "        \n",
    "        # Concat df\n",
    "        df = pd.concat([df, tmp_df], axis=0, sort=False)\n",
    "    return df\n",
    "\n",
    "df_output = concat_files(\n",
    "    files,\n",
    "    sep=\"\\t\",\n",
    "    decimal=\",\",\n",
    "    encoding=\"ISO-8859-1\",\n",
    "    header=0\n",
    ")\n",
    "print(\"✅ Row fetched:\", len(df_output))\n",
    "df_output.head(1)"
   ]
  },
  {
   "cell_type": "markdown",
   "id": "0ce8f20f-2a3d-430c-aa23-a12405376531",
   "metadata": {
    "papermill": {},
    "tags": []
   },
   "source": [
    "## Output"
   ]
  },
  {
   "cell_type": "markdown",
   "id": "compliant-clone",
   "metadata": {
    "papermill": {},
    "tags": []
   },
   "source": [
    "### Sauvegarde des fichiers en csv"
   ]
  },
  {
   "cell_type": "code",
   "execution_count": 5,
   "id": "marked-story",
   "metadata": {
    "execution": {
     "iopub.execute_input": "2023-05-24T13:01:05.445938Z",
     "iopub.status.busy": "2023-05-24T13:01:05.444275Z",
     "iopub.status.idle": "2023-05-24T13:01:05.605991Z",
     "shell.execute_reply": "2023-05-24T13:01:05.605345Z",
     "shell.execute_reply.started": "2023-05-24T13:01:05.445905Z"
    },
    "papermill": {},
    "tags": []
   },
   "outputs": [
    {
     "name": "stdout",
     "output_type": "stream",
     "text": [
      "✅ DataFrame saved in: /home/ftp/FEC-engine/outputs/FEC/BDD_INIT/20230524150105_FEC_BDD_INIT.csv\n"
     ]
    }
   ],
   "source": [
    "def df_to_csv(df, output_folder, asset=False):\n",
    "    # Create directory\n",
    "    if not os.path.exists(output_folder):\n",
    "        os.makedirs(output_folder)\n",
    "        \n",
    "    # Create file path\n",
    "    timestamp = datetime.now().strftime(\"%Y%m%d%H%M%S\")\n",
    "    file_name = f\"{timestamp}_\" + output_folder.split(\"/outputs/\")[-1].replace(\"/\", \"_\") + \".csv\"\n",
    "    \n",
    "    # Sauvegarde en csv\n",
    "    file_path = os.path.join(output_folder, file_name)\n",
    "    df.to_csv(file_path, sep=\";\", decimal=\",\", index=False)\n",
    "    print(\"✅ DataFrame saved in:\", file_path)\n",
    "\n",
    "    # Création du lien url\n",
    "    if asset:\n",
    "        naas_link = naas.asset.add(file_path)\n",
    "        return naas_link\n",
    "\n",
    "df_to_csv(df_output, output_folder_path)"
   ]
  },
  {
   "cell_type": "code",
   "execution_count": null,
   "id": "9810c0f3-685c-4ab6-98a2-a56a25dc143f",
   "metadata": {},
   "outputs": [],
   "source": []
  }
 ],
 "metadata": {
  "kernelspec": {
   "display_name": "Python 3",
   "language": "python",
   "name": "python3"
  },
  "language_info": {
   "codemirror_mode": {
    "name": "ipython",
    "version": 3
   },
   "file_extension": ".py",
   "mimetype": "text/x-python",
   "name": "python",
   "nbconvert_exporter": "python",
   "pygments_lexer": "ipython3",
   "version": "3.9.6"
  },
  "naas": {
   "notebook_id": "488da1e7-5583-478f-b198-277886651611",
   "notebook_path": "FEC/FEC_Creer_un_dashboard_PowerBI.ipynb"
  },
  "papermill": {
   "default_parameters": {},
   "environment_variables": {},
   "parameters": {},
   "version": "2.3.3"
  }
 },
 "nbformat": 4,
 "nbformat_minor": 5
}
