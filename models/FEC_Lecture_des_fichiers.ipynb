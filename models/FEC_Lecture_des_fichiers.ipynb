{
 "cells": [
  {
   "cell_type": "markdown",
   "id": "touched-standard",
   "metadata": {
    "papermill": {},
    "tags": []
   },
   "source": [
    "<img width=\"10%\" alt=\"Naas\" src=\"https://landen.imgix.net/jtci2pxwjczr/assets/5ice39g4.png?w=160\"/>"
   ]
  },
  {
   "cell_type": "markdown",
   "id": "painted-needle",
   "metadata": {
    "papermill": {},
    "tags": []
   },
   "source": [
    "# FEC - Lecture des fichiers"
   ]
  },
  {
   "cell_type": "markdown",
   "id": "local-library",
   "metadata": {
    "execution": {
     "iopub.execute_input": "2021-08-17T08:30:57.908317Z",
     "iopub.status.busy": "2021-08-17T08:30:57.908010Z",
     "iopub.status.idle": "2021-08-17T08:30:57.920293Z",
     "shell.execute_reply": "2021-08-17T08:30:57.919475Z",
     "shell.execute_reply.started": "2021-08-17T08:30:57.908246Z"
    },
    "papermill": {},
    "tags": []
   },
   "source": [
    "**Tags:** #fec #txt #finance #snippet #operation"
   ]
  },
  {
   "cell_type": "markdown",
   "id": "latin-nightmare",
   "metadata": {
    "papermill": {},
    "tags": []
   },
   "source": [
    "**Author:** [Florent Ravenel](https://www.linkedin.com/in/florent-ravenel/)"
   ]
  },
  {
   "cell_type": "markdown",
   "id": "naas-description",
   "metadata": {
    "papermill": {},
    "tags": [
     "description"
    ]
   },
   "source": [
    "**Description:** Ce notebook permet de lire les FECs dans un répertoire en entrée et les stocker en sortie dans des dossiers dédiés."
   ]
  },
  {
   "cell_type": "markdown",
   "id": "residential-laptop",
   "metadata": {
    "papermill": {},
    "tags": []
   },
   "source": [
    "## Input"
   ]
  },
  {
   "cell_type": "markdown",
   "id": "spanish-beatles",
   "metadata": {
    "papermill": {},
    "tags": []
   },
   "source": [
    "### Import libraries"
   ]
  },
  {
   "cell_type": "code",
   "execution_count": null,
   "id": "amazing-pollution",
   "metadata": {
    "papermill": {},
    "tags": []
   },
   "outputs": [],
   "source": [
    "import pandas as pd\n",
    "import glob\n",
    "import re\n",
    "import naas_data_product"
   ]
  },
  {
   "cell_type": "markdown",
   "id": "assured-touch",
   "metadata": {
    "papermill": {},
    "tags": []
   },
   "source": [
    "### Setup Variables"
   ]
  },
  {
   "cell_type": "code",
   "execution_count": null,
   "id": "smooth-peoples",
   "metadata": {
    "papermill": {},
    "tags": [
     "parameters"
    ]
   },
   "outputs": [],
   "source": [
    "# Inputs\n",
    "input_folder_path = \"/home/ftp/FEC-engine/inputs\"\n",
    "file_regex = \"^\\d{9}FEC\\d{8}.txt\"\n",
    "\n",
    "# Outputs\n",
    "output_folder_path = \"/home/ftp/FEC-engine/outputs/FEC/bdd_fec\""
   ]
  },
  {
   "cell_type": "markdown",
   "id": "2994a857-1817-4fc2-92ae-1f78e0d2d668",
   "metadata": {},
   "source": [
    "## Model"
   ]
  },
  {
   "cell_type": "markdown",
   "id": "ccc98d83-71d2-4ec5-8313-2e2bd6e4873a",
   "metadata": {},
   "source": [
    "### Récupération des fichiers FECs présents dans le répertoire en entrée"
   ]
  },
  {
   "cell_type": "code",
   "execution_count": null,
   "id": "e24771a9-a76d-4dbb-b9d9-b50d5205fcb7",
   "metadata": {
    "tags": []
   },
   "outputs": [],
   "source": [
    "def list_fec(input_folder, file_regex):\n",
    "    # List files in folder\n",
    "    files = glob.glob(f\"{input_folder}/*\", recursive=True)\n",
    "    \n",
    "    # Get FEC\n",
    "    fecs = []\n",
    "    for f in files:\n",
    "        if re.search(file_regex, f.split(\"/\")[-1]):\n",
    "            fecs.append(f)\n",
    "    return fecs\n",
    "\n",
    "files = list_fec(input_folder_path, file_regex)\n",
    "print(\"✅ Files found:\", len(files))\n",
    "files"
   ]
  },
  {
   "cell_type": "markdown",
   "id": "early-driver",
   "metadata": {
    "papermill": {},
    "tags": []
   },
   "source": [
    "### Concaténation des fichiers"
   ]
  },
  {
   "cell_type": "code",
   "execution_count": null,
   "id": "statistical-karaoke",
   "metadata": {
    "papermill": {},
    "tags": []
   },
   "outputs": [],
   "source": [
    "def concat_files(\n",
    "    files,\n",
    "    sep=\",\",\n",
    "    decimal=\".\",\n",
    "    encoding=None,\n",
    "    header=None,\n",
    "    usecols=None,\n",
    "    names=None,\n",
    "    dtype=None,\n",
    "):\n",
    "    # Init\n",
    "    df = pd.DataFrame()\n",
    "\n",
    "    # Loop on files\n",
    "    for file in files:\n",
    "        print(\"➡️ Started with:\", file)\n",
    "        \n",
    "        # Read csv\n",
    "        tmp_df = pd.read_csv(\n",
    "            file,\n",
    "            sep=sep,\n",
    "            decimal=decimal,\n",
    "            encoding=encoding,\n",
    "            header=header,\n",
    "            usecols=usecols,\n",
    "            names=names,\n",
    "            dtype=dtype,\n",
    "        )\n",
    "        # Add filename to df\n",
    "        tmp_df[\"NOM_FICHIER\"] = file.split(\"/\")[-1]\n",
    "        print(f\"✅ File concat in dataframe: + {len(tmp_df)} rows\")\n",
    "        \n",
    "        # Concat df\n",
    "        df = pd.concat([df, tmp_df], axis=0, sort=False)\n",
    "    return df\n",
    "\n",
    "df_output = concat_files(\n",
    "    files,\n",
    "    sep=\"\\t\",\n",
    "    decimal=\",\",\n",
    "    encoding=\"ISO-8859-1\",\n",
    "    header=0\n",
    ")\n",
    "print(\"✅ Row fetched:\", len(df_output))\n",
    "df_output.head(1)"
   ]
  },
  {
   "cell_type": "markdown",
   "id": "0ce8f20f-2a3d-430c-aa23-a12405376531",
   "metadata": {
    "papermill": {},
    "tags": []
   },
   "source": [
    "## Output"
   ]
  },
  {
   "cell_type": "markdown",
   "id": "compliant-clone",
   "metadata": {
    "papermill": {},
    "tags": []
   },
   "source": [
    "### Sauvegarde des fichiers en csv"
   ]
  },
  {
   "cell_type": "code",
   "execution_count": null,
   "id": "marked-story",
   "metadata": {
    "papermill": {},
    "tags": []
   },
   "outputs": [],
   "source": [
    "save_df(df_output, output_folder_path)"
   ]
  }
 ],
 "metadata": {
  "kernelspec": {
   "display_name": "Python 3",
   "language": "python",
   "name": "python3"
  },
  "language_info": {
   "codemirror_mode": {
    "name": "ipython",
    "version": 3
   },
   "file_extension": ".py",
   "mimetype": "text/x-python",
   "name": "python",
   "nbconvert_exporter": "python",
   "pygments_lexer": "ipython3",
   "version": "3.9.6"
  },
  "naas": {
   "notebook_id": "488da1e7-5583-478f-b198-277886651611",
   "notebook_path": "FEC/FEC_Creer_un_dashboard_PowerBI.ipynb"
  },
  "papermill": {
   "default_parameters": {},
   "environment_variables": {},
   "parameters": {},
   "version": "2.3.3"
  }
 },
 "nbformat": 4,
 "nbformat_minor": 5
}
