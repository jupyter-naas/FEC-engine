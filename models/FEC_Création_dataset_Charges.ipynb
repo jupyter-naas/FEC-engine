{
 "cells": [
  {
   "cell_type": "markdown",
   "id": "touched-standard",
   "metadata": {
    "papermill": {},
    "tags": []
   },
   "source": [
    "<img width=\"10%\" alt=\"Naas\" src=\"https://landen.imgix.net/jtci2pxwjczr/assets/5ice39g4.png?w=160\"/>"
   ]
  },
  {
   "cell_type": "markdown",
   "id": "painted-needle",
   "metadata": {
    "papermill": {},
    "tags": []
   },
   "source": [
    "# FEC - Création du dataset \"Charges\""
   ]
  },
  {
   "cell_type": "markdown",
   "id": "local-library",
   "metadata": {
    "execution": {
     "iopub.execute_input": "2021-08-17T08:30:57.908317Z",
     "iopub.status.busy": "2021-08-17T08:30:57.908010Z",
     "iopub.status.idle": "2021-08-17T08:30:57.920293Z",
     "shell.execute_reply": "2021-08-17T08:30:57.919475Z",
     "shell.execute_reply.started": "2021-08-17T08:30:57.908246Z"
    },
    "papermill": {},
    "tags": []
   },
   "source": [
    "**Tags:** #fec #finance #snippet #operation #charges"
   ]
  },
  {
   "cell_type": "markdown",
   "id": "latin-nightmare",
   "metadata": {
    "papermill": {},
    "tags": []
   },
   "source": [
    "**Author:** [Florent Ravenel](https://www.linkedin.com/in/florent-ravenel/)"
   ]
  },
  {
   "cell_type": "markdown",
   "id": "naas-description",
   "metadata": {
    "papermill": {},
    "tags": [
     "description"
    ]
   },
   "source": [
    "**Description:** Ce notebook permet de créer le dataset pour visualiser les charges entre l'année N et N-1."
   ]
  },
  {
   "cell_type": "markdown",
   "id": "residential-laptop",
   "metadata": {
    "papermill": {},
    "tags": []
   },
   "source": [
    "## Input"
   ]
  },
  {
   "cell_type": "markdown",
   "id": "spanish-beatles",
   "metadata": {
    "papermill": {},
    "tags": []
   },
   "source": [
    "### Import libraries"
   ]
  },
  {
   "cell_type": "code",
   "execution_count": 1,
   "id": "amazing-pollution",
   "metadata": {
    "execution": {
     "iopub.execute_input": "2023-06-01T13:50:05.864059Z",
     "iopub.status.busy": "2023-06-01T13:50:05.863603Z",
     "iopub.status.idle": "2023-06-01T13:50:11.904365Z",
     "shell.execute_reply": "2023-06-01T13:50:11.903771Z",
     "shell.execute_reply.started": "2023-06-01T13:50:05.863977Z"
    },
    "papermill": {},
    "tags": []
   },
   "outputs": [
    {
     "name": "stdout",
     "output_type": "stream",
     "text": [
      "✅ utils file '/home/ftp/FEC-engine/utils/datalake.ipynb' successfully loaded.\n"
     ]
    }
   ],
   "source": [
    "import naas_data_product"
   ]
  },
  {
   "cell_type": "markdown",
   "id": "assured-touch",
   "metadata": {
    "papermill": {},
    "tags": []
   },
   "source": [
    "### Setup Variables"
   ]
  },
  {
   "cell_type": "code",
   "execution_count": 2,
   "id": "smooth-peoples",
   "metadata": {
    "execution": {
     "iopub.execute_input": "2023-06-01T13:50:11.905748Z",
     "iopub.status.busy": "2023-06-01T13:50:11.905509Z",
     "iopub.status.idle": "2023-06-01T13:50:11.910126Z",
     "shell.execute_reply": "2023-06-01T13:50:11.909528Z",
     "shell.execute_reply.started": "2023-06-01T13:50:11.905717Z"
    },
    "papermill": {},
    "tags": [
     "parameters"
    ]
   },
   "outputs": [],
   "source": [
    "# Inputs\n",
    "input_folder_path = \"/home/ftp/FEC-engine/outputs/FEC/bdd_fin_enr\"\n",
    "\n",
    "# Outputs\n",
    "output_folder_path = \"/home/ftp/FEC-engine/outputs/FEC/dataset_charges\""
   ]
  },
  {
   "cell_type": "markdown",
   "id": "2994a857-1817-4fc2-92ae-1f78e0d2d668",
   "metadata": {},
   "source": [
    "## Model"
   ]
  },
  {
   "cell_type": "markdown",
   "id": "0c7ba256-c278-4e6b-93ef-7bfb3a812eb5",
   "metadata": {},
   "source": [
    "### Récupération du dernier fichier input"
   ]
  },
  {
   "cell_type": "code",
   "execution_count": 3,
   "id": "25032862-87de-46f0-9583-c1378b8d1af5",
   "metadata": {
    "execution": {
     "iopub.execute_input": "2023-06-01T13:50:11.911710Z",
     "iopub.status.busy": "2023-06-01T13:50:11.911457Z",
     "iopub.status.idle": "2023-06-01T13:50:12.058402Z",
     "shell.execute_reply": "2023-06-01T13:50:12.057869Z",
     "shell.execute_reply.started": "2023-06-01T13:50:11.911680Z"
    },
    "tags": []
   },
   "outputs": [
    {
     "name": "stdout",
     "output_type": "stream",
     "text": [
      "📁 Last file: /home/ftp/FEC-engine/outputs/FEC/bdd_fin_enr/20230601154313_FEC_bdd_fin_enr.csv\n",
      "✅ Row fetched: 296\n"
     ]
    },
    {
     "data": {
      "text/html": [
       "<div>\n",
       "<style scoped>\n",
       "    .dataframe tbody tr th:only-of-type {\n",
       "        vertical-align: middle;\n",
       "    }\n",
       "\n",
       "    .dataframe tbody tr th {\n",
       "        vertical-align: top;\n",
       "    }\n",
       "\n",
       "    .dataframe thead th {\n",
       "        text-align: right;\n",
       "    }\n",
       "</style>\n",
       "<table border=\"1\" class=\"dataframe\">\n",
       "  <thead>\n",
       "    <tr style=\"text-align: right;\">\n",
       "      <th></th>\n",
       "      <th>ENTITY</th>\n",
       "      <th>PERIOD</th>\n",
       "      <th>COMPTE_NUM</th>\n",
       "      <th>RUBRIQUE_N0</th>\n",
       "      <th>RUBRIQUE_N1</th>\n",
       "      <th>RUBRIQUE_N2</th>\n",
       "      <th>RUBRIQUE_N3</th>\n",
       "      <th>VALUE</th>\n",
       "      <th>VALUE_N-1</th>\n",
       "      <th>VARV</th>\n",
       "      <th>VARP</th>\n",
       "    </tr>\n",
       "  </thead>\n",
       "  <tbody>\n",
       "    <tr>\n",
       "      <th>0</th>\n",
       "      <td>000000000</td>\n",
       "      <td>201712</td>\n",
       "      <td>10130000</td>\n",
       "      <td>PASSIF</td>\n",
       "      <td>PASSIF_NON_COURANT</td>\n",
       "      <td>CAPITAUX_PROPRES</td>\n",
       "      <td>CAPITAL SOUSCRIT APPELÉ VERSÉ</td>\n",
       "      <td>-6000.0</td>\n",
       "      <td>0.0</td>\n",
       "      <td>-6000.0</td>\n",
       "      <td>-inf</td>\n",
       "    </tr>\n",
       "  </tbody>\n",
       "</table>\n",
       "</div>"
      ],
      "text/plain": [
       "      ENTITY  PERIOD COMPTE_NUM RUBRIQUE_N0         RUBRIQUE_N1  \\\n",
       "0  000000000  201712   10130000      PASSIF  PASSIF_NON_COURANT   \n",
       "\n",
       "        RUBRIQUE_N2                     RUBRIQUE_N3   VALUE  VALUE_N-1  \\\n",
       "0  CAPITAUX_PROPRES  CAPITAL SOUSCRIT APPELÉ VERSÉ  -6000.0        0.0   \n",
       "\n",
       "     VARV  VARP  \n",
       "0 -6000.0  -inf  "
      ]
     },
     "execution_count": 3,
     "metadata": {},
     "output_type": "execute_result"
    }
   ],
   "source": [
    "df_input = get_last_df(input_folder_path)\n",
    "print(\"✅ Row fetched:\", len(df_input))\n",
    "df_input.head(1)"
   ]
  },
  {
   "cell_type": "markdown",
   "id": "05ff7edb-4d54-4600-a585-46cee62361c8",
   "metadata": {
    "papermill": {},
    "tags": []
   },
   "source": [
    "### Création du dataset \"CHARGES\""
   ]
  },
  {
   "cell_type": "code",
   "execution_count": 5,
   "id": "17e8a623-7d96-488f-b8db-fcd94dc0791c",
   "metadata": {
    "execution": {
     "iopub.execute_input": "2023-06-01T13:50:21.988548Z",
     "iopub.status.busy": "2023-06-01T13:50:21.988318Z",
     "iopub.status.idle": "2023-06-01T13:50:22.021747Z",
     "shell.execute_reply": "2023-06-01T13:50:22.021191Z",
     "shell.execute_reply.started": "2023-06-01T13:50:21.988525Z"
    },
    "tags": []
   },
   "outputs": [
    {
     "data": {
      "text/html": [
       "<div>\n",
       "<style scoped>\n",
       "    .dataframe tbody tr th:only-of-type {\n",
       "        vertical-align: middle;\n",
       "    }\n",
       "\n",
       "    .dataframe tbody tr th {\n",
       "        vertical-align: top;\n",
       "    }\n",
       "\n",
       "    .dataframe thead th {\n",
       "        text-align: right;\n",
       "    }\n",
       "</style>\n",
       "<table border=\"1\" class=\"dataframe\">\n",
       "  <thead>\n",
       "    <tr style=\"text-align: right;\">\n",
       "      <th></th>\n",
       "      <th>ENTITY</th>\n",
       "      <th>PERIOD</th>\n",
       "      <th>COMPTE_NUM</th>\n",
       "      <th>RUBRIQUE_N0</th>\n",
       "      <th>RUBRIQUE_N1</th>\n",
       "      <th>RUBRIQUE_N2</th>\n",
       "      <th>RUBRIQUE_N3</th>\n",
       "      <th>VALUE</th>\n",
       "      <th>VALUE_N-1</th>\n",
       "      <th>VARV</th>\n",
       "      <th>VARP</th>\n",
       "      <th>VALUE_D</th>\n",
       "      <th>VARV_D</th>\n",
       "      <th>VARP_D</th>\n",
       "    </tr>\n",
       "  </thead>\n",
       "  <tbody>\n",
       "    <tr>\n",
       "      <th>51</th>\n",
       "      <td>000000000</td>\n",
       "      <td>201712</td>\n",
       "      <td>60180000</td>\n",
       "      <td>CHARGES</td>\n",
       "      <td>COUTS_DIRECTS</td>\n",
       "      <td>ACHATS</td>\n",
       "      <td>ACHATS MATIERES 1ERES FOURNIT.</td>\n",
       "      <td>27973.58</td>\n",
       "      <td>0.00</td>\n",
       "      <td>27973.58</td>\n",
       "      <td>inf</td>\n",
       "      <td>28.0 k€</td>\n",
       "      <td>+28.0 k€</td>\n",
       "      <td>+inf%</td>\n",
       "    </tr>\n",
       "    <tr>\n",
       "      <th>52</th>\n",
       "      <td>000000000</td>\n",
       "      <td>201712</td>\n",
       "      <td>60310000</td>\n",
       "      <td>CHARGES</td>\n",
       "      <td>COUTS_DIRECTS</td>\n",
       "      <td>ACHATS</td>\n",
       "      <td>STOCKS I ACHATS MAT. 1ERES</td>\n",
       "      <td>5054.62</td>\n",
       "      <td>0.00</td>\n",
       "      <td>5054.62</td>\n",
       "      <td>inf</td>\n",
       "      <td>5.1 k€</td>\n",
       "      <td>+5.1 k€</td>\n",
       "      <td>+inf%</td>\n",
       "    </tr>\n",
       "    <tr>\n",
       "      <th>53</th>\n",
       "      <td>000000000</td>\n",
       "      <td>201712</td>\n",
       "      <td>60315000</td>\n",
       "      <td>CHARGES</td>\n",
       "      <td>COUTS_DIRECTS</td>\n",
       "      <td>ACHATS</td>\n",
       "      <td>STOCKS II ACHATS MAT.1ERES</td>\n",
       "      <td>4030.77</td>\n",
       "      <td>0.00</td>\n",
       "      <td>-4030.77</td>\n",
       "      <td>-inf</td>\n",
       "      <td>4.0 k€</td>\n",
       "      <td>-4.0 k€</td>\n",
       "      <td>-inf%</td>\n",
       "    </tr>\n",
       "    <tr>\n",
       "      <th>54</th>\n",
       "      <td>000000000</td>\n",
       "      <td>201712</td>\n",
       "      <td>60480000</td>\n",
       "      <td>CHARGES</td>\n",
       "      <td>COUTS_DIRECTS</td>\n",
       "      <td>ACHATS</td>\n",
       "      <td>ACHATS PRESTATIONS EXONÉRÉS</td>\n",
       "      <td>48960.36</td>\n",
       "      <td>0.00</td>\n",
       "      <td>48960.36</td>\n",
       "      <td>inf</td>\n",
       "      <td>49.0 k€</td>\n",
       "      <td>+49.0 k€</td>\n",
       "      <td>+inf%</td>\n",
       "    </tr>\n",
       "    <tr>\n",
       "      <th>55</th>\n",
       "      <td>000000000</td>\n",
       "      <td>201712</td>\n",
       "      <td>60612000</td>\n",
       "      <td>CHARGES</td>\n",
       "      <td>COUTS_DIRECTS</td>\n",
       "      <td>ACHATS</td>\n",
       "      <td>ELECTRICITÉ</td>\n",
       "      <td>1684.63</td>\n",
       "      <td>0.00</td>\n",
       "      <td>1684.63</td>\n",
       "      <td>inf</td>\n",
       "      <td>1.7 k€</td>\n",
       "      <td>+1.7 k€</td>\n",
       "      <td>+inf%</td>\n",
       "    </tr>\n",
       "    <tr>\n",
       "      <th>...</th>\n",
       "      <td>...</td>\n",
       "      <td>...</td>\n",
       "      <td>...</td>\n",
       "      <td>...</td>\n",
       "      <td>...</td>\n",
       "      <td>...</td>\n",
       "      <td>...</td>\n",
       "      <td>...</td>\n",
       "      <td>...</td>\n",
       "      <td>...</td>\n",
       "      <td>...</td>\n",
       "      <td>...</td>\n",
       "      <td>...</td>\n",
       "      <td>...</td>\n",
       "    </tr>\n",
       "    <tr>\n",
       "      <th>283</th>\n",
       "      <td>000000000</td>\n",
       "      <td>201812</td>\n",
       "      <td>64900000</td>\n",
       "      <td>CHARGES</td>\n",
       "      <td>CHARGES_EXPLOITATION</td>\n",
       "      <td>CHARGES_PERSONNEL</td>\n",
       "      <td>C.I.C.E.</td>\n",
       "      <td>5832.00</td>\n",
       "      <td>-7020.00</td>\n",
       "      <td>1188.00</td>\n",
       "      <td>-0.169231</td>\n",
       "      <td>5.8 k€</td>\n",
       "      <td>+1.2 k€</td>\n",
       "      <td>-16.9%</td>\n",
       "    </tr>\n",
       "    <tr>\n",
       "      <th>284</th>\n",
       "      <td>000000000</td>\n",
       "      <td>201812</td>\n",
       "      <td>65110000</td>\n",
       "      <td>CHARGES</td>\n",
       "      <td>CHARGES_EXPLOITATION</td>\n",
       "      <td>AUTRES_CHARGES</td>\n",
       "      <td>REDEVANCES (MARQUES, CONCESSIO</td>\n",
       "      <td>250.00</td>\n",
       "      <td>0.00</td>\n",
       "      <td>250.00</td>\n",
       "      <td>inf</td>\n",
       "      <td>0.2 k€</td>\n",
       "      <td>+0.2 k€</td>\n",
       "      <td>+inf%</td>\n",
       "    </tr>\n",
       "    <tr>\n",
       "      <th>285</th>\n",
       "      <td>000000000</td>\n",
       "      <td>201812</td>\n",
       "      <td>66800000</td>\n",
       "      <td>CHARGES</td>\n",
       "      <td>CHARGES_FINANCIERES</td>\n",
       "      <td>CHARGES_FINANCIERES</td>\n",
       "      <td>AUTRES CHARGES FINANCIERES</td>\n",
       "      <td>0.07</td>\n",
       "      <td>275.22</td>\n",
       "      <td>-275.15</td>\n",
       "      <td>-0.999746</td>\n",
       "      <td>0.0 k€</td>\n",
       "      <td>-0.3 k€</td>\n",
       "      <td>-100.0%</td>\n",
       "    </tr>\n",
       "    <tr>\n",
       "      <th>286</th>\n",
       "      <td>000000000</td>\n",
       "      <td>201812</td>\n",
       "      <td>68112000</td>\n",
       "      <td>CHARGES</td>\n",
       "      <td>CHARGES_EXPLOITATION</td>\n",
       "      <td>AMORTISSEMENTS</td>\n",
       "      <td>DOTATION AMORT / IMMO CORPOREL</td>\n",
       "      <td>4221.27</td>\n",
       "      <td>6042.08</td>\n",
       "      <td>-1820.81</td>\n",
       "      <td>-0.301355</td>\n",
       "      <td>4.2 k€</td>\n",
       "      <td>-1.8 k€</td>\n",
       "      <td>-30.1%</td>\n",
       "    </tr>\n",
       "    <tr>\n",
       "      <th>287</th>\n",
       "      <td>000000000</td>\n",
       "      <td>201812</td>\n",
       "      <td>69500000</td>\n",
       "      <td>CHARGES</td>\n",
       "      <td>CHARGES_EXCEPTIONNELLES</td>\n",
       "      <td>IMPOT</td>\n",
       "      <td>IMPOTS SUR LES SOCIÉTÉS</td>\n",
       "      <td>5561.00</td>\n",
       "      <td>26055.00</td>\n",
       "      <td>-20494.00</td>\n",
       "      <td>-0.786567</td>\n",
       "      <td>5.6 k€</td>\n",
       "      <td>-20.5 k€</td>\n",
       "      <td>-78.7%</td>\n",
       "    </tr>\n",
       "  </tbody>\n",
       "</table>\n",
       "<p>119 rows × 14 columns</p>\n",
       "</div>"
      ],
      "text/plain": [
       "        ENTITY  PERIOD COMPTE_NUM RUBRIQUE_N0              RUBRIQUE_N1  \\\n",
       "51   000000000  201712   60180000     CHARGES            COUTS_DIRECTS   \n",
       "52   000000000  201712   60310000     CHARGES            COUTS_DIRECTS   \n",
       "53   000000000  201712   60315000     CHARGES            COUTS_DIRECTS   \n",
       "54   000000000  201712   60480000     CHARGES            COUTS_DIRECTS   \n",
       "55   000000000  201712   60612000     CHARGES            COUTS_DIRECTS   \n",
       "..         ...     ...        ...         ...                      ...   \n",
       "283  000000000  201812   64900000     CHARGES     CHARGES_EXPLOITATION   \n",
       "284  000000000  201812   65110000     CHARGES     CHARGES_EXPLOITATION   \n",
       "285  000000000  201812   66800000     CHARGES      CHARGES_FINANCIERES   \n",
       "286  000000000  201812   68112000     CHARGES     CHARGES_EXPLOITATION   \n",
       "287  000000000  201812   69500000     CHARGES  CHARGES_EXCEPTIONNELLES   \n",
       "\n",
       "             RUBRIQUE_N2                      RUBRIQUE_N3     VALUE  \\\n",
       "51                ACHATS  ACHATS MATIERES 1ERES FOURNIT.   27973.58   \n",
       "52                ACHATS   STOCKS I ACHATS MAT. 1ERES       5054.62   \n",
       "53                ACHATS   STOCKS II ACHATS MAT.1ERES       4030.77   \n",
       "54                ACHATS   ACHATS PRESTATIONS EXONÉRÉS     48960.36   \n",
       "55                ACHATS   ELECTRICITÉ                      1684.63   \n",
       "..                   ...                              ...       ...   \n",
       "283    CHARGES_PERSONNEL   C.I.C.E.                         5832.00   \n",
       "284       AUTRES_CHARGES  REDEVANCES (MARQUES, CONCESSIO     250.00   \n",
       "285  CHARGES_FINANCIERES   AUTRES CHARGES FINANCIERES          0.07   \n",
       "286       AMORTISSEMENTS  DOTATION AMORT / IMMO CORPOREL    4221.27   \n",
       "287                IMPOT   IMPOTS SUR LES SOCIÉTÉS          5561.00   \n",
       "\n",
       "     VALUE_N-1      VARV      VARP  VALUE_D    VARV_D   VARP_D  \n",
       "51        0.00  27973.58       inf  28.0 k€  +28.0 k€    +inf%  \n",
       "52        0.00   5054.62       inf   5.1 k€   +5.1 k€    +inf%  \n",
       "53        0.00  -4030.77      -inf   4.0 k€   -4.0 k€    -inf%  \n",
       "54        0.00  48960.36       inf  49.0 k€  +49.0 k€    +inf%  \n",
       "55        0.00   1684.63       inf   1.7 k€   +1.7 k€    +inf%  \n",
       "..         ...       ...       ...      ...       ...      ...  \n",
       "283   -7020.00   1188.00 -0.169231   5.8 k€   +1.2 k€   -16.9%  \n",
       "284       0.00    250.00       inf   0.2 k€   +0.2 k€    +inf%  \n",
       "285     275.22   -275.15 -0.999746   0.0 k€   -0.3 k€  -100.0%  \n",
       "286    6042.08  -1820.81 -0.301355   4.2 k€   -1.8 k€   -30.1%  \n",
       "287   26055.00 -20494.00 -0.786567   5.6 k€  -20.5 k€   -78.7%  \n",
       "\n",
       "[119 rows x 14 columns]"
      ]
     },
     "execution_count": 5,
     "metadata": {},
     "output_type": "execute_result"
    }
   ],
   "source": [
    "# Creation du dataset charges\n",
    "dataset_charges = df_input.copy()\n",
    "\n",
    "# Filtre RUBRIQUE_N0 = CHARGES\n",
    "dataset_charges = dataset_charges[dataset_charges[\"RUBRIQUE_N0\"] == \"CHARGES\"]\n",
    "\n",
    "# Mettre en valeur positive VALUE\n",
    "dataset_charges[\"VALUE\"] = dataset_charges[\"VALUE\"].abs()\n",
    "\n",
    "dataset_charges[\"VALUE_D\"] = (dataset_charges[\"VALUE\"] / 1000).map(\"{:,.1f} k€\".format).str.replace(\",\", \" \")\n",
    "dataset_charges[\"VARV_D\"] = (dataset_charges[\"VARV\"] / 1000).map(\"{:,.1f} k€\".format).str.replace(\",\", \" \")\n",
    "dataset_charges.loc[dataset_charges[\"VARV\"] > 0, \"VARV_D\"] = \"+\" + dataset_charges[\"VARV_D\"]\n",
    "dataset_charges[\"VARP_D\"] = (dataset_charges[\"VARP\"]).map(\"{:,.1%}\".format)\n",
    "dataset_charges.loc[dataset_charges[\"VARP\"] > 0, \"VARP_D\"] = \"+\" + dataset_charges[\"VARP_D\"]\n",
    "\n",
    "# Affichage du modèle de donnée\n",
    "dataset_charges"
   ]
  },
  {
   "cell_type": "markdown",
   "id": "6e594afb-890f-41f2-aa25-7c26420f0b7d",
   "metadata": {
    "papermill": {},
    "tags": []
   },
   "source": [
    "## Output"
   ]
  },
  {
   "cell_type": "markdown",
   "id": "compliant-clone",
   "metadata": {
    "papermill": {},
    "tags": []
   },
   "source": [
    "### Sauvegarde des fichiers en csv"
   ]
  },
  {
   "cell_type": "code",
   "execution_count": 6,
   "id": "marked-story",
   "metadata": {
    "execution": {
     "iopub.execute_input": "2023-06-01T13:50:25.969111Z",
     "iopub.status.busy": "2023-06-01T13:50:25.968875Z",
     "iopub.status.idle": "2023-06-01T13:50:26.010698Z",
     "shell.execute_reply": "2023-06-01T13:50:26.009915Z",
     "shell.execute_reply.started": "2023-06-01T13:50:25.969089Z"
    },
    "papermill": {},
    "tags": []
   },
   "outputs": [
    {
     "name": "stdout",
     "output_type": "stream",
     "text": [
      "✅ DataFrame saved in: /home/ftp/FEC-engine/outputs/FEC/dataset_charges/20230601155025_FEC_dataset_charges.csv\n"
     ]
    }
   ],
   "source": [
    "save_df(dataset_charges, output_folder_path)"
   ]
  },
  {
   "cell_type": "code",
   "execution_count": null,
   "id": "408892fe-d1ef-402d-9b7e-d62f1df313b6",
   "metadata": {},
   "outputs": [],
   "source": []
  }
 ],
 "metadata": {
  "kernelspec": {
   "display_name": "Python 3",
   "language": "python",
   "name": "python3"
  },
  "language_info": {
   "codemirror_mode": {
    "name": "ipython",
    "version": 3
   },
   "file_extension": ".py",
   "mimetype": "text/x-python",
   "name": "python",
   "nbconvert_exporter": "python",
   "pygments_lexer": "ipython3",
   "version": "3.9.6"
  },
  "naas": {
   "notebook_id": "488da1e7-5583-478f-b198-277886651611",
   "notebook_path": "FEC/FEC_Creer_un_dashboard_PowerBI.ipynb"
  },
  "papermill": {
   "default_parameters": {},
   "environment_variables": {},
   "parameters": {},
   "version": "2.3.3"
  }
 },
 "nbformat": 4,
 "nbformat_minor": 5
}
