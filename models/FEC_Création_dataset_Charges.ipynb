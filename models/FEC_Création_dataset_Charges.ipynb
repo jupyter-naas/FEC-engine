{
 "cells": [
  {
   "cell_type": "markdown",
   "id": "touched-standard",
   "metadata": {
    "papermill": {},
    "tags": []
   },
   "source": [
    "<img width=\"10%\" alt=\"Naas\" src=\"https://landen.imgix.net/jtci2pxwjczr/assets/5ice39g4.png?w=160\"/>"
   ]
  },
  {
   "cell_type": "markdown",
   "id": "painted-needle",
   "metadata": {
    "papermill": {},
    "tags": []
   },
   "source": [
    "# FEC - Création du dataset \"Charges\""
   ]
  },
  {
   "cell_type": "markdown",
   "id": "local-library",
   "metadata": {
    "execution": {
     "iopub.execute_input": "2021-08-17T08:30:57.908317Z",
     "iopub.status.busy": "2021-08-17T08:30:57.908010Z",
     "iopub.status.idle": "2021-08-17T08:30:57.920293Z",
     "shell.execute_reply": "2021-08-17T08:30:57.919475Z",
     "shell.execute_reply.started": "2021-08-17T08:30:57.908246Z"
    },
    "papermill": {},
    "tags": []
   },
   "source": [
    "**Tags:** #fec #finance #snippet #operation #charges"
   ]
  },
  {
   "cell_type": "markdown",
   "id": "latin-nightmare",
   "metadata": {
    "papermill": {},
    "tags": []
   },
   "source": [
    "**Author:** [Florent Ravenel](https://www.linkedin.com/in/florent-ravenel/)"
   ]
  },
  {
   "cell_type": "markdown",
   "id": "naas-description",
   "metadata": {
    "papermill": {},
    "tags": [
     "description"
    ]
   },
   "source": [
    "**Description:** Ce notebook permet de créer le dataset pour visualiser les charges entre l'année N et N-1."
   ]
  },
  {
   "cell_type": "markdown",
   "id": "residential-laptop",
   "metadata": {
    "papermill": {},
    "tags": []
   },
   "source": [
    "## Input"
   ]
  },
  {
   "cell_type": "markdown",
   "id": "spanish-beatles",
   "metadata": {
    "papermill": {},
    "tags": []
   },
   "source": [
    "### Import libraries"
   ]
  },
  {
   "cell_type": "code",
   "execution_count": null,
   "id": "amazing-pollution",
   "metadata": {
    "papermill": {},
    "tags": []
   },
   "outputs": [],
   "source": [
    "import naas_data_product"
   ]
  },
  {
   "cell_type": "markdown",
   "id": "assured-touch",
   "metadata": {
    "papermill": {},
    "tags": []
   },
   "source": [
    "### Setup Variables"
   ]
  },
  {
   "cell_type": "code",
   "execution_count": null,
   "id": "smooth-peoples",
   "metadata": {
    "papermill": {},
    "tags": [
     "parameters"
    ]
   },
   "outputs": [],
   "source": [
    "# Inputs\n",
    "input_folder_path = \"/home/ftp/FEC-engine/outputs/FEC/bdd_fin_enr\"\n",
    "\n",
    "# Outputs\n",
    "output_folder_path = \"/home/ftp/FEC-engine/outputs/FEC/dataset_charges\"\n",
    "prompt_data = \"\"\"\n",
    "Voici le jeu de données du détail des charges d'une entreprise entre une ou plusieurs années avec:\n",
    "- le type de charge dans la colonne 'LABEL'\n",
    "- les valeurs de l'année N en colonne 'VALUE'\n",
    "- les valeurs de l'année N en colonne 'VALUE_N-1'\n",
    "Peux-tu me donner un bref aperçu factuel de l'évolution des charges et identifier les variations les plus importantes entre l'année N et N-1?\n",
    "Peux-tu commencer ton analyse par \"Les charges de l'entreprise de l'entreprise ont ...\"?\n",
    "\"\"\""
   ]
  },
  {
   "cell_type": "markdown",
   "id": "2994a857-1817-4fc2-92ae-1f78e0d2d668",
   "metadata": {},
   "source": [
    "## Model"
   ]
  },
  {
   "cell_type": "markdown",
   "id": "0c7ba256-c278-4e6b-93ef-7bfb3a812eb5",
   "metadata": {},
   "source": [
    "### Récupération du dernier fichier input"
   ]
  },
  {
   "cell_type": "code",
   "execution_count": null,
   "id": "25032862-87de-46f0-9583-c1378b8d1af5",
   "metadata": {
    "tags": []
   },
   "outputs": [],
   "source": [
    "df_input = get_last_df(input_folder_path)\n",
    "print(\"✅ Row fetched:\", len(df_input))\n",
    "df_input.head(1)"
   ]
  },
  {
   "cell_type": "markdown",
   "id": "05ff7edb-4d54-4600-a585-46cee62361c8",
   "metadata": {
    "papermill": {},
    "tags": []
   },
   "source": [
    "### Création du dataset \"CHARGES\""
   ]
  },
  {
   "cell_type": "code",
   "execution_count": null,
   "id": "17e8a623-7d96-488f-b8db-fcd94dc0791c",
   "metadata": {
    "tags": []
   },
   "outputs": [],
   "source": [
    "def prep_data(\n",
    "    df_init,\n",
    "    label):\n",
    "    # Init\n",
    "    df = df_init.copy()\n",
    "\n",
    "    # Filtre RUBRIQUE_N0 = CHARGES\n",
    "    df = df[df[\"RUBRIQUE_N0\"] == \"CHARGES\"]\n",
    "    \n",
    "    # Groupby + agg\n",
    "    to_group = [\"ENTITY\", \"PERIOD\", label]\n",
    "    to_agg = {\"VALUE\": \"sum\", \"VALUE_N-1\": \"sum\"}\n",
    "    to_rename = {label: \"LABEL\"}\n",
    "    df = df.groupby(to_group, as_index=False).agg(to_agg).rename(columns=to_rename)\n",
    "\n",
    "    # Mettre en valeur positive VALUE\n",
    "    df[\"VALUE\"] = df[\"VALUE\"].abs()\n",
    "    df[\"VALUE_N-1\"] = df[\"VALUE_N-1\"].abs()\n",
    "    df[\"VARV\"] = df[\"VALUE\"] - df[\"VALUE_N-1\"]\n",
    "    df[\"VARP\"] = df[\"VARV\"] / df[\"VALUE_N-1\"]\n",
    "    df[\"VALUE_D\"] = (df[\"VALUE\"] / 1000).map(\"{:,.1f} k€\".format).str.replace(\",\", \" \")\n",
    "    df[\"VALUE_N-1_D\"] = (df[\"VALUE_N-1\"] / 1000).map(\"{:,.1f} k€\".format).str.replace(\",\", \" \")\n",
    "    df[\"VARV_D\"] = (df[\"VARV\"] / 1000).map(\"{:,.1f} k€\".format).str.replace(\",\", \" \")\n",
    "    df.loc[df[\"VARV\"] > 0, \"VARV_D\"] = \"+\" + df[\"VARV_D\"]\n",
    "    df[\"VARP_D\"] = (df[\"VARP\"]).map(\"{:,.1%}\".format)\n",
    "    df.loc[df[\"VARP\"] > 0, \"VARP_D\"] = \"+\" + df[\"VARP_D\"]\n",
    "    return df\n",
    "\n",
    "data_prep = prep_data(df_input, label=\"RUBRIQUE_N1\")\n",
    "print(\"Row fetched:\", len(data_prep))\n",
    "data_prep.head(12)"
   ]
  },
  {
   "cell_type": "markdown",
   "id": "0ea82cf1-cb53-4929-a41a-375a87090392",
   "metadata": {},
   "source": [
    "### Création des analyses par entité"
   ]
  },
  {
   "cell_type": "code",
   "execution_count": null,
   "id": "8f21887a-1a23-406f-bb64-74a694a3ba9f",
   "metadata": {
    "tags": []
   },
   "outputs": [],
   "source": [
    "def create_data_charges(df_init):\n",
    "    # Init\n",
    "    df = df_init.copy()\n",
    "    df_output = pd.DataFrame()\n",
    "    \n",
    "    # Get periods by entity\n",
    "    entities = df[[\"ENTITY\"]].drop_duplicates(ignore_index=True)\n",
    "    for row in entities.itertuples():\n",
    "        entity = row.ENTITY\n",
    "        tmp_df = df.copy()\n",
    "        tmp_df = tmp_df[(tmp_df[\"ENTITY\"] == entity)]\n",
    "        \n",
    "        # Get analysis\n",
    "        analysis = get_ia_analysis(tmp_df, prompt_data)\n",
    "        tmp_df[\"AI_ANALYSIS\"] = analysis\n",
    "            \n",
    "        # Concat\n",
    "        df_output = pd.concat([df_output, tmp_df])\n",
    "    return df_output.reset_index(drop=True)\n",
    "\n",
    "df_charges = create_data_charges(data_prep)\n",
    "print(\"Row fetched:\", len(df_charges))\n",
    "df_charges.head(24)"
   ]
  },
  {
   "cell_type": "markdown",
   "id": "6e594afb-890f-41f2-aa25-7c26420f0b7d",
   "metadata": {
    "papermill": {},
    "tags": []
   },
   "source": [
    "## Output"
   ]
  },
  {
   "cell_type": "markdown",
   "id": "compliant-clone",
   "metadata": {
    "papermill": {},
    "tags": []
   },
   "source": [
    "### Sauvegarde des fichiers en csv"
   ]
  },
  {
   "cell_type": "code",
   "execution_count": null,
   "id": "marked-story",
   "metadata": {
    "papermill": {},
    "tags": []
   },
   "outputs": [],
   "source": [
    "save_df(df_charges, output_folder_path)"
   ]
  }
 ],
 "metadata": {
  "kernelspec": {
   "display_name": "Python 3",
   "language": "python",
   "name": "python3"
  },
  "language_info": {
   "codemirror_mode": {
    "name": "ipython",
    "version": 3
   },
   "file_extension": ".py",
   "mimetype": "text/x-python",
   "name": "python",
   "nbconvert_exporter": "python",
   "pygments_lexer": "ipython3",
   "version": "3.9.6"
  },
  "naas": {
   "notebook_id": "488da1e7-5583-478f-b198-277886651611",
   "notebook_path": "FEC/FEC_Creer_un_dashboard_PowerBI.ipynb"
  },
  "papermill": {
   "default_parameters": {},
   "environment_variables": {},
   "parameters": {},
   "version": "2.3.3"
  }
 },
 "nbformat": 4,
 "nbformat_minor": 5
}
