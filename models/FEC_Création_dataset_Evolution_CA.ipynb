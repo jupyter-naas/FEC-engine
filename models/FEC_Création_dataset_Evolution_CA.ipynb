{
 "cells": [
  {
   "cell_type": "markdown",
   "id": "touched-standard",
   "metadata": {
    "papermill": {},
    "tags": []
   },
   "source": [
    "<img width=\"10%\" alt=\"Naas\" src=\"https://landen.imgix.net/jtci2pxwjczr/assets/5ice39g4.png?w=160\"/>"
   ]
  },
  {
   "cell_type": "markdown",
   "id": "painted-needle",
   "metadata": {
    "papermill": {},
    "tags": []
   },
   "source": [
    "# FEC - Création du dataset \"Evolution CA\""
   ]
  },
  {
   "cell_type": "markdown",
   "id": "local-library",
   "metadata": {
    "execution": {
     "iopub.execute_input": "2021-08-17T08:30:57.908317Z",
     "iopub.status.busy": "2021-08-17T08:30:57.908010Z",
     "iopub.status.idle": "2021-08-17T08:30:57.920293Z",
     "shell.execute_reply": "2021-08-17T08:30:57.919475Z",
     "shell.execute_reply.started": "2021-08-17T08:30:57.908246Z"
    },
    "papermill": {},
    "tags": []
   },
   "source": [
    "**Tags:** #fec #finance #snippet #operation #ca #revenue"
   ]
  },
  {
   "cell_type": "markdown",
   "id": "latin-nightmare",
   "metadata": {
    "papermill": {},
    "tags": []
   },
   "source": [
    "**Author:** [Florent Ravenel](https://www.linkedin.com/in/florent-ravenel/)"
   ]
  },
  {
   "cell_type": "markdown",
   "id": "naas-description",
   "metadata": {
    "papermill": {},
    "tags": [
     "description"
    ]
   },
   "source": [
    "**Description:** Ce notebook permet de créer le dataset pour visualiser l'évolution du CA entre l'année N et l'année N-1."
   ]
  },
  {
   "cell_type": "markdown",
   "id": "residential-laptop",
   "metadata": {
    "papermill": {},
    "tags": []
   },
   "source": [
    "## Input"
   ]
  },
  {
   "cell_type": "markdown",
   "id": "spanish-beatles",
   "metadata": {
    "papermill": {},
    "tags": []
   },
   "source": [
    "### Import libraries"
   ]
  },
  {
   "cell_type": "code",
   "execution_count": 1,
   "id": "amazing-pollution",
   "metadata": {
    "execution": {
     "iopub.execute_input": "2023-06-01T13:49:06.054513Z",
     "iopub.status.busy": "2023-06-01T13:49:06.054006Z",
     "iopub.status.idle": "2023-06-01T13:49:11.859398Z",
     "shell.execute_reply": "2023-06-01T13:49:11.858762Z",
     "shell.execute_reply.started": "2023-06-01T13:49:06.054429Z"
    },
    "papermill": {},
    "tags": []
   },
   "outputs": [
    {
     "name": "stdout",
     "output_type": "stream",
     "text": [
      "✅ utils file '/home/ftp/FEC-engine/utils/datalake.ipynb' successfully loaded.\n"
     ]
    }
   ],
   "source": [
    "import naas_data_product"
   ]
  },
  {
   "cell_type": "markdown",
   "id": "assured-touch",
   "metadata": {
    "papermill": {},
    "tags": []
   },
   "source": [
    "### Setup Variables"
   ]
  },
  {
   "cell_type": "code",
   "execution_count": 2,
   "id": "smooth-peoples",
   "metadata": {
    "execution": {
     "iopub.execute_input": "2023-06-01T13:49:11.860587Z",
     "iopub.status.busy": "2023-06-01T13:49:11.860354Z",
     "iopub.status.idle": "2023-06-01T13:49:11.865226Z",
     "shell.execute_reply": "2023-06-01T13:49:11.864699Z",
     "shell.execute_reply.started": "2023-06-01T13:49:11.860555Z"
    },
    "papermill": {},
    "tags": [
     "parameters"
    ]
   },
   "outputs": [],
   "source": [
    "# Inputs\n",
    "input_folder_path = \"/home/ftp/FEC-engine/outputs/FEC/bdd_fin\"\n",
    "\n",
    "# Outputs\n",
    "output_folder_path = \"/home/ftp/FEC-engine/outputs/FEC/dataset_evolution_ca\""
   ]
  },
  {
   "cell_type": "markdown",
   "id": "2994a857-1817-4fc2-92ae-1f78e0d2d668",
   "metadata": {},
   "source": [
    "## Model"
   ]
  },
  {
   "cell_type": "markdown",
   "id": "0c7ba256-c278-4e6b-93ef-7bfb3a812eb5",
   "metadata": {},
   "source": [
    "### Récupération du dernier fichier input"
   ]
  },
  {
   "cell_type": "code",
   "execution_count": 3,
   "id": "25032862-87de-46f0-9583-c1378b8d1af5",
   "metadata": {
    "execution": {
     "iopub.execute_input": "2023-06-01T13:49:11.866581Z",
     "iopub.status.busy": "2023-06-01T13:49:11.866296Z",
     "iopub.status.idle": "2023-06-01T13:49:11.993639Z",
     "shell.execute_reply": "2023-06-01T13:49:11.993047Z",
     "shell.execute_reply.started": "2023-06-01T13:49:11.866550Z"
    },
    "tags": []
   },
   "outputs": [
    {
     "name": "stdout",
     "output_type": "stream",
     "text": [
      "📁 Last file: /home/ftp/FEC-engine/outputs/FEC/bdd_fin/20230601154259_FEC_bdd_fin.csv\n",
      "✅ Row fetched: 4532\n"
     ]
    },
    {
     "data": {
      "text/html": [
       "<div>\n",
       "<style scoped>\n",
       "    .dataframe tbody tr th:only-of-type {\n",
       "        vertical-align: middle;\n",
       "    }\n",
       "\n",
       "    .dataframe tbody tr th {\n",
       "        vertical-align: top;\n",
       "    }\n",
       "\n",
       "    .dataframe thead th {\n",
       "        text-align: right;\n",
       "    }\n",
       "</style>\n",
       "<table border=\"1\" class=\"dataframe\">\n",
       "  <thead>\n",
       "    <tr style=\"text-align: right;\">\n",
       "      <th></th>\n",
       "      <th>NOM_FICHIER</th>\n",
       "      <th>ENTITY</th>\n",
       "      <th>PERIOD</th>\n",
       "      <th>DATE</th>\n",
       "      <th>MONTH</th>\n",
       "      <th>MONTH_INDEX</th>\n",
       "      <th>COMPTE_NUM</th>\n",
       "      <th>RUBRIQUE_N3</th>\n",
       "      <th>RUBRIQUE_N4</th>\n",
       "      <th>DEBIT</th>\n",
       "      <th>CREDIT</th>\n",
       "      <th>VALUE</th>\n",
       "    </tr>\n",
       "  </thead>\n",
       "  <tbody>\n",
       "    <tr>\n",
       "      <th>0</th>\n",
       "      <td>000000000FEC20181231.txt</td>\n",
       "      <td>000000000</td>\n",
       "      <td>201812</td>\n",
       "      <td>2018-01-01</td>\n",
       "      <td>Jan</td>\n",
       "      <td>1</td>\n",
       "      <td>20500000</td>\n",
       "      <td>BREVETS, LICENCES, LOGICIELS..</td>\n",
       "      <td>A Nouveau</td>\n",
       "      <td>4006.6</td>\n",
       "      <td>0.0</td>\n",
       "      <td>4006.6</td>\n",
       "    </tr>\n",
       "  </tbody>\n",
       "</table>\n",
       "</div>"
      ],
      "text/plain": [
       "                NOM_FICHIER     ENTITY  PERIOD        DATE MONTH  MONTH_INDEX  \\\n",
       "0  000000000FEC20181231.txt  000000000  201812  2018-01-01   Jan            1   \n",
       "\n",
       "  COMPTE_NUM                      RUBRIQUE_N3 RUBRIQUE_N4   DEBIT  CREDIT  \\\n",
       "0   20500000  BREVETS, LICENCES, LOGICIELS..   A Nouveau   4006.6     0.0   \n",
       "\n",
       "    VALUE  \n",
       "0  4006.6  "
      ]
     },
     "execution_count": 3,
     "metadata": {},
     "output_type": "execute_result"
    }
   ],
   "source": [
    "df_input = get_last_df(input_folder_path)\n",
    "print(\"✅ Row fetched:\", len(df_input))\n",
    "df_input.head(1)"
   ]
  },
  {
   "cell_type": "markdown",
   "id": "05ff7edb-4d54-4600-a585-46cee62361c8",
   "metadata": {
    "papermill": {},
    "tags": []
   },
   "source": [
    "### Création du dataset \"EVOLUTION_CA\""
   ]
  },
  {
   "cell_type": "code",
   "execution_count": 4,
   "id": "17e8a623-7d96-488f-b8db-fcd94dc0791c",
   "metadata": {
    "execution": {
     "iopub.execute_input": "2023-06-01T13:49:11.994874Z",
     "iopub.status.busy": "2023-06-01T13:49:11.994646Z",
     "iopub.status.idle": "2023-06-01T13:49:12.066334Z",
     "shell.execute_reply": "2023-06-01T13:49:12.065712Z",
     "shell.execute_reply.started": "2023-06-01T13:49:11.994844Z"
    },
    "tags": []
   },
   "outputs": [
    {
     "data": {
      "text/html": [
       "<div>\n",
       "<style scoped>\n",
       "    .dataframe tbody tr th:only-of-type {\n",
       "        vertical-align: middle;\n",
       "    }\n",
       "\n",
       "    .dataframe tbody tr th {\n",
       "        vertical-align: top;\n",
       "    }\n",
       "\n",
       "    .dataframe thead th {\n",
       "        text-align: right;\n",
       "    }\n",
       "</style>\n",
       "<table border=\"1\" class=\"dataframe\">\n",
       "  <thead>\n",
       "    <tr style=\"text-align: right;\">\n",
       "      <th></th>\n",
       "      <th>ENTITY</th>\n",
       "      <th>PERIOD</th>\n",
       "      <th>MONTH</th>\n",
       "      <th>MONTH_INDEX</th>\n",
       "      <th>RUBRIQUE_N3</th>\n",
       "      <th>VALUE</th>\n",
       "      <th>VALUE_CUM</th>\n",
       "      <th>VALUE_D</th>\n",
       "      <th>VALUE_CUM_D</th>\n",
       "    </tr>\n",
       "  </thead>\n",
       "  <tbody>\n",
       "    <tr>\n",
       "      <th>0</th>\n",
       "      <td>000000000</td>\n",
       "      <td>201712</td>\n",
       "      <td>Jan</td>\n",
       "      <td>01</td>\n",
       "      <td>PRODUITS FINIS EXONÉRÉS</td>\n",
       "      <td>42550.15</td>\n",
       "      <td>42550.15</td>\n",
       "      <td>42.6 k€</td>\n",
       "      <td>42.6 k€</td>\n",
       "    </tr>\n",
       "    <tr>\n",
       "      <th>1</th>\n",
       "      <td>000000000</td>\n",
       "      <td>201712</td>\n",
       "      <td>Feb</td>\n",
       "      <td>02</td>\n",
       "      <td>PRODUITS FINIS EXONÉRÉS</td>\n",
       "      <td>40916.60</td>\n",
       "      <td>83466.75</td>\n",
       "      <td>40.9 k€</td>\n",
       "      <td>83.5 k€</td>\n",
       "    </tr>\n",
       "    <tr>\n",
       "      <th>2</th>\n",
       "      <td>000000000</td>\n",
       "      <td>201712</td>\n",
       "      <td>Mar</td>\n",
       "      <td>03</td>\n",
       "      <td>PRODUITS FINIS EXONÉRÉS</td>\n",
       "      <td>64832.82</td>\n",
       "      <td>148299.57</td>\n",
       "      <td>64.8 k€</td>\n",
       "      <td>148.3 k€</td>\n",
       "    </tr>\n",
       "    <tr>\n",
       "      <th>3</th>\n",
       "      <td>000000000</td>\n",
       "      <td>201712</td>\n",
       "      <td>Apr</td>\n",
       "      <td>04</td>\n",
       "      <td>PRODUITS FINIS EXONÉRÉS</td>\n",
       "      <td>48396.90</td>\n",
       "      <td>196696.47</td>\n",
       "      <td>48.4 k€</td>\n",
       "      <td>196.7 k€</td>\n",
       "    </tr>\n",
       "    <tr>\n",
       "      <th>4</th>\n",
       "      <td>000000000</td>\n",
       "      <td>201712</td>\n",
       "      <td>May</td>\n",
       "      <td>05</td>\n",
       "      <td>PRODUITS FINIS EXONÉRÉS</td>\n",
       "      <td>44719.45</td>\n",
       "      <td>241415.92</td>\n",
       "      <td>44.7 k€</td>\n",
       "      <td>241.4 k€</td>\n",
       "    </tr>\n",
       "    <tr>\n",
       "      <th>5</th>\n",
       "      <td>000000000</td>\n",
       "      <td>201712</td>\n",
       "      <td>Jun</td>\n",
       "      <td>06</td>\n",
       "      <td>PRODUITS FINIS EXONÉRÉS</td>\n",
       "      <td>59904.10</td>\n",
       "      <td>301320.02</td>\n",
       "      <td>59.9 k€</td>\n",
       "      <td>301.3 k€</td>\n",
       "    </tr>\n",
       "    <tr>\n",
       "      <th>6</th>\n",
       "      <td>000000000</td>\n",
       "      <td>201712</td>\n",
       "      <td>Jul</td>\n",
       "      <td>07</td>\n",
       "      <td>PRODUITS FINIS EXONÉRÉS</td>\n",
       "      <td>49540.65</td>\n",
       "      <td>350860.67</td>\n",
       "      <td>49.5 k€</td>\n",
       "      <td>350.9 k€</td>\n",
       "    </tr>\n",
       "    <tr>\n",
       "      <th>7</th>\n",
       "      <td>000000000</td>\n",
       "      <td>201712</td>\n",
       "      <td>Sep</td>\n",
       "      <td>09</td>\n",
       "      <td>PRODUITS FINIS EXONÉRÉS</td>\n",
       "      <td>48302.80</td>\n",
       "      <td>399163.47</td>\n",
       "      <td>48.3 k€</td>\n",
       "      <td>399.2 k€</td>\n",
       "    </tr>\n",
       "    <tr>\n",
       "      <th>8</th>\n",
       "      <td>000000000</td>\n",
       "      <td>201712</td>\n",
       "      <td>Oct</td>\n",
       "      <td>10</td>\n",
       "      <td>PRODUITS FINIS EXONÉRÉS</td>\n",
       "      <td>55081.15</td>\n",
       "      <td>454244.62</td>\n",
       "      <td>55.1 k€</td>\n",
       "      <td>454.2 k€</td>\n",
       "    </tr>\n",
       "    <tr>\n",
       "      <th>9</th>\n",
       "      <td>000000000</td>\n",
       "      <td>201712</td>\n",
       "      <td>Nov</td>\n",
       "      <td>11</td>\n",
       "      <td>PRODUITS FINIS EXONÉRÉS</td>\n",
       "      <td>44492.10</td>\n",
       "      <td>498736.72</td>\n",
       "      <td>44.5 k€</td>\n",
       "      <td>498.7 k€</td>\n",
       "    </tr>\n",
       "    <tr>\n",
       "      <th>10</th>\n",
       "      <td>000000000</td>\n",
       "      <td>201712</td>\n",
       "      <td>Dec</td>\n",
       "      <td>12</td>\n",
       "      <td>PRODUITS FINIS EXONÉRÉS</td>\n",
       "      <td>50667.11</td>\n",
       "      <td>549403.83</td>\n",
       "      <td>50.7 k€</td>\n",
       "      <td>549.4 k€</td>\n",
       "    </tr>\n",
       "    <tr>\n",
       "      <th>11</th>\n",
       "      <td>000000000</td>\n",
       "      <td>201812</td>\n",
       "      <td>Jan</td>\n",
       "      <td>01</td>\n",
       "      <td>PRODUITS FINIS EXONÉRÉS</td>\n",
       "      <td>41602.29</td>\n",
       "      <td>41602.29</td>\n",
       "      <td>41.6 k€</td>\n",
       "      <td>41.6 k€</td>\n",
       "    </tr>\n",
       "    <tr>\n",
       "      <th>12</th>\n",
       "      <td>000000000</td>\n",
       "      <td>201812</td>\n",
       "      <td>Feb</td>\n",
       "      <td>02</td>\n",
       "      <td>PRODUITS FINIS EXONÉRÉS</td>\n",
       "      <td>37467.92</td>\n",
       "      <td>79070.21</td>\n",
       "      <td>37.5 k€</td>\n",
       "      <td>79.1 k€</td>\n",
       "    </tr>\n",
       "    <tr>\n",
       "      <th>13</th>\n",
       "      <td>000000000</td>\n",
       "      <td>201812</td>\n",
       "      <td>Mar</td>\n",
       "      <td>03</td>\n",
       "      <td>PRODUITS FINIS EXONÉRÉS</td>\n",
       "      <td>51952.85</td>\n",
       "      <td>131023.06</td>\n",
       "      <td>52.0 k€</td>\n",
       "      <td>131.0 k€</td>\n",
       "    </tr>\n",
       "    <tr>\n",
       "      <th>14</th>\n",
       "      <td>000000000</td>\n",
       "      <td>201812</td>\n",
       "      <td>Apr</td>\n",
       "      <td>04</td>\n",
       "      <td>PRODUITS FINIS EXONÉRÉS</td>\n",
       "      <td>48923.29</td>\n",
       "      <td>179946.35</td>\n",
       "      <td>48.9 k€</td>\n",
       "      <td>179.9 k€</td>\n",
       "    </tr>\n",
       "    <tr>\n",
       "      <th>15</th>\n",
       "      <td>000000000</td>\n",
       "      <td>201812</td>\n",
       "      <td>May</td>\n",
       "      <td>05</td>\n",
       "      <td>PRODUITS FINIS EXONÉRÉS</td>\n",
       "      <td>55113.09</td>\n",
       "      <td>235059.44</td>\n",
       "      <td>55.1 k€</td>\n",
       "      <td>235.1 k€</td>\n",
       "    </tr>\n",
       "    <tr>\n",
       "      <th>16</th>\n",
       "      <td>000000000</td>\n",
       "      <td>201812</td>\n",
       "      <td>Jun</td>\n",
       "      <td>06</td>\n",
       "      <td>PRODUITS FINIS EXONÉRÉS</td>\n",
       "      <td>67334.60</td>\n",
       "      <td>302394.04</td>\n",
       "      <td>67.3 k€</td>\n",
       "      <td>302.4 k€</td>\n",
       "    </tr>\n",
       "    <tr>\n",
       "      <th>17</th>\n",
       "      <td>000000000</td>\n",
       "      <td>201812</td>\n",
       "      <td>Jul</td>\n",
       "      <td>07</td>\n",
       "      <td>PRODUITS FINIS EXONÉRÉS</td>\n",
       "      <td>63284.60</td>\n",
       "      <td>365678.64</td>\n",
       "      <td>63.3 k€</td>\n",
       "      <td>365.7 k€</td>\n",
       "    </tr>\n",
       "    <tr>\n",
       "      <th>18</th>\n",
       "      <td>000000000</td>\n",
       "      <td>201812</td>\n",
       "      <td>Sep</td>\n",
       "      <td>09</td>\n",
       "      <td>PRODUITS FINIS EXONÉRÉS</td>\n",
       "      <td>49574.30</td>\n",
       "      <td>415252.94</td>\n",
       "      <td>49.6 k€</td>\n",
       "      <td>415.3 k€</td>\n",
       "    </tr>\n",
       "    <tr>\n",
       "      <th>19</th>\n",
       "      <td>000000000</td>\n",
       "      <td>201812</td>\n",
       "      <td>Oct</td>\n",
       "      <td>10</td>\n",
       "      <td>PRODUITS FINIS EXONÉRÉS</td>\n",
       "      <td>51820.05</td>\n",
       "      <td>467072.99</td>\n",
       "      <td>51.8 k€</td>\n",
       "      <td>467.1 k€</td>\n",
       "    </tr>\n",
       "    <tr>\n",
       "      <th>20</th>\n",
       "      <td>000000000</td>\n",
       "      <td>201812</td>\n",
       "      <td>Nov</td>\n",
       "      <td>11</td>\n",
       "      <td>PRODUITS FINIS EXONÉRÉS</td>\n",
       "      <td>46634.60</td>\n",
       "      <td>513707.59</td>\n",
       "      <td>46.6 k€</td>\n",
       "      <td>513.7 k€</td>\n",
       "    </tr>\n",
       "    <tr>\n",
       "      <th>21</th>\n",
       "      <td>000000000</td>\n",
       "      <td>201812</td>\n",
       "      <td>Dec</td>\n",
       "      <td>12</td>\n",
       "      <td>PRODUITS FINIS EXONÉRÉS</td>\n",
       "      <td>38219.63</td>\n",
       "      <td>551927.22</td>\n",
       "      <td>38.2 k€</td>\n",
       "      <td>551.9 k€</td>\n",
       "    </tr>\n",
       "  </tbody>\n",
       "</table>\n",
       "</div>"
      ],
      "text/plain": [
       "       ENTITY  PERIOD MONTH MONTH_INDEX                     RUBRIQUE_N3  \\\n",
       "0   000000000  201712   Jan          01  PRODUITS FINIS EXONÉRÉS          \n",
       "1   000000000  201712   Feb          02  PRODUITS FINIS EXONÉRÉS          \n",
       "2   000000000  201712   Mar          03  PRODUITS FINIS EXONÉRÉS          \n",
       "3   000000000  201712   Apr          04  PRODUITS FINIS EXONÉRÉS          \n",
       "4   000000000  201712   May          05  PRODUITS FINIS EXONÉRÉS          \n",
       "5   000000000  201712   Jun          06  PRODUITS FINIS EXONÉRÉS          \n",
       "6   000000000  201712   Jul          07  PRODUITS FINIS EXONÉRÉS          \n",
       "7   000000000  201712   Sep          09  PRODUITS FINIS EXONÉRÉS          \n",
       "8   000000000  201712   Oct          10  PRODUITS FINIS EXONÉRÉS          \n",
       "9   000000000  201712   Nov          11  PRODUITS FINIS EXONÉRÉS          \n",
       "10  000000000  201712   Dec          12  PRODUITS FINIS EXONÉRÉS          \n",
       "11  000000000  201812   Jan          01  PRODUITS FINIS EXONÉRÉS          \n",
       "12  000000000  201812   Feb          02  PRODUITS FINIS EXONÉRÉS          \n",
       "13  000000000  201812   Mar          03  PRODUITS FINIS EXONÉRÉS          \n",
       "14  000000000  201812   Apr          04  PRODUITS FINIS EXONÉRÉS          \n",
       "15  000000000  201812   May          05  PRODUITS FINIS EXONÉRÉS          \n",
       "16  000000000  201812   Jun          06  PRODUITS FINIS EXONÉRÉS          \n",
       "17  000000000  201812   Jul          07  PRODUITS FINIS EXONÉRÉS          \n",
       "18  000000000  201812   Sep          09  PRODUITS FINIS EXONÉRÉS          \n",
       "19  000000000  201812   Oct          10  PRODUITS FINIS EXONÉRÉS          \n",
       "20  000000000  201812   Nov          11  PRODUITS FINIS EXONÉRÉS          \n",
       "21  000000000  201812   Dec          12  PRODUITS FINIS EXONÉRÉS          \n",
       "\n",
       "       VALUE  VALUE_CUM  VALUE_D VALUE_CUM_D  \n",
       "0   42550.15   42550.15  42.6 k€     42.6 k€  \n",
       "1   40916.60   83466.75  40.9 k€     83.5 k€  \n",
       "2   64832.82  148299.57  64.8 k€    148.3 k€  \n",
       "3   48396.90  196696.47  48.4 k€    196.7 k€  \n",
       "4   44719.45  241415.92  44.7 k€    241.4 k€  \n",
       "5   59904.10  301320.02  59.9 k€    301.3 k€  \n",
       "6   49540.65  350860.67  49.5 k€    350.9 k€  \n",
       "7   48302.80  399163.47  48.3 k€    399.2 k€  \n",
       "8   55081.15  454244.62  55.1 k€    454.2 k€  \n",
       "9   44492.10  498736.72  44.5 k€    498.7 k€  \n",
       "10  50667.11  549403.83  50.7 k€    549.4 k€  \n",
       "11  41602.29   41602.29  41.6 k€     41.6 k€  \n",
       "12  37467.92   79070.21  37.5 k€     79.1 k€  \n",
       "13  51952.85  131023.06  52.0 k€    131.0 k€  \n",
       "14  48923.29  179946.35  48.9 k€    179.9 k€  \n",
       "15  55113.09  235059.44  55.1 k€    235.1 k€  \n",
       "16  67334.60  302394.04  67.3 k€    302.4 k€  \n",
       "17  63284.60  365678.64  63.3 k€    365.7 k€  \n",
       "18  49574.30  415252.94  49.6 k€    415.3 k€  \n",
       "19  51820.05  467072.99  51.8 k€    467.1 k€  \n",
       "20  46634.60  513707.59  46.6 k€    513.7 k€  \n",
       "21  38219.63  551927.22  38.2 k€    551.9 k€  "
      ]
     },
     "execution_count": 4,
     "metadata": {},
     "output_type": "execute_result"
    }
   ],
   "source": [
    "# Creation du dataset evol_ca\n",
    "dataset_evol_ca = df_input.copy()\n",
    "\n",
    "# Filtre COMPTE_NUM = Chiffre d'Affaire (RUBRIQUE N1)\n",
    "dataset_evol_ca = dataset_evol_ca[\n",
    "    dataset_evol_ca[\"COMPTE_NUM\"].str.contains(r\"^70|^71|^72\")\n",
    "]\n",
    "\n",
    "# Regroupement\n",
    "to_group = [\"ENTITY\", \"PERIOD\", \"MONTH\", \"MONTH_INDEX\", \"RUBRIQUE_N3\"]\n",
    "to_agg = {\"VALUE\": \"sum\"}\n",
    "dataset_evol_ca = dataset_evol_ca.groupby(to_group, as_index=False).agg(to_agg)\n",
    "\n",
    "dataset_evol_ca[\"VALUE\"] = dataset_evol_ca[\"VALUE\"].abs()\n",
    "\n",
    "\n",
    "# Calcul de la somme cumulée\n",
    "dataset_evol_ca = dataset_evol_ca.sort_values(\n",
    "    by=[\"ENTITY\", \"PERIOD\", \"MONTH_INDEX\"]\n",
    ").reset_index(drop=True)\n",
    "dataset_evol_ca[\"MONTH_INDEX\"] = pd.to_datetime(\n",
    "    dataset_evol_ca[\"MONTH_INDEX\"], format=\"%m\"\n",
    ").dt.strftime(\"%m\")\n",
    "dataset_evol_ca[\"VALUE_CUM\"] = dataset_evol_ca.groupby(\n",
    "    [\"ENTITY\", \"PERIOD\"], as_index=True\n",
    ").agg({\"VALUE\": \"cumsum\"})\n",
    "\n",
    "\n",
    "dataset_evol_ca[\"VALUE_D\"] = (dataset_evol_ca[\"VALUE\"] / 1000).map(\"{:,.1f} k€\".format).str.replace(\",\", \" \")\n",
    "dataset_evol_ca[\"VALUE_CUM_D\"] = (dataset_evol_ca[\"VALUE_CUM\"] / 1000).map(\"{:,.1f} k€\".format).str.replace(\",\", \" \")\n",
    "\n",
    "# Affichage du modèle de donnée\n",
    "dataset_evol_ca"
   ]
  },
  {
   "cell_type": "markdown",
   "id": "6e594afb-890f-41f2-aa25-7c26420f0b7d",
   "metadata": {
    "papermill": {},
    "tags": []
   },
   "source": [
    "## Output"
   ]
  },
  {
   "cell_type": "markdown",
   "id": "compliant-clone",
   "metadata": {
    "papermill": {},
    "tags": []
   },
   "source": [
    "### Sauvegarde des fichiers en csv"
   ]
  },
  {
   "cell_type": "code",
   "execution_count": 5,
   "id": "marked-story",
   "metadata": {
    "execution": {
     "iopub.execute_input": "2023-06-01T13:49:12.068172Z",
     "iopub.status.busy": "2023-06-01T13:49:12.067939Z",
     "iopub.status.idle": "2023-06-01T13:49:12.147119Z",
     "shell.execute_reply": "2023-06-01T13:49:12.146428Z",
     "shell.execute_reply.started": "2023-06-01T13:49:12.068142Z"
    },
    "papermill": {},
    "tags": []
   },
   "outputs": [
    {
     "name": "stdout",
     "output_type": "stream",
     "text": [
      "✅ DataFrame saved in: /home/ftp/FEC-engine/outputs/FEC/dataset_evolution_ca/20230601154912_FEC_dataset_evolution_ca.csv\n"
     ]
    }
   ],
   "source": [
    "save_df(dataset_evol_ca, output_folder_path)"
   ]
  },
  {
   "cell_type": "code",
   "execution_count": null,
   "id": "408892fe-d1ef-402d-9b7e-d62f1df313b6",
   "metadata": {},
   "outputs": [],
   "source": []
  }
 ],
 "metadata": {
  "kernelspec": {
   "display_name": "Python 3",
   "language": "python",
   "name": "python3"
  },
  "language_info": {
   "codemirror_mode": {
    "name": "ipython",
    "version": 3
   },
   "file_extension": ".py",
   "mimetype": "text/x-python",
   "name": "python",
   "nbconvert_exporter": "python",
   "pygments_lexer": "ipython3",
   "version": "3.9.6"
  },
  "naas": {
   "notebook_id": "488da1e7-5583-478f-b198-277886651611",
   "notebook_path": "FEC/FEC_Creer_un_dashboard_PowerBI.ipynb"
  },
  "papermill": {
   "default_parameters": {},
   "environment_variables": {},
   "parameters": {},
   "version": "2.3.3"
  }
 },
 "nbformat": 4,
 "nbformat_minor": 5
}
