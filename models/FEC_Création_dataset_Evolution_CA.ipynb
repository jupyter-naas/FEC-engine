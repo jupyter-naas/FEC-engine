{
 "cells": [
  {
   "cell_type": "markdown",
   "id": "touched-standard",
   "metadata": {
    "papermill": {},
    "tags": []
   },
   "source": [
    "<img width=\"10%\" alt=\"Naas\" src=\"https://landen.imgix.net/jtci2pxwjczr/assets/5ice39g4.png?w=160\"/>"
   ]
  },
  {
   "cell_type": "markdown",
   "id": "painted-needle",
   "metadata": {
    "papermill": {},
    "tags": []
   },
   "source": [
    "# FEC - Création du dataset \"Evolution CA\""
   ]
  },
  {
   "cell_type": "markdown",
   "id": "local-library",
   "metadata": {
    "execution": {
     "iopub.execute_input": "2021-08-17T08:30:57.908317Z",
     "iopub.status.busy": "2021-08-17T08:30:57.908010Z",
     "iopub.status.idle": "2021-08-17T08:30:57.920293Z",
     "shell.execute_reply": "2021-08-17T08:30:57.919475Z",
     "shell.execute_reply.started": "2021-08-17T08:30:57.908246Z"
    },
    "papermill": {},
    "tags": []
   },
   "source": [
    "**Tags:** #fec #finance #snippet #operation #ca #revenue"
   ]
  },
  {
   "cell_type": "markdown",
   "id": "latin-nightmare",
   "metadata": {
    "papermill": {},
    "tags": []
   },
   "source": [
    "**Author:** [Florent Ravenel](https://www.linkedin.com/in/florent-ravenel/)"
   ]
  },
  {
   "cell_type": "markdown",
   "id": "naas-description",
   "metadata": {
    "papermill": {},
    "tags": [
     "description"
    ]
   },
   "source": [
    "**Description:** Ce notebook permet de créer le dataset pour visualiser l'évolution du CA entre l'année N et l'année N-1."
   ]
  },
  {
   "cell_type": "markdown",
   "id": "residential-laptop",
   "metadata": {
    "papermill": {},
    "tags": []
   },
   "source": [
    "## Input"
   ]
  },
  {
   "cell_type": "markdown",
   "id": "spanish-beatles",
   "metadata": {
    "papermill": {},
    "tags": []
   },
   "source": [
    "### Import libraries"
   ]
  },
  {
   "cell_type": "code",
   "execution_count": null,
   "id": "amazing-pollution",
   "metadata": {
    "papermill": {},
    "tags": []
   },
   "outputs": [],
   "source": [
    "import naas_data_product"
   ]
  },
  {
   "cell_type": "markdown",
   "id": "assured-touch",
   "metadata": {
    "papermill": {},
    "tags": []
   },
   "source": [
    "### Setup Variables"
   ]
  },
  {
   "cell_type": "code",
   "execution_count": null,
   "id": "smooth-peoples",
   "metadata": {
    "papermill": {},
    "tags": [
     "parameters"
    ]
   },
   "outputs": [],
   "source": [
    "# Inputs\n",
    "input_folder_path = \"/home/ftp/FEC-engine/outputs/FEC/bdd_fin\"\n",
    "openai_api_key = naas.secret.get(name=\"OPENAI_API_KEY\") or \"ENTER_YOUR_OPENAI_API_KEY\"\n",
    "\n",
    "# Outputs\n",
    "output_folder_path = \"/home/ftp/FEC-engine/outputs/FEC/dataset_evolution_ca\"\n",
    "prompt_data = \"\"\"\n",
    "Voici le jeu de données sur l'évolution du CA d'une entreprise entre une ou plusieurs années avec:\n",
    "- les mois dans la colonne DATE\n",
    "- les valeurs cumulées en colonne VALUE_CUM\n",
    "- les valeurs décumulées en colonne VALUE.\n",
    "Peux-tu me donner un bref aperçu factuel de l'évolution du CA et identifier les variations les plus importantes (VALUE)?\n",
    "Peux-tu commencer ton analyse par \"Le CA de l'entreprise a ...\"?\n",
    "\"\"\""
   ]
  },
  {
   "cell_type": "markdown",
   "id": "2994a857-1817-4fc2-92ae-1f78e0d2d668",
   "metadata": {},
   "source": [
    "## Model"
   ]
  },
  {
   "cell_type": "markdown",
   "id": "0c7ba256-c278-4e6b-93ef-7bfb3a812eb5",
   "metadata": {},
   "source": [
    "### Récupération du dernier fichier input"
   ]
  },
  {
   "cell_type": "code",
   "execution_count": null,
   "id": "25032862-87de-46f0-9583-c1378b8d1af5",
   "metadata": {
    "tags": []
   },
   "outputs": [],
   "source": [
    "df_input = get_last_df(input_folder_path)\n",
    "print(\"✅ Row fetched:\", len(df_input))\n",
    "df_input.head(1)"
   ]
  },
  {
   "cell_type": "markdown",
   "id": "05ff7edb-4d54-4600-a585-46cee62361c8",
   "metadata": {
    "papermill": {},
    "tags": []
   },
   "source": [
    "### Création du dataset \"EVOLUTION_CA\""
   ]
  },
  {
   "cell_type": "code",
   "execution_count": null,
   "id": "5558ca0b-0c88-49f0-8b92-a92e59ea7218",
   "metadata": {
    "tags": []
   },
   "outputs": [],
   "source": [
    "def prep_data(df_init, ):\n",
    "    # Init\n",
    "    df = df_init.copy()\n",
    "    df_output = pd.DataFrame()\n",
    "    \n",
    "    # Filtre COMPTE_NUM = Chiffre d'Affaire (RUBRIQUE N1)\n",
    "    df = df[df[\"COMPTE_NUM\"].str.contains(r\"^70|^71|^72\")]\n",
    "\n",
    "    # Regroupement\n",
    "    to_group = [\n",
    "        \"ENTITY\",\n",
    "        \"PERIOD\",\n",
    "        \"DATE\",\n",
    "    ]\n",
    "    to_agg = {\"VALUE\": \"sum\"}\n",
    "    df = df.groupby(to_group, as_index=False).agg(to_agg).sort_values(by=[\"ENTITY\", \"PERIOD\", \"DATE\"], ascending=[True, False, True])\n",
    "    \n",
    "    # Format columns\n",
    "    df[\"DATE\"] = pd.to_datetime(df[\"DATE\"])\n",
    "    df[\"VALUE\"] = df[\"VALUE\"].abs()\n",
    "    \n",
    "    # Reindex value\n",
    "    filters = df[[\"ENTITY\", \"PERIOD\"]].drop_duplicates(ignore_index=True)\n",
    "    for index, row in filters.iterrows():\n",
    "        entity = row[\"ENTITY\"]\n",
    "        period = row[\"PERIOD\"]\n",
    "        tmp_df = df[(df[\"ENTITY\"] == entity) & (df[\"PERIOD\"] == period)]\n",
    "        \n",
    "        # Create date range\n",
    "        d_start = tmp_df.loc[tmp_df.index[0], \"DATE\"]\n",
    "        start_year = d_start.year\n",
    "        start_month = d_start.month\n",
    "        start = f'{start_year}-{start_month}-01'\n",
    "        d_end = tmp_df.loc[tmp_df.index[-1], \"DATE\"]\n",
    "        end = d_end\n",
    "        idx = pd.date_range(start, end, freq=\"D\")\n",
    "        \n",
    "        # Reindex by DATE\n",
    "        tmp_df.set_index(\"DATE\", drop=True, inplace=True)\n",
    "        tmp_df.index = pd.DatetimeIndex(tmp_df.index)\n",
    "        tmp_df = tmp_df.reindex(idx, fill_value=0)\n",
    "        \n",
    "        # Enforce data\n",
    "        tmp_df[\"ENTITY\"] = entity\n",
    "        tmp_df[\"PERIOD\"] = period\n",
    "        tmp_df.insert(loc=2, column=\"DATE\", value=pd.DatetimeIndex(tmp_df.index))\n",
    "        \n",
    "        # Groupby analytics\n",
    "        tmp_df[\"DATE\"] = tmp_df[\"DATE\"].dt.strftime(\"%Y-%m\")\n",
    "        tmp_df = tmp_df.groupby(to_group, as_index=False).agg(to_agg)\n",
    "        tmp_df[\"VALUE_CUM\"] = tmp_df[\"VALUE\"].cumsum()\n",
    "        \n",
    "        # Concat\n",
    "        df_output = pd.concat([df_output, tmp_df])\n",
    "    return df_output.reset_index(drop=True)\n",
    "\n",
    "data_prep = prep_data(df_input)\n",
    "print(\"Row fetched:\", len(data_prep))\n",
    "data_prep.head(12)"
   ]
  },
  {
   "cell_type": "markdown",
   "id": "116fa169-514c-47a6-b809-a4598009b486",
   "metadata": {},
   "source": [
    "### Création des analyses N et N-1 par période"
   ]
  },
  {
   "cell_type": "code",
   "execution_count": null,
   "id": "48552a48-0554-4e97-b17e-78066bbd31c1",
   "metadata": {
    "tags": []
   },
   "outputs": [],
   "source": [
    "def create_data_ca(df_init):\n",
    "    # Init\n",
    "    df = df_init.copy()\n",
    "    df_output = pd.DataFrame()\n",
    "    \n",
    "    # Get periods by entity\n",
    "    entities = df[[\"ENTITY\"]].drop_duplicates(ignore_index=True)\n",
    "    for index, row in entities.iterrows():\n",
    "        entity = row[\"ENTITY\"]\n",
    "        tmp_df = df.copy()\n",
    "        tmp_df = tmp_df[(tmp_df[\"ENTITY\"] == entity)]\n",
    "        \n",
    "        # Get periods\n",
    "        periods = tmp_df[[\"PERIOD\"]].drop_duplicates(ignore_index=True)\n",
    "        \n",
    "        for i, r in periods.iterrows():\n",
    "            period = periods[\"PERIOD\"][i]\n",
    "            if i < len(periods) - 1:\n",
    "                period_comp = periods[\"PERIOD\"][i+1]\n",
    "            else:\n",
    "                period_comp = None\n",
    "            print(f\"➡️ Periode: {period_comp} -> {period}\")\n",
    "            tmp_df2 = tmp_df[(tmp_df[\"PERIOD\"].isin([period, period_comp]))].reset_index(drop=True)\n",
    "            print(\"Row fetched:\", len(tmp_df2))\n",
    "            tmp_df2.loc[tmp_df2[\"PERIOD\"] == period, \"GROUP\"] = \"N\"\n",
    "            tmp_df2.loc[tmp_df2[\"PERIOD\"] == period_comp, \"GROUP\"] = \"N-1\"\n",
    "            tmp_df2[\"PERIOD\"] = period\n",
    "            analysis = get_ia_analysis(openai_api_key, tmp_df2, prompt_data)\n",
    "            tmp_df2[\"AI_ANALYSIS\"] = analysis\n",
    "            \n",
    "            # Concat\n",
    "            df_output = pd.concat([df_output, tmp_df2])\n",
    "            \n",
    "    # Column to be displayed\n",
    "    df_output[\"LABEL\"] = pd.to_datetime(df_output[\"DATE\"], format=\"%Y-%m\").dt.strftime(\"%m\")\n",
    "    df_output[\"VALUE_D\"] = (df_output[\"VALUE\"] / 1000).map(\"{:,.1f} k€\".format).str.replace(\",\", \" \")\n",
    "    df_output[\"VALUE_CUM_D\"] = (df_output[\"VALUE_CUM\"] / 1000).map(\"{:,.1f} k€\".format).str.replace(\",\", \" \")\n",
    "    return df_output.reset_index(drop=True)\n",
    "\n",
    "df_evolution_ca = create_data_ca(data_prep)\n",
    "print(\"Row fetched:\", len(df_evolution_ca))\n",
    "df_evolution_ca.head(24)"
   ]
  },
  {
   "cell_type": "markdown",
   "id": "6e594afb-890f-41f2-aa25-7c26420f0b7d",
   "metadata": {
    "papermill": {},
    "tags": []
   },
   "source": [
    "## Output"
   ]
  },
  {
   "cell_type": "markdown",
   "id": "compliant-clone",
   "metadata": {
    "papermill": {},
    "tags": []
   },
   "source": [
    "### Sauvegarde des fichiers en csv"
   ]
  },
  {
   "cell_type": "code",
   "execution_count": null,
   "id": "marked-story",
   "metadata": {
    "papermill": {},
    "tags": []
   },
   "outputs": [],
   "source": [
    "save_df(df_evolution_ca, output_folder_path)"
   ]
  },
  {
   "cell_type": "code",
   "execution_count": null,
   "id": "408892fe-d1ef-402d-9b7e-d62f1df313b6",
   "metadata": {},
   "outputs": [],
   "source": []
  }
 ],
 "metadata": {
  "kernelspec": {
   "display_name": "Python 3",
   "language": "python",
   "name": "python3"
  },
  "language_info": {
   "codemirror_mode": {
    "name": "ipython",
    "version": 3
   },
   "file_extension": ".py",
   "mimetype": "text/x-python",
   "name": "python",
   "nbconvert_exporter": "python",
   "pygments_lexer": "ipython3",
   "version": "3.9.6"
  },
  "naas": {
   "notebook_id": "488da1e7-5583-478f-b198-277886651611",
   "notebook_path": "FEC/FEC_Creer_un_dashboard_PowerBI.ipynb"
  },
  "papermill": {
   "default_parameters": {},
   "environment_variables": {},
   "parameters": {},
   "version": "2.3.3"
  }
 },
 "nbformat": 4,
 "nbformat_minor": 5
}
